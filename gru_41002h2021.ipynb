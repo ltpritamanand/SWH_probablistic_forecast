{
  "cells": [
    {
      "cell_type": "code",
      "execution_count": 39,
      "metadata": {
        "id": "Y_V3p8yx9TMZ"
      },
      "outputs": [],
      "source": [
        "import pandas as pd\n",
        "import numpy as np"
      ]
    },
    {
      "cell_type": "code",
      "execution_count": 40,
      "metadata": {
        "id": "NpWiJ4U8lnl_"
      },
      "outputs": [],
      "source": [
        "import pandas as pd\n",
        "# Assuming your text file is named \"data.txt\" and is in the same directory as your Python script\n",
        "file_path = \"/content/41002h2021 (2).txt\"\n",
        "\n",
        "# If your data is separated by spaces, you can use:\n",
        "df = pd.read_csv(file_path, delim_whitespace=True)"
      ]
    },
    {
      "cell_type": "code",
      "execution_count": 41,
      "metadata": {
        "colab": {
          "base_uri": "https://localhost:8080/",
          "height": 206
        },
        "id": "3UeALjFMoSNh",
        "outputId": "403d0461-88e2-451f-e486-3a94541869e5"
      },
      "outputs": [
        {
          "data": {
            "application/vnd.google.colaboratory.intrinsic+json": {
              "summary": "{\n  \"name\": \"df\",\n  \"rows\": 12215,\n  \"fields\": [\n    {\n      \"column\": \"#YY\",\n      \"properties\": {\n        \"dtype\": \"number\",\n        \"std\": 0,\n        \"min\": 2021,\n        \"max\": 2021,\n        \"num_unique_values\": 1,\n        \"samples\": [\n          2021\n        ],\n        \"semantic_type\": \"\",\n        \"description\": \"\"\n      }\n    },\n    {\n      \"column\": \"MM\",\n      \"properties\": {\n        \"dtype\": \"number\",\n        \"std\": 0,\n        \"min\": 6,\n        \"max\": 8,\n        \"num_unique_values\": 3,\n        \"samples\": [\n          6\n        ],\n        \"semantic_type\": \"\",\n        \"description\": \"\"\n      }\n    },\n    {\n      \"column\": \"DD\",\n      \"properties\": {\n        \"dtype\": \"number\",\n        \"std\": 8,\n        \"min\": 1,\n        \"max\": 31,\n        \"num_unique_values\": 31,\n        \"samples\": [\n          5\n        ],\n        \"semantic_type\": \"\",\n        \"description\": \"\"\n      }\n    },\n    {\n      \"column\": \"hh\",\n      \"properties\": {\n        \"dtype\": \"number\",\n        \"std\": 6,\n        \"min\": 0,\n        \"max\": 23,\n        \"num_unique_values\": 24,\n        \"samples\": [\n          11\n        ],\n        \"semantic_type\": \"\",\n        \"description\": \"\"\n      }\n    },\n    {\n      \"column\": \"mm\",\n      \"properties\": {\n        \"dtype\": \"number\",\n        \"std\": 17,\n        \"min\": 0,\n        \"max\": 50,\n        \"num_unique_values\": 6,\n        \"samples\": [\n          30\n        ],\n        \"semantic_type\": \"\",\n        \"description\": \"\"\n      }\n    },\n    {\n      \"column\": \"WDIR\",\n      \"properties\": {\n        \"dtype\": \"number\",\n        \"std\": 69,\n        \"min\": 1,\n        \"max\": 999,\n        \"num_unique_values\": 361,\n        \"samples\": [\n          345\n        ],\n        \"semantic_type\": \"\",\n        \"description\": \"\"\n      }\n    },\n    {\n      \"column\": \"WSPD\",\n      \"properties\": {\n        \"dtype\": \"number\",\n        \"std\": 3.838778027684482,\n        \"min\": 0.0,\n        \"max\": 99.0,\n        \"num_unique_values\": 139,\n        \"samples\": [\n          14.6\n        ],\n        \"semantic_type\": \"\",\n        \"description\": \"\"\n      }\n    },\n    {\n      \"column\": \"GST\",\n      \"properties\": {\n        \"dtype\": \"number\",\n        \"std\": 4.203238749226711,\n        \"min\": 0.1,\n        \"max\": 99.0,\n        \"num_unique_values\": 181,\n        \"samples\": [\n          5.3\n        ],\n        \"semantic_type\": \"\",\n        \"description\": \"\"\n      }\n    },\n    {\n      \"column\": \"WVHT\",\n      \"properties\": {\n        \"dtype\": \"number\",\n        \"std\": 36.3897328942841,\n        \"min\": 0.54,\n        \"max\": 99.0,\n        \"num_unique_values\": 224,\n        \"samples\": [\n          1.0\n        ],\n        \"semantic_type\": \"\",\n        \"description\": \"\"\n      }\n    },\n    {\n      \"column\": \"DPD\",\n      \"properties\": {\n        \"dtype\": \"number\",\n        \"std\": 34.093264355597306,\n        \"min\": 3.7,\n        \"max\": 99.0,\n        \"num_unique_values\": 24,\n        \"samples\": [\n          5.26\n        ],\n        \"semantic_type\": \"\",\n        \"description\": \"\"\n      }\n    },\n    {\n      \"column\": \"APD\",\n      \"properties\": {\n        \"dtype\": \"number\",\n        \"std\": 34.84322224666357,\n        \"min\": 3.9,\n        \"max\": 99.0,\n        \"num_unique_values\": 310,\n        \"samples\": [\n          6.54\n        ],\n        \"semantic_type\": \"\",\n        \"description\": \"\"\n      }\n    },\n    {\n      \"column\": \"MWD\",\n      \"properties\": {\n        \"dtype\": \"number\",\n        \"std\": 312,\n        \"min\": 2,\n        \"max\": 999,\n        \"num_unique_values\": 232,\n        \"samples\": [\n          314\n        ],\n        \"semantic_type\": \"\",\n        \"description\": \"\"\n      }\n    },\n    {\n      \"column\": \"PRES\",\n      \"properties\": {\n        \"dtype\": \"number\",\n        \"std\": 81.34143048394942,\n        \"min\": 1004.8,\n        \"max\": 9999.0,\n        \"num_unique_values\": 215,\n        \"samples\": [\n          1006.0\n        ],\n        \"semantic_type\": \"\",\n        \"description\": \"\"\n      }\n    },\n    {\n      \"column\": \"ATMP\",\n      \"properties\": {\n        \"dtype\": \"number\",\n        \"std\": 31.715792165925933,\n        \"min\": 20.5,\n        \"max\": 999.0,\n        \"num_unique_values\": 97,\n        \"samples\": [\n          26.8\n        ],\n        \"semantic_type\": \"\",\n        \"description\": \"\"\n      }\n    },\n    {\n      \"column\": \"WTMP\",\n      \"properties\": {\n        \"dtype\": \"number\",\n        \"std\": 70.14612792944088,\n        \"min\": 24.8,\n        \"max\": 999.0,\n        \"num_unique_values\": 55,\n        \"samples\": [\n          27.8\n        ],\n        \"semantic_type\": \"\",\n        \"description\": \"\"\n      }\n    },\n    {\n      \"column\": \"DEWP\",\n      \"properties\": {\n        \"dtype\": \"number\",\n        \"std\": 31.77977428379712,\n        \"min\": 18.9,\n        \"max\": 999.0,\n        \"num_unique_values\": 84,\n        \"samples\": [\n          26.5\n        ],\n        \"semantic_type\": \"\",\n        \"description\": \"\"\n      }\n    },\n    {\n      \"column\": \"VIS\",\n      \"properties\": {\n        \"dtype\": \"number\",\n        \"std\": 0.0,\n        \"min\": 99.0,\n        \"max\": 99.0,\n        \"num_unique_values\": 1,\n        \"samples\": [\n          99.0\n        ],\n        \"semantic_type\": \"\",\n        \"description\": \"\"\n      }\n    },\n    {\n      \"column\": \"TIDE\",\n      \"properties\": {\n        \"dtype\": \"number\",\n        \"std\": 0.0,\n        \"min\": 99.0,\n        \"max\": 99.0,\n        \"num_unique_values\": 1,\n        \"samples\": [\n          99.0\n        ],\n        \"semantic_type\": \"\",\n        \"description\": \"\"\n      }\n    }\n  ]\n}",
              "type": "dataframe",
              "variable_name": "df"
            },
            "text/html": [
              "\n",
              "  <div id=\"df-f428af65-e67f-4cbb-bf3e-484d5fd94343\" class=\"colab-df-container\">\n",
              "    <div>\n",
              "<style scoped>\n",
              "    .dataframe tbody tr th:only-of-type {\n",
              "        vertical-align: middle;\n",
              "    }\n",
              "\n",
              "    .dataframe tbody tr th {\n",
              "        vertical-align: top;\n",
              "    }\n",
              "\n",
              "    .dataframe thead th {\n",
              "        text-align: right;\n",
              "    }\n",
              "</style>\n",
              "<table border=\"1\" class=\"dataframe\">\n",
              "  <thead>\n",
              "    <tr style=\"text-align: right;\">\n",
              "      <th></th>\n",
              "      <th>#YY</th>\n",
              "      <th>MM</th>\n",
              "      <th>DD</th>\n",
              "      <th>hh</th>\n",
              "      <th>mm</th>\n",
              "      <th>WDIR</th>\n",
              "      <th>WSPD</th>\n",
              "      <th>GST</th>\n",
              "      <th>WVHT</th>\n",
              "      <th>DPD</th>\n",
              "      <th>APD</th>\n",
              "      <th>MWD</th>\n",
              "      <th>PRES</th>\n",
              "      <th>ATMP</th>\n",
              "      <th>WTMP</th>\n",
              "      <th>DEWP</th>\n",
              "      <th>VIS</th>\n",
              "      <th>TIDE</th>\n",
              "    </tr>\n",
              "  </thead>\n",
              "  <tbody>\n",
              "    <tr>\n",
              "      <th>0</th>\n",
              "      <td>2021</td>\n",
              "      <td>6</td>\n",
              "      <td>8</td>\n",
              "      <td>3</td>\n",
              "      <td>30</td>\n",
              "      <td>164</td>\n",
              "      <td>3.8</td>\n",
              "      <td>4.6</td>\n",
              "      <td>99.00</td>\n",
              "      <td>99.00</td>\n",
              "      <td>99.00</td>\n",
              "      <td>999</td>\n",
              "      <td>1023.3</td>\n",
              "      <td>25.8</td>\n",
              "      <td>25.9</td>\n",
              "      <td>23.5</td>\n",
              "      <td>99.0</td>\n",
              "      <td>99.0</td>\n",
              "    </tr>\n",
              "    <tr>\n",
              "      <th>1</th>\n",
              "      <td>2021</td>\n",
              "      <td>6</td>\n",
              "      <td>8</td>\n",
              "      <td>3</td>\n",
              "      <td>40</td>\n",
              "      <td>167</td>\n",
              "      <td>3.6</td>\n",
              "      <td>4.4</td>\n",
              "      <td>0.91</td>\n",
              "      <td>7.69</td>\n",
              "      <td>5.65</td>\n",
              "      <td>129</td>\n",
              "      <td>1023.2</td>\n",
              "      <td>25.8</td>\n",
              "      <td>25.9</td>\n",
              "      <td>23.4</td>\n",
              "      <td>99.0</td>\n",
              "      <td>99.0</td>\n",
              "    </tr>\n",
              "    <tr>\n",
              "      <th>2</th>\n",
              "      <td>2021</td>\n",
              "      <td>6</td>\n",
              "      <td>8</td>\n",
              "      <td>3</td>\n",
              "      <td>50</td>\n",
              "      <td>163</td>\n",
              "      <td>3.5</td>\n",
              "      <td>4.2</td>\n",
              "      <td>99.00</td>\n",
              "      <td>99.00</td>\n",
              "      <td>99.00</td>\n",
              "      <td>999</td>\n",
              "      <td>1023.1</td>\n",
              "      <td>25.8</td>\n",
              "      <td>25.9</td>\n",
              "      <td>23.5</td>\n",
              "      <td>99.0</td>\n",
              "      <td>99.0</td>\n",
              "    </tr>\n",
              "    <tr>\n",
              "      <th>3</th>\n",
              "      <td>2021</td>\n",
              "      <td>6</td>\n",
              "      <td>8</td>\n",
              "      <td>4</td>\n",
              "      <td>0</td>\n",
              "      <td>158</td>\n",
              "      <td>3.5</td>\n",
              "      <td>4.3</td>\n",
              "      <td>99.00</td>\n",
              "      <td>99.00</td>\n",
              "      <td>99.00</td>\n",
              "      <td>999</td>\n",
              "      <td>1023.1</td>\n",
              "      <td>25.7</td>\n",
              "      <td>25.9</td>\n",
              "      <td>23.5</td>\n",
              "      <td>99.0</td>\n",
              "      <td>99.0</td>\n",
              "    </tr>\n",
              "    <tr>\n",
              "      <th>4</th>\n",
              "      <td>2021</td>\n",
              "      <td>6</td>\n",
              "      <td>8</td>\n",
              "      <td>4</td>\n",
              "      <td>10</td>\n",
              "      <td>156</td>\n",
              "      <td>3.6</td>\n",
              "      <td>4.5</td>\n",
              "      <td>99.00</td>\n",
              "      <td>99.00</td>\n",
              "      <td>99.00</td>\n",
              "      <td>999</td>\n",
              "      <td>1023.3</td>\n",
              "      <td>25.7</td>\n",
              "      <td>25.9</td>\n",
              "      <td>23.5</td>\n",
              "      <td>99.0</td>\n",
              "      <td>99.0</td>\n",
              "    </tr>\n",
              "  </tbody>\n",
              "</table>\n",
              "</div>\n",
              "    <div class=\"colab-df-buttons\">\n",
              "\n",
              "  <div class=\"colab-df-container\">\n",
              "    <button class=\"colab-df-convert\" onclick=\"convertToInteractive('df-f428af65-e67f-4cbb-bf3e-484d5fd94343')\"\n",
              "            title=\"Convert this dataframe to an interactive table.\"\n",
              "            style=\"display:none;\">\n",
              "\n",
              "  <svg xmlns=\"http://www.w3.org/2000/svg\" height=\"24px\" viewBox=\"0 -960 960 960\">\n",
              "    <path d=\"M120-120v-720h720v720H120Zm60-500h600v-160H180v160Zm220 220h160v-160H400v160Zm0 220h160v-160H400v160ZM180-400h160v-160H180v160Zm440 0h160v-160H620v160ZM180-180h160v-160H180v160Zm440 0h160v-160H620v160Z\"/>\n",
              "  </svg>\n",
              "    </button>\n",
              "\n",
              "  <style>\n",
              "    .colab-df-container {\n",
              "      display:flex;\n",
              "      gap: 12px;\n",
              "    }\n",
              "\n",
              "    .colab-df-convert {\n",
              "      background-color: #E8F0FE;\n",
              "      border: none;\n",
              "      border-radius: 50%;\n",
              "      cursor: pointer;\n",
              "      display: none;\n",
              "      fill: #1967D2;\n",
              "      height: 32px;\n",
              "      padding: 0 0 0 0;\n",
              "      width: 32px;\n",
              "    }\n",
              "\n",
              "    .colab-df-convert:hover {\n",
              "      background-color: #E2EBFA;\n",
              "      box-shadow: 0px 1px 2px rgba(60, 64, 67, 0.3), 0px 1px 3px 1px rgba(60, 64, 67, 0.15);\n",
              "      fill: #174EA6;\n",
              "    }\n",
              "\n",
              "    .colab-df-buttons div {\n",
              "      margin-bottom: 4px;\n",
              "    }\n",
              "\n",
              "    [theme=dark] .colab-df-convert {\n",
              "      background-color: #3B4455;\n",
              "      fill: #D2E3FC;\n",
              "    }\n",
              "\n",
              "    [theme=dark] .colab-df-convert:hover {\n",
              "      background-color: #434B5C;\n",
              "      box-shadow: 0px 1px 3px 1px rgba(0, 0, 0, 0.15);\n",
              "      filter: drop-shadow(0px 1px 2px rgba(0, 0, 0, 0.3));\n",
              "      fill: #FFFFFF;\n",
              "    }\n",
              "  </style>\n",
              "\n",
              "    <script>\n",
              "      const buttonEl =\n",
              "        document.querySelector('#df-f428af65-e67f-4cbb-bf3e-484d5fd94343 button.colab-df-convert');\n",
              "      buttonEl.style.display =\n",
              "        google.colab.kernel.accessAllowed ? 'block' : 'none';\n",
              "\n",
              "      async function convertToInteractive(key) {\n",
              "        const element = document.querySelector('#df-f428af65-e67f-4cbb-bf3e-484d5fd94343');\n",
              "        const dataTable =\n",
              "          await google.colab.kernel.invokeFunction('convertToInteractive',\n",
              "                                                    [key], {});\n",
              "        if (!dataTable) return;\n",
              "\n",
              "        const docLinkHtml = 'Like what you see? Visit the ' +\n",
              "          '<a target=\"_blank\" href=https://colab.research.google.com/notebooks/data_table.ipynb>data table notebook</a>'\n",
              "          + ' to learn more about interactive tables.';\n",
              "        element.innerHTML = '';\n",
              "        dataTable['output_type'] = 'display_data';\n",
              "        await google.colab.output.renderOutput(dataTable, element);\n",
              "        const docLink = document.createElement('div');\n",
              "        docLink.innerHTML = docLinkHtml;\n",
              "        element.appendChild(docLink);\n",
              "      }\n",
              "    </script>\n",
              "  </div>\n",
              "\n",
              "\n",
              "<div id=\"df-c52de552-9935-4d59-a375-8beaf7117206\">\n",
              "  <button class=\"colab-df-quickchart\" onclick=\"quickchart('df-c52de552-9935-4d59-a375-8beaf7117206')\"\n",
              "            title=\"Suggest charts\"\n",
              "            style=\"display:none;\">\n",
              "\n",
              "<svg xmlns=\"http://www.w3.org/2000/svg\" height=\"24px\"viewBox=\"0 0 24 24\"\n",
              "     width=\"24px\">\n",
              "    <g>\n",
              "        <path d=\"M19 3H5c-1.1 0-2 .9-2 2v14c0 1.1.9 2 2 2h14c1.1 0 2-.9 2-2V5c0-1.1-.9-2-2-2zM9 17H7v-7h2v7zm4 0h-2V7h2v10zm4 0h-2v-4h2v4z\"/>\n",
              "    </g>\n",
              "</svg>\n",
              "  </button>\n",
              "\n",
              "<style>\n",
              "  .colab-df-quickchart {\n",
              "      --bg-color: #E8F0FE;\n",
              "      --fill-color: #1967D2;\n",
              "      --hover-bg-color: #E2EBFA;\n",
              "      --hover-fill-color: #174EA6;\n",
              "      --disabled-fill-color: #AAA;\n",
              "      --disabled-bg-color: #DDD;\n",
              "  }\n",
              "\n",
              "  [theme=dark] .colab-df-quickchart {\n",
              "      --bg-color: #3B4455;\n",
              "      --fill-color: #D2E3FC;\n",
              "      --hover-bg-color: #434B5C;\n",
              "      --hover-fill-color: #FFFFFF;\n",
              "      --disabled-bg-color: #3B4455;\n",
              "      --disabled-fill-color: #666;\n",
              "  }\n",
              "\n",
              "  .colab-df-quickchart {\n",
              "    background-color: var(--bg-color);\n",
              "    border: none;\n",
              "    border-radius: 50%;\n",
              "    cursor: pointer;\n",
              "    display: none;\n",
              "    fill: var(--fill-color);\n",
              "    height: 32px;\n",
              "    padding: 0;\n",
              "    width: 32px;\n",
              "  }\n",
              "\n",
              "  .colab-df-quickchart:hover {\n",
              "    background-color: var(--hover-bg-color);\n",
              "    box-shadow: 0 1px 2px rgba(60, 64, 67, 0.3), 0 1px 3px 1px rgba(60, 64, 67, 0.15);\n",
              "    fill: var(--button-hover-fill-color);\n",
              "  }\n",
              "\n",
              "  .colab-df-quickchart-complete:disabled,\n",
              "  .colab-df-quickchart-complete:disabled:hover {\n",
              "    background-color: var(--disabled-bg-color);\n",
              "    fill: var(--disabled-fill-color);\n",
              "    box-shadow: none;\n",
              "  }\n",
              "\n",
              "  .colab-df-spinner {\n",
              "    border: 2px solid var(--fill-color);\n",
              "    border-color: transparent;\n",
              "    border-bottom-color: var(--fill-color);\n",
              "    animation:\n",
              "      spin 1s steps(1) infinite;\n",
              "  }\n",
              "\n",
              "  @keyframes spin {\n",
              "    0% {\n",
              "      border-color: transparent;\n",
              "      border-bottom-color: var(--fill-color);\n",
              "      border-left-color: var(--fill-color);\n",
              "    }\n",
              "    20% {\n",
              "      border-color: transparent;\n",
              "      border-left-color: var(--fill-color);\n",
              "      border-top-color: var(--fill-color);\n",
              "    }\n",
              "    30% {\n",
              "      border-color: transparent;\n",
              "      border-left-color: var(--fill-color);\n",
              "      border-top-color: var(--fill-color);\n",
              "      border-right-color: var(--fill-color);\n",
              "    }\n",
              "    40% {\n",
              "      border-color: transparent;\n",
              "      border-right-color: var(--fill-color);\n",
              "      border-top-color: var(--fill-color);\n",
              "    }\n",
              "    60% {\n",
              "      border-color: transparent;\n",
              "      border-right-color: var(--fill-color);\n",
              "    }\n",
              "    80% {\n",
              "      border-color: transparent;\n",
              "      border-right-color: var(--fill-color);\n",
              "      border-bottom-color: var(--fill-color);\n",
              "    }\n",
              "    90% {\n",
              "      border-color: transparent;\n",
              "      border-bottom-color: var(--fill-color);\n",
              "    }\n",
              "  }\n",
              "</style>\n",
              "\n",
              "  <script>\n",
              "    async function quickchart(key) {\n",
              "      const quickchartButtonEl =\n",
              "        document.querySelector('#' + key + ' button');\n",
              "      quickchartButtonEl.disabled = true;  // To prevent multiple clicks.\n",
              "      quickchartButtonEl.classList.add('colab-df-spinner');\n",
              "      try {\n",
              "        const charts = await google.colab.kernel.invokeFunction(\n",
              "            'suggestCharts', [key], {});\n",
              "      } catch (error) {\n",
              "        console.error('Error during call to suggestCharts:', error);\n",
              "      }\n",
              "      quickchartButtonEl.classList.remove('colab-df-spinner');\n",
              "      quickchartButtonEl.classList.add('colab-df-quickchart-complete');\n",
              "    }\n",
              "    (() => {\n",
              "      let quickchartButtonEl =\n",
              "        document.querySelector('#df-c52de552-9935-4d59-a375-8beaf7117206 button');\n",
              "      quickchartButtonEl.style.display =\n",
              "        google.colab.kernel.accessAllowed ? 'block' : 'none';\n",
              "    })();\n",
              "  </script>\n",
              "</div>\n",
              "    </div>\n",
              "  </div>\n"
            ],
            "text/plain": [
              "    #YY  MM  DD  hh  mm  WDIR  WSPD  GST   WVHT    DPD    APD  MWD    PRES  \\\n",
              "0  2021   6   8   3  30   164   3.8  4.6  99.00  99.00  99.00  999  1023.3   \n",
              "1  2021   6   8   3  40   167   3.6  4.4   0.91   7.69   5.65  129  1023.2   \n",
              "2  2021   6   8   3  50   163   3.5  4.2  99.00  99.00  99.00  999  1023.1   \n",
              "3  2021   6   8   4   0   158   3.5  4.3  99.00  99.00  99.00  999  1023.1   \n",
              "4  2021   6   8   4  10   156   3.6  4.5  99.00  99.00  99.00  999  1023.3   \n",
              "\n",
              "   ATMP  WTMP  DEWP   VIS  TIDE  \n",
              "0  25.8  25.9  23.5  99.0  99.0  \n",
              "1  25.8  25.9  23.4  99.0  99.0  \n",
              "2  25.8  25.9  23.5  99.0  99.0  \n",
              "3  25.7  25.9  23.5  99.0  99.0  \n",
              "4  25.7  25.9  23.5  99.0  99.0  "
            ]
          },
          "execution_count": 41,
          "metadata": {},
          "output_type": "execute_result"
        }
      ],
      "source": [
        "df.head()"
      ]
    },
    {
      "cell_type": "code",
      "execution_count": 42,
      "metadata": {
        "colab": {
          "base_uri": "https://localhost:8080/",
          "height": 206
        },
        "id": "Oy0JHzTUoTX5",
        "outputId": "3bb9a8de-5f2d-4da8-f98d-2715dd32ff1e"
      },
      "outputs": [
        {
          "data": {
            "application/vnd.google.colaboratory.intrinsic+json": {
              "summary": "{\n  \"name\": \"df\",\n  \"rows\": 12214,\n  \"fields\": [\n    {\n      \"column\": \"#YY\",\n      \"properties\": {\n        \"dtype\": \"number\",\n        \"std\": 0,\n        \"min\": 2021,\n        \"max\": 2021,\n        \"num_unique_values\": 1,\n        \"samples\": [\n          2021\n        ],\n        \"semantic_type\": \"\",\n        \"description\": \"\"\n      }\n    },\n    {\n      \"column\": \"MM\",\n      \"properties\": {\n        \"dtype\": \"number\",\n        \"std\": 0,\n        \"min\": 6,\n        \"max\": 8,\n        \"num_unique_values\": 3,\n        \"samples\": [\n          6\n        ],\n        \"semantic_type\": \"\",\n        \"description\": \"\"\n      }\n    },\n    {\n      \"column\": \"DD\",\n      \"properties\": {\n        \"dtype\": \"number\",\n        \"std\": 8,\n        \"min\": 1,\n        \"max\": 31,\n        \"num_unique_values\": 31,\n        \"samples\": [\n          5\n        ],\n        \"semantic_type\": \"\",\n        \"description\": \"\"\n      }\n    },\n    {\n      \"column\": \"hh\",\n      \"properties\": {\n        \"dtype\": \"number\",\n        \"std\": 6,\n        \"min\": 0,\n        \"max\": 23,\n        \"num_unique_values\": 24,\n        \"samples\": [\n          11\n        ],\n        \"semantic_type\": \"\",\n        \"description\": \"\"\n      }\n    },\n    {\n      \"column\": \"mm\",\n      \"properties\": {\n        \"dtype\": \"number\",\n        \"std\": 17,\n        \"min\": 0,\n        \"max\": 50,\n        \"num_unique_values\": 6,\n        \"samples\": [\n          40\n        ],\n        \"semantic_type\": \"\",\n        \"description\": \"\"\n      }\n    },\n    {\n      \"column\": \"WDIR\",\n      \"properties\": {\n        \"dtype\": \"number\",\n        \"std\": 69,\n        \"min\": 1,\n        \"max\": 999,\n        \"num_unique_values\": 361,\n        \"samples\": [\n          345\n        ],\n        \"semantic_type\": \"\",\n        \"description\": \"\"\n      }\n    },\n    {\n      \"column\": \"WSPD\",\n      \"properties\": {\n        \"dtype\": \"number\",\n        \"std\": 3.8388934237578436,\n        \"min\": 0.0,\n        \"max\": 99.0,\n        \"num_unique_values\": 139,\n        \"samples\": [\n          14.6\n        ],\n        \"semantic_type\": \"\",\n        \"description\": \"\"\n      }\n    },\n    {\n      \"column\": \"GST\",\n      \"properties\": {\n        \"dtype\": \"number\",\n        \"std\": 4.203340015734361,\n        \"min\": 0.1,\n        \"max\": 99.0,\n        \"num_unique_values\": 181,\n        \"samples\": [\n          5.3\n        ],\n        \"semantic_type\": \"\",\n        \"description\": \"\"\n      }\n    },\n    {\n      \"column\": \"WVHT\",\n      \"properties\": {\n        \"dtype\": \"number\",\n        \"std\": 36.39092574345593,\n        \"min\": 0.54,\n        \"max\": 99.0,\n        \"num_unique_values\": 224,\n        \"samples\": [\n          1.0\n        ],\n        \"semantic_type\": \"\",\n        \"description\": \"\"\n      }\n    },\n    {\n      \"column\": \"DPD\",\n      \"properties\": {\n        \"dtype\": \"number\",\n        \"std\": 34.094382002067434,\n        \"min\": 3.7,\n        \"max\": 99.0,\n        \"num_unique_values\": 24,\n        \"samples\": [\n          5.26\n        ],\n        \"semantic_type\": \"\",\n        \"description\": \"\"\n      }\n    },\n    {\n      \"column\": \"APD\",\n      \"properties\": {\n        \"dtype\": \"number\",\n        \"std\": 34.844364409152746,\n        \"min\": 3.9,\n        \"max\": 99.0,\n        \"num_unique_values\": 310,\n        \"samples\": [\n          6.54\n        ],\n        \"semantic_type\": \"\",\n        \"description\": \"\"\n      }\n    },\n    {\n      \"column\": \"MWD\",\n      \"properties\": {\n        \"dtype\": \"number\",\n        \"std\": 312,\n        \"min\": 2,\n        \"max\": 999,\n        \"num_unique_values\": 232,\n        \"samples\": [\n          314\n        ],\n        \"semantic_type\": \"\",\n        \"description\": \"\"\n      }\n    },\n    {\n      \"column\": \"PRES\",\n      \"properties\": {\n        \"dtype\": \"number\",\n        \"std\": 81.3447499142369,\n        \"min\": 1004.8,\n        \"max\": 9999.0,\n        \"num_unique_values\": 215,\n        \"samples\": [\n          1006.0\n        ],\n        \"semantic_type\": \"\",\n        \"description\": \"\"\n      }\n    },\n    {\n      \"column\": \"ATMP\",\n      \"properties\": {\n        \"dtype\": \"number\",\n        \"std\": 31.71708368630998,\n        \"min\": 20.5,\n        \"max\": 999.0,\n        \"num_unique_values\": 97,\n        \"samples\": [\n          26.8\n        ],\n        \"semantic_type\": \"\",\n        \"description\": \"\"\n      }\n    },\n    {\n      \"column\": \"WTMP\",\n      \"properties\": {\n        \"dtype\": \"number\",\n        \"std\": 70.14897314695204,\n        \"min\": 24.8,\n        \"max\": 999.0,\n        \"num_unique_values\": 55,\n        \"samples\": [\n          27.8\n        ],\n        \"semantic_type\": \"\",\n        \"description\": \"\"\n      }\n    },\n    {\n      \"column\": \"DEWP\",\n      \"properties\": {\n        \"dtype\": \"number\",\n        \"std\": 31.78106729411824,\n        \"min\": 18.9,\n        \"max\": 999.0,\n        \"num_unique_values\": 84,\n        \"samples\": [\n          26.5\n        ],\n        \"semantic_type\": \"\",\n        \"description\": \"\"\n      }\n    },\n    {\n      \"column\": \"VIS\",\n      \"properties\": {\n        \"dtype\": \"number\",\n        \"std\": 0.0,\n        \"min\": 99.0,\n        \"max\": 99.0,\n        \"num_unique_values\": 1,\n        \"samples\": [\n          99.0\n        ],\n        \"semantic_type\": \"\",\n        \"description\": \"\"\n      }\n    },\n    {\n      \"column\": \"TIDE\",\n      \"properties\": {\n        \"dtype\": \"number\",\n        \"std\": 0.0,\n        \"min\": 99.0,\n        \"max\": 99.0,\n        \"num_unique_values\": 1,\n        \"samples\": [\n          99.0\n        ],\n        \"semantic_type\": \"\",\n        \"description\": \"\"\n      }\n    }\n  ]\n}",
              "type": "dataframe",
              "variable_name": "df"
            },
            "text/html": [
              "\n",
              "  <div id=\"df-7931e0a2-ec77-483b-9309-7435dd14b427\" class=\"colab-df-container\">\n",
              "    <div>\n",
              "<style scoped>\n",
              "    .dataframe tbody tr th:only-of-type {\n",
              "        vertical-align: middle;\n",
              "    }\n",
              "\n",
              "    .dataframe tbody tr th {\n",
              "        vertical-align: top;\n",
              "    }\n",
              "\n",
              "    .dataframe thead th {\n",
              "        text-align: right;\n",
              "    }\n",
              "</style>\n",
              "<table border=\"1\" class=\"dataframe\">\n",
              "  <thead>\n",
              "    <tr style=\"text-align: right;\">\n",
              "      <th></th>\n",
              "      <th>#YY</th>\n",
              "      <th>MM</th>\n",
              "      <th>DD</th>\n",
              "      <th>hh</th>\n",
              "      <th>mm</th>\n",
              "      <th>WDIR</th>\n",
              "      <th>WSPD</th>\n",
              "      <th>GST</th>\n",
              "      <th>WVHT</th>\n",
              "      <th>DPD</th>\n",
              "      <th>APD</th>\n",
              "      <th>MWD</th>\n",
              "      <th>PRES</th>\n",
              "      <th>ATMP</th>\n",
              "      <th>WTMP</th>\n",
              "      <th>DEWP</th>\n",
              "      <th>VIS</th>\n",
              "      <th>TIDE</th>\n",
              "    </tr>\n",
              "  </thead>\n",
              "  <tbody>\n",
              "    <tr>\n",
              "      <th>1</th>\n",
              "      <td>2021</td>\n",
              "      <td>6</td>\n",
              "      <td>8</td>\n",
              "      <td>3</td>\n",
              "      <td>40</td>\n",
              "      <td>167</td>\n",
              "      <td>3.6</td>\n",
              "      <td>4.4</td>\n",
              "      <td>0.91</td>\n",
              "      <td>7.69</td>\n",
              "      <td>5.65</td>\n",
              "      <td>129</td>\n",
              "      <td>1023.2</td>\n",
              "      <td>25.8</td>\n",
              "      <td>25.9</td>\n",
              "      <td>23.4</td>\n",
              "      <td>99.0</td>\n",
              "      <td>99.0</td>\n",
              "    </tr>\n",
              "    <tr>\n",
              "      <th>2</th>\n",
              "      <td>2021</td>\n",
              "      <td>6</td>\n",
              "      <td>8</td>\n",
              "      <td>3</td>\n",
              "      <td>50</td>\n",
              "      <td>163</td>\n",
              "      <td>3.5</td>\n",
              "      <td>4.2</td>\n",
              "      <td>99.00</td>\n",
              "      <td>99.00</td>\n",
              "      <td>99.00</td>\n",
              "      <td>999</td>\n",
              "      <td>1023.1</td>\n",
              "      <td>25.8</td>\n",
              "      <td>25.9</td>\n",
              "      <td>23.5</td>\n",
              "      <td>99.0</td>\n",
              "      <td>99.0</td>\n",
              "    </tr>\n",
              "    <tr>\n",
              "      <th>3</th>\n",
              "      <td>2021</td>\n",
              "      <td>6</td>\n",
              "      <td>8</td>\n",
              "      <td>4</td>\n",
              "      <td>0</td>\n",
              "      <td>158</td>\n",
              "      <td>3.5</td>\n",
              "      <td>4.3</td>\n",
              "      <td>99.00</td>\n",
              "      <td>99.00</td>\n",
              "      <td>99.00</td>\n",
              "      <td>999</td>\n",
              "      <td>1023.1</td>\n",
              "      <td>25.7</td>\n",
              "      <td>25.9</td>\n",
              "      <td>23.5</td>\n",
              "      <td>99.0</td>\n",
              "      <td>99.0</td>\n",
              "    </tr>\n",
              "    <tr>\n",
              "      <th>4</th>\n",
              "      <td>2021</td>\n",
              "      <td>6</td>\n",
              "      <td>8</td>\n",
              "      <td>4</td>\n",
              "      <td>10</td>\n",
              "      <td>156</td>\n",
              "      <td>3.6</td>\n",
              "      <td>4.5</td>\n",
              "      <td>99.00</td>\n",
              "      <td>99.00</td>\n",
              "      <td>99.00</td>\n",
              "      <td>999</td>\n",
              "      <td>1023.3</td>\n",
              "      <td>25.7</td>\n",
              "      <td>25.9</td>\n",
              "      <td>23.5</td>\n",
              "      <td>99.0</td>\n",
              "      <td>99.0</td>\n",
              "    </tr>\n",
              "    <tr>\n",
              "      <th>5</th>\n",
              "      <td>2021</td>\n",
              "      <td>6</td>\n",
              "      <td>8</td>\n",
              "      <td>4</td>\n",
              "      <td>20</td>\n",
              "      <td>155</td>\n",
              "      <td>3.7</td>\n",
              "      <td>4.6</td>\n",
              "      <td>99.00</td>\n",
              "      <td>99.00</td>\n",
              "      <td>99.00</td>\n",
              "      <td>999</td>\n",
              "      <td>1023.2</td>\n",
              "      <td>25.7</td>\n",
              "      <td>25.9</td>\n",
              "      <td>23.7</td>\n",
              "      <td>99.0</td>\n",
              "      <td>99.0</td>\n",
              "    </tr>\n",
              "  </tbody>\n",
              "</table>\n",
              "</div>\n",
              "    <div class=\"colab-df-buttons\">\n",
              "\n",
              "  <div class=\"colab-df-container\">\n",
              "    <button class=\"colab-df-convert\" onclick=\"convertToInteractive('df-7931e0a2-ec77-483b-9309-7435dd14b427')\"\n",
              "            title=\"Convert this dataframe to an interactive table.\"\n",
              "            style=\"display:none;\">\n",
              "\n",
              "  <svg xmlns=\"http://www.w3.org/2000/svg\" height=\"24px\" viewBox=\"0 -960 960 960\">\n",
              "    <path d=\"M120-120v-720h720v720H120Zm60-500h600v-160H180v160Zm220 220h160v-160H400v160Zm0 220h160v-160H400v160ZM180-400h160v-160H180v160Zm440 0h160v-160H620v160ZM180-180h160v-160H180v160Zm440 0h160v-160H620v160Z\"/>\n",
              "  </svg>\n",
              "    </button>\n",
              "\n",
              "  <style>\n",
              "    .colab-df-container {\n",
              "      display:flex;\n",
              "      gap: 12px;\n",
              "    }\n",
              "\n",
              "    .colab-df-convert {\n",
              "      background-color: #E8F0FE;\n",
              "      border: none;\n",
              "      border-radius: 50%;\n",
              "      cursor: pointer;\n",
              "      display: none;\n",
              "      fill: #1967D2;\n",
              "      height: 32px;\n",
              "      padding: 0 0 0 0;\n",
              "      width: 32px;\n",
              "    }\n",
              "\n",
              "    .colab-df-convert:hover {\n",
              "      background-color: #E2EBFA;\n",
              "      box-shadow: 0px 1px 2px rgba(60, 64, 67, 0.3), 0px 1px 3px 1px rgba(60, 64, 67, 0.15);\n",
              "      fill: #174EA6;\n",
              "    }\n",
              "\n",
              "    .colab-df-buttons div {\n",
              "      margin-bottom: 4px;\n",
              "    }\n",
              "\n",
              "    [theme=dark] .colab-df-convert {\n",
              "      background-color: #3B4455;\n",
              "      fill: #D2E3FC;\n",
              "    }\n",
              "\n",
              "    [theme=dark] .colab-df-convert:hover {\n",
              "      background-color: #434B5C;\n",
              "      box-shadow: 0px 1px 3px 1px rgba(0, 0, 0, 0.15);\n",
              "      filter: drop-shadow(0px 1px 2px rgba(0, 0, 0, 0.3));\n",
              "      fill: #FFFFFF;\n",
              "    }\n",
              "  </style>\n",
              "\n",
              "    <script>\n",
              "      const buttonEl =\n",
              "        document.querySelector('#df-7931e0a2-ec77-483b-9309-7435dd14b427 button.colab-df-convert');\n",
              "      buttonEl.style.display =\n",
              "        google.colab.kernel.accessAllowed ? 'block' : 'none';\n",
              "\n",
              "      async function convertToInteractive(key) {\n",
              "        const element = document.querySelector('#df-7931e0a2-ec77-483b-9309-7435dd14b427');\n",
              "        const dataTable =\n",
              "          await google.colab.kernel.invokeFunction('convertToInteractive',\n",
              "                                                    [key], {});\n",
              "        if (!dataTable) return;\n",
              "\n",
              "        const docLinkHtml = 'Like what you see? Visit the ' +\n",
              "          '<a target=\"_blank\" href=https://colab.research.google.com/notebooks/data_table.ipynb>data table notebook</a>'\n",
              "          + ' to learn more about interactive tables.';\n",
              "        element.innerHTML = '';\n",
              "        dataTable['output_type'] = 'display_data';\n",
              "        await google.colab.output.renderOutput(dataTable, element);\n",
              "        const docLink = document.createElement('div');\n",
              "        docLink.innerHTML = docLinkHtml;\n",
              "        element.appendChild(docLink);\n",
              "      }\n",
              "    </script>\n",
              "  </div>\n",
              "\n",
              "\n",
              "<div id=\"df-cf2abc6d-47c8-46c3-977d-47b5c1d98f1c\">\n",
              "  <button class=\"colab-df-quickchart\" onclick=\"quickchart('df-cf2abc6d-47c8-46c3-977d-47b5c1d98f1c')\"\n",
              "            title=\"Suggest charts\"\n",
              "            style=\"display:none;\">\n",
              "\n",
              "<svg xmlns=\"http://www.w3.org/2000/svg\" height=\"24px\"viewBox=\"0 0 24 24\"\n",
              "     width=\"24px\">\n",
              "    <g>\n",
              "        <path d=\"M19 3H5c-1.1 0-2 .9-2 2v14c0 1.1.9 2 2 2h14c1.1 0 2-.9 2-2V5c0-1.1-.9-2-2-2zM9 17H7v-7h2v7zm4 0h-2V7h2v10zm4 0h-2v-4h2v4z\"/>\n",
              "    </g>\n",
              "</svg>\n",
              "  </button>\n",
              "\n",
              "<style>\n",
              "  .colab-df-quickchart {\n",
              "      --bg-color: #E8F0FE;\n",
              "      --fill-color: #1967D2;\n",
              "      --hover-bg-color: #E2EBFA;\n",
              "      --hover-fill-color: #174EA6;\n",
              "      --disabled-fill-color: #AAA;\n",
              "      --disabled-bg-color: #DDD;\n",
              "  }\n",
              "\n",
              "  [theme=dark] .colab-df-quickchart {\n",
              "      --bg-color: #3B4455;\n",
              "      --fill-color: #D2E3FC;\n",
              "      --hover-bg-color: #434B5C;\n",
              "      --hover-fill-color: #FFFFFF;\n",
              "      --disabled-bg-color: #3B4455;\n",
              "      --disabled-fill-color: #666;\n",
              "  }\n",
              "\n",
              "  .colab-df-quickchart {\n",
              "    background-color: var(--bg-color);\n",
              "    border: none;\n",
              "    border-radius: 50%;\n",
              "    cursor: pointer;\n",
              "    display: none;\n",
              "    fill: var(--fill-color);\n",
              "    height: 32px;\n",
              "    padding: 0;\n",
              "    width: 32px;\n",
              "  }\n",
              "\n",
              "  .colab-df-quickchart:hover {\n",
              "    background-color: var(--hover-bg-color);\n",
              "    box-shadow: 0 1px 2px rgba(60, 64, 67, 0.3), 0 1px 3px 1px rgba(60, 64, 67, 0.15);\n",
              "    fill: var(--button-hover-fill-color);\n",
              "  }\n",
              "\n",
              "  .colab-df-quickchart-complete:disabled,\n",
              "  .colab-df-quickchart-complete:disabled:hover {\n",
              "    background-color: var(--disabled-bg-color);\n",
              "    fill: var(--disabled-fill-color);\n",
              "    box-shadow: none;\n",
              "  }\n",
              "\n",
              "  .colab-df-spinner {\n",
              "    border: 2px solid var(--fill-color);\n",
              "    border-color: transparent;\n",
              "    border-bottom-color: var(--fill-color);\n",
              "    animation:\n",
              "      spin 1s steps(1) infinite;\n",
              "  }\n",
              "\n",
              "  @keyframes spin {\n",
              "    0% {\n",
              "      border-color: transparent;\n",
              "      border-bottom-color: var(--fill-color);\n",
              "      border-left-color: var(--fill-color);\n",
              "    }\n",
              "    20% {\n",
              "      border-color: transparent;\n",
              "      border-left-color: var(--fill-color);\n",
              "      border-top-color: var(--fill-color);\n",
              "    }\n",
              "    30% {\n",
              "      border-color: transparent;\n",
              "      border-left-color: var(--fill-color);\n",
              "      border-top-color: var(--fill-color);\n",
              "      border-right-color: var(--fill-color);\n",
              "    }\n",
              "    40% {\n",
              "      border-color: transparent;\n",
              "      border-right-color: var(--fill-color);\n",
              "      border-top-color: var(--fill-color);\n",
              "    }\n",
              "    60% {\n",
              "      border-color: transparent;\n",
              "      border-right-color: var(--fill-color);\n",
              "    }\n",
              "    80% {\n",
              "      border-color: transparent;\n",
              "      border-right-color: var(--fill-color);\n",
              "      border-bottom-color: var(--fill-color);\n",
              "    }\n",
              "    90% {\n",
              "      border-color: transparent;\n",
              "      border-bottom-color: var(--fill-color);\n",
              "    }\n",
              "  }\n",
              "</style>\n",
              "\n",
              "  <script>\n",
              "    async function quickchart(key) {\n",
              "      const quickchartButtonEl =\n",
              "        document.querySelector('#' + key + ' button');\n",
              "      quickchartButtonEl.disabled = true;  // To prevent multiple clicks.\n",
              "      quickchartButtonEl.classList.add('colab-df-spinner');\n",
              "      try {\n",
              "        const charts = await google.colab.kernel.invokeFunction(\n",
              "            'suggestCharts', [key], {});\n",
              "      } catch (error) {\n",
              "        console.error('Error during call to suggestCharts:', error);\n",
              "      }\n",
              "      quickchartButtonEl.classList.remove('colab-df-spinner');\n",
              "      quickchartButtonEl.classList.add('colab-df-quickchart-complete');\n",
              "    }\n",
              "    (() => {\n",
              "      let quickchartButtonEl =\n",
              "        document.querySelector('#df-cf2abc6d-47c8-46c3-977d-47b5c1d98f1c button');\n",
              "      quickchartButtonEl.style.display =\n",
              "        google.colab.kernel.accessAllowed ? 'block' : 'none';\n",
              "    })();\n",
              "  </script>\n",
              "</div>\n",
              "    </div>\n",
              "  </div>\n"
            ],
            "text/plain": [
              "    #YY  MM  DD  hh  mm  WDIR  WSPD  GST   WVHT    DPD    APD  MWD    PRES  \\\n",
              "1  2021   6   8   3  40   167   3.6  4.4   0.91   7.69   5.65  129  1023.2   \n",
              "2  2021   6   8   3  50   163   3.5  4.2  99.00  99.00  99.00  999  1023.1   \n",
              "3  2021   6   8   4   0   158   3.5  4.3  99.00  99.00  99.00  999  1023.1   \n",
              "4  2021   6   8   4  10   156   3.6  4.5  99.00  99.00  99.00  999  1023.3   \n",
              "5  2021   6   8   4  20   155   3.7  4.6  99.00  99.00  99.00  999  1023.2   \n",
              "\n",
              "   ATMP  WTMP  DEWP   VIS  TIDE  \n",
              "1  25.8  25.9  23.4  99.0  99.0  \n",
              "2  25.8  25.9  23.5  99.0  99.0  \n",
              "3  25.7  25.9  23.5  99.0  99.0  \n",
              "4  25.7  25.9  23.5  99.0  99.0  \n",
              "5  25.7  25.9  23.7  99.0  99.0  "
            ]
          },
          "execution_count": 42,
          "metadata": {},
          "output_type": "execute_result"
        }
      ],
      "source": [
        "# Remove the first row\n",
        "df = df.iloc[1:]\n",
        "df.head()"
      ]
    },
    {
      "cell_type": "code",
      "execution_count": 43,
      "metadata": {
        "colab": {
          "base_uri": "https://localhost:8080/"
        },
        "id": "09d0QONBDcwT",
        "outputId": "9806c148-0afa-4774-ca94-eb50aa7e2f18"
      },
      "outputs": [
        {
          "data": {
            "text/plain": [
              "(12214, 18)"
            ]
          },
          "execution_count": 43,
          "metadata": {},
          "output_type": "execute_result"
        }
      ],
      "source": [
        "df.shape"
      ]
    },
    {
      "cell_type": "code",
      "execution_count": 44,
      "metadata": {
        "id": "LS_Y8UoKoWgY"
      },
      "outputs": [],
      "source": [
        "# Convert specific columns to numeric values\n",
        "columns_to_convert = ['#YY', 'MM', 'DD', 'hh', 'mm', 'WDIR', 'WSPD', 'GST', 'WVHT', 'DPD', 'APD', 'MWD', 'PRES', 'ATMP', 'WTMP', 'DEWP', 'VIS', 'TIDE']\n",
        "df[columns_to_convert] = df[columns_to_convert].apply(pd.to_numeric, errors='coerce')\n",
        "# Alternatively, convert all object columns to numeric values\n",
        "df = df.apply(pd.to_numeric, errors='coerce')"
      ]
    },
    {
      "cell_type": "code",
      "execution_count": 45,
      "metadata": {
        "id": "Eleb1_xYoZdI"
      },
      "outputs": [],
      "source": [
        "# Extract rows where mm=0\n",
        "df = df[df[\"mm\"] == 40]"
      ]
    },
    {
      "cell_type": "code",
      "execution_count": 46,
      "metadata": {
        "id": "i_ovKSScob2_"
      },
      "outputs": [],
      "source": [
        "#here we reset the index\n",
        "df = df.reset_index(drop=True)"
      ]
    },
    {
      "cell_type": "code",
      "execution_count": 47,
      "metadata": {
        "colab": {
          "base_uri": "https://localhost:8080/"
        },
        "id": "7AFAXgcnoeA6",
        "outputId": "c83cddd9-6e24-4d6f-ca41-986d6c11a40e"
      },
      "outputs": [
        {
          "data": {
            "text/plain": [
              "(2037, 18)"
            ]
          },
          "execution_count": 47,
          "metadata": {},
          "output_type": "execute_result"
        }
      ],
      "source": [
        "df.shape"
      ]
    },
    {
      "cell_type": "code",
      "execution_count": 48,
      "metadata": {
        "colab": {
          "base_uri": "https://localhost:8080/"
        },
        "id": "ZB-aPahVDjqB",
        "outputId": "7da91011-b2fc-4c85-c25b-170ae66af880"
      },
      "outputs": [
        {
          "data": {
            "text/plain": [
              "#YY     0\n",
              "MM      0\n",
              "DD      0\n",
              "hh      0\n",
              "mm      0\n",
              "WDIR    0\n",
              "WSPD    0\n",
              "GST     0\n",
              "WVHT    0\n",
              "DPD     0\n",
              "APD     0\n",
              "MWD     0\n",
              "PRES    0\n",
              "ATMP    0\n",
              "WTMP    0\n",
              "DEWP    0\n",
              "VIS     0\n",
              "TIDE    0\n",
              "dtype: int64"
            ]
          },
          "execution_count": 48,
          "metadata": {},
          "output_type": "execute_result"
        }
      ],
      "source": [
        "df.isnull().sum()"
      ]
    },
    {
      "cell_type": "code",
      "execution_count": 49,
      "metadata": {
        "id": "K_Xs3C3oDnKZ"
      },
      "outputs": [],
      "source": [
        "df = df.dropna()"
      ]
    },
    {
      "cell_type": "code",
      "execution_count": 50,
      "metadata": {
        "colab": {
          "base_uri": "https://localhost:8080/"
        },
        "id": "Q8oaYMcipbrS",
        "outputId": "a9cbace9-5815-4cc0-f5e9-b5067fd1111a"
      },
      "outputs": [
        {
          "data": {
            "text/plain": [
              "(2037, 18)"
            ]
          },
          "execution_count": 50,
          "metadata": {},
          "output_type": "execute_result"
        }
      ],
      "source": [
        "df.shape"
      ]
    },
    {
      "cell_type": "code",
      "execution_count": 51,
      "metadata": {
        "id": "HU3q9aicpde_"
      },
      "outputs": [],
      "source": [
        "# Combine date and time columns into a single datetime column\n",
        "df['date_time'] = pd.to_datetime(df[['#YY', 'MM', 'DD', 'hh', 'mm']].astype(str).apply(' '.join, axis=1), format='%Y %m %d %H %M')"
      ]
    },
    {
      "cell_type": "code",
      "execution_count": 52,
      "metadata": {
        "id": "gUKyE91_Dx2r"
      },
      "outputs": [],
      "source": [
        "# Drop 5 columns by specifying their column labels\n",
        "columns_to_drop = ['#YY', 'MM', 'DD', 'hh', 'mm']\n",
        "df = df.drop(columns=columns_to_drop)"
      ]
    },
    {
      "cell_type": "code",
      "execution_count": 53,
      "metadata": {
        "id": "tljF_gEjD1qS"
      },
      "outputs": [],
      "source": [
        "#Move the 'date_time' column to the first position\n",
        "date_time_column = df.pop('date_time')\n",
        "df.insert(0, 'date_time', date_time_column)"
      ]
    },
    {
      "cell_type": "code",
      "execution_count": 54,
      "metadata": {
        "colab": {
          "base_uri": "https://localhost:8080/",
          "height": 206
        },
        "id": "wDLQ63_1D4sH",
        "outputId": "ea36e861-61b5-435f-8e39-047e7c395642"
      },
      "outputs": [
        {
          "data": {
            "application/vnd.google.colaboratory.intrinsic+json": {
              "summary": "{\n  \"name\": \"df\",\n  \"rows\": 2037,\n  \"fields\": [\n    {\n      \"column\": \"date_time\",\n      \"properties\": {\n        \"dtype\": \"date\",\n        \"min\": \"2021-06-08 03:40:00\",\n        \"max\": \"2021-08-31 23:40:00\",\n        \"num_unique_values\": 2037,\n        \"samples\": [\n          \"2021-07-09 11:40:00\",\n          \"2021-06-12 18:40:00\",\n          \"2021-06-29 18:40:00\"\n        ],\n        \"semantic_type\": \"\",\n        \"description\": \"\"\n      }\n    },\n    {\n      \"column\": \"WDIR\",\n      \"properties\": {\n        \"dtype\": \"number\",\n        \"std\": 70,\n        \"min\": 3,\n        \"max\": 999,\n        \"num_unique_values\": 325,\n        \"samples\": [\n          277,\n          242,\n          358\n        ],\n        \"semantic_type\": \"\",\n        \"description\": \"\"\n      }\n    },\n    {\n      \"column\": \"WSPD\",\n      \"properties\": {\n        \"dtype\": \"number\",\n        \"std\": 3.9222768017054035,\n        \"min\": 0.0,\n        \"max\": 99.0,\n        \"num_unique_values\": 126,\n        \"samples\": [\n          10.9,\n          4.8,\n          0.4\n        ],\n        \"semantic_type\": \"\",\n        \"description\": \"\"\n      }\n    },\n    {\n      \"column\": \"GST\",\n      \"properties\": {\n        \"dtype\": \"number\",\n        \"std\": 4.2842167101263415,\n        \"min\": 0.2,\n        \"max\": 99.0,\n        \"num_unique_values\": 159,\n        \"samples\": [\n          9.2,\n          17.0,\n          15.7\n        ],\n        \"semantic_type\": \"\",\n        \"description\": \"\"\n      }\n    },\n    {\n      \"column\": \"WVHT\",\n      \"properties\": {\n        \"dtype\": \"number\",\n        \"std\": 5.742332761547797,\n        \"min\": 0.54,\n        \"max\": 99.0,\n        \"num_unique_values\": 224,\n        \"samples\": [\n          1.02,\n          1.31,\n          0.67\n        ],\n        \"semantic_type\": \"\",\n        \"description\": \"\"\n      }\n    },\n    {\n      \"column\": \"DPD\",\n      \"properties\": {\n        \"dtype\": \"number\",\n        \"std\": 5.551535382592623,\n        \"min\": 3.7,\n        \"max\": 99.0,\n        \"num_unique_values\": 24,\n        \"samples\": [\n          5.26,\n          13.79,\n          7.69\n        ],\n        \"semantic_type\": \"\",\n        \"description\": \"\"\n      }\n    },\n    {\n      \"column\": \"APD\",\n      \"properties\": {\n        \"dtype\": \"number\",\n        \"std\": 5.51605682700109,\n        \"min\": 3.9,\n        \"max\": 99.0,\n        \"num_unique_values\": 310,\n        \"samples\": [\n          6.54,\n          5.81,\n          4.94\n        ],\n        \"semantic_type\": \"\",\n        \"description\": \"\"\n      }\n    },\n    {\n      \"column\": \"MWD\",\n      \"properties\": {\n        \"dtype\": \"number\",\n        \"std\": 75,\n        \"min\": 2,\n        \"max\": 999,\n        \"num_unique_values\": 232,\n        \"samples\": [\n          314,\n          200,\n          124\n        ],\n        \"semantic_type\": \"\",\n        \"description\": \"\"\n      }\n    },\n    {\n      \"column\": \"PRES\",\n      \"properties\": {\n        \"dtype\": \"number\",\n        \"std\": 3.6304956550495646,\n        \"min\": 1004.8,\n        \"max\": 1026.4,\n        \"num_unique_values\": 190,\n        \"samples\": [\n          1010.3,\n          1004.8,\n          1016.5\n        ],\n        \"semantic_type\": \"\",\n        \"description\": \"\"\n      }\n    },\n    {\n      \"column\": \"ATMP\",\n      \"properties\": {\n        \"dtype\": \"number\",\n        \"std\": 30.47242315880786,\n        \"min\": 20.8,\n        \"max\": 999.0,\n        \"num_unique_values\": 78,\n        \"samples\": [\n          21.9,\n          25.8,\n          22.9\n        ],\n        \"semantic_type\": \"\",\n        \"description\": \"\"\n      }\n    },\n    {\n      \"column\": \"WTMP\",\n      \"properties\": {\n        \"dtype\": \"number\",\n        \"std\": 52.671981826106425,\n        \"min\": 24.8,\n        \"max\": 999.0,\n        \"num_unique_values\": 52,\n        \"samples\": [\n          26.9,\n          28.8,\n          29.7\n        ],\n        \"semantic_type\": \"\",\n        \"description\": \"\"\n      }\n    },\n    {\n      \"column\": \"DEWP\",\n      \"properties\": {\n        \"dtype\": \"number\",\n        \"std\": 30.533477392988885,\n        \"min\": 20.0,\n        \"max\": 999.0,\n        \"num_unique_values\": 72,\n        \"samples\": [\n          24.0,\n          26.6,\n          21.6\n        ],\n        \"semantic_type\": \"\",\n        \"description\": \"\"\n      }\n    },\n    {\n      \"column\": \"VIS\",\n      \"properties\": {\n        \"dtype\": \"number\",\n        \"std\": 0.0,\n        \"min\": 99.0,\n        \"max\": 99.0,\n        \"num_unique_values\": 1,\n        \"samples\": [\n          99.0\n        ],\n        \"semantic_type\": \"\",\n        \"description\": \"\"\n      }\n    },\n    {\n      \"column\": \"TIDE\",\n      \"properties\": {\n        \"dtype\": \"number\",\n        \"std\": 0.0,\n        \"min\": 99.0,\n        \"max\": 99.0,\n        \"num_unique_values\": 1,\n        \"samples\": [\n          99.0\n        ],\n        \"semantic_type\": \"\",\n        \"description\": \"\"\n      }\n    }\n  ]\n}",
              "type": "dataframe",
              "variable_name": "df"
            },
            "text/html": [
              "\n",
              "  <div id=\"df-18919a50-fc4a-46d9-af20-fcc1614e3c88\" class=\"colab-df-container\">\n",
              "    <div>\n",
              "<style scoped>\n",
              "    .dataframe tbody tr th:only-of-type {\n",
              "        vertical-align: middle;\n",
              "    }\n",
              "\n",
              "    .dataframe tbody tr th {\n",
              "        vertical-align: top;\n",
              "    }\n",
              "\n",
              "    .dataframe thead th {\n",
              "        text-align: right;\n",
              "    }\n",
              "</style>\n",
              "<table border=\"1\" class=\"dataframe\">\n",
              "  <thead>\n",
              "    <tr style=\"text-align: right;\">\n",
              "      <th></th>\n",
              "      <th>date_time</th>\n",
              "      <th>WDIR</th>\n",
              "      <th>WSPD</th>\n",
              "      <th>GST</th>\n",
              "      <th>WVHT</th>\n",
              "      <th>DPD</th>\n",
              "      <th>APD</th>\n",
              "      <th>MWD</th>\n",
              "      <th>PRES</th>\n",
              "      <th>ATMP</th>\n",
              "      <th>WTMP</th>\n",
              "      <th>DEWP</th>\n",
              "      <th>VIS</th>\n",
              "      <th>TIDE</th>\n",
              "    </tr>\n",
              "  </thead>\n",
              "  <tbody>\n",
              "    <tr>\n",
              "      <th>0</th>\n",
              "      <td>2021-06-08 03:40:00</td>\n",
              "      <td>167</td>\n",
              "      <td>3.6</td>\n",
              "      <td>4.4</td>\n",
              "      <td>0.91</td>\n",
              "      <td>7.69</td>\n",
              "      <td>5.65</td>\n",
              "      <td>129</td>\n",
              "      <td>1023.2</td>\n",
              "      <td>25.8</td>\n",
              "      <td>25.9</td>\n",
              "      <td>23.4</td>\n",
              "      <td>99.0</td>\n",
              "      <td>99.0</td>\n",
              "    </tr>\n",
              "    <tr>\n",
              "      <th>1</th>\n",
              "      <td>2021-06-08 04:40:00</td>\n",
              "      <td>163</td>\n",
              "      <td>3.8</td>\n",
              "      <td>4.5</td>\n",
              "      <td>0.83</td>\n",
              "      <td>7.69</td>\n",
              "      <td>5.53</td>\n",
              "      <td>132</td>\n",
              "      <td>1023.2</td>\n",
              "      <td>25.7</td>\n",
              "      <td>25.9</td>\n",
              "      <td>23.5</td>\n",
              "      <td>99.0</td>\n",
              "      <td>99.0</td>\n",
              "    </tr>\n",
              "    <tr>\n",
              "      <th>2</th>\n",
              "      <td>2021-06-08 05:40:00</td>\n",
              "      <td>167</td>\n",
              "      <td>4.1</td>\n",
              "      <td>5.1</td>\n",
              "      <td>0.85</td>\n",
              "      <td>7.69</td>\n",
              "      <td>5.44</td>\n",
              "      <td>129</td>\n",
              "      <td>1022.8</td>\n",
              "      <td>25.5</td>\n",
              "      <td>25.7</td>\n",
              "      <td>23.4</td>\n",
              "      <td>99.0</td>\n",
              "      <td>99.0</td>\n",
              "    </tr>\n",
              "    <tr>\n",
              "      <th>3</th>\n",
              "      <td>2021-06-08 06:40:00</td>\n",
              "      <td>180</td>\n",
              "      <td>3.7</td>\n",
              "      <td>4.4</td>\n",
              "      <td>0.95</td>\n",
              "      <td>8.33</td>\n",
              "      <td>5.70</td>\n",
              "      <td>119</td>\n",
              "      <td>1022.7</td>\n",
              "      <td>25.5</td>\n",
              "      <td>25.8</td>\n",
              "      <td>23.5</td>\n",
              "      <td>99.0</td>\n",
              "      <td>99.0</td>\n",
              "    </tr>\n",
              "    <tr>\n",
              "      <th>4</th>\n",
              "      <td>2021-06-08 07:40:00</td>\n",
              "      <td>180</td>\n",
              "      <td>3.4</td>\n",
              "      <td>4.3</td>\n",
              "      <td>0.90</td>\n",
              "      <td>8.33</td>\n",
              "      <td>5.74</td>\n",
              "      <td>121</td>\n",
              "      <td>1022.3</td>\n",
              "      <td>25.5</td>\n",
              "      <td>25.9</td>\n",
              "      <td>23.6</td>\n",
              "      <td>99.0</td>\n",
              "      <td>99.0</td>\n",
              "    </tr>\n",
              "  </tbody>\n",
              "</table>\n",
              "</div>\n",
              "    <div class=\"colab-df-buttons\">\n",
              "\n",
              "  <div class=\"colab-df-container\">\n",
              "    <button class=\"colab-df-convert\" onclick=\"convertToInteractive('df-18919a50-fc4a-46d9-af20-fcc1614e3c88')\"\n",
              "            title=\"Convert this dataframe to an interactive table.\"\n",
              "            style=\"display:none;\">\n",
              "\n",
              "  <svg xmlns=\"http://www.w3.org/2000/svg\" height=\"24px\" viewBox=\"0 -960 960 960\">\n",
              "    <path d=\"M120-120v-720h720v720H120Zm60-500h600v-160H180v160Zm220 220h160v-160H400v160Zm0 220h160v-160H400v160ZM180-400h160v-160H180v160Zm440 0h160v-160H620v160ZM180-180h160v-160H180v160Zm440 0h160v-160H620v160Z\"/>\n",
              "  </svg>\n",
              "    </button>\n",
              "\n",
              "  <style>\n",
              "    .colab-df-container {\n",
              "      display:flex;\n",
              "      gap: 12px;\n",
              "    }\n",
              "\n",
              "    .colab-df-convert {\n",
              "      background-color: #E8F0FE;\n",
              "      border: none;\n",
              "      border-radius: 50%;\n",
              "      cursor: pointer;\n",
              "      display: none;\n",
              "      fill: #1967D2;\n",
              "      height: 32px;\n",
              "      padding: 0 0 0 0;\n",
              "      width: 32px;\n",
              "    }\n",
              "\n",
              "    .colab-df-convert:hover {\n",
              "      background-color: #E2EBFA;\n",
              "      box-shadow: 0px 1px 2px rgba(60, 64, 67, 0.3), 0px 1px 3px 1px rgba(60, 64, 67, 0.15);\n",
              "      fill: #174EA6;\n",
              "    }\n",
              "\n",
              "    .colab-df-buttons div {\n",
              "      margin-bottom: 4px;\n",
              "    }\n",
              "\n",
              "    [theme=dark] .colab-df-convert {\n",
              "      background-color: #3B4455;\n",
              "      fill: #D2E3FC;\n",
              "    }\n",
              "\n",
              "    [theme=dark] .colab-df-convert:hover {\n",
              "      background-color: #434B5C;\n",
              "      box-shadow: 0px 1px 3px 1px rgba(0, 0, 0, 0.15);\n",
              "      filter: drop-shadow(0px 1px 2px rgba(0, 0, 0, 0.3));\n",
              "      fill: #FFFFFF;\n",
              "    }\n",
              "  </style>\n",
              "\n",
              "    <script>\n",
              "      const buttonEl =\n",
              "        document.querySelector('#df-18919a50-fc4a-46d9-af20-fcc1614e3c88 button.colab-df-convert');\n",
              "      buttonEl.style.display =\n",
              "        google.colab.kernel.accessAllowed ? 'block' : 'none';\n",
              "\n",
              "      async function convertToInteractive(key) {\n",
              "        const element = document.querySelector('#df-18919a50-fc4a-46d9-af20-fcc1614e3c88');\n",
              "        const dataTable =\n",
              "          await google.colab.kernel.invokeFunction('convertToInteractive',\n",
              "                                                    [key], {});\n",
              "        if (!dataTable) return;\n",
              "\n",
              "        const docLinkHtml = 'Like what you see? Visit the ' +\n",
              "          '<a target=\"_blank\" href=https://colab.research.google.com/notebooks/data_table.ipynb>data table notebook</a>'\n",
              "          + ' to learn more about interactive tables.';\n",
              "        element.innerHTML = '';\n",
              "        dataTable['output_type'] = 'display_data';\n",
              "        await google.colab.output.renderOutput(dataTable, element);\n",
              "        const docLink = document.createElement('div');\n",
              "        docLink.innerHTML = docLinkHtml;\n",
              "        element.appendChild(docLink);\n",
              "      }\n",
              "    </script>\n",
              "  </div>\n",
              "\n",
              "\n",
              "<div id=\"df-24ccdd9b-1a0a-4740-84c1-ef50b56c48be\">\n",
              "  <button class=\"colab-df-quickchart\" onclick=\"quickchart('df-24ccdd9b-1a0a-4740-84c1-ef50b56c48be')\"\n",
              "            title=\"Suggest charts\"\n",
              "            style=\"display:none;\">\n",
              "\n",
              "<svg xmlns=\"http://www.w3.org/2000/svg\" height=\"24px\"viewBox=\"0 0 24 24\"\n",
              "     width=\"24px\">\n",
              "    <g>\n",
              "        <path d=\"M19 3H5c-1.1 0-2 .9-2 2v14c0 1.1.9 2 2 2h14c1.1 0 2-.9 2-2V5c0-1.1-.9-2-2-2zM9 17H7v-7h2v7zm4 0h-2V7h2v10zm4 0h-2v-4h2v4z\"/>\n",
              "    </g>\n",
              "</svg>\n",
              "  </button>\n",
              "\n",
              "<style>\n",
              "  .colab-df-quickchart {\n",
              "      --bg-color: #E8F0FE;\n",
              "      --fill-color: #1967D2;\n",
              "      --hover-bg-color: #E2EBFA;\n",
              "      --hover-fill-color: #174EA6;\n",
              "      --disabled-fill-color: #AAA;\n",
              "      --disabled-bg-color: #DDD;\n",
              "  }\n",
              "\n",
              "  [theme=dark] .colab-df-quickchart {\n",
              "      --bg-color: #3B4455;\n",
              "      --fill-color: #D2E3FC;\n",
              "      --hover-bg-color: #434B5C;\n",
              "      --hover-fill-color: #FFFFFF;\n",
              "      --disabled-bg-color: #3B4455;\n",
              "      --disabled-fill-color: #666;\n",
              "  }\n",
              "\n",
              "  .colab-df-quickchart {\n",
              "    background-color: var(--bg-color);\n",
              "    border: none;\n",
              "    border-radius: 50%;\n",
              "    cursor: pointer;\n",
              "    display: none;\n",
              "    fill: var(--fill-color);\n",
              "    height: 32px;\n",
              "    padding: 0;\n",
              "    width: 32px;\n",
              "  }\n",
              "\n",
              "  .colab-df-quickchart:hover {\n",
              "    background-color: var(--hover-bg-color);\n",
              "    box-shadow: 0 1px 2px rgba(60, 64, 67, 0.3), 0 1px 3px 1px rgba(60, 64, 67, 0.15);\n",
              "    fill: var(--button-hover-fill-color);\n",
              "  }\n",
              "\n",
              "  .colab-df-quickchart-complete:disabled,\n",
              "  .colab-df-quickchart-complete:disabled:hover {\n",
              "    background-color: var(--disabled-bg-color);\n",
              "    fill: var(--disabled-fill-color);\n",
              "    box-shadow: none;\n",
              "  }\n",
              "\n",
              "  .colab-df-spinner {\n",
              "    border: 2px solid var(--fill-color);\n",
              "    border-color: transparent;\n",
              "    border-bottom-color: var(--fill-color);\n",
              "    animation:\n",
              "      spin 1s steps(1) infinite;\n",
              "  }\n",
              "\n",
              "  @keyframes spin {\n",
              "    0% {\n",
              "      border-color: transparent;\n",
              "      border-bottom-color: var(--fill-color);\n",
              "      border-left-color: var(--fill-color);\n",
              "    }\n",
              "    20% {\n",
              "      border-color: transparent;\n",
              "      border-left-color: var(--fill-color);\n",
              "      border-top-color: var(--fill-color);\n",
              "    }\n",
              "    30% {\n",
              "      border-color: transparent;\n",
              "      border-left-color: var(--fill-color);\n",
              "      border-top-color: var(--fill-color);\n",
              "      border-right-color: var(--fill-color);\n",
              "    }\n",
              "    40% {\n",
              "      border-color: transparent;\n",
              "      border-right-color: var(--fill-color);\n",
              "      border-top-color: var(--fill-color);\n",
              "    }\n",
              "    60% {\n",
              "      border-color: transparent;\n",
              "      border-right-color: var(--fill-color);\n",
              "    }\n",
              "    80% {\n",
              "      border-color: transparent;\n",
              "      border-right-color: var(--fill-color);\n",
              "      border-bottom-color: var(--fill-color);\n",
              "    }\n",
              "    90% {\n",
              "      border-color: transparent;\n",
              "      border-bottom-color: var(--fill-color);\n",
              "    }\n",
              "  }\n",
              "</style>\n",
              "\n",
              "  <script>\n",
              "    async function quickchart(key) {\n",
              "      const quickchartButtonEl =\n",
              "        document.querySelector('#' + key + ' button');\n",
              "      quickchartButtonEl.disabled = true;  // To prevent multiple clicks.\n",
              "      quickchartButtonEl.classList.add('colab-df-spinner');\n",
              "      try {\n",
              "        const charts = await google.colab.kernel.invokeFunction(\n",
              "            'suggestCharts', [key], {});\n",
              "      } catch (error) {\n",
              "        console.error('Error during call to suggestCharts:', error);\n",
              "      }\n",
              "      quickchartButtonEl.classList.remove('colab-df-spinner');\n",
              "      quickchartButtonEl.classList.add('colab-df-quickchart-complete');\n",
              "    }\n",
              "    (() => {\n",
              "      let quickchartButtonEl =\n",
              "        document.querySelector('#df-24ccdd9b-1a0a-4740-84c1-ef50b56c48be button');\n",
              "      quickchartButtonEl.style.display =\n",
              "        google.colab.kernel.accessAllowed ? 'block' : 'none';\n",
              "    })();\n",
              "  </script>\n",
              "</div>\n",
              "    </div>\n",
              "  </div>\n"
            ],
            "text/plain": [
              "            date_time  WDIR  WSPD  GST  WVHT   DPD   APD  MWD    PRES  ATMP  \\\n",
              "0 2021-06-08 03:40:00   167   3.6  4.4  0.91  7.69  5.65  129  1023.2  25.8   \n",
              "1 2021-06-08 04:40:00   163   3.8  4.5  0.83  7.69  5.53  132  1023.2  25.7   \n",
              "2 2021-06-08 05:40:00   167   4.1  5.1  0.85  7.69  5.44  129  1022.8  25.5   \n",
              "3 2021-06-08 06:40:00   180   3.7  4.4  0.95  8.33  5.70  119  1022.7  25.5   \n",
              "4 2021-06-08 07:40:00   180   3.4  4.3  0.90  8.33  5.74  121  1022.3  25.5   \n",
              "\n",
              "   WTMP  DEWP   VIS  TIDE  \n",
              "0  25.9  23.4  99.0  99.0  \n",
              "1  25.9  23.5  99.0  99.0  \n",
              "2  25.7  23.4  99.0  99.0  \n",
              "3  25.8  23.5  99.0  99.0  \n",
              "4  25.9  23.6  99.0  99.0  "
            ]
          },
          "execution_count": 54,
          "metadata": {},
          "output_type": "execute_result"
        }
      ],
      "source": [
        "df.head()"
      ]
    },
    {
      "cell_type": "code",
      "execution_count": 55,
      "metadata": {
        "colab": {
          "base_uri": "https://localhost:8080/"
        },
        "id": "4b8YiHllpw2r",
        "outputId": "1c0419d6-f374-490e-c617-de7f1e4621db"
      },
      "outputs": [
        {
          "name": "stdout",
          "output_type": "stream",
          "text": [
            "               date_time  WVHT\n",
            "0    2021-06-08 03:40:00  0.91\n",
            "1    2021-06-08 04:40:00  0.83\n",
            "2    2021-06-08 05:40:00  0.85\n",
            "3    2021-06-08 06:40:00  0.95\n",
            "4    2021-06-08 07:40:00  0.90\n",
            "...                  ...   ...\n",
            "2032 2021-08-31 19:40:00  0.86\n",
            "2033 2021-08-31 20:40:00  0.88\n",
            "2034 2021-08-31 21:40:00  0.91\n",
            "2035 2021-08-31 22:40:00  0.88\n",
            "2036 2021-08-31 23:40:00  0.82\n",
            "\n",
            "[2037 rows x 2 columns]\n"
          ]
        }
      ],
      "source": [
        "# Assuming you have a DataFrame called 'df'\n",
        "selected_columns = ['date_time' , 'WVHT']  # Specify the columns you want to select\n",
        "\n",
        "data = df[selected_columns]  # Create a new DataFrame by selecting the specified columns\n",
        "\n",
        "# Print the new DataFrame\n",
        "print(data)"
      ]
    },
    {
      "cell_type": "code",
      "execution_count": 56,
      "metadata": {
        "colab": {
          "base_uri": "https://localhost:8080/"
        },
        "id": "Mt8KAaODpznn",
        "outputId": "492d00a2-eb8d-4dbb-a8b3-db20a299dbdd"
      },
      "outputs": [
        {
          "data": {
            "text/plain": [
              "array([ 0.91,  0.83,  0.85,  0.95,  0.9 ,  1.01,  0.93,  0.97,  1.  ,\n",
              "        1.02,  1.03,  0.94,  0.98,  0.99,  0.88,  0.89,  0.96,  0.84,\n",
              "        1.07,  1.05,  1.13,  1.12,  1.06,  1.11,  1.04,  1.1 ,  1.09,\n",
              "        1.15,  1.34,  1.33,  1.3 ,  1.38, 99.  ,  1.4 ,  1.46,  1.48,\n",
              "        1.44,  1.41,  1.39,  1.37,  1.49,  1.42,  1.51,  1.56,  1.63,\n",
              "        1.53,  1.71,  1.64,  1.7 ,  1.84,  1.87,  1.83,  1.98,  2.03,\n",
              "        1.95,  2.16,  2.08,  2.14,  2.12,  2.19,  2.17,  1.93,  2.07,\n",
              "        1.88,  1.75,  1.74,  1.68,  1.78,  1.66,  1.72,  1.8 ,  1.76,\n",
              "        1.81,  1.77,  1.85,  1.69,  1.65,  1.73,  1.67,  1.82,  1.92,\n",
              "        1.35,  1.27,  1.2 ,  1.31,  1.32,  1.54,  1.45,  2.02,  2.09,\n",
              "        2.26,  2.33,  2.24,  2.31,  2.22,  1.96,  1.91,  1.55,  1.43,\n",
              "        1.57,  1.26,  1.29,  1.21,  1.25,  1.28,  1.14,  0.81,  0.75,\n",
              "        0.77,  0.79,  0.8 ,  0.72,  0.76,  0.71,  0.74,  0.69,  0.7 ,\n",
              "        0.67,  0.73,  0.78,  0.82,  0.87,  2.01,  2.2 ,  2.34,  2.23,\n",
              "        2.15,  2.28,  2.3 ,  2.38,  2.1 ,  1.86,  1.9 ,  2.04,  2.06,\n",
              "        1.79,  1.59,  1.6 ,  1.5 ,  1.24,  1.16,  1.47,  1.62,  1.61,\n",
              "        1.58,  1.17,  1.23,  1.19,  1.18,  1.36,  2.32,  2.84,  3.43,\n",
              "        3.47,  3.29,  3.13,  2.7 ,  2.55,  2.49,  1.08,  0.92,  0.86,\n",
              "        0.68,  1.22,  2.43,  2.62,  2.79,  2.83,  2.76,  2.72,  2.66,\n",
              "        2.77,  2.42,  2.63,  2.64,  2.48,  2.4 ,  2.88,  2.95,  2.86,\n",
              "        3.01,  2.94,  3.14,  2.58,  2.74,  2.29,  2.18,  2.39,  2.27,\n",
              "        2.11,  1.89,  1.52,  0.66,  0.58,  0.63,  1.94,  1.99,  2.35,\n",
              "        2.21,  2.44,  2.69,  2.56,  2.45,  2.25,  2.05,  0.64,  0.65,\n",
              "        0.62,  0.61,  0.59,  0.6 ,  0.54,  0.55,  0.57,  0.56,  2.47,\n",
              "        2.98,  2.61,  2.8 ,  3.26,  3.2 ,  2.97,  2.36,  2.  ])"
            ]
          },
          "execution_count": 56,
          "metadata": {},
          "output_type": "execute_result"
        }
      ],
      "source": [
        "unique_values = data['WVHT'].unique()\n",
        "unique_values"
      ]
    },
    {
      "cell_type": "code",
      "execution_count": 57,
      "metadata": {
        "id": "vAqhHtZTp2LC"
      },
      "outputs": [],
      "source": [
        "data = data[data['WVHT'] != 99]"
      ]
    },
    {
      "cell_type": "code",
      "execution_count": 58,
      "metadata": {
        "colab": {
          "base_uri": "https://localhost:8080/"
        },
        "id": "uI65BbiHp5Z4",
        "outputId": "27903469-e2f1-4a99-d68a-f5defe10442b"
      },
      "outputs": [
        {
          "data": {
            "text/plain": [
              "(2030, 2)"
            ]
          },
          "execution_count": 58,
          "metadata": {},
          "output_type": "execute_result"
        }
      ],
      "source": [
        "data.shape"
      ]
    },
    {
      "cell_type": "code",
      "execution_count": 59,
      "metadata": {
        "colab": {
          "base_uri": "https://localhost:8080/",
          "height": 539
        },
        "id": "FJfkdzSTp7a2",
        "outputId": "23b139d7-40e0-4cd0-ba02-c034e87d1aa8"
      },
      "outputs": [
        {
          "data": {
            "text/plain": [
              "<Axes: >"
            ]
          },
          "execution_count": 59,
          "metadata": {},
          "output_type": "execute_result"
        },
        {
          "data": {
            "image/png": "[encoded data removed]",
            "text/plain": [
              "<Figure size 800x600 with 1 Axes>"
            ]
          },
          "metadata": {},
          "output_type": "display_data"
        }
      ],
      "source": [
        "data['WVHT'].plot(figsize=(8,6))"
      ]
    },
    {
      "cell_type": "code",
      "execution_count": 60,
      "metadata": {
        "id": "b5i9KPIbouYq"
      },
      "outputs": [],
      "source": [
        "import numpy as np\n",
        "import pandas as pd\n",
        "import tensorflow as tf\n",
        "import pickle\n",
        "import matplotlib.pyplot as plt\n",
        "from sklearn.preprocessing import MinMaxScaler\n",
        "from tensorflow.keras.models import Sequential\n",
        "from tensorflow.keras.layers import LSTM, Dense\n",
        "from tensorflow.keras.optimizers import Adam"
      ]
    },
    {
      "cell_type": "code",
      "execution_count": 61,
      "metadata": {
        "id": "CxKMxO2SovxB"
      },
      "outputs": [],
      "source": [
        "data['date_time'] = pd.to_datetime(data['date_time'])\n",
        "data = data.sort_values(by='date_time')\n",
        "y = data['WVHT'].values"
      ]
    },
    {
      "cell_type": "code",
      "execution_count": 62,
      "metadata": {
        "id": "T7wiumfWo1SC"
      },
      "outputs": [],
      "source": [
        "# Define a function to prepare sequences\n",
        "def prepare_sequences(data, seq_length):\n",
        "    sequences = []\n",
        "    targets = []\n",
        "    for i in range(len(data) - seq_length):\n",
        "        sequences.append(data[i:i+seq_length])\n",
        "        targets.append(data[i+seq_length])\n",
        "    return np.array(sequences), np.array(targets)"
      ]
    },
    {
      "cell_type": "code",
      "execution_count": 63,
      "metadata": {
        "id": "gql7d7pno-qC"
      },
      "outputs": [],
      "source": [
        "# Prepare sequences and targets\n",
        "sequence_length = 100  # Adjust as needed\n",
        "x_seq, y_targets = prepare_sequences(y, sequence_length)"
      ]
    },
    {
      "cell_type": "code",
      "execution_count": 64,
      "metadata": {
        "id": "H6GLHwVquxwm"
      },
      "outputs": [],
      "source": [
        "# Split the data into train and test sets\n",
        "split_ratio = 0.7  # Adjust as needed\n",
        "split_idx = int(split_ratio * len(x_seq))\n",
        "x_train, x_test = x_seq[:split_idx], x_seq[split_idx:]\n",
        "y_train, y_test = y_targets[:split_idx], y_targets[split_idx:]"
      ]
    },
    {
      "cell_type": "code",
      "execution_count": 65,
      "metadata": {
        "id": "ZJXAP6Ovu08K"
      },
      "outputs": [],
      "source": [
        "# Define quantile loss function using TensorFlow operations\n",
        "def quantile_loss(q, y_true, y_pred):\n",
        "    error = y_true - y_pred\n",
        "    return tf.reduce_mean(tf.maximum(q * error, (q - 1) * error))"
      ]
    },
    {
      "cell_type": "code",
      "execution_count": 66,
      "metadata": {
        "id": "Cjzi3ZM2ipNm"
      },
      "outputs": [],
      "source": [
        "# Import the Dropout layer from TensorFlow\n",
        "from tensorflow.keras.layers import Dropout"
      ]
    },
    {
      "cell_type": "code",
      "execution_count": 67,
      "metadata": {
        "id": "SnWGvfqBOTNA"
      },
      "outputs": [],
      "source": [
        "from tensorflow.keras.layers import GRU\n",
        "\n",
        "# Define and train the GRU model with quantile loss\n",
        "def train_model_with_quantile_loss(q):\n",
        "    model = Sequential([\n",
        "        GRU(64, activation='sigmoid', input_shape=(sequence_length, 1)),\n",
        "        Dense(1)\n",
        "    ])\n",
        "\n",
        "    model.compile(optimizer=Adam(learning_rate=0.001), loss=lambda y_true, y_pred: quantile_loss(q, y_true, y_pred))\n",
        "    model.fit(x_train, y_train, validation_split=0.1, epochs=50, batch_size=34, verbose=1)\n",
        "    return model\n"
      ]
    },
    {
      "cell_type": "code",
      "execution_count": 68,
      "metadata": {
        "colab": {
          "base_uri": "https://localhost:8080/"
        },
        "id": "gP6H_yyra8ZS",
        "outputId": "87f15545-3e57-4f98-c197-c3cf9ad27af5"
      },
      "outputs": [
        {
          "name": "stdout",
          "output_type": "stream",
          "text": [
            "Epoch 1/50\n",
            "36/36 [==============================] - 3s 37ms/step - loss: 0.0309 - val_loss: 0.0466\n",
            "Epoch 2/50\n",
            "36/36 [==============================] - 1s 30ms/step - loss: 0.0262 - val_loss: 0.0433\n",
            "Epoch 3/50\n",
            "36/36 [==============================] - 1s 30ms/step - loss: 0.0245 - val_loss: 0.0397\n",
            "Epoch 4/50\n",
            "36/36 [==============================] - 1s 31ms/step - loss: 0.0228 - val_loss: 0.0374\n",
            "Epoch 5/50\n",
            "36/36 [==============================] - 1s 42ms/step - loss: 0.0206 - val_loss: 0.0324\n",
            "Epoch 6/50\n",
            "36/36 [==============================] - 2s 49ms/step - loss: 0.0190 - val_loss: 0.0315\n",
            "Epoch 7/50\n",
            "36/36 [==============================] - 1s 31ms/step - loss: 0.0171 - val_loss: 0.0290\n",
            "Epoch 8/50\n",
            "36/36 [==============================] - 1s 31ms/step - loss: 0.0156 - val_loss: 0.0216\n",
            "Epoch 9/50\n",
            "36/36 [==============================] - 1s 31ms/step - loss: 0.0136 - val_loss: 0.0211\n",
            "Epoch 10/50\n",
            "36/36 [==============================] - 1s 30ms/step - loss: 0.0121 - val_loss: 0.0167\n",
            "Epoch 11/50\n",
            "36/36 [==============================] - 1s 31ms/step - loss: 0.0110 - val_loss: 0.0156\n",
            "Epoch 12/50\n",
            "36/36 [==============================] - 1s 29ms/step - loss: 0.0100 - val_loss: 0.0126\n",
            "Epoch 13/50\n",
            "36/36 [==============================] - 1s 31ms/step - loss: 0.0081 - val_loss: 0.0122\n",
            "Epoch 14/50\n",
            "36/36 [==============================] - 1s 29ms/step - loss: 0.0087 - val_loss: 0.0139\n",
            "Epoch 15/50\n",
            "36/36 [==============================] - 1s 31ms/step - loss: 0.0083 - val_loss: 0.0128\n",
            "Epoch 16/50\n",
            "36/36 [==============================] - 2s 52ms/step - loss: 0.0083 - val_loss: 0.0128\n",
            "Epoch 17/50\n",
            "36/36 [==============================] - 1s 35ms/step - loss: 0.0094 - val_loss: 0.0117\n",
            "Epoch 18/50\n",
            "36/36 [==============================] - 1s 33ms/step - loss: 0.0080 - val_loss: 0.0116\n",
            "Epoch 19/50\n",
            "36/36 [==============================] - 1s 32ms/step - loss: 0.0084 - val_loss: 0.0156\n",
            "Epoch 20/50\n",
            "36/36 [==============================] - 1s 30ms/step - loss: 0.0088 - val_loss: 0.0148\n",
            "Epoch 21/50\n",
            "36/36 [==============================] - 1s 30ms/step - loss: 0.0099 - val_loss: 0.0118\n",
            "Epoch 22/50\n",
            "36/36 [==============================] - 1s 31ms/step - loss: 0.0082 - val_loss: 0.0133\n",
            "Epoch 23/50\n",
            "36/36 [==============================] - 1s 30ms/step - loss: 0.0078 - val_loss: 0.0114\n",
            "Epoch 24/50\n",
            "36/36 [==============================] - 1s 30ms/step - loss: 0.0080 - val_loss: 0.0123\n",
            "Epoch 25/50\n",
            "36/36 [==============================] - 1s 30ms/step - loss: 0.0078 - val_loss: 0.0115\n",
            "Epoch 26/50\n",
            "36/36 [==============================] - 2s 49ms/step - loss: 0.0076 - val_loss: 0.0126\n",
            "Epoch 27/50\n",
            "36/36 [==============================] - 1s 37ms/step - loss: 0.0081 - val_loss: 0.0117\n",
            "Epoch 28/50\n",
            "36/36 [==============================] - 1s 32ms/step - loss: 0.0077 - val_loss: 0.0116\n",
            "Epoch 29/50\n",
            "36/36 [==============================] - 1s 30ms/step - loss: 0.0078 - val_loss: 0.0115\n",
            "Epoch 30/50\n",
            "36/36 [==============================] - 1s 30ms/step - loss: 0.0087 - val_loss: 0.0117\n",
            "Epoch 31/50\n",
            "36/36 [==============================] - 1s 31ms/step - loss: 0.0079 - val_loss: 0.0112\n",
            "Epoch 32/50\n",
            "36/36 [==============================] - 1s 31ms/step - loss: 0.0082 - val_loss: 0.0121\n",
            "Epoch 33/50\n",
            "36/36 [==============================] - 1s 30ms/step - loss: 0.0082 - val_loss: 0.0121\n",
            "Epoch 34/50\n",
            "36/36 [==============================] - 1s 30ms/step - loss: 0.0077 - val_loss: 0.0114\n",
            "Epoch 35/50\n",
            "36/36 [==============================] - 1s 31ms/step - loss: 0.0080 - val_loss: 0.0113\n",
            "Epoch 36/50\n",
            "36/36 [==============================] - 2s 45ms/step - loss: 0.0076 - val_loss: 0.0112\n",
            "Epoch 37/50\n",
            "36/36 [==============================] - 2s 46ms/step - loss: 0.0081 - val_loss: 0.0118\n",
            "Epoch 38/50\n",
            "36/36 [==============================] - 1s 31ms/step - loss: 0.0083 - val_loss: 0.0115\n",
            "Epoch 39/50\n",
            "36/36 [==============================] - 1s 31ms/step - loss: 0.0075 - val_loss: 0.0113\n",
            "Epoch 40/50\n",
            "36/36 [==============================] - 1s 31ms/step - loss: 0.0077 - val_loss: 0.0116\n",
            "Epoch 41/50\n",
            "36/36 [==============================] - 1s 31ms/step - loss: 0.0078 - val_loss: 0.0113\n",
            "Epoch 42/50\n",
            "36/36 [==============================] - 1s 31ms/step - loss: 0.0083 - val_loss: 0.0109\n",
            "Epoch 43/50\n",
            "36/36 [==============================] - 1s 30ms/step - loss: 0.0090 - val_loss: 0.0118\n",
            "Epoch 44/50\n",
            "36/36 [==============================] - 1s 31ms/step - loss: 0.0079 - val_loss: 0.0128\n",
            "Epoch 45/50\n",
            "36/36 [==============================] - 1s 31ms/step - loss: 0.0085 - val_loss: 0.0120\n",
            "Epoch 46/50\n",
            "36/36 [==============================] - 1s 38ms/step - loss: 0.0094 - val_loss: 0.0109\n",
            "Epoch 47/50\n",
            "36/36 [==============================] - 2s 53ms/step - loss: 0.0077 - val_loss: 0.0112\n",
            "Epoch 48/50\n",
            "36/36 [==============================] - 1s 31ms/step - loss: 0.0079 - val_loss: 0.0110\n",
            "Epoch 49/50\n",
            "36/36 [==============================] - 1s 30ms/step - loss: 0.0082 - val_loss: 0.0111\n",
            "Epoch 50/50\n",
            "36/36 [==============================] - 1s 31ms/step - loss: 0.0082 - val_loss: 0.0109\n"
          ]
        }
      ],
      "source": [
        "#Train models with 20% and 80% quantiles\n",
        "q_05 = 0.05  # 10% quantile\n",
        "model_05 = train_model_with_quantile_loss(q_05)"
      ]
    },
    {
      "cell_type": "code",
      "execution_count": 69,
      "metadata": {
        "colab": {
          "base_uri": "https://localhost:8080/"
        },
        "id": "6yCnFd8Ka_eM",
        "outputId": "f5a413ad-e39c-4052-dd83-0398aff2afdd"
      },
      "outputs": [
        {
          "name": "stdout",
          "output_type": "stream",
          "text": [
            "Epoch 1/50\n",
            "36/36 [==============================] - 3s 36ms/step - loss: 0.2216 - val_loss: 0.0385\n",
            "Epoch 2/50\n",
            "36/36 [==============================] - 1s 31ms/step - loss: 0.0605 - val_loss: 0.0451\n",
            "Epoch 3/50\n",
            "36/36 [==============================] - 1s 32ms/step - loss: 0.0581 - val_loss: 0.0513\n",
            "Epoch 4/50\n",
            "36/36 [==============================] - 1s 29ms/step - loss: 0.0562 - val_loss: 0.0534\n",
            "Epoch 5/50\n",
            "36/36 [==============================] - 1s 37ms/step - loss: 0.0546 - val_loss: 0.0484\n",
            "Epoch 6/50\n",
            "36/36 [==============================] - 2s 50ms/step - loss: 0.0538 - val_loss: 0.0598\n",
            "Epoch 7/50\n",
            "36/36 [==============================] - 1s 30ms/step - loss: 0.0526 - val_loss: 0.0462\n",
            "Epoch 8/50\n",
            "36/36 [==============================] - 1s 30ms/step - loss: 0.0517 - val_loss: 0.0410\n",
            "Epoch 9/50\n",
            "36/36 [==============================] - 1s 31ms/step - loss: 0.0504 - val_loss: 0.0492\n",
            "Epoch 10/50\n",
            "36/36 [==============================] - 1s 29ms/step - loss: 0.0491 - val_loss: 0.0570\n",
            "Epoch 11/50\n",
            "36/36 [==============================] - 1s 30ms/step - loss: 0.0478 - val_loss: 0.0555\n",
            "Epoch 12/50\n",
            "36/36 [==============================] - 1s 31ms/step - loss: 0.0464 - val_loss: 0.0523\n",
            "Epoch 13/50\n",
            "36/36 [==============================] - 1s 30ms/step - loss: 0.0446 - val_loss: 0.0284\n",
            "Epoch 14/50\n",
            "36/36 [==============================] - 1s 30ms/step - loss: 0.0419 - val_loss: 0.0517\n",
            "Epoch 15/50\n",
            "36/36 [==============================] - 1s 30ms/step - loss: 0.0396 - val_loss: 0.0423\n",
            "Epoch 16/50\n",
            "36/36 [==============================] - 2s 51ms/step - loss: 0.0369 - val_loss: 0.0278\n",
            "Epoch 17/50\n",
            "36/36 [==============================] - 1s 34ms/step - loss: 0.0342 - val_loss: 0.0261\n",
            "Epoch 18/50\n",
            "36/36 [==============================] - 1s 30ms/step - loss: 0.0299 - val_loss: 0.0283\n",
            "Epoch 19/50\n",
            "36/36 [==============================] - 1s 30ms/step - loss: 0.0244 - val_loss: 0.0224\n",
            "Epoch 20/50\n",
            "36/36 [==============================] - 1s 29ms/step - loss: 0.0196 - val_loss: 0.0192\n",
            "Epoch 21/50\n",
            "36/36 [==============================] - 1s 29ms/step - loss: 0.0161 - val_loss: 0.0123\n",
            "Epoch 22/50\n",
            "36/36 [==============================] - 1s 30ms/step - loss: 0.0130 - val_loss: 0.0120\n",
            "Epoch 23/50\n",
            "36/36 [==============================] - 1s 31ms/step - loss: 0.0118 - val_loss: 0.0120\n",
            "Epoch 24/50\n",
            "36/36 [==============================] - 1s 30ms/step - loss: 0.0114 - val_loss: 0.0126\n",
            "Epoch 25/50\n",
            "36/36 [==============================] - 1s 29ms/step - loss: 0.0112 - val_loss: 0.0131\n",
            "Epoch 26/50\n",
            "36/36 [==============================] - 2s 42ms/step - loss: 0.0111 - val_loss: 0.0137\n",
            "Epoch 27/50\n",
            "36/36 [==============================] - 2s 45ms/step - loss: 0.0116 - val_loss: 0.0117\n",
            "Epoch 28/50\n",
            "36/36 [==============================] - 1s 31ms/step - loss: 0.0107 - val_loss: 0.0118\n",
            "Epoch 29/50\n",
            "36/36 [==============================] - 1s 30ms/step - loss: 0.0109 - val_loss: 0.0127\n",
            "Epoch 30/50\n",
            "36/36 [==============================] - 1s 30ms/step - loss: 0.0108 - val_loss: 0.0117\n",
            "Epoch 31/50\n",
            "36/36 [==============================] - 1s 29ms/step - loss: 0.0105 - val_loss: 0.0115\n",
            "Epoch 32/50\n",
            "36/36 [==============================] - 1s 31ms/step - loss: 0.0107 - val_loss: 0.0124\n",
            "Epoch 33/50\n",
            "36/36 [==============================] - 1s 32ms/step - loss: 0.0104 - val_loss: 0.0119\n",
            "Epoch 34/50\n",
            "36/36 [==============================] - 1s 29ms/step - loss: 0.0102 - val_loss: 0.0117\n",
            "Epoch 35/50\n",
            "36/36 [==============================] - 1s 30ms/step - loss: 0.0107 - val_loss: 0.0125\n",
            "Epoch 36/50\n",
            "36/36 [==============================] - 1s 38ms/step - loss: 0.0104 - val_loss: 0.0115\n",
            "Epoch 37/50\n",
            "36/36 [==============================] - 2s 52ms/step - loss: 0.0100 - val_loss: 0.0115\n",
            "Epoch 38/50\n",
            "36/36 [==============================] - 1s 30ms/step - loss: 0.0103 - val_loss: 0.0120\n",
            "Epoch 39/50\n",
            "36/36 [==============================] - 1s 31ms/step - loss: 0.0099 - val_loss: 0.0122\n",
            "Epoch 40/50\n",
            "36/36 [==============================] - 1s 30ms/step - loss: 0.0103 - val_loss: 0.0122\n",
            "Epoch 41/50\n",
            "36/36 [==============================] - 1s 30ms/step - loss: 0.0101 - val_loss: 0.0115\n",
            "Epoch 42/50\n",
            "36/36 [==============================] - 1s 33ms/step - loss: 0.0099 - val_loss: 0.0140\n",
            "Epoch 43/50\n",
            "36/36 [==============================] - 1s 32ms/step - loss: 0.0104 - val_loss: 0.0114\n",
            "Epoch 44/50\n",
            "36/36 [==============================] - 1s 30ms/step - loss: 0.0100 - val_loss: 0.0115\n",
            "Epoch 45/50\n",
            "36/36 [==============================] - 1s 30ms/step - loss: 0.0100 - val_loss: 0.0116\n",
            "Epoch 46/50\n",
            "36/36 [==============================] - 1s 32ms/step - loss: 0.0099 - val_loss: 0.0150\n",
            "Epoch 47/50\n",
            "36/36 [==============================] - 2s 51ms/step - loss: 0.0105 - val_loss: 0.0122\n",
            "Epoch 48/50\n",
            "36/36 [==============================] - 1s 32ms/step - loss: 0.0107 - val_loss: 0.0127\n",
            "Epoch 49/50\n",
            "36/36 [==============================] - 1s 30ms/step - loss: 0.0102 - val_loss: 0.0117\n",
            "Epoch 50/50\n",
            "36/36 [==============================] - 1s 30ms/step - loss: 0.0106 - val_loss: 0.0116\n"
          ]
        }
      ],
      "source": [
        "q_95 = 0.95  # 90% quantile\n",
        "model_95 = train_model_with_quantile_loss(q_95)"
      ]
    },
    {
      "cell_type": "code",
      "execution_count": 70,
      "metadata": {
        "colab": {
          "base_uri": "https://localhost:8080/"
        },
        "id": "Q1pj0VAvbB3q",
        "outputId": "ef46c843-05fb-474f-ebc4-1659c64dc83c"
      },
      "outputs": [
        {
          "name": "stdout",
          "output_type": "stream",
          "text": [
            "19/19 [==============================] - 0s 9ms/step\n",
            "19/19 [==============================] - 0s 9ms/step\n"
          ]
        }
      ],
      "source": [
        "# Make predictions\n",
        "y_pred_05 = model_05.predict(x_test)\n",
        "y_pred_95 = model_95.predict(x_test)"
      ]
    },
    {
      "cell_type": "code",
      "execution_count": 71,
      "metadata": {
        "colab": {
          "base_uri": "https://localhost:8080/",
          "height": 466
        },
        "id": "6mNyowHeiPuk",
        "outputId": "e47690db-27d9-45eb-ab66-53f8184fa479"
      },
      "outputs": [
        {
          "data": {
            "image/png": "[encoded data removed]",
            "text/plain": [
              "<Figure size 640x480 with 1 Axes>"
            ]
          },
          "metadata": {},
          "output_type": "display_data"
        },
        {
          "data": {
            "text/plain": [
              "<Figure size 640x480 with 0 Axes>"
            ]
          },
          "metadata": {},
          "output_type": "display_data"
        }
      ],
      "source": [
        "# Plot quantile predictions along with actual values\n",
        "plt.plot(range(len(y_test)), y_test, label=\"Actual\")\n",
        "plt.plot(range(len(y_test)), y_pred_05, label=\"5% Prediction\")\n",
        "plt.plot(range(len(y_test)), y_pred_95, label=\"95% Prediction\")\n",
        "plt.xlabel(\"Data Points in Test Set\")\n",
        "plt.ylabel(\"WVHT\")\n",
        "plt.legend()\n",
        "plt.show()\n",
        "plt.savefig(\"41009h2021.png\")\n",
        "# Calculate the number of points between 95% and 5% percentiles\n",
        "num_points_between_percentiles = np.sum((y_pred_05 <= y_test) & (y_test <= y_pred_95))"
      ]
    },
    {
      "cell_type": "code",
      "execution_count": 72,
      "metadata": {
        "colab": {
          "base_uri": "https://localhost:8080/"
        },
        "id": "90LajJRUCk-d",
        "outputId": "1630d441-1b18-447b-c4fb-e0840541c821"
      },
      "outputs": [
        {
          "name": "stdout",
          "output_type": "stream",
          "text": [
            "[[False  True  True ... False  True  True]\n",
            " [ True  True  True ...  True  True False]\n",
            " [ True  True  True ...  True  True  True]\n",
            " ...\n",
            " [ True  True  True ...  True  True  True]\n",
            " [ True  True  True ...  True  True  True]\n",
            " [ True  True  True ...  True  True  True]]\n"
          ]
        }
      ],
      "source": [
        "# Calculate lower and upper bounds of prediction intervals\n",
        "y_lower_05 = y_pred_05\n",
        "y_upper_95 = y_pred_95\n",
        "within_interval = (y_lower_05 <= y_test) & (y_test <= y_upper_95)\n",
        "print(within_interval)"
      ]
    },
    {
      "cell_type": "code",
      "execution_count": 73,
      "metadata": {
        "colab": {
          "base_uri": "https://localhost:8080/"
        },
        "id": "lSvXljPeCj0i",
        "outputId": "d1687eb2-52ad-40c2-9cdb-1186ed3d8cd8"
      },
      "outputs": [
        {
          "name": "stdout",
          "output_type": "stream",
          "text": [
            "MPIW: 0.2318791\n"
          ]
        }
      ],
      "source": [
        "# Calculate MPIW\n",
        "def calculate_mpiw(y_lower, y_upper):\n",
        "    mpiw = np.mean(y_upper - y_lower)\n",
        "    return mpiw\n",
        "\n",
        "# Calculate lower and upper bounds of prediction intervals\n",
        "y_lower_05 = y_pred_05\n",
        "y_upper_95 = y_pred_95\n",
        "\n",
        "# Calculate MPIW for the 10-90% prediction interval\n",
        "mpiw = calculate_mpiw(y_lower_05, y_upper_95)\n",
        "\n",
        "# Print MPIW for the 10-90% prediction interval\n",
        "print(\"MPIW:\", mpiw)"
      ]
    },
    {
      "cell_type": "code",
      "execution_count": 74,
      "metadata": {
        "colab": {
          "base_uri": "https://localhost:8080/"
        },
        "id": "mwY0xsAX7hGM",
        "outputId": "27f8ab4c-ac73-4d1e-d161-8cad0d8ccf99"
      },
      "outputs": [
        {
          "name": "stdout",
          "output_type": "stream",
          "text": [
            "579\n"
          ]
        }
      ],
      "source": [
        "print(len(y_test))"
      ]
    },
    {
      "cell_type": "code",
      "execution_count": 75,
      "metadata": {
        "colab": {
          "base_uri": "https://localhost:8080/"
        },
        "id": "wNoay7Gn7evU",
        "outputId": "676f8839-b8c5-47cc-803c-72502a4859cb"
      },
      "outputs": [
        {
          "name": "stdout",
          "output_type": "stream",
          "text": [
            "528\n"
          ]
        }
      ],
      "source": [
        "within_interval = (y_lower_05.flatten() <= y_test) & (y_test <= y_upper_95.flatten())\n",
        "print(within_interval.sum())"
      ]
    },
    {
      "cell_type": "code",
      "execution_count": 76,
      "metadata": {
        "colab": {
          "base_uri": "https://localhost:8080/"
        },
        "id": "pCCtI7dH7dlV",
        "outputId": "72849dea-40e3-4acf-cddb-7012e343afbd"
      },
      "outputs": [
        {
          "name": "stdout",
          "output_type": "stream",
          "text": [
            "PICP: 0.9119170984455959\n"
          ]
        }
      ],
      "source": [
        "# Calculate lower and upper bounds of prediction intervals\n",
        "y_lower_05 = y_pred_05\n",
        "y_upper_95 = y_pred_95\n",
        "\n",
        "# Check if each actual observation falls within the prediction interval\n",
        "within_interval = (y_lower_05.flatten() <= y_test) & (y_test <= y_upper_95.flatten())\n",
        "\n",
        "# Count the number of observations falling within the prediction intervals\n",
        "num_within_interval = within_interval.sum()\n",
        "\n",
        "# Total number of observations\n",
        "total_observations = len(y_test)\n",
        "\n",
        "# Calculate PICP (Prediction Interval Coverage Probability)\n",
        "picp = num_within_interval / total_observations\n",
        "print(\"PICP:\", picp)"
      ]
    }
  ],
  "metadata": {
    "colab": {
      "provenance": []
    },
    "kernelspec": {
      "display_name": "Python 3",
      "name": "python3"
    },
    "language_info": {
      "name": "python"
    }
  },
  "nbformat": 4,
  "nbformat_minor": 0
}
