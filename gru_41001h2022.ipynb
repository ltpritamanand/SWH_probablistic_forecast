{
  "cells": [
    {
      "cell_type": "code",
      "execution_count": 1,
      "metadata": {
        "id": "Y_V3p8yx9TMZ"
      },
      "outputs": [],
      "source": [
        "import pandas as pd\n",
        "import numpy as np"
      ]
    },
    {
      "cell_type": "code",
      "execution_count": 2,
      "metadata": {
        "id": "NpWiJ4U8lnl_"
      },
      "outputs": [],
      "source": [
        "import pandas as pd\n",
        "# Assuming your text file is named \"data.txt\" and is in the same directory as your Python script\n",
        "file_path = \"/content/41001h2022 (2).txt\"\n",
        "\n",
        "# If your data is separated by spaces, you can use:\n",
        "df = pd.read_csv(file_path, delim_whitespace=True)"
      ]
    },
    {
      "cell_type": "code",
      "execution_count": 3,
      "metadata": {
        "colab": {
          "base_uri": "https://localhost:8080/",
          "height": 206
        },
        "id": "3UeALjFMoSNh",
        "outputId": "d7ebe28b-3182-4d27-c0d2-440a46d7d88e"
      },
      "outputs": [
        {
          "data": {
            "application/vnd.google.colaboratory.intrinsic+json": {
              "summary": "{\n  \"name\": \"df\",\n  \"rows\": 12963,\n  \"fields\": [\n    {\n      \"column\": \"#YY\",\n      \"properties\": {\n        \"dtype\": \"number\",\n        \"std\": 0,\n        \"min\": 2022,\n        \"max\": 2022,\n        \"num_unique_values\": 1,\n        \"samples\": [\n          2022\n        ],\n        \"semantic_type\": \"\",\n        \"description\": \"\"\n      }\n    },\n    {\n      \"column\": \"MM\",\n      \"properties\": {\n        \"dtype\": \"number\",\n        \"std\": 0,\n        \"min\": 3,\n        \"max\": 5,\n        \"num_unique_values\": 3,\n        \"samples\": [\n          3\n        ],\n        \"semantic_type\": \"\",\n        \"description\": \"\"\n      }\n    },\n    {\n      \"column\": \"DD\",\n      \"properties\": {\n        \"dtype\": \"number\",\n        \"std\": 8,\n        \"min\": 1,\n        \"max\": 31,\n        \"num_unique_values\": 31,\n        \"samples\": [\n          29\n        ],\n        \"semantic_type\": \"\",\n        \"description\": \"\"\n      }\n    },\n    {\n      \"column\": \"hh\",\n      \"properties\": {\n        \"dtype\": \"number\",\n        \"std\": 6,\n        \"min\": 0,\n        \"max\": 23,\n        \"num_unique_values\": 24,\n        \"samples\": [\n          4\n        ],\n        \"semantic_type\": \"\",\n        \"description\": \"\"\n      }\n    },\n    {\n      \"column\": \"mm\",\n      \"properties\": {\n        \"dtype\": \"number\",\n        \"std\": 17,\n        \"min\": 0,\n        \"max\": 50,\n        \"num_unique_values\": 6,\n        \"samples\": [\n          40\n        ],\n        \"semantic_type\": \"\",\n        \"description\": \"\"\n      }\n    },\n    {\n      \"column\": \"WDIR\",\n      \"properties\": {\n        \"dtype\": \"number\",\n        \"std\": 84,\n        \"min\": 1,\n        \"max\": 999,\n        \"num_unique_values\": 361,\n        \"samples\": [\n          177\n        ],\n        \"semantic_type\": \"\",\n        \"description\": \"\"\n      }\n    },\n    {\n      \"column\": \"WSPD\",\n      \"properties\": {\n        \"dtype\": \"number\",\n        \"std\": 3.260942653112331,\n        \"min\": 0.0,\n        \"max\": 99.0,\n        \"num_unique_values\": 184,\n        \"samples\": [\n          7.0\n        ],\n        \"semantic_type\": \"\",\n        \"description\": \"\"\n      }\n    },\n    {\n      \"column\": \"GST\",\n      \"properties\": {\n        \"dtype\": \"number\",\n        \"std\": 4.016684774818701,\n        \"min\": 0.2,\n        \"max\": 99.0,\n        \"num_unique_values\": 240,\n        \"samples\": [\n          10.4\n        ],\n        \"semantic_type\": \"\",\n        \"description\": \"\"\n      }\n    },\n    {\n      \"column\": \"WVHT\",\n      \"properties\": {\n        \"dtype\": \"number\",\n        \"std\": 36.156242001134245,\n        \"min\": 0.51,\n        \"max\": 99.0,\n        \"num_unique_values\": 391,\n        \"samples\": [\n          1.76\n        ],\n        \"semantic_type\": \"\",\n        \"description\": \"\"\n      }\n    },\n    {\n      \"column\": \"DPD\",\n      \"properties\": {\n        \"dtype\": \"number\",\n        \"std\": 34.00312719015783,\n        \"min\": 4.0,\n        \"max\": 99.0,\n        \"num_unique_values\": 22,\n        \"samples\": [\n          7.69\n        ],\n        \"semantic_type\": \"\",\n        \"description\": \"\"\n      }\n    },\n    {\n      \"column\": \"APD\",\n      \"properties\": {\n        \"dtype\": \"number\",\n        \"std\": 34.712471876548406,\n        \"min\": 4.01,\n        \"max\": 99.0,\n        \"num_unique_values\": 370,\n        \"samples\": [\n          4.94\n        ],\n        \"semantic_type\": \"\",\n        \"description\": \"\"\n      }\n    },\n    {\n      \"column\": \"MWD\",\n      \"properties\": {\n        \"dtype\": \"number\",\n        \"std\": 305,\n        \"min\": 0,\n        \"max\": 999,\n        \"num_unique_values\": 352,\n        \"samples\": [\n          324\n        ],\n        \"semantic_type\": \"\",\n        \"description\": \"\"\n      }\n    },\n    {\n      \"column\": \"PRES\",\n      \"properties\": {\n        \"dtype\": \"number\",\n        \"std\": 6.581975686107513,\n        \"min\": 994.3,\n        \"max\": 1033.8,\n        \"num_unique_values\": 359,\n        \"samples\": [\n          1005.9\n        ],\n        \"semantic_type\": \"\",\n        \"description\": \"\"\n      }\n    },\n    {\n      \"column\": \"ATMP\",\n      \"properties\": {\n        \"dtype\": \"number\",\n        \"std\": 24.53407479184035,\n        \"min\": 7.1,\n        \"max\": 999.0,\n        \"num_unique_values\": 193,\n        \"samples\": [\n          15.2\n        ],\n        \"semantic_type\": \"\",\n        \"description\": \"\"\n      }\n    },\n    {\n      \"column\": \"WTMP\",\n      \"properties\": {\n        \"dtype\": \"number\",\n        \"std\": 71.16272700439356,\n        \"min\": 19.0,\n        \"max\": 999.0,\n        \"num_unique_values\": 68,\n        \"samples\": [\n          23.6\n        ],\n        \"semantic_type\": \"\",\n        \"description\": \"\"\n      }\n    },\n    {\n      \"column\": \"DEWP\",\n      \"properties\": {\n        \"dtype\": \"number\",\n        \"std\": 0.0,\n        \"min\": 999.0,\n        \"max\": 999.0,\n        \"num_unique_values\": 1,\n        \"samples\": [\n          999.0\n        ],\n        \"semantic_type\": \"\",\n        \"description\": \"\"\n      }\n    },\n    {\n      \"column\": \"VIS\",\n      \"properties\": {\n        \"dtype\": \"number\",\n        \"std\": 0.0,\n        \"min\": 99.0,\n        \"max\": 99.0,\n        \"num_unique_values\": 1,\n        \"samples\": [\n          99.0\n        ],\n        \"semantic_type\": \"\",\n        \"description\": \"\"\n      }\n    },\n    {\n      \"column\": \"TIDE\",\n      \"properties\": {\n        \"dtype\": \"number\",\n        \"std\": 0.0,\n        \"min\": 99.0,\n        \"max\": 99.0,\n        \"num_unique_values\": 1,\n        \"samples\": [\n          99.0\n        ],\n        \"semantic_type\": \"\",\n        \"description\": \"\"\n      }\n    }\n  ]\n}",
              "type": "dataframe",
              "variable_name": "df"
            },
            "text/html": [
              "\n",
              "  <div id=\"df-6ff8a7e1-f25a-460d-915d-817615e635de\" class=\"colab-df-container\">\n",
              "    <div>\n",
              "<style scoped>\n",
              "    .dataframe tbody tr th:only-of-type {\n",
              "        vertical-align: middle;\n",
              "    }\n",
              "\n",
              "    .dataframe tbody tr th {\n",
              "        vertical-align: top;\n",
              "    }\n",
              "\n",
              "    .dataframe thead th {\n",
              "        text-align: right;\n",
              "    }\n",
              "</style>\n",
              "<table border=\"1\" class=\"dataframe\">\n",
              "  <thead>\n",
              "    <tr style=\"text-align: right;\">\n",
              "      <th></th>\n",
              "      <th>#YY</th>\n",
              "      <th>MM</th>\n",
              "      <th>DD</th>\n",
              "      <th>hh</th>\n",
              "      <th>mm</th>\n",
              "      <th>WDIR</th>\n",
              "      <th>WSPD</th>\n",
              "      <th>GST</th>\n",
              "      <th>WVHT</th>\n",
              "      <th>DPD</th>\n",
              "      <th>APD</th>\n",
              "      <th>MWD</th>\n",
              "      <th>PRES</th>\n",
              "      <th>ATMP</th>\n",
              "      <th>WTMP</th>\n",
              "      <th>DEWP</th>\n",
              "      <th>VIS</th>\n",
              "      <th>TIDE</th>\n",
              "    </tr>\n",
              "  </thead>\n",
              "  <tbody>\n",
              "    <tr>\n",
              "      <th>0</th>\n",
              "      <td>2022</td>\n",
              "      <td>3</td>\n",
              "      <td>2</td>\n",
              "      <td>20</td>\n",
              "      <td>40</td>\n",
              "      <td>234</td>\n",
              "      <td>8.3</td>\n",
              "      <td>10.8</td>\n",
              "      <td>1.31</td>\n",
              "      <td>7.69</td>\n",
              "      <td>5.45</td>\n",
              "      <td>113</td>\n",
              "      <td>1017.5</td>\n",
              "      <td>19.5</td>\n",
              "      <td>20.2</td>\n",
              "      <td>999.0</td>\n",
              "      <td>99.0</td>\n",
              "      <td>99.0</td>\n",
              "    </tr>\n",
              "    <tr>\n",
              "      <th>1</th>\n",
              "      <td>2022</td>\n",
              "      <td>3</td>\n",
              "      <td>2</td>\n",
              "      <td>20</td>\n",
              "      <td>50</td>\n",
              "      <td>233</td>\n",
              "      <td>8.4</td>\n",
              "      <td>11.0</td>\n",
              "      <td>99.00</td>\n",
              "      <td>99.00</td>\n",
              "      <td>99.00</td>\n",
              "      <td>999</td>\n",
              "      <td>1017.4</td>\n",
              "      <td>19.6</td>\n",
              "      <td>20.1</td>\n",
              "      <td>999.0</td>\n",
              "      <td>99.0</td>\n",
              "      <td>99.0</td>\n",
              "    </tr>\n",
              "    <tr>\n",
              "      <th>2</th>\n",
              "      <td>2022</td>\n",
              "      <td>3</td>\n",
              "      <td>2</td>\n",
              "      <td>21</td>\n",
              "      <td>0</td>\n",
              "      <td>231</td>\n",
              "      <td>8.8</td>\n",
              "      <td>11.6</td>\n",
              "      <td>99.00</td>\n",
              "      <td>99.00</td>\n",
              "      <td>99.00</td>\n",
              "      <td>999</td>\n",
              "      <td>1017.5</td>\n",
              "      <td>19.6</td>\n",
              "      <td>20.0</td>\n",
              "      <td>999.0</td>\n",
              "      <td>99.0</td>\n",
              "      <td>99.0</td>\n",
              "    </tr>\n",
              "    <tr>\n",
              "      <th>3</th>\n",
              "      <td>2022</td>\n",
              "      <td>3</td>\n",
              "      <td>2</td>\n",
              "      <td>21</td>\n",
              "      <td>10</td>\n",
              "      <td>238</td>\n",
              "      <td>8.8</td>\n",
              "      <td>11.3</td>\n",
              "      <td>99.00</td>\n",
              "      <td>99.00</td>\n",
              "      <td>99.00</td>\n",
              "      <td>999</td>\n",
              "      <td>1017.5</td>\n",
              "      <td>19.6</td>\n",
              "      <td>20.0</td>\n",
              "      <td>999.0</td>\n",
              "      <td>99.0</td>\n",
              "      <td>99.0</td>\n",
              "    </tr>\n",
              "    <tr>\n",
              "      <th>4</th>\n",
              "      <td>2022</td>\n",
              "      <td>3</td>\n",
              "      <td>2</td>\n",
              "      <td>21</td>\n",
              "      <td>20</td>\n",
              "      <td>236</td>\n",
              "      <td>8.4</td>\n",
              "      <td>10.7</td>\n",
              "      <td>99.00</td>\n",
              "      <td>99.00</td>\n",
              "      <td>99.00</td>\n",
              "      <td>999</td>\n",
              "      <td>1017.5</td>\n",
              "      <td>19.7</td>\n",
              "      <td>19.9</td>\n",
              "      <td>999.0</td>\n",
              "      <td>99.0</td>\n",
              "      <td>99.0</td>\n",
              "    </tr>\n",
              "  </tbody>\n",
              "</table>\n",
              "</div>\n",
              "    <div class=\"colab-df-buttons\">\n",
              "\n",
              "  <div class=\"colab-df-container\">\n",
              "    <button class=\"colab-df-convert\" onclick=\"convertToInteractive('df-6ff8a7e1-f25a-460d-915d-817615e635de')\"\n",
              "            title=\"Convert this dataframe to an interactive table.\"\n",
              "            style=\"display:none;\">\n",
              "\n",
              "  <svg xmlns=\"http://www.w3.org/2000/svg\" height=\"24px\" viewBox=\"0 -960 960 960\">\n",
              "    <path d=\"M120-120v-720h720v720H120Zm60-500h600v-160H180v160Zm220 220h160v-160H400v160Zm0 220h160v-160H400v160ZM180-400h160v-160H180v160Zm440 0h160v-160H620v160ZM180-180h160v-160H180v160Zm440 0h160v-160H620v160Z\"/>\n",
              "  </svg>\n",
              "    </button>\n",
              "\n",
              "  <style>\n",
              "    .colab-df-container {\n",
              "      display:flex;\n",
              "      gap: 12px;\n",
              "    }\n",
              "\n",
              "    .colab-df-convert {\n",
              "      background-color: #E8F0FE;\n",
              "      border: none;\n",
              "      border-radius: 50%;\n",
              "      cursor: pointer;\n",
              "      display: none;\n",
              "      fill: #1967D2;\n",
              "      height: 32px;\n",
              "      padding: 0 0 0 0;\n",
              "      width: 32px;\n",
              "    }\n",
              "\n",
              "    .colab-df-convert:hover {\n",
              "      background-color: #E2EBFA;\n",
              "      box-shadow: 0px 1px 2px rgba(60, 64, 67, 0.3), 0px 1px 3px 1px rgba(60, 64, 67, 0.15);\n",
              "      fill: #174EA6;\n",
              "    }\n",
              "\n",
              "    .colab-df-buttons div {\n",
              "      margin-bottom: 4px;\n",
              "    }\n",
              "\n",
              "    [theme=dark] .colab-df-convert {\n",
              "      background-color: #3B4455;\n",
              "      fill: #D2E3FC;\n",
              "    }\n",
              "\n",
              "    [theme=dark] .colab-df-convert:hover {\n",
              "      background-color: #434B5C;\n",
              "      box-shadow: 0px 1px 3px 1px rgba(0, 0, 0, 0.15);\n",
              "      filter: drop-shadow(0px 1px 2px rgba(0, 0, 0, 0.3));\n",
              "      fill: #FFFFFF;\n",
              "    }\n",
              "  </style>\n",
              "\n",
              "    <script>\n",
              "      const buttonEl =\n",
              "        document.querySelector('#df-6ff8a7e1-f25a-460d-915d-817615e635de button.colab-df-convert');\n",
              "      buttonEl.style.display =\n",
              "        google.colab.kernel.accessAllowed ? 'block' : 'none';\n",
              "\n",
              "      async function convertToInteractive(key) {\n",
              "        const element = document.querySelector('#df-6ff8a7e1-f25a-460d-915d-817615e635de');\n",
              "        const dataTable =\n",
              "          await google.colab.kernel.invokeFunction('convertToInteractive',\n",
              "                                                    [key], {});\n",
              "        if (!dataTable) return;\n",
              "\n",
              "        const docLinkHtml = 'Like what you see? Visit the ' +\n",
              "          '<a target=\"_blank\" href=https://colab.research.google.com/notebooks/data_table.ipynb>data table notebook</a>'\n",
              "          + ' to learn more about interactive tables.';\n",
              "        element.innerHTML = '';\n",
              "        dataTable['output_type'] = 'display_data';\n",
              "        await google.colab.output.renderOutput(dataTable, element);\n",
              "        const docLink = document.createElement('div');\n",
              "        docLink.innerHTML = docLinkHtml;\n",
              "        element.appendChild(docLink);\n",
              "      }\n",
              "    </script>\n",
              "  </div>\n",
              "\n",
              "\n",
              "<div id=\"df-b5a40641-3b7e-4ac1-be5c-8774a5ea6e9a\">\n",
              "  <button class=\"colab-df-quickchart\" onclick=\"quickchart('df-b5a40641-3b7e-4ac1-be5c-8774a5ea6e9a')\"\n",
              "            title=\"Suggest charts\"\n",
              "            style=\"display:none;\">\n",
              "\n",
              "<svg xmlns=\"http://www.w3.org/2000/svg\" height=\"24px\"viewBox=\"0 0 24 24\"\n",
              "     width=\"24px\">\n",
              "    <g>\n",
              "        <path d=\"M19 3H5c-1.1 0-2 .9-2 2v14c0 1.1.9 2 2 2h14c1.1 0 2-.9 2-2V5c0-1.1-.9-2-2-2zM9 17H7v-7h2v7zm4 0h-2V7h2v10zm4 0h-2v-4h2v4z\"/>\n",
              "    </g>\n",
              "</svg>\n",
              "  </button>\n",
              "\n",
              "<style>\n",
              "  .colab-df-quickchart {\n",
              "      --bg-color: #E8F0FE;\n",
              "      --fill-color: #1967D2;\n",
              "      --hover-bg-color: #E2EBFA;\n",
              "      --hover-fill-color: #174EA6;\n",
              "      --disabled-fill-color: #AAA;\n",
              "      --disabled-bg-color: #DDD;\n",
              "  }\n",
              "\n",
              "  [theme=dark] .colab-df-quickchart {\n",
              "      --bg-color: #3B4455;\n",
              "      --fill-color: #D2E3FC;\n",
              "      --hover-bg-color: #434B5C;\n",
              "      --hover-fill-color: #FFFFFF;\n",
              "      --disabled-bg-color: #3B4455;\n",
              "      --disabled-fill-color: #666;\n",
              "  }\n",
              "\n",
              "  .colab-df-quickchart {\n",
              "    background-color: var(--bg-color);\n",
              "    border: none;\n",
              "    border-radius: 50%;\n",
              "    cursor: pointer;\n",
              "    display: none;\n",
              "    fill: var(--fill-color);\n",
              "    height: 32px;\n",
              "    padding: 0;\n",
              "    width: 32px;\n",
              "  }\n",
              "\n",
              "  .colab-df-quickchart:hover {\n",
              "    background-color: var(--hover-bg-color);\n",
              "    box-shadow: 0 1px 2px rgba(60, 64, 67, 0.3), 0 1px 3px 1px rgba(60, 64, 67, 0.15);\n",
              "    fill: var(--button-hover-fill-color);\n",
              "  }\n",
              "\n",
              "  .colab-df-quickchart-complete:disabled,\n",
              "  .colab-df-quickchart-complete:disabled:hover {\n",
              "    background-color: var(--disabled-bg-color);\n",
              "    fill: var(--disabled-fill-color);\n",
              "    box-shadow: none;\n",
              "  }\n",
              "\n",
              "  .colab-df-spinner {\n",
              "    border: 2px solid var(--fill-color);\n",
              "    border-color: transparent;\n",
              "    border-bottom-color: var(--fill-color);\n",
              "    animation:\n",
              "      spin 1s steps(1) infinite;\n",
              "  }\n",
              "\n",
              "  @keyframes spin {\n",
              "    0% {\n",
              "      border-color: transparent;\n",
              "      border-bottom-color: var(--fill-color);\n",
              "      border-left-color: var(--fill-color);\n",
              "    }\n",
              "    20% {\n",
              "      border-color: transparent;\n",
              "      border-left-color: var(--fill-color);\n",
              "      border-top-color: var(--fill-color);\n",
              "    }\n",
              "    30% {\n",
              "      border-color: transparent;\n",
              "      border-left-color: var(--fill-color);\n",
              "      border-top-color: var(--fill-color);\n",
              "      border-right-color: var(--fill-color);\n",
              "    }\n",
              "    40% {\n",
              "      border-color: transparent;\n",
              "      border-right-color: var(--fill-color);\n",
              "      border-top-color: var(--fill-color);\n",
              "    }\n",
              "    60% {\n",
              "      border-color: transparent;\n",
              "      border-right-color: var(--fill-color);\n",
              "    }\n",
              "    80% {\n",
              "      border-color: transparent;\n",
              "      border-right-color: var(--fill-color);\n",
              "      border-bottom-color: var(--fill-color);\n",
              "    }\n",
              "    90% {\n",
              "      border-color: transparent;\n",
              "      border-bottom-color: var(--fill-color);\n",
              "    }\n",
              "  }\n",
              "</style>\n",
              "\n",
              "  <script>\n",
              "    async function quickchart(key) {\n",
              "      const quickchartButtonEl =\n",
              "        document.querySelector('#' + key + ' button');\n",
              "      quickchartButtonEl.disabled = true;  // To prevent multiple clicks.\n",
              "      quickchartButtonEl.classList.add('colab-df-spinner');\n",
              "      try {\n",
              "        const charts = await google.colab.kernel.invokeFunction(\n",
              "            'suggestCharts', [key], {});\n",
              "      } catch (error) {\n",
              "        console.error('Error during call to suggestCharts:', error);\n",
              "      }\n",
              "      quickchartButtonEl.classList.remove('colab-df-spinner');\n",
              "      quickchartButtonEl.classList.add('colab-df-quickchart-complete');\n",
              "    }\n",
              "    (() => {\n",
              "      let quickchartButtonEl =\n",
              "        document.querySelector('#df-b5a40641-3b7e-4ac1-be5c-8774a5ea6e9a button');\n",
              "      quickchartButtonEl.style.display =\n",
              "        google.colab.kernel.accessAllowed ? 'block' : 'none';\n",
              "    })();\n",
              "  </script>\n",
              "</div>\n",
              "\n",
              "    </div>\n",
              "  </div>\n"
            ],
            "text/plain": [
              "    #YY  MM  DD  hh  mm  WDIR  WSPD   GST   WVHT    DPD    APD  MWD    PRES  \\\n",
              "0  2022   3   2  20  40   234   8.3  10.8   1.31   7.69   5.45  113  1017.5   \n",
              "1  2022   3   2  20  50   233   8.4  11.0  99.00  99.00  99.00  999  1017.4   \n",
              "2  2022   3   2  21   0   231   8.8  11.6  99.00  99.00  99.00  999  1017.5   \n",
              "3  2022   3   2  21  10   238   8.8  11.3  99.00  99.00  99.00  999  1017.5   \n",
              "4  2022   3   2  21  20   236   8.4  10.7  99.00  99.00  99.00  999  1017.5   \n",
              "\n",
              "   ATMP  WTMP   DEWP   VIS  TIDE  \n",
              "0  19.5  20.2  999.0  99.0  99.0  \n",
              "1  19.6  20.1  999.0  99.0  99.0  \n",
              "2  19.6  20.0  999.0  99.0  99.0  \n",
              "3  19.6  20.0  999.0  99.0  99.0  \n",
              "4  19.7  19.9  999.0  99.0  99.0  "
            ]
          },
          "execution_count": 3,
          "metadata": {},
          "output_type": "execute_result"
        }
      ],
      "source": [
        "df.head()"
      ]
    },
    {
      "cell_type": "code",
      "execution_count": 4,
      "metadata": {
        "colab": {
          "base_uri": "https://localhost:8080/",
          "height": 206
        },
        "id": "Oy0JHzTUoTX5",
        "outputId": "39a24a49-8724-4149-932a-c77ff1a7babf"
      },
      "outputs": [
        {
          "data": {
            "application/vnd.google.colaboratory.intrinsic+json": {
              "summary": "{\n  \"name\": \"df\",\n  \"rows\": 12962,\n  \"fields\": [\n    {\n      \"column\": \"#YY\",\n      \"properties\": {\n        \"dtype\": \"number\",\n        \"std\": 0,\n        \"min\": 2022,\n        \"max\": 2022,\n        \"num_unique_values\": 1,\n        \"samples\": [\n          2022\n        ],\n        \"semantic_type\": \"\",\n        \"description\": \"\"\n      }\n    },\n    {\n      \"column\": \"MM\",\n      \"properties\": {\n        \"dtype\": \"number\",\n        \"std\": 0,\n        \"min\": 3,\n        \"max\": 5,\n        \"num_unique_values\": 3,\n        \"samples\": [\n          3\n        ],\n        \"semantic_type\": \"\",\n        \"description\": \"\"\n      }\n    },\n    {\n      \"column\": \"DD\",\n      \"properties\": {\n        \"dtype\": \"number\",\n        \"std\": 8,\n        \"min\": 1,\n        \"max\": 31,\n        \"num_unique_values\": 31,\n        \"samples\": [\n          29\n        ],\n        \"semantic_type\": \"\",\n        \"description\": \"\"\n      }\n    },\n    {\n      \"column\": \"hh\",\n      \"properties\": {\n        \"dtype\": \"number\",\n        \"std\": 6,\n        \"min\": 0,\n        \"max\": 23,\n        \"num_unique_values\": 24,\n        \"samples\": [\n          4\n        ],\n        \"semantic_type\": \"\",\n        \"description\": \"\"\n      }\n    },\n    {\n      \"column\": \"mm\",\n      \"properties\": {\n        \"dtype\": \"number\",\n        \"std\": 17,\n        \"min\": 0,\n        \"max\": 50,\n        \"num_unique_values\": 6,\n        \"samples\": [\n          50\n        ],\n        \"semantic_type\": \"\",\n        \"description\": \"\"\n      }\n    },\n    {\n      \"column\": \"WDIR\",\n      \"properties\": {\n        \"dtype\": \"number\",\n        \"std\": 84,\n        \"min\": 1,\n        \"max\": 999,\n        \"num_unique_values\": 361,\n        \"samples\": [\n          177\n        ],\n        \"semantic_type\": \"\",\n        \"description\": \"\"\n      }\n    },\n    {\n      \"column\": \"WSPD\",\n      \"properties\": {\n        \"dtype\": \"number\",\n        \"std\": 3.261058640308658,\n        \"min\": 0.0,\n        \"max\": 99.0,\n        \"num_unique_values\": 184,\n        \"samples\": [\n          6.3\n        ],\n        \"semantic_type\": \"\",\n        \"description\": \"\"\n      }\n    },\n    {\n      \"column\": \"GST\",\n      \"properties\": {\n        \"dtype\": \"number\",\n        \"std\": 4.016826058758699,\n        \"min\": 0.2,\n        \"max\": 99.0,\n        \"num_unique_values\": 240,\n        \"samples\": [\n          10.4\n        ],\n        \"semantic_type\": \"\",\n        \"description\": \"\"\n      }\n    },\n    {\n      \"column\": \"WVHT\",\n      \"properties\": {\n        \"dtype\": \"number\",\n        \"std\": 36.15054223116483,\n        \"min\": 0.51,\n        \"max\": 99.0,\n        \"num_unique_values\": 391,\n        \"samples\": [\n          1.76\n        ],\n        \"semantic_type\": \"\",\n        \"description\": \"\"\n      }\n    },\n    {\n      \"column\": \"DPD\",\n      \"properties\": {\n        \"dtype\": \"number\",\n        \"std\": 33.99786403534992,\n        \"min\": 4.0,\n        \"max\": 99.0,\n        \"num_unique_values\": 22,\n        \"samples\": [\n          99.0\n        ],\n        \"semantic_type\": \"\",\n        \"description\": \"\"\n      }\n    },\n    {\n      \"column\": \"APD\",\n      \"properties\": {\n        \"dtype\": \"number\",\n        \"std\": 34.707041287834095,\n        \"min\": 4.01,\n        \"max\": 99.0,\n        \"num_unique_values\": 370,\n        \"samples\": [\n          4.94\n        ],\n        \"semantic_type\": \"\",\n        \"description\": \"\"\n      }\n    },\n    {\n      \"column\": \"MWD\",\n      \"properties\": {\n        \"dtype\": \"number\",\n        \"std\": 305,\n        \"min\": 0,\n        \"max\": 999,\n        \"num_unique_values\": 352,\n        \"samples\": [\n          324\n        ],\n        \"semantic_type\": \"\",\n        \"description\": \"\"\n      }\n    },\n    {\n      \"column\": \"PRES\",\n      \"properties\": {\n        \"dtype\": \"number\",\n        \"std\": 6.582227974399492,\n        \"min\": 994.3,\n        \"max\": 1033.8,\n        \"num_unique_values\": 359,\n        \"samples\": [\n          1005.9\n        ],\n        \"semantic_type\": \"\",\n        \"description\": \"\"\n      }\n    },\n    {\n      \"column\": \"ATMP\",\n      \"properties\": {\n        \"dtype\": \"number\",\n        \"std\": 24.53502006338095,\n        \"min\": 7.1,\n        \"max\": 999.0,\n        \"num_unique_values\": 193,\n        \"samples\": [\n          15.2\n        ],\n        \"semantic_type\": \"\",\n        \"description\": \"\"\n      }\n    },\n    {\n      \"column\": \"WTMP\",\n      \"properties\": {\n        \"dtype\": \"number\",\n        \"std\": 71.16545054403275,\n        \"min\": 19.0,\n        \"max\": 999.0,\n        \"num_unique_values\": 68,\n        \"samples\": [\n          23.6\n        ],\n        \"semantic_type\": \"\",\n        \"description\": \"\"\n      }\n    },\n    {\n      \"column\": \"DEWP\",\n      \"properties\": {\n        \"dtype\": \"number\",\n        \"std\": 0.0,\n        \"min\": 999.0,\n        \"max\": 999.0,\n        \"num_unique_values\": 1,\n        \"samples\": [\n          999.0\n        ],\n        \"semantic_type\": \"\",\n        \"description\": \"\"\n      }\n    },\n    {\n      \"column\": \"VIS\",\n      \"properties\": {\n        \"dtype\": \"number\",\n        \"std\": 0.0,\n        \"min\": 99.0,\n        \"max\": 99.0,\n        \"num_unique_values\": 1,\n        \"samples\": [\n          99.0\n        ],\n        \"semantic_type\": \"\",\n        \"description\": \"\"\n      }\n    },\n    {\n      \"column\": \"TIDE\",\n      \"properties\": {\n        \"dtype\": \"number\",\n        \"std\": 0.0,\n        \"min\": 99.0,\n        \"max\": 99.0,\n        \"num_unique_values\": 1,\n        \"samples\": [\n          99.0\n        ],\n        \"semantic_type\": \"\",\n        \"description\": \"\"\n      }\n    }\n  ]\n}",
              "type": "dataframe",
              "variable_name": "df"
            },
            "text/html": [
              "\n",
              "  <div id=\"df-8e244fa4-125e-4499-91b5-0d82fe014511\" class=\"colab-df-container\">\n",
              "    <div>\n",
              "<style scoped>\n",
              "    .dataframe tbody tr th:only-of-type {\n",
              "        vertical-align: middle;\n",
              "    }\n",
              "\n",
              "    .dataframe tbody tr th {\n",
              "        vertical-align: top;\n",
              "    }\n",
              "\n",
              "    .dataframe thead th {\n",
              "        text-align: right;\n",
              "    }\n",
              "</style>\n",
              "<table border=\"1\" class=\"dataframe\">\n",
              "  <thead>\n",
              "    <tr style=\"text-align: right;\">\n",
              "      <th></th>\n",
              "      <th>#YY</th>\n",
              "      <th>MM</th>\n",
              "      <th>DD</th>\n",
              "      <th>hh</th>\n",
              "      <th>mm</th>\n",
              "      <th>WDIR</th>\n",
              "      <th>WSPD</th>\n",
              "      <th>GST</th>\n",
              "      <th>WVHT</th>\n",
              "      <th>DPD</th>\n",
              "      <th>APD</th>\n",
              "      <th>MWD</th>\n",
              "      <th>PRES</th>\n",
              "      <th>ATMP</th>\n",
              "      <th>WTMP</th>\n",
              "      <th>DEWP</th>\n",
              "      <th>VIS</th>\n",
              "      <th>TIDE</th>\n",
              "    </tr>\n",
              "  </thead>\n",
              "  <tbody>\n",
              "    <tr>\n",
              "      <th>1</th>\n",
              "      <td>2022</td>\n",
              "      <td>3</td>\n",
              "      <td>2</td>\n",
              "      <td>20</td>\n",
              "      <td>50</td>\n",
              "      <td>233</td>\n",
              "      <td>8.4</td>\n",
              "      <td>11.0</td>\n",
              "      <td>99.0</td>\n",
              "      <td>99.0</td>\n",
              "      <td>99.0</td>\n",
              "      <td>999</td>\n",
              "      <td>1017.4</td>\n",
              "      <td>19.6</td>\n",
              "      <td>20.1</td>\n",
              "      <td>999.0</td>\n",
              "      <td>99.0</td>\n",
              "      <td>99.0</td>\n",
              "    </tr>\n",
              "    <tr>\n",
              "      <th>2</th>\n",
              "      <td>2022</td>\n",
              "      <td>3</td>\n",
              "      <td>2</td>\n",
              "      <td>21</td>\n",
              "      <td>0</td>\n",
              "      <td>231</td>\n",
              "      <td>8.8</td>\n",
              "      <td>11.6</td>\n",
              "      <td>99.0</td>\n",
              "      <td>99.0</td>\n",
              "      <td>99.0</td>\n",
              "      <td>999</td>\n",
              "      <td>1017.5</td>\n",
              "      <td>19.6</td>\n",
              "      <td>20.0</td>\n",
              "      <td>999.0</td>\n",
              "      <td>99.0</td>\n",
              "      <td>99.0</td>\n",
              "    </tr>\n",
              "    <tr>\n",
              "      <th>3</th>\n",
              "      <td>2022</td>\n",
              "      <td>3</td>\n",
              "      <td>2</td>\n",
              "      <td>21</td>\n",
              "      <td>10</td>\n",
              "      <td>238</td>\n",
              "      <td>8.8</td>\n",
              "      <td>11.3</td>\n",
              "      <td>99.0</td>\n",
              "      <td>99.0</td>\n",
              "      <td>99.0</td>\n",
              "      <td>999</td>\n",
              "      <td>1017.5</td>\n",
              "      <td>19.6</td>\n",
              "      <td>20.0</td>\n",
              "      <td>999.0</td>\n",
              "      <td>99.0</td>\n",
              "      <td>99.0</td>\n",
              "    </tr>\n",
              "    <tr>\n",
              "      <th>4</th>\n",
              "      <td>2022</td>\n",
              "      <td>3</td>\n",
              "      <td>2</td>\n",
              "      <td>21</td>\n",
              "      <td>20</td>\n",
              "      <td>236</td>\n",
              "      <td>8.4</td>\n",
              "      <td>10.7</td>\n",
              "      <td>99.0</td>\n",
              "      <td>99.0</td>\n",
              "      <td>99.0</td>\n",
              "      <td>999</td>\n",
              "      <td>1017.5</td>\n",
              "      <td>19.7</td>\n",
              "      <td>19.9</td>\n",
              "      <td>999.0</td>\n",
              "      <td>99.0</td>\n",
              "      <td>99.0</td>\n",
              "    </tr>\n",
              "    <tr>\n",
              "      <th>5</th>\n",
              "      <td>2022</td>\n",
              "      <td>3</td>\n",
              "      <td>2</td>\n",
              "      <td>21</td>\n",
              "      <td>30</td>\n",
              "      <td>239</td>\n",
              "      <td>8.7</td>\n",
              "      <td>11.4</td>\n",
              "      <td>99.0</td>\n",
              "      <td>99.0</td>\n",
              "      <td>99.0</td>\n",
              "      <td>999</td>\n",
              "      <td>1017.5</td>\n",
              "      <td>19.7</td>\n",
              "      <td>19.8</td>\n",
              "      <td>999.0</td>\n",
              "      <td>99.0</td>\n",
              "      <td>99.0</td>\n",
              "    </tr>\n",
              "  </tbody>\n",
              "</table>\n",
              "</div>\n",
              "    <div class=\"colab-df-buttons\">\n",
              "\n",
              "  <div class=\"colab-df-container\">\n",
              "    <button class=\"colab-df-convert\" onclick=\"convertToInteractive('df-8e244fa4-125e-4499-91b5-0d82fe014511')\"\n",
              "            title=\"Convert this dataframe to an interactive table.\"\n",
              "            style=\"display:none;\">\n",
              "\n",
              "  <svg xmlns=\"http://www.w3.org/2000/svg\" height=\"24px\" viewBox=\"0 -960 960 960\">\n",
              "    <path d=\"M120-120v-720h720v720H120Zm60-500h600v-160H180v160Zm220 220h160v-160H400v160Zm0 220h160v-160H400v160ZM180-400h160v-160H180v160Zm440 0h160v-160H620v160ZM180-180h160v-160H180v160Zm440 0h160v-160H620v160Z\"/>\n",
              "  </svg>\n",
              "    </button>\n",
              "\n",
              "  <style>\n",
              "    .colab-df-container {\n",
              "      display:flex;\n",
              "      gap: 12px;\n",
              "    }\n",
              "\n",
              "    .colab-df-convert {\n",
              "      background-color: #E8F0FE;\n",
              "      border: none;\n",
              "      border-radius: 50%;\n",
              "      cursor: pointer;\n",
              "      display: none;\n",
              "      fill: #1967D2;\n",
              "      height: 32px;\n",
              "      padding: 0 0 0 0;\n",
              "      width: 32px;\n",
              "    }\n",
              "\n",
              "    .colab-df-convert:hover {\n",
              "      background-color: #E2EBFA;\n",
              "      box-shadow: 0px 1px 2px rgba(60, 64, 67, 0.3), 0px 1px 3px 1px rgba(60, 64, 67, 0.15);\n",
              "      fill: #174EA6;\n",
              "    }\n",
              "\n",
              "    .colab-df-buttons div {\n",
              "      margin-bottom: 4px;\n",
              "    }\n",
              "\n",
              "    [theme=dark] .colab-df-convert {\n",
              "      background-color: #3B4455;\n",
              "      fill: #D2E3FC;\n",
              "    }\n",
              "\n",
              "    [theme=dark] .colab-df-convert:hover {\n",
              "      background-color: #434B5C;\n",
              "      box-shadow: 0px 1px 3px 1px rgba(0, 0, 0, 0.15);\n",
              "      filter: drop-shadow(0px 1px 2px rgba(0, 0, 0, 0.3));\n",
              "      fill: #FFFFFF;\n",
              "    }\n",
              "  </style>\n",
              "\n",
              "    <script>\n",
              "      const buttonEl =\n",
              "        document.querySelector('#df-8e244fa4-125e-4499-91b5-0d82fe014511 button.colab-df-convert');\n",
              "      buttonEl.style.display =\n",
              "        google.colab.kernel.accessAllowed ? 'block' : 'none';\n",
              "\n",
              "      async function convertToInteractive(key) {\n",
              "        const element = document.querySelector('#df-8e244fa4-125e-4499-91b5-0d82fe014511');\n",
              "        const dataTable =\n",
              "          await google.colab.kernel.invokeFunction('convertToInteractive',\n",
              "                                                    [key], {});\n",
              "        if (!dataTable) return;\n",
              "\n",
              "        const docLinkHtml = 'Like what you see? Visit the ' +\n",
              "          '<a target=\"_blank\" href=https://colab.research.google.com/notebooks/data_table.ipynb>data table notebook</a>'\n",
              "          + ' to learn more about interactive tables.';\n",
              "        element.innerHTML = '';\n",
              "        dataTable['output_type'] = 'display_data';\n",
              "        await google.colab.output.renderOutput(dataTable, element);\n",
              "        const docLink = document.createElement('div');\n",
              "        docLink.innerHTML = docLinkHtml;\n",
              "        element.appendChild(docLink);\n",
              "      }\n",
              "    </script>\n",
              "  </div>\n",
              "\n",
              "\n",
              "<div id=\"df-595b1754-c0a0-42dd-ac4c-5ec7366f3109\">\n",
              "  <button class=\"colab-df-quickchart\" onclick=\"quickchart('df-595b1754-c0a0-42dd-ac4c-5ec7366f3109')\"\n",
              "            title=\"Suggest charts\"\n",
              "            style=\"display:none;\">\n",
              "\n",
              "<svg xmlns=\"http://www.w3.org/2000/svg\" height=\"24px\"viewBox=\"0 0 24 24\"\n",
              "     width=\"24px\">\n",
              "    <g>\n",
              "        <path d=\"M19 3H5c-1.1 0-2 .9-2 2v14c0 1.1.9 2 2 2h14c1.1 0 2-.9 2-2V5c0-1.1-.9-2-2-2zM9 17H7v-7h2v7zm4 0h-2V7h2v10zm4 0h-2v-4h2v4z\"/>\n",
              "    </g>\n",
              "</svg>\n",
              "  </button>\n",
              "\n",
              "<style>\n",
              "  .colab-df-quickchart {\n",
              "      --bg-color: #E8F0FE;\n",
              "      --fill-color: #1967D2;\n",
              "      --hover-bg-color: #E2EBFA;\n",
              "      --hover-fill-color: #174EA6;\n",
              "      --disabled-fill-color: #AAA;\n",
              "      --disabled-bg-color: #DDD;\n",
              "  }\n",
              "\n",
              "  [theme=dark] .colab-df-quickchart {\n",
              "      --bg-color: #3B4455;\n",
              "      --fill-color: #D2E3FC;\n",
              "      --hover-bg-color: #434B5C;\n",
              "      --hover-fill-color: #FFFFFF;\n",
              "      --disabled-bg-color: #3B4455;\n",
              "      --disabled-fill-color: #666;\n",
              "  }\n",
              "\n",
              "  .colab-df-quickchart {\n",
              "    background-color: var(--bg-color);\n",
              "    border: none;\n",
              "    border-radius: 50%;\n",
              "    cursor: pointer;\n",
              "    display: none;\n",
              "    fill: var(--fill-color);\n",
              "    height: 32px;\n",
              "    padding: 0;\n",
              "    width: 32px;\n",
              "  }\n",
              "\n",
              "  .colab-df-quickchart:hover {\n",
              "    background-color: var(--hover-bg-color);\n",
              "    box-shadow: 0 1px 2px rgba(60, 64, 67, 0.3), 0 1px 3px 1px rgba(60, 64, 67, 0.15);\n",
              "    fill: var(--button-hover-fill-color);\n",
              "  }\n",
              "\n",
              "  .colab-df-quickchart-complete:disabled,\n",
              "  .colab-df-quickchart-complete:disabled:hover {\n",
              "    background-color: var(--disabled-bg-color);\n",
              "    fill: var(--disabled-fill-color);\n",
              "    box-shadow: none;\n",
              "  }\n",
              "\n",
              "  .colab-df-spinner {\n",
              "    border: 2px solid var(--fill-color);\n",
              "    border-color: transparent;\n",
              "    border-bottom-color: var(--fill-color);\n",
              "    animation:\n",
              "      spin 1s steps(1) infinite;\n",
              "  }\n",
              "\n",
              "  @keyframes spin {\n",
              "    0% {\n",
              "      border-color: transparent;\n",
              "      border-bottom-color: var(--fill-color);\n",
              "      border-left-color: var(--fill-color);\n",
              "    }\n",
              "    20% {\n",
              "      border-color: transparent;\n",
              "      border-left-color: var(--fill-color);\n",
              "      border-top-color: var(--fill-color);\n",
              "    }\n",
              "    30% {\n",
              "      border-color: transparent;\n",
              "      border-left-color: var(--fill-color);\n",
              "      border-top-color: var(--fill-color);\n",
              "      border-right-color: var(--fill-color);\n",
              "    }\n",
              "    40% {\n",
              "      border-color: transparent;\n",
              "      border-right-color: var(--fill-color);\n",
              "      border-top-color: var(--fill-color);\n",
              "    }\n",
              "    60% {\n",
              "      border-color: transparent;\n",
              "      border-right-color: var(--fill-color);\n",
              "    }\n",
              "    80% {\n",
              "      border-color: transparent;\n",
              "      border-right-color: var(--fill-color);\n",
              "      border-bottom-color: var(--fill-color);\n",
              "    }\n",
              "    90% {\n",
              "      border-color: transparent;\n",
              "      border-bottom-color: var(--fill-color);\n",
              "    }\n",
              "  }\n",
              "</style>\n",
              "\n",
              "  <script>\n",
              "    async function quickchart(key) {\n",
              "      const quickchartButtonEl =\n",
              "        document.querySelector('#' + key + ' button');\n",
              "      quickchartButtonEl.disabled = true;  // To prevent multiple clicks.\n",
              "      quickchartButtonEl.classList.add('colab-df-spinner');\n",
              "      try {\n",
              "        const charts = await google.colab.kernel.invokeFunction(\n",
              "            'suggestCharts', [key], {});\n",
              "      } catch (error) {\n",
              "        console.error('Error during call to suggestCharts:', error);\n",
              "      }\n",
              "      quickchartButtonEl.classList.remove('colab-df-spinner');\n",
              "      quickchartButtonEl.classList.add('colab-df-quickchart-complete');\n",
              "    }\n",
              "    (() => {\n",
              "      let quickchartButtonEl =\n",
              "        document.querySelector('#df-595b1754-c0a0-42dd-ac4c-5ec7366f3109 button');\n",
              "      quickchartButtonEl.style.display =\n",
              "        google.colab.kernel.accessAllowed ? 'block' : 'none';\n",
              "    })();\n",
              "  </script>\n",
              "</div>\n",
              "\n",
              "    </div>\n",
              "  </div>\n"
            ],
            "text/plain": [
              "    #YY  MM  DD  hh  mm  WDIR  WSPD   GST  WVHT   DPD   APD  MWD    PRES  \\\n",
              "1  2022   3   2  20  50   233   8.4  11.0  99.0  99.0  99.0  999  1017.4   \n",
              "2  2022   3   2  21   0   231   8.8  11.6  99.0  99.0  99.0  999  1017.5   \n",
              "3  2022   3   2  21  10   238   8.8  11.3  99.0  99.0  99.0  999  1017.5   \n",
              "4  2022   3   2  21  20   236   8.4  10.7  99.0  99.0  99.0  999  1017.5   \n",
              "5  2022   3   2  21  30   239   8.7  11.4  99.0  99.0  99.0  999  1017.5   \n",
              "\n",
              "   ATMP  WTMP   DEWP   VIS  TIDE  \n",
              "1  19.6  20.1  999.0  99.0  99.0  \n",
              "2  19.6  20.0  999.0  99.0  99.0  \n",
              "3  19.6  20.0  999.0  99.0  99.0  \n",
              "4  19.7  19.9  999.0  99.0  99.0  \n",
              "5  19.7  19.8  999.0  99.0  99.0  "
            ]
          },
          "execution_count": 4,
          "metadata": {},
          "output_type": "execute_result"
        }
      ],
      "source": [
        "# Remove the first row\n",
        "df = df.iloc[1:]\n",
        "df.head()"
      ]
    },
    {
      "cell_type": "code",
      "execution_count": 5,
      "metadata": {
        "colab": {
          "base_uri": "https://localhost:8080/"
        },
        "id": "09d0QONBDcwT",
        "outputId": "a303aad1-a5f3-4845-f479-9a9417e9e232"
      },
      "outputs": [
        {
          "data": {
            "text/plain": [
              "(12962, 18)"
            ]
          },
          "execution_count": 5,
          "metadata": {},
          "output_type": "execute_result"
        }
      ],
      "source": [
        "df.shape"
      ]
    },
    {
      "cell_type": "code",
      "execution_count": 6,
      "metadata": {
        "id": "LS_Y8UoKoWgY"
      },
      "outputs": [],
      "source": [
        "# Convert specific columns to numeric values\n",
        "columns_to_convert = ['#YY', 'MM', 'DD', 'hh', 'mm', 'WDIR', 'WSPD', 'GST', 'WVHT', 'DPD', 'APD', 'MWD', 'PRES', 'ATMP', 'WTMP', 'DEWP', 'VIS', 'TIDE']\n",
        "df[columns_to_convert] = df[columns_to_convert].apply(pd.to_numeric, errors='coerce')\n",
        "# Alternatively, convert all object columns to numeric values\n",
        "df = df.apply(pd.to_numeric, errors='coerce')"
      ]
    },
    {
      "cell_type": "code",
      "execution_count": 7,
      "metadata": {
        "id": "Eleb1_xYoZdI"
      },
      "outputs": [],
      "source": [
        "# Extract rows where mm=0\n",
        "df = df[df[\"mm\"] == 40]"
      ]
    },
    {
      "cell_type": "code",
      "execution_count": 8,
      "metadata": {
        "id": "i_ovKSScob2_"
      },
      "outputs": [],
      "source": [
        "#here we reset the index\n",
        "df = df.reset_index(drop=True)"
      ]
    },
    {
      "cell_type": "code",
      "execution_count": 9,
      "metadata": {
        "colab": {
          "base_uri": "https://localhost:8080/"
        },
        "id": "7AFAXgcnoeA6",
        "outputId": "fae38c87-8518-4438-ea3a-85098ad6cda9"
      },
      "outputs": [
        {
          "data": {
            "text/plain": [
              "(2162, 18)"
            ]
          },
          "execution_count": 9,
          "metadata": {},
          "output_type": "execute_result"
        }
      ],
      "source": [
        "df.shape"
      ]
    },
    {
      "cell_type": "code",
      "execution_count": 10,
      "metadata": {
        "colab": {
          "base_uri": "https://localhost:8080/"
        },
        "id": "ZB-aPahVDjqB",
        "outputId": "1ab5bc20-1f64-497b-c0b1-b6dfbdec8dc3"
      },
      "outputs": [
        {
          "data": {
            "text/plain": [
              "#YY     0\n",
              "MM      0\n",
              "DD      0\n",
              "hh      0\n",
              "mm      0\n",
              "WDIR    0\n",
              "WSPD    0\n",
              "GST     0\n",
              "WVHT    0\n",
              "DPD     0\n",
              "APD     0\n",
              "MWD     0\n",
              "PRES    0\n",
              "ATMP    0\n",
              "WTMP    0\n",
              "DEWP    0\n",
              "VIS     0\n",
              "TIDE    0\n",
              "dtype: int64"
            ]
          },
          "execution_count": 10,
          "metadata": {},
          "output_type": "execute_result"
        }
      ],
      "source": [
        "df.isnull().sum()"
      ]
    },
    {
      "cell_type": "code",
      "execution_count": 11,
      "metadata": {
        "id": "K_Xs3C3oDnKZ"
      },
      "outputs": [],
      "source": [
        "df = df.dropna()"
      ]
    },
    {
      "cell_type": "code",
      "execution_count": 12,
      "metadata": {
        "colab": {
          "base_uri": "https://localhost:8080/"
        },
        "id": "Q8oaYMcipbrS",
        "outputId": "2b3a37dc-151e-40ae-9f39-4a2c429d1967"
      },
      "outputs": [
        {
          "data": {
            "text/plain": [
              "(2162, 18)"
            ]
          },
          "execution_count": 12,
          "metadata": {},
          "output_type": "execute_result"
        }
      ],
      "source": [
        "df.shape"
      ]
    },
    {
      "cell_type": "code",
      "execution_count": 13,
      "metadata": {
        "id": "HU3q9aicpde_"
      },
      "outputs": [],
      "source": [
        "# Combine date and time columns into a single datetime column\n",
        "df['date_time'] = pd.to_datetime(df[['#YY', 'MM', 'DD', 'hh', 'mm']].astype(str).apply(' '.join, axis=1), format='%Y %m %d %H %M')"
      ]
    },
    {
      "cell_type": "code",
      "execution_count": 14,
      "metadata": {
        "id": "gUKyE91_Dx2r"
      },
      "outputs": [],
      "source": [
        "# Drop 5 columns by specifying their column labels\n",
        "columns_to_drop = ['#YY', 'MM', 'DD', 'hh', 'mm']\n",
        "df = df.drop(columns=columns_to_drop)"
      ]
    },
    {
      "cell_type": "code",
      "execution_count": 15,
      "metadata": {
        "id": "tljF_gEjD1qS"
      },
      "outputs": [],
      "source": [
        "#Move the 'date_time' column to the first position\n",
        "date_time_column = df.pop('date_time')\n",
        "df.insert(0, 'date_time', date_time_column)"
      ]
    },
    {
      "cell_type": "code",
      "execution_count": 16,
      "metadata": {
        "colab": {
          "base_uri": "https://localhost:8080/",
          "height": 206
        },
        "id": "wDLQ63_1D4sH",
        "outputId": "d877e3d8-1e5e-4b82-d8d5-dd2316ceb168"
      },
      "outputs": [
        {
          "data": {
            "application/vnd.google.colaboratory.intrinsic+json": {
              "summary": "{\n  \"name\": \"df\",\n  \"rows\": 2162,\n  \"fields\": [\n    {\n      \"column\": \"date_time\",\n      \"properties\": {\n        \"dtype\": \"date\",\n        \"min\": \"2022-03-02 21:40:00\",\n        \"max\": \"2022-05-31 23:40:00\",\n        \"num_unique_values\": 2162,\n        \"samples\": [\n          \"2022-04-19 04:40:00\",\n          \"2022-03-30 20:40:00\",\n          \"2022-04-12 03:40:00\"\n        ],\n        \"semantic_type\": \"\",\n        \"description\": \"\"\n      }\n    },\n    {\n      \"column\": \"WDIR\",\n      \"properties\": {\n        \"dtype\": \"number\",\n        \"std\": 84,\n        \"min\": 1,\n        \"max\": 360,\n        \"num_unique_values\": 351,\n        \"samples\": [\n          262,\n          140,\n          11\n        ],\n        \"semantic_type\": \"\",\n        \"description\": \"\"\n      }\n    },\n    {\n      \"column\": \"WSPD\",\n      \"properties\": {\n        \"dtype\": \"number\",\n        \"std\": 3.165103868200423,\n        \"min\": 0.0,\n        \"max\": 18.1,\n        \"num_unique_values\": 161,\n        \"samples\": [\n          17.4,\n          14.7,\n          13.5\n        ],\n        \"semantic_type\": \"\",\n        \"description\": \"\"\n      }\n    },\n    {\n      \"column\": \"GST\",\n      \"properties\": {\n        \"dtype\": \"number\",\n        \"std\": 3.9567751667355084,\n        \"min\": 0.2,\n        \"max\": 25.2,\n        \"num_unique_values\": 201,\n        \"samples\": [\n          1.5,\n          7.5,\n          14.3\n        ],\n        \"semantic_type\": \"\",\n        \"description\": \"\"\n      }\n    },\n    {\n      \"column\": \"WVHT\",\n      \"properties\": {\n        \"dtype\": \"number\",\n        \"std\": 5.198940741428592,\n        \"min\": 0.51,\n        \"max\": 99.0,\n        \"num_unique_values\": 391,\n        \"samples\": [\n          1.73,\n          1.3,\n          1.87\n        ],\n        \"semantic_type\": \"\",\n        \"description\": \"\"\n      }\n    },\n    {\n      \"column\": \"DPD\",\n      \"properties\": {\n        \"dtype\": \"number\",\n        \"std\": 5.0740278438501445,\n        \"min\": 4.0,\n        \"max\": 99.0,\n        \"num_unique_values\": 22,\n        \"samples\": [\n          5.56,\n          4.76,\n          7.69\n        ],\n        \"semantic_type\": \"\",\n        \"description\": \"\"\n      }\n    },\n    {\n      \"column\": \"APD\",\n      \"properties\": {\n        \"dtype\": \"number\",\n        \"std\": 4.973616347236931,\n        \"min\": 4.01,\n        \"max\": 99.0,\n        \"num_unique_values\": 370,\n        \"samples\": [\n          4.94,\n          5.51,\n          5.47\n        ],\n        \"semantic_type\": \"\",\n        \"description\": \"\"\n      }\n    },\n    {\n      \"column\": \"MWD\",\n      \"properties\": {\n        \"dtype\": \"number\",\n        \"std\": 107,\n        \"min\": 0,\n        \"max\": 999,\n        \"num_unique_values\": 352,\n        \"samples\": [\n          324,\n          288,\n          58\n        ],\n        \"semantic_type\": \"\",\n        \"description\": \"\"\n      }\n    },\n    {\n      \"column\": \"PRES\",\n      \"properties\": {\n        \"dtype\": \"number\",\n        \"std\": 6.584108613063999,\n        \"min\": 994.6,\n        \"max\": 1033.8,\n        \"num_unique_values\": 313,\n        \"samples\": [\n          1032.1,\n          1017.3,\n          1007.8\n        ],\n        \"semantic_type\": \"\",\n        \"description\": \"\"\n      }\n    },\n    {\n      \"column\": \"ATMP\",\n      \"properties\": {\n        \"dtype\": \"number\",\n        \"std\": 3.2349796472527514,\n        \"min\": 7.7,\n        \"max\": 26.4,\n        \"num_unique_values\": 170,\n        \"samples\": [\n          22.4,\n          15.1,\n          11.5\n        ],\n        \"semantic_type\": \"\",\n        \"description\": \"\"\n      }\n    },\n    {\n      \"column\": \"WTMP\",\n      \"properties\": {\n        \"dtype\": \"number\",\n        \"std\": 83.83123346249013,\n        \"min\": 19.0,\n        \"max\": 999.0,\n        \"num_unique_values\": 61,\n        \"samples\": [\n          19.8,\n          19.4,\n          21.3\n        ],\n        \"semantic_type\": \"\",\n        \"description\": \"\"\n      }\n    },\n    {\n      \"column\": \"DEWP\",\n      \"properties\": {\n        \"dtype\": \"number\",\n        \"std\": 0.0,\n        \"min\": 999.0,\n        \"max\": 999.0,\n        \"num_unique_values\": 1,\n        \"samples\": [\n          999.0\n        ],\n        \"semantic_type\": \"\",\n        \"description\": \"\"\n      }\n    },\n    {\n      \"column\": \"VIS\",\n      \"properties\": {\n        \"dtype\": \"number\",\n        \"std\": 0.0,\n        \"min\": 99.0,\n        \"max\": 99.0,\n        \"num_unique_values\": 1,\n        \"samples\": [\n          99.0\n        ],\n        \"semantic_type\": \"\",\n        \"description\": \"\"\n      }\n    },\n    {\n      \"column\": \"TIDE\",\n      \"properties\": {\n        \"dtype\": \"number\",\n        \"std\": 0.0,\n        \"min\": 99.0,\n        \"max\": 99.0,\n        \"num_unique_values\": 1,\n        \"samples\": [\n          99.0\n        ],\n        \"semantic_type\": \"\",\n        \"description\": \"\"\n      }\n    }\n  ]\n}",
              "type": "dataframe",
              "variable_name": "df"
            },
            "text/html": [
              "\n",
              "  <div id=\"df-2da7f5a5-7cc6-45a9-9ed8-36e5a9341109\" class=\"colab-df-container\">\n",
              "    <div>\n",
              "<style scoped>\n",
              "    .dataframe tbody tr th:only-of-type {\n",
              "        vertical-align: middle;\n",
              "    }\n",
              "\n",
              "    .dataframe tbody tr th {\n",
              "        vertical-align: top;\n",
              "    }\n",
              "\n",
              "    .dataframe thead th {\n",
              "        text-align: right;\n",
              "    }\n",
              "</style>\n",
              "<table border=\"1\" class=\"dataframe\">\n",
              "  <thead>\n",
              "    <tr style=\"text-align: right;\">\n",
              "      <th></th>\n",
              "      <th>date_time</th>\n",
              "      <th>WDIR</th>\n",
              "      <th>WSPD</th>\n",
              "      <th>GST</th>\n",
              "      <th>WVHT</th>\n",
              "      <th>DPD</th>\n",
              "      <th>APD</th>\n",
              "      <th>MWD</th>\n",
              "      <th>PRES</th>\n",
              "      <th>ATMP</th>\n",
              "      <th>WTMP</th>\n",
              "      <th>DEWP</th>\n",
              "      <th>VIS</th>\n",
              "      <th>TIDE</th>\n",
              "    </tr>\n",
              "  </thead>\n",
              "  <tbody>\n",
              "    <tr>\n",
              "      <th>0</th>\n",
              "      <td>2022-03-02 21:40:00</td>\n",
              "      <td>236</td>\n",
              "      <td>9.3</td>\n",
              "      <td>11.5</td>\n",
              "      <td>1.46</td>\n",
              "      <td>5.56</td>\n",
              "      <td>5.40</td>\n",
              "      <td>214</td>\n",
              "      <td>1017.7</td>\n",
              "      <td>19.7</td>\n",
              "      <td>19.8</td>\n",
              "      <td>999.0</td>\n",
              "      <td>99.0</td>\n",
              "      <td>99.0</td>\n",
              "    </tr>\n",
              "    <tr>\n",
              "      <th>1</th>\n",
              "      <td>2022-03-02 22:40:00</td>\n",
              "      <td>235</td>\n",
              "      <td>7.7</td>\n",
              "      <td>9.6</td>\n",
              "      <td>1.63</td>\n",
              "      <td>5.88</td>\n",
              "      <td>5.50</td>\n",
              "      <td>219</td>\n",
              "      <td>1018.0</td>\n",
              "      <td>19.6</td>\n",
              "      <td>20.0</td>\n",
              "      <td>999.0</td>\n",
              "      <td>99.0</td>\n",
              "      <td>99.0</td>\n",
              "    </tr>\n",
              "    <tr>\n",
              "      <th>2</th>\n",
              "      <td>2022-03-02 23:40:00</td>\n",
              "      <td>230</td>\n",
              "      <td>7.3</td>\n",
              "      <td>10.7</td>\n",
              "      <td>1.40</td>\n",
              "      <td>5.88</td>\n",
              "      <td>5.49</td>\n",
              "      <td>229</td>\n",
              "      <td>1018.3</td>\n",
              "      <td>19.2</td>\n",
              "      <td>19.9</td>\n",
              "      <td>999.0</td>\n",
              "      <td>99.0</td>\n",
              "      <td>99.0</td>\n",
              "    </tr>\n",
              "    <tr>\n",
              "      <th>3</th>\n",
              "      <td>2022-03-03 00:40:00</td>\n",
              "      <td>209</td>\n",
              "      <td>4.9</td>\n",
              "      <td>6.5</td>\n",
              "      <td>1.32</td>\n",
              "      <td>5.26</td>\n",
              "      <td>5.45</td>\n",
              "      <td>244</td>\n",
              "      <td>1018.7</td>\n",
              "      <td>18.4</td>\n",
              "      <td>19.8</td>\n",
              "      <td>999.0</td>\n",
              "      <td>99.0</td>\n",
              "      <td>99.0</td>\n",
              "    </tr>\n",
              "    <tr>\n",
              "      <th>4</th>\n",
              "      <td>2022-03-03 01:40:00</td>\n",
              "      <td>226</td>\n",
              "      <td>6.8</td>\n",
              "      <td>10.2</td>\n",
              "      <td>1.31</td>\n",
              "      <td>5.00</td>\n",
              "      <td>5.49</td>\n",
              "      <td>281</td>\n",
              "      <td>1018.6</td>\n",
              "      <td>19.5</td>\n",
              "      <td>19.9</td>\n",
              "      <td>999.0</td>\n",
              "      <td>99.0</td>\n",
              "      <td>99.0</td>\n",
              "    </tr>\n",
              "  </tbody>\n",
              "</table>\n",
              "</div>\n",
              "    <div class=\"colab-df-buttons\">\n",
              "\n",
              "  <div class=\"colab-df-container\">\n",
              "    <button class=\"colab-df-convert\" onclick=\"convertToInteractive('df-2da7f5a5-7cc6-45a9-9ed8-36e5a9341109')\"\n",
              "            title=\"Convert this dataframe to an interactive table.\"\n",
              "            style=\"display:none;\">\n",
              "\n",
              "  <svg xmlns=\"http://www.w3.org/2000/svg\" height=\"24px\" viewBox=\"0 -960 960 960\">\n",
              "    <path d=\"M120-120v-720h720v720H120Zm60-500h600v-160H180v160Zm220 220h160v-160H400v160Zm0 220h160v-160H400v160ZM180-400h160v-160H180v160Zm440 0h160v-160H620v160ZM180-180h160v-160H180v160Zm440 0h160v-160H620v160Z\"/>\n",
              "  </svg>\n",
              "    </button>\n",
              "\n",
              "  <style>\n",
              "    .colab-df-container {\n",
              "      display:flex;\n",
              "      gap: 12px;\n",
              "    }\n",
              "\n",
              "    .colab-df-convert {\n",
              "      background-color: #E8F0FE;\n",
              "      border: none;\n",
              "      border-radius: 50%;\n",
              "      cursor: pointer;\n",
              "      display: none;\n",
              "      fill: #1967D2;\n",
              "      height: 32px;\n",
              "      padding: 0 0 0 0;\n",
              "      width: 32px;\n",
              "    }\n",
              "\n",
              "    .colab-df-convert:hover {\n",
              "      background-color: #E2EBFA;\n",
              "      box-shadow: 0px 1px 2px rgba(60, 64, 67, 0.3), 0px 1px 3px 1px rgba(60, 64, 67, 0.15);\n",
              "      fill: #174EA6;\n",
              "    }\n",
              "\n",
              "    .colab-df-buttons div {\n",
              "      margin-bottom: 4px;\n",
              "    }\n",
              "\n",
              "    [theme=dark] .colab-df-convert {\n",
              "      background-color: #3B4455;\n",
              "      fill: #D2E3FC;\n",
              "    }\n",
              "\n",
              "    [theme=dark] .colab-df-convert:hover {\n",
              "      background-color: #434B5C;\n",
              "      box-shadow: 0px 1px 3px 1px rgba(0, 0, 0, 0.15);\n",
              "      filter: drop-shadow(0px 1px 2px rgba(0, 0, 0, 0.3));\n",
              "      fill: #FFFFFF;\n",
              "    }\n",
              "  </style>\n",
              "\n",
              "    <script>\n",
              "      const buttonEl =\n",
              "        document.querySelector('#df-2da7f5a5-7cc6-45a9-9ed8-36e5a9341109 button.colab-df-convert');\n",
              "      buttonEl.style.display =\n",
              "        google.colab.kernel.accessAllowed ? 'block' : 'none';\n",
              "\n",
              "      async function convertToInteractive(key) {\n",
              "        const element = document.querySelector('#df-2da7f5a5-7cc6-45a9-9ed8-36e5a9341109');\n",
              "        const dataTable =\n",
              "          await google.colab.kernel.invokeFunction('convertToInteractive',\n",
              "                                                    [key], {});\n",
              "        if (!dataTable) return;\n",
              "\n",
              "        const docLinkHtml = 'Like what you see? Visit the ' +\n",
              "          '<a target=\"_blank\" href=https://colab.research.google.com/notebooks/data_table.ipynb>data table notebook</a>'\n",
              "          + ' to learn more about interactive tables.';\n",
              "        element.innerHTML = '';\n",
              "        dataTable['output_type'] = 'display_data';\n",
              "        await google.colab.output.renderOutput(dataTable, element);\n",
              "        const docLink = document.createElement('div');\n",
              "        docLink.innerHTML = docLinkHtml;\n",
              "        element.appendChild(docLink);\n",
              "      }\n",
              "    </script>\n",
              "  </div>\n",
              "\n",
              "\n",
              "<div id=\"df-1fbe0742-9f34-45eb-86c8-a3186b59c3c4\">\n",
              "  <button class=\"colab-df-quickchart\" onclick=\"quickchart('df-1fbe0742-9f34-45eb-86c8-a3186b59c3c4')\"\n",
              "            title=\"Suggest charts\"\n",
              "            style=\"display:none;\">\n",
              "\n",
              "<svg xmlns=\"http://www.w3.org/2000/svg\" height=\"24px\"viewBox=\"0 0 24 24\"\n",
              "     width=\"24px\">\n",
              "    <g>\n",
              "        <path d=\"M19 3H5c-1.1 0-2 .9-2 2v14c0 1.1.9 2 2 2h14c1.1 0 2-.9 2-2V5c0-1.1-.9-2-2-2zM9 17H7v-7h2v7zm4 0h-2V7h2v10zm4 0h-2v-4h2v4z\"/>\n",
              "    </g>\n",
              "</svg>\n",
              "  </button>\n",
              "\n",
              "<style>\n",
              "  .colab-df-quickchart {\n",
              "      --bg-color: #E8F0FE;\n",
              "      --fill-color: #1967D2;\n",
              "      --hover-bg-color: #E2EBFA;\n",
              "      --hover-fill-color: #174EA6;\n",
              "      --disabled-fill-color: #AAA;\n",
              "      --disabled-bg-color: #DDD;\n",
              "  }\n",
              "\n",
              "  [theme=dark] .colab-df-quickchart {\n",
              "      --bg-color: #3B4455;\n",
              "      --fill-color: #D2E3FC;\n",
              "      --hover-bg-color: #434B5C;\n",
              "      --hover-fill-color: #FFFFFF;\n",
              "      --disabled-bg-color: #3B4455;\n",
              "      --disabled-fill-color: #666;\n",
              "  }\n",
              "\n",
              "  .colab-df-quickchart {\n",
              "    background-color: var(--bg-color);\n",
              "    border: none;\n",
              "    border-radius: 50%;\n",
              "    cursor: pointer;\n",
              "    display: none;\n",
              "    fill: var(--fill-color);\n",
              "    height: 32px;\n",
              "    padding: 0;\n",
              "    width: 32px;\n",
              "  }\n",
              "\n",
              "  .colab-df-quickchart:hover {\n",
              "    background-color: var(--hover-bg-color);\n",
              "    box-shadow: 0 1px 2px rgba(60, 64, 67, 0.3), 0 1px 3px 1px rgba(60, 64, 67, 0.15);\n",
              "    fill: var(--button-hover-fill-color);\n",
              "  }\n",
              "\n",
              "  .colab-df-quickchart-complete:disabled,\n",
              "  .colab-df-quickchart-complete:disabled:hover {\n",
              "    background-color: var(--disabled-bg-color);\n",
              "    fill: var(--disabled-fill-color);\n",
              "    box-shadow: none;\n",
              "  }\n",
              "\n",
              "  .colab-df-spinner {\n",
              "    border: 2px solid var(--fill-color);\n",
              "    border-color: transparent;\n",
              "    border-bottom-color: var(--fill-color);\n",
              "    animation:\n",
              "      spin 1s steps(1) infinite;\n",
              "  }\n",
              "\n",
              "  @keyframes spin {\n",
              "    0% {\n",
              "      border-color: transparent;\n",
              "      border-bottom-color: var(--fill-color);\n",
              "      border-left-color: var(--fill-color);\n",
              "    }\n",
              "    20% {\n",
              "      border-color: transparent;\n",
              "      border-left-color: var(--fill-color);\n",
              "      border-top-color: var(--fill-color);\n",
              "    }\n",
              "    30% {\n",
              "      border-color: transparent;\n",
              "      border-left-color: var(--fill-color);\n",
              "      border-top-color: var(--fill-color);\n",
              "      border-right-color: var(--fill-color);\n",
              "    }\n",
              "    40% {\n",
              "      border-color: transparent;\n",
              "      border-right-color: var(--fill-color);\n",
              "      border-top-color: var(--fill-color);\n",
              "    }\n",
              "    60% {\n",
              "      border-color: transparent;\n",
              "      border-right-color: var(--fill-color);\n",
              "    }\n",
              "    80% {\n",
              "      border-color: transparent;\n",
              "      border-right-color: var(--fill-color);\n",
              "      border-bottom-color: var(--fill-color);\n",
              "    }\n",
              "    90% {\n",
              "      border-color: transparent;\n",
              "      border-bottom-color: var(--fill-color);\n",
              "    }\n",
              "  }\n",
              "</style>\n",
              "\n",
              "  <script>\n",
              "    async function quickchart(key) {\n",
              "      const quickchartButtonEl =\n",
              "        document.querySelector('#' + key + ' button');\n",
              "      quickchartButtonEl.disabled = true;  // To prevent multiple clicks.\n",
              "      quickchartButtonEl.classList.add('colab-df-spinner');\n",
              "      try {\n",
              "        const charts = await google.colab.kernel.invokeFunction(\n",
              "            'suggestCharts', [key], {});\n",
              "      } catch (error) {\n",
              "        console.error('Error during call to suggestCharts:', error);\n",
              "      }\n",
              "      quickchartButtonEl.classList.remove('colab-df-spinner');\n",
              "      quickchartButtonEl.classList.add('colab-df-quickchart-complete');\n",
              "    }\n",
              "    (() => {\n",
              "      let quickchartButtonEl =\n",
              "        document.querySelector('#df-1fbe0742-9f34-45eb-86c8-a3186b59c3c4 button');\n",
              "      quickchartButtonEl.style.display =\n",
              "        google.colab.kernel.accessAllowed ? 'block' : 'none';\n",
              "    })();\n",
              "  </script>\n",
              "</div>\n",
              "\n",
              "    </div>\n",
              "  </div>\n"
            ],
            "text/plain": [
              "            date_time  WDIR  WSPD   GST  WVHT   DPD   APD  MWD    PRES  ATMP  \\\n",
              "0 2022-03-02 21:40:00   236   9.3  11.5  1.46  5.56  5.40  214  1017.7  19.7   \n",
              "1 2022-03-02 22:40:00   235   7.7   9.6  1.63  5.88  5.50  219  1018.0  19.6   \n",
              "2 2022-03-02 23:40:00   230   7.3  10.7  1.40  5.88  5.49  229  1018.3  19.2   \n",
              "3 2022-03-03 00:40:00   209   4.9   6.5  1.32  5.26  5.45  244  1018.7  18.4   \n",
              "4 2022-03-03 01:40:00   226   6.8  10.2  1.31  5.00  5.49  281  1018.6  19.5   \n",
              "\n",
              "   WTMP   DEWP   VIS  TIDE  \n",
              "0  19.8  999.0  99.0  99.0  \n",
              "1  20.0  999.0  99.0  99.0  \n",
              "2  19.9  999.0  99.0  99.0  \n",
              "3  19.8  999.0  99.0  99.0  \n",
              "4  19.9  999.0  99.0  99.0  "
            ]
          },
          "execution_count": 16,
          "metadata": {},
          "output_type": "execute_result"
        }
      ],
      "source": [
        "df.head()"
      ]
    },
    {
      "cell_type": "code",
      "execution_count": 17,
      "metadata": {
        "colab": {
          "base_uri": "https://localhost:8080/"
        },
        "id": "4b8YiHllpw2r",
        "outputId": "0d9a733e-7a45-443b-bf81-4b229538b0b2"
      },
      "outputs": [
        {
          "name": "stdout",
          "output_type": "stream",
          "text": [
            "               date_time  WVHT\n",
            "0    2022-03-02 21:40:00  1.46\n",
            "1    2022-03-02 22:40:00  1.63\n",
            "2    2022-03-02 23:40:00  1.40\n",
            "3    2022-03-03 00:40:00  1.32\n",
            "4    2022-03-03 01:40:00  1.31\n",
            "...                  ...   ...\n",
            "2157 2022-05-31 19:40:00  0.54\n",
            "2158 2022-05-31 20:40:00  0.52\n",
            "2159 2022-05-31 21:40:00  0.53\n",
            "2160 2022-05-31 22:40:00  0.53\n",
            "2161 2022-05-31 23:40:00  0.53\n",
            "\n",
            "[2162 rows x 2 columns]\n"
          ]
        }
      ],
      "source": [
        "# Assuming you have a DataFrame called 'df'\n",
        "selected_columns = ['date_time' , 'WVHT']  # Specify the columns you want to select\n",
        "\n",
        "data = df[selected_columns]  # Create a new DataFrame by selecting the specified columns\n",
        "\n",
        "# Print the new DataFrame\n",
        "print(data)"
      ]
    },
    {
      "cell_type": "code",
      "execution_count": 18,
      "metadata": {
        "colab": {
          "base_uri": "https://localhost:8080/"
        },
        "id": "Mt8KAaODpznn",
        "outputId": "ed41bada-0b1b-4076-fbe9-5a8bcf4594f1"
      },
      "outputs": [
        {
          "data": {
            "text/plain": [
              "array([ 1.46,  1.63,  1.4 ,  1.32,  1.31,  1.49,  1.53,  1.69,  1.76,\n",
              "        1.73,  1.7 ,  1.55,  1.54,  1.27,  1.41,  1.58,  1.5 ,  1.64,\n",
              "        1.68,  1.57,  1.44,  1.85,  2.06,  2.19,  2.1 ,  2.3 ,  2.34,\n",
              "        2.26,  2.18,  2.16,  1.88,  1.62,  1.74,  1.87,  1.71,  1.65,\n",
              "        1.66,  1.61,  1.43,  1.42,  1.36,  1.34,  1.3 ,  1.24,  1.2 ,\n",
              "        1.12,  1.22,  1.04,  1.03,  1.05,  1.06,  1.16,  1.13,  1.19,\n",
              "        1.18,  1.23,  1.25,  1.26,  1.21,  1.33,  1.35,  1.51,  1.67,\n",
              "        1.79,  1.91,  1.75,  2.  ,  2.14,  2.23,  2.72,  2.83,  2.91,\n",
              "        2.81,  3.25,  3.14,  3.01,  2.93,  3.07,  3.03,  2.56,  2.68,\n",
              "        2.9 ,  2.47,  2.39,  2.36,  2.17,  2.28,  2.38,  2.71,  2.58,\n",
              "        2.31,  2.24,  2.05,  2.11,  2.13,  1.96,  1.93, 99.  ,  1.94,\n",
              "        2.08,  2.62,  2.94,  2.98,  3.04,  3.2 ,  3.23,  3.05,  3.06,\n",
              "        2.95,  2.84,  2.92,  2.41,  2.29,  1.95,  2.02,  2.03,  1.98,\n",
              "        1.8 ,  1.86,  1.52,  1.47,  1.45,  1.37,  2.01,  2.33,  2.97,\n",
              "        3.31,  3.36,  3.62,  4.24,  4.71,  5.06,  5.48,  5.86,  6.74,\n",
              "        6.95,  6.23,  6.1 ,  6.66,  6.09,  6.17,  6.88,  7.44,  7.24,\n",
              "        7.34,  7.28,  7.55,  6.54,  6.37,  6.94,  5.93,  6.19,  5.49,\n",
              "        5.3 ,  5.2 ,  5.11,  4.3 ,  3.72,  3.93,  3.26,  3.22,  3.11,\n",
              "        2.73,  1.89,  1.29,  1.08,  0.99,  0.97,  0.91,  0.96,  0.9 ,\n",
              "        0.83,  0.75,  0.84,  0.76,  0.78,  0.86,  0.82,  0.81,  0.74,\n",
              "        0.77,  0.8 ,  0.85,  0.71,  0.94,  0.87,  0.88,  0.92,  0.95,\n",
              "        1.39,  1.56,  1.72,  2.04,  1.81,  2.22,  2.07,  2.2 ,  2.55,\n",
              "        2.52,  2.44,  2.65,  2.89,  2.82,  3.46,  2.88,  2.79,  2.51,\n",
              "        2.37,  2.53,  2.4 ,  1.92,  1.82,  1.6 ,  1.48,  1.78,  2.32,\n",
              "        2.54,  2.64,  2.6 ,  2.8 ,  2.61,  2.66,  2.75,  2.48,  2.49,\n",
              "        3.24,  3.95,  4.23,  4.44,  4.13,  3.6 ,  3.64,  3.53,  3.17,\n",
              "        2.87,  2.57,  2.59,  2.45,  2.27,  1.83,  1.02,  1.09,  1.14,\n",
              "        1.  ,  1.17,  1.11,  1.1 ,  1.07,  1.99,  2.21,  2.15,  2.85,\n",
              "        3.12,  2.74,  2.99,  3.13,  3.19,  3.48,  3.56,  3.28,  3.09,\n",
              "        2.46,  2.76,  3.  ,  3.45,  3.34,  3.15,  3.57,  3.18,  3.51,\n",
              "        2.67,  2.7 ,  2.86,  3.32,  2.63,  2.77,  3.39,  3.52,  3.47,\n",
              "        3.49,  3.21,  2.69,  2.25,  2.43,  1.77,  1.15,  1.38,  2.35,\n",
              "        3.1 ,  3.37,  3.66,  3.84,  4.16,  3.43,  4.15,  4.93,  4.61,\n",
              "        4.53,  4.64,  4.01,  4.18,  4.29,  3.99,  3.35,  3.71,  3.33,\n",
              "        3.3 ,  3.08,  2.42,  0.98,  3.38,  3.75,  3.4 ,  3.69,  3.42,\n",
              "        3.59,  2.78,  3.02,  3.68,  4.06,  4.04,  4.38,  4.6 ,  4.36,\n",
              "        4.57,  4.89,  4.83,  4.46,  4.02,  3.63,  3.41,  3.16,  1.59,\n",
              "        1.97,  1.84,  1.28,  2.09,  2.12,  1.01,  0.93,  0.79,  2.5 ,\n",
              "        1.9 ,  3.97,  4.2 ,  3.7 ,  4.08,  3.86,  3.83,  3.88,  3.87,\n",
              "        4.11,  3.89,  3.77,  4.37,  4.21,  5.03,  4.82,  4.74,  5.25,\n",
              "        5.17,  4.87,  4.75,  4.59,  4.27,  4.05,  3.98,  3.74,  3.65,\n",
              "        3.44,  2.96,  3.54,  3.61,  3.67,  3.27,  0.89,  0.73,  0.65,\n",
              "        0.67,  0.69,  0.62,  0.61,  0.6 ,  0.58,  0.59,  0.55,  0.54,\n",
              "        0.56,  0.53,  0.51,  0.52])"
            ]
          },
          "execution_count": 18,
          "metadata": {},
          "output_type": "execute_result"
        }
      ],
      "source": [
        "unique_values = data['WVHT'].unique()\n",
        "unique_values"
      ]
    },
    {
      "cell_type": "code",
      "execution_count": 19,
      "metadata": {
        "id": "vAqhHtZTp2LC"
      },
      "outputs": [],
      "source": [
        "data = data[data['WVHT'] != 99]"
      ]
    },
    {
      "cell_type": "code",
      "execution_count": 20,
      "metadata": {
        "colab": {
          "base_uri": "https://localhost:8080/"
        },
        "id": "uI65BbiHp5Z4",
        "outputId": "b03d6b56-a776-41fd-ce5e-28823820d73c"
      },
      "outputs": [
        {
          "data": {
            "text/plain": [
              "(2156, 2)"
            ]
          },
          "execution_count": 20,
          "metadata": {},
          "output_type": "execute_result"
        }
      ],
      "source": [
        "data.shape"
      ]
    },
    {
      "cell_type": "code",
      "execution_count": 21,
      "metadata": {
        "colab": {
          "base_uri": "https://localhost:8080/",
          "height": 539
        },
        "id": "FJfkdzSTp7a2",
        "outputId": "0ec46552-718b-4aea-db62-aa50993121f1"
      },
      "outputs": [
        {
          "data": {
            "text/plain": [
              "<Axes: >"
            ]
          },
          "execution_count": 21,
          "metadata": {},
          "output_type": "execute_result"
        },
        {
          "data": {
            "image/png": "[encoded data removed]",
            "text/plain": [
              "<Figure size 800x600 with 1 Axes>"
            ]
          },
          "metadata": {},
          "output_type": "display_data"
        }
      ],
      "source": [
        "data['WVHT'].plot(figsize=(8,6))"
      ]
    },
    {
      "cell_type": "code",
      "execution_count": 22,
      "metadata": {
        "id": "b5i9KPIbouYq"
      },
      "outputs": [],
      "source": [
        "import numpy as np\n",
        "import pandas as pd\n",
        "import tensorflow as tf\n",
        "import pickle\n",
        "import matplotlib.pyplot as plt\n",
        "from sklearn.preprocessing import MinMaxScaler\n",
        "from tensorflow.keras.models import Sequential\n",
        "from tensorflow.keras.layers import LSTM, Dense\n",
        "from tensorflow.keras.optimizers import Adam"
      ]
    },
    {
      "cell_type": "code",
      "execution_count": 23,
      "metadata": {
        "id": "CxKMxO2SovxB"
      },
      "outputs": [],
      "source": [
        "data['date_time'] = pd.to_datetime(data['date_time'])\n",
        "data = data.sort_values(by='date_time')\n",
        "y = data['WVHT'].values"
      ]
    },
    {
      "cell_type": "code",
      "execution_count": 24,
      "metadata": {
        "id": "T7wiumfWo1SC"
      },
      "outputs": [],
      "source": [
        "# Define a function to prepare sequences\n",
        "def prepare_sequences(data, seq_length):\n",
        "    sequences = []\n",
        "    targets = []\n",
        "    for i in range(len(data) - seq_length):\n",
        "        sequences.append(data[i:i+seq_length])\n",
        "        targets.append(data[i+seq_length])\n",
        "    return np.array(sequences), np.array(targets)"
      ]
    },
    {
      "cell_type": "code",
      "execution_count": 25,
      "metadata": {
        "id": "gql7d7pno-qC"
      },
      "outputs": [],
      "source": [
        "# Prepare sequences and targets\n",
        "sequence_length = 100  # Adjust as needed\n",
        "x_seq, y_targets = prepare_sequences(y, sequence_length)"
      ]
    },
    {
      "cell_type": "code",
      "execution_count": 26,
      "metadata": {
        "id": "H6GLHwVquxwm"
      },
      "outputs": [],
      "source": [
        "# Split the data into train and test sets\n",
        "split_ratio = 0.7  # Adjust as needed\n",
        "split_idx = int(split_ratio * len(x_seq))\n",
        "x_train, x_test = x_seq[:split_idx], x_seq[split_idx:]\n",
        "y_train, y_test = y_targets[:split_idx], y_targets[split_idx:]"
      ]
    },
    {
      "cell_type": "code",
      "execution_count": 27,
      "metadata": {
        "id": "ZJXAP6Ovu08K"
      },
      "outputs": [],
      "source": [
        "# Define quantile loss function using TensorFlow operations\n",
        "def quantile_loss(q, y_true, y_pred):\n",
        "    error = y_true - y_pred\n",
        "    return tf.reduce_mean(tf.maximum(q * error, (q - 1) * error))"
      ]
    },
    {
      "cell_type": "code",
      "execution_count": 28,
      "metadata": {
        "id": "Cjzi3ZM2ipNm"
      },
      "outputs": [],
      "source": [
        "# Import the Dropout layer from TensorFlow\n",
        "from tensorflow.keras.layers import Dropout"
      ]
    },
    {
      "cell_type": "code",
      "execution_count": 29,
      "metadata": {
        "id": "SnWGvfqBOTNA"
      },
      "outputs": [],
      "source": [
        "from tensorflow.keras.layers import GRU\n",
        "\n",
        "# Define and train the GRU model with quantile loss\n",
        "def train_model_with_quantile_loss(q):\n",
        "    model = Sequential([\n",
        "        GRU(64, activation='sigmoid', input_shape=(sequence_length, 1)),\n",
        "        Dense(1)\n",
        "    ])\n",
        "\n",
        "    model.compile(optimizer=Adam(learning_rate=0.001), loss=lambda y_true, y_pred: quantile_loss(q, y_true, y_pred))\n",
        "    model.fit(x_train, y_train, validation_split=0.1, epochs=50, batch_size=34, verbose=1)\n",
        "    return model\n"
      ]
    },
    {
      "cell_type": "code",
      "execution_count": 30,
      "metadata": {
        "colab": {
          "base_uri": "https://localhost:8080/"
        },
        "id": "gP6H_yyra8ZS",
        "outputId": "2c3b1948-86da-4c6b-f145-9fdb6059566d"
      },
      "outputs": [
        {
          "name": "stdout",
          "output_type": "stream",
          "text": [
            "Epoch 1/50\n",
            "39/39 [==============================] - 4s 47ms/step - loss: 0.0908 - val_loss: 0.0331\n",
            "Epoch 2/50\n",
            "39/39 [==============================] - 2s 39ms/step - loss: 0.0606 - val_loss: 0.0294\n",
            "Epoch 3/50\n",
            "39/39 [==============================] - 2s 43ms/step - loss: 0.0561 - val_loss: 0.0232\n",
            "Epoch 4/50\n",
            "39/39 [==============================] - 1s 38ms/step - loss: 0.0498 - val_loss: 0.0229\n",
            "Epoch 5/50\n",
            "39/39 [==============================] - 2s 48ms/step - loss: 0.0447 - val_loss: 0.0165\n",
            "Epoch 6/50\n",
            "39/39 [==============================] - 3s 72ms/step - loss: 0.0360 - val_loss: 0.0155\n",
            "Epoch 7/50\n",
            "39/39 [==============================] - 2s 43ms/step - loss: 0.0271 - val_loss: 0.0097\n",
            "Epoch 8/50\n",
            "39/39 [==============================] - 1s 38ms/step - loss: 0.0209 - val_loss: 0.0101\n",
            "Epoch 9/50\n",
            "39/39 [==============================] - 2s 41ms/step - loss: 0.0186 - val_loss: 0.0096\n",
            "Epoch 10/50\n",
            "39/39 [==============================] - 2s 39ms/step - loss: 0.0189 - val_loss: 0.0095\n",
            "Epoch 11/50\n",
            "39/39 [==============================] - 2s 40ms/step - loss: 0.0186 - val_loss: 0.0128\n",
            "Epoch 12/50\n",
            "39/39 [==============================] - 1s 38ms/step - loss: 0.0193 - val_loss: 0.0099\n",
            "Epoch 13/50\n",
            "39/39 [==============================] - 2s 51ms/step - loss: 0.0185 - val_loss: 0.0094\n",
            "Epoch 14/50\n",
            "39/39 [==============================] - 3s 68ms/step - loss: 0.0180 - val_loss: 0.0143\n",
            "Epoch 15/50\n",
            "39/39 [==============================] - 2s 42ms/step - loss: 0.0191 - val_loss: 0.0094\n",
            "Epoch 16/50\n",
            "39/39 [==============================] - 2s 39ms/step - loss: 0.0183 - val_loss: 0.0125\n",
            "Epoch 17/50\n",
            "39/39 [==============================] - 1s 37ms/step - loss: 0.0179 - val_loss: 0.0097\n",
            "Epoch 18/50\n",
            "39/39 [==============================] - 1s 37ms/step - loss: 0.0184 - val_loss: 0.0091\n",
            "Epoch 19/50\n",
            "39/39 [==============================] - 2s 40ms/step - loss: 0.0175 - val_loss: 0.0103\n",
            "Epoch 20/50\n",
            "39/39 [==============================] - 2s 40ms/step - loss: 0.0177 - val_loss: 0.0097\n",
            "Epoch 21/50\n",
            "39/39 [==============================] - 2s 40ms/step - loss: 0.0176 - val_loss: 0.0091\n",
            "Epoch 22/50\n",
            "39/39 [==============================] - 3s 67ms/step - loss: 0.0179 - val_loss: 0.0125\n",
            "Epoch 23/50\n",
            "39/39 [==============================] - 2s 42ms/step - loss: 0.0191 - val_loss: 0.0106\n",
            "Epoch 24/50\n",
            "39/39 [==============================] - 1s 36ms/step - loss: 0.0174 - val_loss: 0.0090\n",
            "Epoch 25/50\n",
            "39/39 [==============================] - 1s 36ms/step - loss: 0.0176 - val_loss: 0.0099\n",
            "Epoch 26/50\n",
            "39/39 [==============================] - 2s 39ms/step - loss: 0.0174 - val_loss: 0.0095\n",
            "Epoch 27/50\n",
            "39/39 [==============================] - 2s 39ms/step - loss: 0.0178 - val_loss: 0.0104\n",
            "Epoch 28/50\n",
            "39/39 [==============================] - 1s 37ms/step - loss: 0.0174 - val_loss: 0.0103\n",
            "Epoch 29/50\n",
            "39/39 [==============================] - 1s 37ms/step - loss: 0.0176 - val_loss: 0.0093\n",
            "Epoch 30/50\n",
            "39/39 [==============================] - 3s 71ms/step - loss: 0.0178 - val_loss: 0.0098\n",
            "Epoch 31/50\n",
            "39/39 [==============================] - 2s 48ms/step - loss: 0.0170 - val_loss: 0.0091\n",
            "Epoch 32/50\n",
            "39/39 [==============================] - 2s 39ms/step - loss: 0.0173 - val_loss: 0.0111\n",
            "Epoch 33/50\n",
            "39/39 [==============================] - 1s 37ms/step - loss: 0.0175 - val_loss: 0.0144\n",
            "Epoch 34/50\n",
            "39/39 [==============================] - 1s 36ms/step - loss: 0.0199 - val_loss: 0.0106\n",
            "Epoch 35/50\n",
            "39/39 [==============================] - 1s 38ms/step - loss: 0.0190 - val_loss: 0.0092\n",
            "Epoch 36/50\n",
            "39/39 [==============================] - 2s 49ms/step - loss: 0.0170 - val_loss: 0.0095\n",
            "Epoch 37/50\n",
            "39/39 [==============================] - 3s 75ms/step - loss: 0.0169 - val_loss: 0.0090\n",
            "Epoch 38/50\n",
            "39/39 [==============================] - 3s 73ms/step - loss: 0.0178 - val_loss: 0.0091\n",
            "Epoch 39/50\n",
            "39/39 [==============================] - 2s 42ms/step - loss: 0.0171 - val_loss: 0.0092\n",
            "Epoch 40/50\n",
            "39/39 [==============================] - 2s 43ms/step - loss: 0.0170 - val_loss: 0.0102\n",
            "Epoch 41/50\n",
            "39/39 [==============================] - 2s 40ms/step - loss: 0.0174 - val_loss: 0.0108\n",
            "Epoch 42/50\n",
            "39/39 [==============================] - 1s 37ms/step - loss: 0.0181 - val_loss: 0.0111\n",
            "Epoch 43/50\n",
            "39/39 [==============================] - 2s 53ms/step - loss: 0.0170 - val_loss: 0.0090\n",
            "Epoch 44/50\n",
            "39/39 [==============================] - 2s 39ms/step - loss: 0.0168 - val_loss: 0.0095\n",
            "Epoch 45/50\n",
            "39/39 [==============================] - 2s 56ms/step - loss: 0.0170 - val_loss: 0.0090\n",
            "Epoch 46/50\n",
            "39/39 [==============================] - 2s 54ms/step - loss: 0.0168 - val_loss: 0.0090\n",
            "Epoch 47/50\n",
            "39/39 [==============================] - 1s 37ms/step - loss: 0.0171 - val_loss: 0.0109\n",
            "Epoch 48/50\n",
            "39/39 [==============================] - 1s 38ms/step - loss: 0.0174 - val_loss: 0.0095\n",
            "Epoch 49/50\n",
            "39/39 [==============================] - 2s 40ms/step - loss: 0.0173 - val_loss: 0.0089\n",
            "Epoch 50/50\n",
            "39/39 [==============================] - 2s 39ms/step - loss: 0.0181 - val_loss: 0.0102\n"
          ]
        }
      ],
      "source": [
        "#Train models with 20% and 80% quantiles\n",
        "q_05 = 0.05  # 10% quantile\n",
        "model_05 = train_model_with_quantile_loss(q_05)"
      ]
    },
    {
      "cell_type": "code",
      "execution_count": 31,
      "metadata": {
        "colab": {
          "base_uri": "https://localhost:8080/"
        },
        "id": "6yCnFd8Ka_eM",
        "outputId": "c0124be2-9a8d-45a2-eeb1-042e67243640"
      },
      "outputs": [
        {
          "name": "stdout",
          "output_type": "stream",
          "text": [
            "Epoch 1/50\n",
            "39/39 [==============================] - 3s 46ms/step - loss: 2.0066 - val_loss: 0.0335\n",
            "Epoch 2/50\n",
            "39/39 [==============================] - 2s 39ms/step - loss: 0.1996 - val_loss: 0.0979\n",
            "Epoch 3/50\n",
            "39/39 [==============================] - 2s 40ms/step - loss: 0.1426 - val_loss: 0.1069\n",
            "Epoch 4/50\n",
            "39/39 [==============================] - 1s 37ms/step - loss: 0.1411 - val_loss: 0.1078\n",
            "Epoch 5/50\n",
            "39/39 [==============================] - 2s 47ms/step - loss: 0.1390 - val_loss: 0.1060\n",
            "Epoch 6/50\n",
            "39/39 [==============================] - 3s 68ms/step - loss: 0.1368 - val_loss: 0.1030\n",
            "Epoch 7/50\n",
            "39/39 [==============================] - 2s 38ms/step - loss: 0.1351 - val_loss: 0.1001\n",
            "Epoch 8/50\n",
            "39/39 [==============================] - 1s 36ms/step - loss: 0.1325 - val_loss: 0.1043\n",
            "Epoch 9/50\n",
            "39/39 [==============================] - 2s 39ms/step - loss: 0.1303 - val_loss: 0.0996\n",
            "Epoch 10/50\n",
            "39/39 [==============================] - 2s 40ms/step - loss: 0.1275 - val_loss: 0.0961\n",
            "Epoch 11/50\n",
            "39/39 [==============================] - 1s 37ms/step - loss: 0.1251 - val_loss: 0.0901\n",
            "Epoch 12/50\n",
            "39/39 [==============================] - 1s 37ms/step - loss: 0.1217 - val_loss: 0.0889\n",
            "Epoch 13/50\n",
            "39/39 [==============================] - 2s 42ms/step - loss: 0.1184 - val_loss: 0.0840\n",
            "Epoch 14/50\n",
            "39/39 [==============================] - 3s 70ms/step - loss: 0.1150 - val_loss: 0.0819\n",
            "Epoch 15/50\n",
            "39/39 [==============================] - 2s 43ms/step - loss: 0.1108 - val_loss: 0.0821\n",
            "Epoch 16/50\n",
            "39/39 [==============================] - 2s 41ms/step - loss: 0.1069 - val_loss: 0.0778\n",
            "Epoch 17/50\n",
            "39/39 [==============================] - 2s 39ms/step - loss: 0.1030 - val_loss: 0.0732\n",
            "Epoch 18/50\n",
            "39/39 [==============================] - 1s 37ms/step - loss: 0.0978 - val_loss: 0.0686\n",
            "Epoch 19/50\n",
            "39/39 [==============================] - 1s 37ms/step - loss: 0.0928 - val_loss: 0.0660\n",
            "Epoch 20/50\n",
            "39/39 [==============================] - 2s 40ms/step - loss: 0.0872 - val_loss: 0.0586\n",
            "Epoch 21/50\n",
            "39/39 [==============================] - 2s 54ms/step - loss: 0.0808 - val_loss: 0.0530\n",
            "Epoch 22/50\n",
            "39/39 [==============================] - 3s 64ms/step - loss: 0.0733 - val_loss: 0.0427\n",
            "Epoch 23/50\n",
            "39/39 [==============================] - 2s 40ms/step - loss: 0.0654 - val_loss: 0.0348\n",
            "Epoch 24/50\n",
            "39/39 [==============================] - 2s 39ms/step - loss: 0.0576 - val_loss: 0.0298\n",
            "Epoch 25/50\n",
            "39/39 [==============================] - 2s 40ms/step - loss: 0.0493 - val_loss: 0.0250\n",
            "Epoch 26/50\n",
            "39/39 [==============================] - 2s 39ms/step - loss: 0.0438 - val_loss: 0.0173\n",
            "Epoch 27/50\n",
            "39/39 [==============================] - 2s 40ms/step - loss: 0.0413 - val_loss: 0.0217\n",
            "Epoch 28/50\n",
            "39/39 [==============================] - 2s 39ms/step - loss: 0.0372 - val_loss: 0.0227\n",
            "Epoch 29/50\n",
            "39/39 [==============================] - 2s 56ms/step - loss: 0.0352 - val_loss: 0.0185\n",
            "Epoch 30/50\n",
            "39/39 [==============================] - 2s 62ms/step - loss: 0.0329 - val_loss: 0.0154\n",
            "Epoch 31/50\n",
            "39/39 [==============================] - 2s 42ms/step - loss: 0.0315 - val_loss: 0.0209\n",
            "Epoch 32/50\n",
            "39/39 [==============================] - 2s 41ms/step - loss: 0.0302 - val_loss: 0.0160\n",
            "Epoch 33/50\n",
            "39/39 [==============================] - 2s 39ms/step - loss: 0.0286 - val_loss: 0.0166\n",
            "Epoch 34/50\n",
            "39/39 [==============================] - 1s 37ms/step - loss: 0.0286 - val_loss: 0.0162\n",
            "Epoch 35/50\n",
            "39/39 [==============================] - 1s 38ms/step - loss: 0.0271 - val_loss: 0.0147\n",
            "Epoch 36/50\n",
            "39/39 [==============================] - 2s 39ms/step - loss: 0.0261 - val_loss: 0.0125\n",
            "Epoch 37/50\n",
            "39/39 [==============================] - 2s 62ms/step - loss: 0.0266 - val_loss: 0.0168\n",
            "Epoch 38/50\n",
            "39/39 [==============================] - 2s 56ms/step - loss: 0.0248 - val_loss: 0.0184\n",
            "Epoch 39/50\n",
            "39/39 [==============================] - 2s 40ms/step - loss: 0.0261 - val_loss: 0.0160\n",
            "Epoch 40/50\n",
            "39/39 [==============================] - 2s 39ms/step - loss: 0.0238 - val_loss: 0.0144\n",
            "Epoch 41/50\n",
            "39/39 [==============================] - 2s 39ms/step - loss: 0.0233 - val_loss: 0.0121\n",
            "Epoch 42/50\n",
            "39/39 [==============================] - 1s 38ms/step - loss: 0.0228 - val_loss: 0.0129\n",
            "Epoch 43/50\n",
            "39/39 [==============================] - 2s 40ms/step - loss: 0.0226 - val_loss: 0.0161\n",
            "Epoch 44/50\n",
            "39/39 [==============================] - 2s 41ms/step - loss: 0.0225 - val_loss: 0.0119\n",
            "Epoch 45/50\n",
            "39/39 [==============================] - 3s 69ms/step - loss: 0.0221 - val_loss: 0.0156\n",
            "Epoch 46/50\n",
            "39/39 [==============================] - 2s 49ms/step - loss: 0.0221 - val_loss: 0.0119\n",
            "Epoch 47/50\n",
            "39/39 [==============================] - 2s 41ms/step - loss: 0.0215 - val_loss: 0.0117\n",
            "Epoch 48/50\n",
            "39/39 [==============================] - 2s 38ms/step - loss: 0.0214 - val_loss: 0.0130\n",
            "Epoch 49/50\n",
            "39/39 [==============================] - 1s 38ms/step - loss: 0.0213 - val_loss: 0.0154\n",
            "Epoch 50/50\n",
            "39/39 [==============================] - 1s 37ms/step - loss: 0.0221 - val_loss: 0.0147\n"
          ]
        }
      ],
      "source": [
        "q_95 = 0.95  # 90% quantile\n",
        "model_95 = train_model_with_quantile_loss(q_95)"
      ]
    },
    {
      "cell_type": "code",
      "execution_count": 32,
      "metadata": {
        "colab": {
          "base_uri": "https://localhost:8080/"
        },
        "id": "Q1pj0VAvbB3q",
        "outputId": "3ca33047-d51c-4fd2-a270-9f3836b1d81b"
      },
      "outputs": [
        {
          "name": "stdout",
          "output_type": "stream",
          "text": [
            "20/20 [==============================] - 0s 12ms/step\n",
            "20/20 [==============================] - 0s 11ms/step\n"
          ]
        }
      ],
      "source": [
        "# Make predictions\n",
        "y_pred_05 = model_05.predict(x_test)\n",
        "y_pred_95 = model_95.predict(x_test)"
      ]
    },
    {
      "cell_type": "code",
      "execution_count": 33,
      "metadata": {
        "colab": {
          "base_uri": "https://localhost:8080/",
          "height": 466
        },
        "id": "6mNyowHeiPuk",
        "outputId": "f8210e5f-602c-416e-bd0b-130957ed0534"
      },
      "outputs": [
        {
          "data": {
            "image/png": "[encoded data removed]",
            "text/plain": [
              "<Figure size 640x480 with 1 Axes>"
            ]
          },
          "metadata": {},
          "output_type": "display_data"
        },
        {
          "data": {
            "text/plain": [
              "<Figure size 640x480 with 0 Axes>"
            ]
          },
          "metadata": {},
          "output_type": "display_data"
        }
      ],
      "source": [
        "# Plot quantile predictions along with actual values\n",
        "plt.plot(range(len(y_test)), y_test, label=\"Actual\")\n",
        "plt.plot(range(len(y_test)), y_pred_05, label=\"5% Prediction\")\n",
        "plt.plot(range(len(y_test)), y_pred_95, label=\"95% Prediction\")\n",
        "plt.xlabel(\"Data Points in Test Set\")\n",
        "plt.ylabel(\"WVHT\")\n",
        "plt.legend()\n",
        "plt.show()\n",
        "plt.savefig(\"41009h2021.png\")\n",
        "# Calculate the number of points between 95% and 5% percentiles\n",
        "num_points_between_percentiles = np.sum((y_pred_05 <= y_test) & (y_test <= y_pred_95))"
      ]
    },
    {
      "cell_type": "code",
      "execution_count": 34,
      "metadata": {
        "colab": {
          "base_uri": "https://localhost:8080/"
        },
        "id": "90LajJRUCk-d",
        "outputId": "1de71fa6-a26d-44a3-ac00-67ac9c593ff4"
      },
      "outputs": [
        {
          "name": "stdout",
          "output_type": "stream",
          "text": [
            "[[ True  True  True ... False False False]\n",
            " [ True  True  True ... False False False]\n",
            " [ True  True  True ... False False False]\n",
            " ...\n",
            " [False False False ...  True  True  True]\n",
            " [False False False ...  True  True  True]\n",
            " [False False False ...  True  True  True]]\n"
          ]
        }
      ],
      "source": [
        "# Calculate lower and upper bounds of prediction intervals\n",
        "y_lower_05 = y_pred_05\n",
        "y_upper_95 = y_pred_95\n",
        "within_interval = (y_lower_05 <= y_test) & (y_test <= y_upper_95)\n",
        "print(within_interval)"
      ]
    },
    {
      "cell_type": "code",
      "execution_count": 35,
      "metadata": {
        "colab": {
          "base_uri": "https://localhost:8080/"
        },
        "id": "lSvXljPeCj0i",
        "outputId": "a951c5b4-6bda-4eb5-bd97-ad374844fb87"
      },
      "outputs": [
        {
          "name": "stdout",
          "output_type": "stream",
          "text": [
            "MPIW: 0.5372715\n"
          ]
        }
      ],
      "source": [
        "# Calculate MPIW\n",
        "def calculate_mpiw(y_lower, y_upper):\n",
        "    mpiw = np.mean(y_upper - y_lower)\n",
        "    return mpiw\n",
        "\n",
        "# Calculate lower and upper bounds of prediction intervals\n",
        "y_lower_05 = y_pred_05\n",
        "y_upper_95 = y_pred_95\n",
        "\n",
        "# Calculate MPIW for the 10-90% prediction interval\n",
        "mpiw = calculate_mpiw(y_lower_05, y_upper_95)\n",
        "\n",
        "# Print MPIW for the 10-90% prediction interval\n",
        "print(\"MPIW:\", mpiw)"
      ]
    },
    {
      "cell_type": "code",
      "execution_count": 36,
      "metadata": {
        "colab": {
          "base_uri": "https://localhost:8080/"
        },
        "id": "mwY0xsAX7hGM",
        "outputId": "612cb940-c256-4b96-f086-72543e21f9b8"
      },
      "outputs": [
        {
          "name": "stdout",
          "output_type": "stream",
          "text": [
            "617\n"
          ]
        }
      ],
      "source": [
        "print(len(y_test))"
      ]
    },
    {
      "cell_type": "code",
      "execution_count": 37,
      "metadata": {
        "colab": {
          "base_uri": "https://localhost:8080/"
        },
        "id": "wNoay7Gn7evU",
        "outputId": "7d077ed4-2998-40d5-9d72-cf53a1281453"
      },
      "outputs": [
        {
          "name": "stdout",
          "output_type": "stream",
          "text": [
            "604\n"
          ]
        }
      ],
      "source": [
        "within_interval = (y_lower_05.flatten() <= y_test) & (y_test <= y_upper_95.flatten())\n",
        "print(within_interval.sum())"
      ]
    },
    {
      "cell_type": "code",
      "execution_count": 38,
      "metadata": {
        "colab": {
          "base_uri": "https://localhost:8080/"
        },
        "id": "pCCtI7dH7dlV",
        "outputId": "176a24fc-d3a7-46a3-d9c0-424c38c6855a"
      },
      "outputs": [
        {
          "name": "stdout",
          "output_type": "stream",
          "text": [
            "PICP: 0.9789303079416531\n"
          ]
        }
      ],
      "source": [
        "# Calculate lower and upper bounds of prediction intervals\n",
        "y_lower_05 = y_pred_05\n",
        "y_upper_95 = y_pred_95\n",
        "\n",
        "# Check if each actual observation falls within the prediction interval\n",
        "within_interval = (y_lower_05.flatten() <= y_test) & (y_test <= y_upper_95.flatten())\n",
        "\n",
        "# Count the number of observations falling within the prediction intervals\n",
        "num_within_interval = within_interval.sum()\n",
        "\n",
        "# Total number of observations\n",
        "total_observations = len(y_test)\n",
        "\n",
        "# Calculate PICP (Prediction Interval Coverage Probability)\n",
        "picp = num_within_interval / total_observations\n",
        "print(\"PICP:\", picp)"
      ]
    }
  ],
  "metadata": {
    "colab": {
      "provenance": []
    },
    "kernelspec": {
      "display_name": "Python 3",
      "name": "python3"
    },
    "language_info": {
      "name": "python"
    }
  },
  "nbformat": 4,
  "nbformat_minor": 0
}
