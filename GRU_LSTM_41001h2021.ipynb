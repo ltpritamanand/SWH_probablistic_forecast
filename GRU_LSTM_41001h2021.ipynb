{
  "cells": [
    {
      "cell_type": "code",
      "execution_count": 430,
      "metadata": {
        "id": "Y_V3p8yx9TMZ"
      },
      "outputs": [],
      "source": [
        "import pandas as pd\n",
        "import numpy as np"
      ]
    },
    {
      "cell_type": "code",
      "execution_count": 431,
      "metadata": {
        "id": "NpWiJ4U8lnl_"
      },
      "outputs": [],
      "source": [
        "import pandas as pd\n",
        "# Assuming your text file is named \"data.txt\" and is in the same directory as your Python script\n",
        "file_path = \"/content/41001h2021.txt\"\n",
        "\n",
        "# If your data is separated by spaces, you can use:\n",
        "df = pd.read_csv(file_path, delim_whitespace=True)"
      ]
    },
    {
      "cell_type": "code",
      "execution_count": 432,
      "metadata": {
        "colab": {
          "base_uri": "https://localhost:8080/",
          "height": 226
        },
        "id": "3UeALjFMoSNh",
        "outputId": "0ce782e2-4ec6-42c2-98b3-4b9f5ab523ee"
      },
      "outputs": [
        {
          "output_type": "execute_result",
          "data": {
            "text/plain": [
              "    #YY  MM  DD  hh  mm  WDIR  WSPD   GST   WVHT    DPD    APD  MWD    PRES  \\\n",
              "0  2021   6  20   5  40   216   9.3  11.3   1.42   4.76   4.56  225  1015.6   \n",
              "1  2021   6  20   5  50   215   9.1  11.2  99.00  99.00  99.00  999  1015.4   \n",
              "2  2021   6  20   6   0   214   8.9  10.8  99.00  99.00  99.00  999  1015.3   \n",
              "3  2021   6  20   6  10   215   9.3  11.0  99.00  99.00  99.00  999  1015.3   \n",
              "4  2021   6  20   6  20   214   9.0  11.0  99.00  99.00  99.00  999  1015.2   \n",
              "\n",
              "   ATMP  WTMP  DEWP   VIS  TIDE  \n",
              "0  25.1  25.2  24.1  99.0  99.0  \n",
              "1  25.1  25.2  24.1  99.0  99.0  \n",
              "2  25.1  25.2  24.1  99.0  99.0  \n",
              "3  25.1  25.2  24.2  99.0  99.0  \n",
              "4  25.1  25.2  24.2  99.0  99.0  "
            ],
            "text/html": [
              "\n",
              "  <div id=\"df-e0940cf2-6971-4d94-95d1-34f424cca7c2\" class=\"colab-df-container\">\n",
              "    <div>\n",
              "<style scoped>\n",
              "    .dataframe tbody tr th:only-of-type {\n",
              "        vertical-align: middle;\n",
              "    }\n",
              "\n",
              "    .dataframe tbody tr th {\n",
              "        vertical-align: top;\n",
              "    }\n",
              "\n",
              "    .dataframe thead th {\n",
              "        text-align: right;\n",
              "    }\n",
              "</style>\n",
              "<table border=\"1\" class=\"dataframe\">\n",
              "  <thead>\n",
              "    <tr style=\"text-align: right;\">\n",
              "      <th></th>\n",
              "      <th>#YY</th>\n",
              "      <th>MM</th>\n",
              "      <th>DD</th>\n",
              "      <th>hh</th>\n",
              "      <th>mm</th>\n",
              "      <th>WDIR</th>\n",
              "      <th>WSPD</th>\n",
              "      <th>GST</th>\n",
              "      <th>WVHT</th>\n",
              "      <th>DPD</th>\n",
              "      <th>APD</th>\n",
              "      <th>MWD</th>\n",
              "      <th>PRES</th>\n",
              "      <th>ATMP</th>\n",
              "      <th>WTMP</th>\n",
              "      <th>DEWP</th>\n",
              "      <th>VIS</th>\n",
              "      <th>TIDE</th>\n",
              "    </tr>\n",
              "  </thead>\n",
              "  <tbody>\n",
              "    <tr>\n",
              "      <th>0</th>\n",
              "      <td>2021</td>\n",
              "      <td>6</td>\n",
              "      <td>20</td>\n",
              "      <td>5</td>\n",
              "      <td>40</td>\n",
              "      <td>216</td>\n",
              "      <td>9.3</td>\n",
              "      <td>11.3</td>\n",
              "      <td>1.42</td>\n",
              "      <td>4.76</td>\n",
              "      <td>4.56</td>\n",
              "      <td>225</td>\n",
              "      <td>1015.6</td>\n",
              "      <td>25.1</td>\n",
              "      <td>25.2</td>\n",
              "      <td>24.1</td>\n",
              "      <td>99.0</td>\n",
              "      <td>99.0</td>\n",
              "    </tr>\n",
              "    <tr>\n",
              "      <th>1</th>\n",
              "      <td>2021</td>\n",
              "      <td>6</td>\n",
              "      <td>20</td>\n",
              "      <td>5</td>\n",
              "      <td>50</td>\n",
              "      <td>215</td>\n",
              "      <td>9.1</td>\n",
              "      <td>11.2</td>\n",
              "      <td>99.00</td>\n",
              "      <td>99.00</td>\n",
              "      <td>99.00</td>\n",
              "      <td>999</td>\n",
              "      <td>1015.4</td>\n",
              "      <td>25.1</td>\n",
              "      <td>25.2</td>\n",
              "      <td>24.1</td>\n",
              "      <td>99.0</td>\n",
              "      <td>99.0</td>\n",
              "    </tr>\n",
              "    <tr>\n",
              "      <th>2</th>\n",
              "      <td>2021</td>\n",
              "      <td>6</td>\n",
              "      <td>20</td>\n",
              "      <td>6</td>\n",
              "      <td>0</td>\n",
              "      <td>214</td>\n",
              "      <td>8.9</td>\n",
              "      <td>10.8</td>\n",
              "      <td>99.00</td>\n",
              "      <td>99.00</td>\n",
              "      <td>99.00</td>\n",
              "      <td>999</td>\n",
              "      <td>1015.3</td>\n",
              "      <td>25.1</td>\n",
              "      <td>25.2</td>\n",
              "      <td>24.1</td>\n",
              "      <td>99.0</td>\n",
              "      <td>99.0</td>\n",
              "    </tr>\n",
              "    <tr>\n",
              "      <th>3</th>\n",
              "      <td>2021</td>\n",
              "      <td>6</td>\n",
              "      <td>20</td>\n",
              "      <td>6</td>\n",
              "      <td>10</td>\n",
              "      <td>215</td>\n",
              "      <td>9.3</td>\n",
              "      <td>11.0</td>\n",
              "      <td>99.00</td>\n",
              "      <td>99.00</td>\n",
              "      <td>99.00</td>\n",
              "      <td>999</td>\n",
              "      <td>1015.3</td>\n",
              "      <td>25.1</td>\n",
              "      <td>25.2</td>\n",
              "      <td>24.2</td>\n",
              "      <td>99.0</td>\n",
              "      <td>99.0</td>\n",
              "    </tr>\n",
              "    <tr>\n",
              "      <th>4</th>\n",
              "      <td>2021</td>\n",
              "      <td>6</td>\n",
              "      <td>20</td>\n",
              "      <td>6</td>\n",
              "      <td>20</td>\n",
              "      <td>214</td>\n",
              "      <td>9.0</td>\n",
              "      <td>11.0</td>\n",
              "      <td>99.00</td>\n",
              "      <td>99.00</td>\n",
              "      <td>99.00</td>\n",
              "      <td>999</td>\n",
              "      <td>1015.2</td>\n",
              "      <td>25.1</td>\n",
              "      <td>25.2</td>\n",
              "      <td>24.2</td>\n",
              "      <td>99.0</td>\n",
              "      <td>99.0</td>\n",
              "    </tr>\n",
              "  </tbody>\n",
              "</table>\n",
              "</div>\n",
              "    <div class=\"colab-df-buttons\">\n",
              "\n",
              "  <div class=\"colab-df-container\">\n",
              "    <button class=\"colab-df-convert\" onclick=\"convertToInteractive('df-e0940cf2-6971-4d94-95d1-34f424cca7c2')\"\n",
              "            title=\"Convert this dataframe to an interactive table.\"\n",
              "            style=\"display:none;\">\n",
              "\n",
              "  <svg xmlns=\"http://www.w3.org/2000/svg\" height=\"24px\" viewBox=\"0 -960 960 960\">\n",
              "    <path d=\"M120-120v-720h720v720H120Zm60-500h600v-160H180v160Zm220 220h160v-160H400v160Zm0 220h160v-160H400v160ZM180-400h160v-160H180v160Zm440 0h160v-160H620v160ZM180-180h160v-160H180v160Zm440 0h160v-160H620v160Z\"/>\n",
              "  </svg>\n",
              "    </button>\n",
              "\n",
              "  <style>\n",
              "    .colab-df-container {\n",
              "      display:flex;\n",
              "      gap: 12px;\n",
              "    }\n",
              "\n",
              "    .colab-df-convert {\n",
              "      background-color: #E8F0FE;\n",
              "      border: none;\n",
              "      border-radius: 50%;\n",
              "      cursor: pointer;\n",
              "      display: none;\n",
              "      fill: #1967D2;\n",
              "      height: 32px;\n",
              "      padding: 0 0 0 0;\n",
              "      width: 32px;\n",
              "    }\n",
              "\n",
              "    .colab-df-convert:hover {\n",
              "      background-color: #E2EBFA;\n",
              "      box-shadow: 0px 1px 2px rgba(60, 64, 67, 0.3), 0px 1px 3px 1px rgba(60, 64, 67, 0.15);\n",
              "      fill: #174EA6;\n",
              "    }\n",
              "\n",
              "    .colab-df-buttons div {\n",
              "      margin-bottom: 4px;\n",
              "    }\n",
              "\n",
              "    [theme=dark] .colab-df-convert {\n",
              "      background-color: #3B4455;\n",
              "      fill: #D2E3FC;\n",
              "    }\n",
              "\n",
              "    [theme=dark] .colab-df-convert:hover {\n",
              "      background-color: #434B5C;\n",
              "      box-shadow: 0px 1px 3px 1px rgba(0, 0, 0, 0.15);\n",
              "      filter: drop-shadow(0px 1px 2px rgba(0, 0, 0, 0.3));\n",
              "      fill: #FFFFFF;\n",
              "    }\n",
              "  </style>\n",
              "\n",
              "    <script>\n",
              "      const buttonEl =\n",
              "        document.querySelector('#df-e0940cf2-6971-4d94-95d1-34f424cca7c2 button.colab-df-convert');\n",
              "      buttonEl.style.display =\n",
              "        google.colab.kernel.accessAllowed ? 'block' : 'none';\n",
              "\n",
              "      async function convertToInteractive(key) {\n",
              "        const element = document.querySelector('#df-e0940cf2-6971-4d94-95d1-34f424cca7c2');\n",
              "        const dataTable =\n",
              "          await google.colab.kernel.invokeFunction('convertToInteractive',\n",
              "                                                    [key], {});\n",
              "        if (!dataTable) return;\n",
              "\n",
              "        const docLinkHtml = 'Like what you see? Visit the ' +\n",
              "          '<a target=\"_blank\" href=https://colab.research.google.com/notebooks/data_table.ipynb>data table notebook</a>'\n",
              "          + ' to learn more about interactive tables.';\n",
              "        element.innerHTML = '';\n",
              "        dataTable['output_type'] = 'display_data';\n",
              "        await google.colab.output.renderOutput(dataTable, element);\n",
              "        const docLink = document.createElement('div');\n",
              "        docLink.innerHTML = docLinkHtml;\n",
              "        element.appendChild(docLink);\n",
              "      }\n",
              "    </script>\n",
              "  </div>\n",
              "\n",
              "\n",
              "<div id=\"df-d3997795-9d10-4ca0-8e2a-9b69591aeab4\">\n",
              "  <button class=\"colab-df-quickchart\" onclick=\"quickchart('df-d3997795-9d10-4ca0-8e2a-9b69591aeab4')\"\n",
              "            title=\"Suggest charts\"\n",
              "            style=\"display:none;\">\n",
              "\n",
              "<svg xmlns=\"http://www.w3.org/2000/svg\" height=\"24px\"viewBox=\"0 0 24 24\"\n",
              "     width=\"24px\">\n",
              "    <g>\n",
              "        <path d=\"M19 3H5c-1.1 0-2 .9-2 2v14c0 1.1.9 2 2 2h14c1.1 0 2-.9 2-2V5c0-1.1-.9-2-2-2zM9 17H7v-7h2v7zm4 0h-2V7h2v10zm4 0h-2v-4h2v4z\"/>\n",
              "    </g>\n",
              "</svg>\n",
              "  </button>\n",
              "\n",
              "<style>\n",
              "  .colab-df-quickchart {\n",
              "      --bg-color: #E8F0FE;\n",
              "      --fill-color: #1967D2;\n",
              "      --hover-bg-color: #E2EBFA;\n",
              "      --hover-fill-color: #174EA6;\n",
              "      --disabled-fill-color: #AAA;\n",
              "      --disabled-bg-color: #DDD;\n",
              "  }\n",
              "\n",
              "  [theme=dark] .colab-df-quickchart {\n",
              "      --bg-color: #3B4455;\n",
              "      --fill-color: #D2E3FC;\n",
              "      --hover-bg-color: #434B5C;\n",
              "      --hover-fill-color: #FFFFFF;\n",
              "      --disabled-bg-color: #3B4455;\n",
              "      --disabled-fill-color: #666;\n",
              "  }\n",
              "\n",
              "  .colab-df-quickchart {\n",
              "    background-color: var(--bg-color);\n",
              "    border: none;\n",
              "    border-radius: 50%;\n",
              "    cursor: pointer;\n",
              "    display: none;\n",
              "    fill: var(--fill-color);\n",
              "    height: 32px;\n",
              "    padding: 0;\n",
              "    width: 32px;\n",
              "  }\n",
              "\n",
              "  .colab-df-quickchart:hover {\n",
              "    background-color: var(--hover-bg-color);\n",
              "    box-shadow: 0 1px 2px rgba(60, 64, 67, 0.3), 0 1px 3px 1px rgba(60, 64, 67, 0.15);\n",
              "    fill: var(--button-hover-fill-color);\n",
              "  }\n",
              "\n",
              "  .colab-df-quickchart-complete:disabled,\n",
              "  .colab-df-quickchart-complete:disabled:hover {\n",
              "    background-color: var(--disabled-bg-color);\n",
              "    fill: var(--disabled-fill-color);\n",
              "    box-shadow: none;\n",
              "  }\n",
              "\n",
              "  .colab-df-spinner {\n",
              "    border: 2px solid var(--fill-color);\n",
              "    border-color: transparent;\n",
              "    border-bottom-color: var(--fill-color);\n",
              "    animation:\n",
              "      spin 1s steps(1) infinite;\n",
              "  }\n",
              "\n",
              "  @keyframes spin {\n",
              "    0% {\n",
              "      border-color: transparent;\n",
              "      border-bottom-color: var(--fill-color);\n",
              "      border-left-color: var(--fill-color);\n",
              "    }\n",
              "    20% {\n",
              "      border-color: transparent;\n",
              "      border-left-color: var(--fill-color);\n",
              "      border-top-color: var(--fill-color);\n",
              "    }\n",
              "    30% {\n",
              "      border-color: transparent;\n",
              "      border-left-color: var(--fill-color);\n",
              "      border-top-color: var(--fill-color);\n",
              "      border-right-color: var(--fill-color);\n",
              "    }\n",
              "    40% {\n",
              "      border-color: transparent;\n",
              "      border-right-color: var(--fill-color);\n",
              "      border-top-color: var(--fill-color);\n",
              "    }\n",
              "    60% {\n",
              "      border-color: transparent;\n",
              "      border-right-color: var(--fill-color);\n",
              "    }\n",
              "    80% {\n",
              "      border-color: transparent;\n",
              "      border-right-color: var(--fill-color);\n",
              "      border-bottom-color: var(--fill-color);\n",
              "    }\n",
              "    90% {\n",
              "      border-color: transparent;\n",
              "      border-bottom-color: var(--fill-color);\n",
              "    }\n",
              "  }\n",
              "</style>\n",
              "\n",
              "  <script>\n",
              "    async function quickchart(key) {\n",
              "      const quickchartButtonEl =\n",
              "        document.querySelector('#' + key + ' button');\n",
              "      quickchartButtonEl.disabled = true;  // To prevent multiple clicks.\n",
              "      quickchartButtonEl.classList.add('colab-df-spinner');\n",
              "      try {\n",
              "        const charts = await google.colab.kernel.invokeFunction(\n",
              "            'suggestCharts', [key], {});\n",
              "      } catch (error) {\n",
              "        console.error('Error during call to suggestCharts:', error);\n",
              "      }\n",
              "      quickchartButtonEl.classList.remove('colab-df-spinner');\n",
              "      quickchartButtonEl.classList.add('colab-df-quickchart-complete');\n",
              "    }\n",
              "    (() => {\n",
              "      let quickchartButtonEl =\n",
              "        document.querySelector('#df-d3997795-9d10-4ca0-8e2a-9b69591aeab4 button');\n",
              "      quickchartButtonEl.style.display =\n",
              "        google.colab.kernel.accessAllowed ? 'block' : 'none';\n",
              "    })();\n",
              "  </script>\n",
              "</div>\n",
              "\n",
              "    </div>\n",
              "  </div>\n"
            ],
            "application/vnd.google.colaboratory.intrinsic+json": {
              "type": "dataframe",
              "variable_name": "df",
              "summary": "{\n  \"name\": \"df\",\n  \"rows\": 10477,\n  \"fields\": [\n    {\n      \"column\": \"#YY\",\n      \"properties\": {\n        \"dtype\": \"number\",\n        \"std\": 0,\n        \"min\": 2021,\n        \"max\": 2021,\n        \"num_unique_values\": 1,\n        \"samples\": [\n          2021\n        ],\n        \"semantic_type\": \"\",\n        \"description\": \"\"\n      }\n    },\n    {\n      \"column\": \"MM\",\n      \"properties\": {\n        \"dtype\": \"number\",\n        \"std\": 0,\n        \"min\": 6,\n        \"max\": 8,\n        \"num_unique_values\": 3,\n        \"samples\": [\n          6\n        ],\n        \"semantic_type\": \"\",\n        \"description\": \"\"\n      }\n    },\n    {\n      \"column\": \"DD\",\n      \"properties\": {\n        \"dtype\": \"number\",\n        \"std\": 8,\n        \"min\": 1,\n        \"max\": 31,\n        \"num_unique_values\": 31,\n        \"samples\": [\n          17\n        ],\n        \"semantic_type\": \"\",\n        \"description\": \"\"\n      }\n    },\n    {\n      \"column\": \"hh\",\n      \"properties\": {\n        \"dtype\": \"number\",\n        \"std\": 6,\n        \"min\": 0,\n        \"max\": 23,\n        \"num_unique_values\": 24,\n        \"samples\": [\n          13\n        ],\n        \"semantic_type\": \"\",\n        \"description\": \"\"\n      }\n    },\n    {\n      \"column\": \"mm\",\n      \"properties\": {\n        \"dtype\": \"number\",\n        \"std\": 17,\n        \"min\": 0,\n        \"max\": 50,\n        \"num_unique_values\": 6,\n        \"samples\": [\n          40\n        ],\n        \"semantic_type\": \"\",\n        \"description\": \"\"\n      }\n    },\n    {\n      \"column\": \"WDIR\",\n      \"properties\": {\n        \"dtype\": \"number\",\n        \"std\": 61,\n        \"min\": 1,\n        \"max\": 999,\n        \"num_unique_values\": 357,\n        \"samples\": [\n          293\n        ],\n        \"semantic_type\": \"\",\n        \"description\": \"\"\n      }\n    },\n    {\n      \"column\": \"WSPD\",\n      \"properties\": {\n        \"dtype\": \"number\",\n        \"std\": 3.3648132355958285,\n        \"min\": 0.0,\n        \"max\": 99.0,\n        \"num_unique_values\": 159,\n        \"samples\": [\n          11.2\n        ],\n        \"semantic_type\": \"\",\n        \"description\": \"\"\n      }\n    },\n    {\n      \"column\": \"GST\",\n      \"properties\": {\n        \"dtype\": \"number\",\n        \"std\": 4.0004545043800706,\n        \"min\": 0.3,\n        \"max\": 99.0,\n        \"num_unique_values\": 207,\n        \"samples\": [\n          5.0\n        ],\n        \"semantic_type\": \"\",\n        \"description\": \"\"\n      }\n    },\n    {\n      \"column\": \"WVHT\",\n      \"properties\": {\n        \"dtype\": \"number\",\n        \"std\": 36.35445657914817,\n        \"min\": 0.62,\n        \"max\": 99.0,\n        \"num_unique_values\": 277,\n        \"samples\": [\n          3.15\n        ],\n        \"semantic_type\": \"\",\n        \"description\": \"\"\n      }\n    },\n    {\n      \"column\": \"DPD\",\n      \"properties\": {\n        \"dtype\": \"number\",\n        \"std\": 33.98965758100597,\n        \"min\": 3.57,\n        \"max\": 99.0,\n        \"num_unique_values\": 23,\n        \"samples\": [\n          12.12\n        ],\n        \"semantic_type\": \"\",\n        \"description\": \"\"\n      }\n    },\n    {\n      \"column\": \"APD\",\n      \"properties\": {\n        \"dtype\": \"number\",\n        \"std\": 34.8212476604489,\n        \"min\": 3.89,\n        \"max\": 99.0,\n        \"num_unique_values\": 337,\n        \"samples\": [\n          5.78\n        ],\n        \"semantic_type\": \"\",\n        \"description\": \"\"\n      }\n    },\n    {\n      \"column\": \"MWD\",\n      \"properties\": {\n        \"dtype\": \"number\",\n        \"std\": 307,\n        \"min\": 1,\n        \"max\": 999,\n        \"num_unique_values\": 252,\n        \"samples\": [\n          185\n        ],\n        \"semantic_type\": \"\",\n        \"description\": \"\"\n      }\n    },\n    {\n      \"column\": \"PRES\",\n      \"properties\": {\n        \"dtype\": \"number\",\n        \"std\": 4.08517518853886,\n        \"min\": 1001.3,\n        \"max\": 1027.9,\n        \"num_unique_values\": 239,\n        \"samples\": [\n          1017.8\n        ],\n        \"semantic_type\": \"\",\n        \"description\": \"\"\n      }\n    },\n    {\n      \"column\": \"ATMP\",\n      \"properties\": {\n        \"dtype\": \"number\",\n        \"std\": 19.02572569334002,\n        \"min\": 21.9,\n        \"max\": 999.0,\n        \"num_unique_values\": 82,\n        \"samples\": [\n          23.0\n        ],\n        \"semantic_type\": \"\",\n        \"description\": \"\"\n      }\n    },\n    {\n      \"column\": \"WTMP\",\n      \"properties\": {\n        \"dtype\": \"number\",\n        \"std\": 71.47817251399503,\n        \"min\": 24.6,\n        \"max\": 999.0,\n        \"num_unique_values\": 50,\n        \"samples\": [\n          25.8\n        ],\n        \"semantic_type\": \"\",\n        \"description\": \"\"\n      }\n    },\n    {\n      \"column\": \"DEWP\",\n      \"properties\": {\n        \"dtype\": \"number\",\n        \"std\": 19.09526742577587,\n        \"min\": 18.2,\n        \"max\": 999.0,\n        \"num_unique_values\": 90,\n        \"samples\": [\n          21.7\n        ],\n        \"semantic_type\": \"\",\n        \"description\": \"\"\n      }\n    },\n    {\n      \"column\": \"VIS\",\n      \"properties\": {\n        \"dtype\": \"number\",\n        \"std\": 0.0,\n        \"min\": 99.0,\n        \"max\": 99.0,\n        \"num_unique_values\": 1,\n        \"samples\": [\n          99.0\n        ],\n        \"semantic_type\": \"\",\n        \"description\": \"\"\n      }\n    },\n    {\n      \"column\": \"TIDE\",\n      \"properties\": {\n        \"dtype\": \"number\",\n        \"std\": 0.0,\n        \"min\": 99.0,\n        \"max\": 99.0,\n        \"num_unique_values\": 1,\n        \"samples\": [\n          99.0\n        ],\n        \"semantic_type\": \"\",\n        \"description\": \"\"\n      }\n    }\n  ]\n}"
            }
          },
          "metadata": {},
          "execution_count": 432
        }
      ],
      "source": [
        "df.head()"
      ]
    },
    {
      "cell_type": "code",
      "execution_count": 433,
      "metadata": {
        "colab": {
          "base_uri": "https://localhost:8080/",
          "height": 226
        },
        "id": "Oy0JHzTUoTX5",
        "outputId": "ee0f782e-4647-44e8-de6a-f352fef7f385"
      },
      "outputs": [
        {
          "output_type": "execute_result",
          "data": {
            "text/plain": [
              "    #YY  MM  DD  hh  mm  WDIR  WSPD   GST  WVHT   DPD   APD  MWD    PRES  \\\n",
              "1  2021   6  20   5  50   215   9.1  11.2  99.0  99.0  99.0  999  1015.4   \n",
              "2  2021   6  20   6   0   214   8.9  10.8  99.0  99.0  99.0  999  1015.3   \n",
              "3  2021   6  20   6  10   215   9.3  11.0  99.0  99.0  99.0  999  1015.3   \n",
              "4  2021   6  20   6  20   214   9.0  11.0  99.0  99.0  99.0  999  1015.2   \n",
              "5  2021   6  20   6  30   213   8.9  11.2  99.0  99.0  99.0  999  1015.2   \n",
              "\n",
              "   ATMP  WTMP  DEWP   VIS  TIDE  \n",
              "1  25.1  25.2  24.1  99.0  99.0  \n",
              "2  25.1  25.2  24.1  99.0  99.0  \n",
              "3  25.1  25.2  24.2  99.0  99.0  \n",
              "4  25.1  25.2  24.2  99.0  99.0  \n",
              "5  25.1  25.2  24.3  99.0  99.0  "
            ],
            "text/html": [
              "\n",
              "  <div id=\"df-04396f38-d964-45c5-bd36-f9a3b548ce66\" class=\"colab-df-container\">\n",
              "    <div>\n",
              "<style scoped>\n",
              "    .dataframe tbody tr th:only-of-type {\n",
              "        vertical-align: middle;\n",
              "    }\n",
              "\n",
              "    .dataframe tbody tr th {\n",
              "        vertical-align: top;\n",
              "    }\n",
              "\n",
              "    .dataframe thead th {\n",
              "        text-align: right;\n",
              "    }\n",
              "</style>\n",
              "<table border=\"1\" class=\"dataframe\">\n",
              "  <thead>\n",
              "    <tr style=\"text-align: right;\">\n",
              "      <th></th>\n",
              "      <th>#YY</th>\n",
              "      <th>MM</th>\n",
              "      <th>DD</th>\n",
              "      <th>hh</th>\n",
              "      <th>mm</th>\n",
              "      <th>WDIR</th>\n",
              "      <th>WSPD</th>\n",
              "      <th>GST</th>\n",
              "      <th>WVHT</th>\n",
              "      <th>DPD</th>\n",
              "      <th>APD</th>\n",
              "      <th>MWD</th>\n",
              "      <th>PRES</th>\n",
              "      <th>ATMP</th>\n",
              "      <th>WTMP</th>\n",
              "      <th>DEWP</th>\n",
              "      <th>VIS</th>\n",
              "      <th>TIDE</th>\n",
              "    </tr>\n",
              "  </thead>\n",
              "  <tbody>\n",
              "    <tr>\n",
              "      <th>1</th>\n",
              "      <td>2021</td>\n",
              "      <td>6</td>\n",
              "      <td>20</td>\n",
              "      <td>5</td>\n",
              "      <td>50</td>\n",
              "      <td>215</td>\n",
              "      <td>9.1</td>\n",
              "      <td>11.2</td>\n",
              "      <td>99.0</td>\n",
              "      <td>99.0</td>\n",
              "      <td>99.0</td>\n",
              "      <td>999</td>\n",
              "      <td>1015.4</td>\n",
              "      <td>25.1</td>\n",
              "      <td>25.2</td>\n",
              "      <td>24.1</td>\n",
              "      <td>99.0</td>\n",
              "      <td>99.0</td>\n",
              "    </tr>\n",
              "    <tr>\n",
              "      <th>2</th>\n",
              "      <td>2021</td>\n",
              "      <td>6</td>\n",
              "      <td>20</td>\n",
              "      <td>6</td>\n",
              "      <td>0</td>\n",
              "      <td>214</td>\n",
              "      <td>8.9</td>\n",
              "      <td>10.8</td>\n",
              "      <td>99.0</td>\n",
              "      <td>99.0</td>\n",
              "      <td>99.0</td>\n",
              "      <td>999</td>\n",
              "      <td>1015.3</td>\n",
              "      <td>25.1</td>\n",
              "      <td>25.2</td>\n",
              "      <td>24.1</td>\n",
              "      <td>99.0</td>\n",
              "      <td>99.0</td>\n",
              "    </tr>\n",
              "    <tr>\n",
              "      <th>3</th>\n",
              "      <td>2021</td>\n",
              "      <td>6</td>\n",
              "      <td>20</td>\n",
              "      <td>6</td>\n",
              "      <td>10</td>\n",
              "      <td>215</td>\n",
              "      <td>9.3</td>\n",
              "      <td>11.0</td>\n",
              "      <td>99.0</td>\n",
              "      <td>99.0</td>\n",
              "      <td>99.0</td>\n",
              "      <td>999</td>\n",
              "      <td>1015.3</td>\n",
              "      <td>25.1</td>\n",
              "      <td>25.2</td>\n",
              "      <td>24.2</td>\n",
              "      <td>99.0</td>\n",
              "      <td>99.0</td>\n",
              "    </tr>\n",
              "    <tr>\n",
              "      <th>4</th>\n",
              "      <td>2021</td>\n",
              "      <td>6</td>\n",
              "      <td>20</td>\n",
              "      <td>6</td>\n",
              "      <td>20</td>\n",
              "      <td>214</td>\n",
              "      <td>9.0</td>\n",
              "      <td>11.0</td>\n",
              "      <td>99.0</td>\n",
              "      <td>99.0</td>\n",
              "      <td>99.0</td>\n",
              "      <td>999</td>\n",
              "      <td>1015.2</td>\n",
              "      <td>25.1</td>\n",
              "      <td>25.2</td>\n",
              "      <td>24.2</td>\n",
              "      <td>99.0</td>\n",
              "      <td>99.0</td>\n",
              "    </tr>\n",
              "    <tr>\n",
              "      <th>5</th>\n",
              "      <td>2021</td>\n",
              "      <td>6</td>\n",
              "      <td>20</td>\n",
              "      <td>6</td>\n",
              "      <td>30</td>\n",
              "      <td>213</td>\n",
              "      <td>8.9</td>\n",
              "      <td>11.2</td>\n",
              "      <td>99.0</td>\n",
              "      <td>99.0</td>\n",
              "      <td>99.0</td>\n",
              "      <td>999</td>\n",
              "      <td>1015.2</td>\n",
              "      <td>25.1</td>\n",
              "      <td>25.2</td>\n",
              "      <td>24.3</td>\n",
              "      <td>99.0</td>\n",
              "      <td>99.0</td>\n",
              "    </tr>\n",
              "  </tbody>\n",
              "</table>\n",
              "</div>\n",
              "    <div class=\"colab-df-buttons\">\n",
              "\n",
              "  <div class=\"colab-df-container\">\n",
              "    <button class=\"colab-df-convert\" onclick=\"convertToInteractive('df-04396f38-d964-45c5-bd36-f9a3b548ce66')\"\n",
              "            title=\"Convert this dataframe to an interactive table.\"\n",
              "            style=\"display:none;\">\n",
              "\n",
              "  <svg xmlns=\"http://www.w3.org/2000/svg\" height=\"24px\" viewBox=\"0 -960 960 960\">\n",
              "    <path d=\"M120-120v-720h720v720H120Zm60-500h600v-160H180v160Zm220 220h160v-160H400v160Zm0 220h160v-160H400v160ZM180-400h160v-160H180v160Zm440 0h160v-160H620v160ZM180-180h160v-160H180v160Zm440 0h160v-160H620v160Z\"/>\n",
              "  </svg>\n",
              "    </button>\n",
              "\n",
              "  <style>\n",
              "    .colab-df-container {\n",
              "      display:flex;\n",
              "      gap: 12px;\n",
              "    }\n",
              "\n",
              "    .colab-df-convert {\n",
              "      background-color: #E8F0FE;\n",
              "      border: none;\n",
              "      border-radius: 50%;\n",
              "      cursor: pointer;\n",
              "      display: none;\n",
              "      fill: #1967D2;\n",
              "      height: 32px;\n",
              "      padding: 0 0 0 0;\n",
              "      width: 32px;\n",
              "    }\n",
              "\n",
              "    .colab-df-convert:hover {\n",
              "      background-color: #E2EBFA;\n",
              "      box-shadow: 0px 1px 2px rgba(60, 64, 67, 0.3), 0px 1px 3px 1px rgba(60, 64, 67, 0.15);\n",
              "      fill: #174EA6;\n",
              "    }\n",
              "\n",
              "    .colab-df-buttons div {\n",
              "      margin-bottom: 4px;\n",
              "    }\n",
              "\n",
              "    [theme=dark] .colab-df-convert {\n",
              "      background-color: #3B4455;\n",
              "      fill: #D2E3FC;\n",
              "    }\n",
              "\n",
              "    [theme=dark] .colab-df-convert:hover {\n",
              "      background-color: #434B5C;\n",
              "      box-shadow: 0px 1px 3px 1px rgba(0, 0, 0, 0.15);\n",
              "      filter: drop-shadow(0px 1px 2px rgba(0, 0, 0, 0.3));\n",
              "      fill: #FFFFFF;\n",
              "    }\n",
              "  </style>\n",
              "\n",
              "    <script>\n",
              "      const buttonEl =\n",
              "        document.querySelector('#df-04396f38-d964-45c5-bd36-f9a3b548ce66 button.colab-df-convert');\n",
              "      buttonEl.style.display =\n",
              "        google.colab.kernel.accessAllowed ? 'block' : 'none';\n",
              "\n",
              "      async function convertToInteractive(key) {\n",
              "        const element = document.querySelector('#df-04396f38-d964-45c5-bd36-f9a3b548ce66');\n",
              "        const dataTable =\n",
              "          await google.colab.kernel.invokeFunction('convertToInteractive',\n",
              "                                                    [key], {});\n",
              "        if (!dataTable) return;\n",
              "\n",
              "        const docLinkHtml = 'Like what you see? Visit the ' +\n",
              "          '<a target=\"_blank\" href=https://colab.research.google.com/notebooks/data_table.ipynb>data table notebook</a>'\n",
              "          + ' to learn more about interactive tables.';\n",
              "        element.innerHTML = '';\n",
              "        dataTable['output_type'] = 'display_data';\n",
              "        await google.colab.output.renderOutput(dataTable, element);\n",
              "        const docLink = document.createElement('div');\n",
              "        docLink.innerHTML = docLinkHtml;\n",
              "        element.appendChild(docLink);\n",
              "      }\n",
              "    </script>\n",
              "  </div>\n",
              "\n",
              "\n",
              "<div id=\"df-04650692-35e2-4b2e-9c64-ec8a4b8e8dff\">\n",
              "  <button class=\"colab-df-quickchart\" onclick=\"quickchart('df-04650692-35e2-4b2e-9c64-ec8a4b8e8dff')\"\n",
              "            title=\"Suggest charts\"\n",
              "            style=\"display:none;\">\n",
              "\n",
              "<svg xmlns=\"http://www.w3.org/2000/svg\" height=\"24px\"viewBox=\"0 0 24 24\"\n",
              "     width=\"24px\">\n",
              "    <g>\n",
              "        <path d=\"M19 3H5c-1.1 0-2 .9-2 2v14c0 1.1.9 2 2 2h14c1.1 0 2-.9 2-2V5c0-1.1-.9-2-2-2zM9 17H7v-7h2v7zm4 0h-2V7h2v10zm4 0h-2v-4h2v4z\"/>\n",
              "    </g>\n",
              "</svg>\n",
              "  </button>\n",
              "\n",
              "<style>\n",
              "  .colab-df-quickchart {\n",
              "      --bg-color: #E8F0FE;\n",
              "      --fill-color: #1967D2;\n",
              "      --hover-bg-color: #E2EBFA;\n",
              "      --hover-fill-color: #174EA6;\n",
              "      --disabled-fill-color: #AAA;\n",
              "      --disabled-bg-color: #DDD;\n",
              "  }\n",
              "\n",
              "  [theme=dark] .colab-df-quickchart {\n",
              "      --bg-color: #3B4455;\n",
              "      --fill-color: #D2E3FC;\n",
              "      --hover-bg-color: #434B5C;\n",
              "      --hover-fill-color: #FFFFFF;\n",
              "      --disabled-bg-color: #3B4455;\n",
              "      --disabled-fill-color: #666;\n",
              "  }\n",
              "\n",
              "  .colab-df-quickchart {\n",
              "    background-color: var(--bg-color);\n",
              "    border: none;\n",
              "    border-radius: 50%;\n",
              "    cursor: pointer;\n",
              "    display: none;\n",
              "    fill: var(--fill-color);\n",
              "    height: 32px;\n",
              "    padding: 0;\n",
              "    width: 32px;\n",
              "  }\n",
              "\n",
              "  .colab-df-quickchart:hover {\n",
              "    background-color: var(--hover-bg-color);\n",
              "    box-shadow: 0 1px 2px rgba(60, 64, 67, 0.3), 0 1px 3px 1px rgba(60, 64, 67, 0.15);\n",
              "    fill: var(--button-hover-fill-color);\n",
              "  }\n",
              "\n",
              "  .colab-df-quickchart-complete:disabled,\n",
              "  .colab-df-quickchart-complete:disabled:hover {\n",
              "    background-color: var(--disabled-bg-color);\n",
              "    fill: var(--disabled-fill-color);\n",
              "    box-shadow: none;\n",
              "  }\n",
              "\n",
              "  .colab-df-spinner {\n",
              "    border: 2px solid var(--fill-color);\n",
              "    border-color: transparent;\n",
              "    border-bottom-color: var(--fill-color);\n",
              "    animation:\n",
              "      spin 1s steps(1) infinite;\n",
              "  }\n",
              "\n",
              "  @keyframes spin {\n",
              "    0% {\n",
              "      border-color: transparent;\n",
              "      border-bottom-color: var(--fill-color);\n",
              "      border-left-color: var(--fill-color);\n",
              "    }\n",
              "    20% {\n",
              "      border-color: transparent;\n",
              "      border-left-color: var(--fill-color);\n",
              "      border-top-color: var(--fill-color);\n",
              "    }\n",
              "    30% {\n",
              "      border-color: transparent;\n",
              "      border-left-color: var(--fill-color);\n",
              "      border-top-color: var(--fill-color);\n",
              "      border-right-color: var(--fill-color);\n",
              "    }\n",
              "    40% {\n",
              "      border-color: transparent;\n",
              "      border-right-color: var(--fill-color);\n",
              "      border-top-color: var(--fill-color);\n",
              "    }\n",
              "    60% {\n",
              "      border-color: transparent;\n",
              "      border-right-color: var(--fill-color);\n",
              "    }\n",
              "    80% {\n",
              "      border-color: transparent;\n",
              "      border-right-color: var(--fill-color);\n",
              "      border-bottom-color: var(--fill-color);\n",
              "    }\n",
              "    90% {\n",
              "      border-color: transparent;\n",
              "      border-bottom-color: var(--fill-color);\n",
              "    }\n",
              "  }\n",
              "</style>\n",
              "\n",
              "  <script>\n",
              "    async function quickchart(key) {\n",
              "      const quickchartButtonEl =\n",
              "        document.querySelector('#' + key + ' button');\n",
              "      quickchartButtonEl.disabled = true;  // To prevent multiple clicks.\n",
              "      quickchartButtonEl.classList.add('colab-df-spinner');\n",
              "      try {\n",
              "        const charts = await google.colab.kernel.invokeFunction(\n",
              "            'suggestCharts', [key], {});\n",
              "      } catch (error) {\n",
              "        console.error('Error during call to suggestCharts:', error);\n",
              "      }\n",
              "      quickchartButtonEl.classList.remove('colab-df-spinner');\n",
              "      quickchartButtonEl.classList.add('colab-df-quickchart-complete');\n",
              "    }\n",
              "    (() => {\n",
              "      let quickchartButtonEl =\n",
              "        document.querySelector('#df-04650692-35e2-4b2e-9c64-ec8a4b8e8dff button');\n",
              "      quickchartButtonEl.style.display =\n",
              "        google.colab.kernel.accessAllowed ? 'block' : 'none';\n",
              "    })();\n",
              "  </script>\n",
              "</div>\n",
              "\n",
              "    </div>\n",
              "  </div>\n"
            ],
            "application/vnd.google.colaboratory.intrinsic+json": {
              "type": "dataframe",
              "variable_name": "df",
              "summary": "{\n  \"name\": \"df\",\n  \"rows\": 10476,\n  \"fields\": [\n    {\n      \"column\": \"#YY\",\n      \"properties\": {\n        \"dtype\": \"number\",\n        \"std\": 0,\n        \"min\": 2021,\n        \"max\": 2021,\n        \"num_unique_values\": 1,\n        \"samples\": [\n          2021\n        ],\n        \"semantic_type\": \"\",\n        \"description\": \"\"\n      }\n    },\n    {\n      \"column\": \"MM\",\n      \"properties\": {\n        \"dtype\": \"number\",\n        \"std\": 0,\n        \"min\": 6,\n        \"max\": 8,\n        \"num_unique_values\": 3,\n        \"samples\": [\n          6\n        ],\n        \"semantic_type\": \"\",\n        \"description\": \"\"\n      }\n    },\n    {\n      \"column\": \"DD\",\n      \"properties\": {\n        \"dtype\": \"number\",\n        \"std\": 8,\n        \"min\": 1,\n        \"max\": 31,\n        \"num_unique_values\": 31,\n        \"samples\": [\n          17\n        ],\n        \"semantic_type\": \"\",\n        \"description\": \"\"\n      }\n    },\n    {\n      \"column\": \"hh\",\n      \"properties\": {\n        \"dtype\": \"number\",\n        \"std\": 6,\n        \"min\": 0,\n        \"max\": 23,\n        \"num_unique_values\": 24,\n        \"samples\": [\n          13\n        ],\n        \"semantic_type\": \"\",\n        \"description\": \"\"\n      }\n    },\n    {\n      \"column\": \"mm\",\n      \"properties\": {\n        \"dtype\": \"number\",\n        \"std\": 17,\n        \"min\": 0,\n        \"max\": 50,\n        \"num_unique_values\": 6,\n        \"samples\": [\n          50\n        ],\n        \"semantic_type\": \"\",\n        \"description\": \"\"\n      }\n    },\n    {\n      \"column\": \"WDIR\",\n      \"properties\": {\n        \"dtype\": \"number\",\n        \"std\": 61,\n        \"min\": 1,\n        \"max\": 999,\n        \"num_unique_values\": 357,\n        \"samples\": [\n          293\n        ],\n        \"semantic_type\": \"\",\n        \"description\": \"\"\n      }\n    },\n    {\n      \"column\": \"WSPD\",\n      \"properties\": {\n        \"dtype\": \"number\",\n        \"std\": 3.3648198166292955,\n        \"min\": 0.0,\n        \"max\": 99.0,\n        \"num_unique_values\": 159,\n        \"samples\": [\n          11.2\n        ],\n        \"semantic_type\": \"\",\n        \"description\": \"\"\n      }\n    },\n    {\n      \"column\": \"GST\",\n      \"properties\": {\n        \"dtype\": \"number\",\n        \"std\": 4.000488910405747,\n        \"min\": 0.3,\n        \"max\": 99.0,\n        \"num_unique_values\": 207,\n        \"samples\": [\n          5.0\n        ],\n        \"semantic_type\": \"\",\n        \"description\": \"\"\n      }\n    },\n    {\n      \"column\": \"WVHT\",\n      \"properties\": {\n        \"dtype\": \"number\",\n        \"std\": 36.34750566143864,\n        \"min\": 0.62,\n        \"max\": 99.0,\n        \"num_unique_values\": 277,\n        \"samples\": [\n          3.15\n        ],\n        \"semantic_type\": \"\",\n        \"description\": \"\"\n      }\n    },\n    {\n      \"column\": \"DPD\",\n      \"properties\": {\n        \"dtype\": \"number\",\n        \"std\": 33.982503195742,\n        \"min\": 3.57,\n        \"max\": 99.0,\n        \"num_unique_values\": 23,\n        \"samples\": [\n          12.12\n        ],\n        \"semantic_type\": \"\",\n        \"description\": \"\"\n      }\n    },\n    {\n      \"column\": \"APD\",\n      \"properties\": {\n        \"dtype\": \"number\",\n        \"std\": 34.8143802061819,\n        \"min\": 3.89,\n        \"max\": 99.0,\n        \"num_unique_values\": 337,\n        \"samples\": [\n          5.78\n        ],\n        \"semantic_type\": \"\",\n        \"description\": \"\"\n      }\n    },\n    {\n      \"column\": \"MWD\",\n      \"properties\": {\n        \"dtype\": \"number\",\n        \"std\": 307,\n        \"min\": 1,\n        \"max\": 999,\n        \"num_unique_values\": 252,\n        \"samples\": [\n          185\n        ],\n        \"semantic_type\": \"\",\n        \"description\": \"\"\n      }\n    },\n    {\n      \"column\": \"PRES\",\n      \"properties\": {\n        \"dtype\": \"number\",\n        \"std\": 4.085218367206266,\n        \"min\": 1001.3,\n        \"max\": 1027.9,\n        \"num_unique_values\": 239,\n        \"samples\": [\n          1017.8\n        ],\n        \"semantic_type\": \"\",\n        \"description\": \"\"\n      }\n    },\n    {\n      \"column\": \"ATMP\",\n      \"properties\": {\n        \"dtype\": \"number\",\n        \"std\": 19.026623727137725,\n        \"min\": 21.9,\n        \"max\": 999.0,\n        \"num_unique_values\": 82,\n        \"samples\": [\n          23.0\n        ],\n        \"semantic_type\": \"\",\n        \"description\": \"\"\n      }\n    },\n    {\n      \"column\": \"WTMP\",\n      \"properties\": {\n        \"dtype\": \"number\",\n        \"std\": 71.48154668279052,\n        \"min\": 24.6,\n        \"max\": 999.0,\n        \"num_unique_values\": 50,\n        \"samples\": [\n          25.8\n        ],\n        \"semantic_type\": \"\",\n        \"description\": \"\"\n      }\n    },\n    {\n      \"column\": \"DEWP\",\n      \"properties\": {\n        \"dtype\": \"number\",\n        \"std\": 19.096177807768928,\n        \"min\": 18.2,\n        \"max\": 999.0,\n        \"num_unique_values\": 90,\n        \"samples\": [\n          21.7\n        ],\n        \"semantic_type\": \"\",\n        \"description\": \"\"\n      }\n    },\n    {\n      \"column\": \"VIS\",\n      \"properties\": {\n        \"dtype\": \"number\",\n        \"std\": 0.0,\n        \"min\": 99.0,\n        \"max\": 99.0,\n        \"num_unique_values\": 1,\n        \"samples\": [\n          99.0\n        ],\n        \"semantic_type\": \"\",\n        \"description\": \"\"\n      }\n    },\n    {\n      \"column\": \"TIDE\",\n      \"properties\": {\n        \"dtype\": \"number\",\n        \"std\": 0.0,\n        \"min\": 99.0,\n        \"max\": 99.0,\n        \"num_unique_values\": 1,\n        \"samples\": [\n          99.0\n        ],\n        \"semantic_type\": \"\",\n        \"description\": \"\"\n      }\n    }\n  ]\n}"
            }
          },
          "metadata": {},
          "execution_count": 433
        }
      ],
      "source": [
        "# Remove the first row\n",
        "df = df.iloc[1:]\n",
        "df.head()"
      ]
    },
    {
      "cell_type": "code",
      "source": [
        "df.shape"
      ],
      "metadata": {
        "colab": {
          "base_uri": "https://localhost:8080/"
        },
        "id": "09d0QONBDcwT",
        "outputId": "9f22738f-4c38-4082-aef5-b80887741ec6"
      },
      "execution_count": 434,
      "outputs": [
        {
          "output_type": "execute_result",
          "data": {
            "text/plain": [
              "(10476, 18)"
            ]
          },
          "metadata": {},
          "execution_count": 434
        }
      ]
    },
    {
      "cell_type": "code",
      "execution_count": 435,
      "metadata": {
        "id": "LS_Y8UoKoWgY",
        "colab": {
          "base_uri": "https://localhost:8080/"
        },
        "outputId": "9f8db0da-e477-41ea-dfe7-682fcd13c9b7"
      },
      "outputs": [
        {
          "output_type": "stream",
          "name": "stderr",
          "text": [
            "<ipython-input-435-027fd0094cd0>:3: SettingWithCopyWarning: \n",
            "A value is trying to be set on a copy of a slice from a DataFrame.\n",
            "Try using .loc[row_indexer,col_indexer] = value instead\n",
            "\n",
            "See the caveats in the documentation: https://pandas.pydata.org/pandas-docs/stable/user_guide/indexing.html#returning-a-view-versus-a-copy\n",
            "  df[columns_to_convert] = df[columns_to_convert].apply(pd.to_numeric, errors='coerce')\n"
          ]
        }
      ],
      "source": [
        "# Convert specific columns to numeric values\n",
        "columns_to_convert = ['#YY', 'MM', 'DD', 'hh', 'mm', 'WDIR', 'WSPD', 'GST', 'WVHT', 'DPD', 'APD', 'MWD', 'PRES', 'ATMP', 'WTMP', 'DEWP', 'VIS', 'TIDE']\n",
        "df[columns_to_convert] = df[columns_to_convert].apply(pd.to_numeric, errors='coerce')\n",
        "# Alternatively, convert all object columns to numeric values\n",
        "df = df.apply(pd.to_numeric, errors='coerce')"
      ]
    },
    {
      "cell_type": "code",
      "execution_count": 436,
      "metadata": {
        "id": "Eleb1_xYoZdI"
      },
      "outputs": [],
      "source": [
        "# Extract rows where mm=0\n",
        "df = df[df[\"mm\"] == 40]"
      ]
    },
    {
      "cell_type": "code",
      "execution_count": 437,
      "metadata": {
        "id": "i_ovKSScob2_"
      },
      "outputs": [],
      "source": [
        "#here we reset the index\n",
        "df = df.reset_index(drop=True)"
      ]
    },
    {
      "cell_type": "code",
      "execution_count": 438,
      "metadata": {
        "colab": {
          "base_uri": "https://localhost:8080/"
        },
        "id": "7AFAXgcnoeA6",
        "outputId": "2f72bb4f-15a9-45ad-bfcf-13377ef09e01"
      },
      "outputs": [
        {
          "output_type": "execute_result",
          "data": {
            "text/plain": [
              "(1746, 18)"
            ]
          },
          "metadata": {},
          "execution_count": 438
        }
      ],
      "source": [
        "df.shape"
      ]
    },
    {
      "cell_type": "code",
      "source": [
        "df.isnull().sum()"
      ],
      "metadata": {
        "colab": {
          "base_uri": "https://localhost:8080/"
        },
        "id": "ZB-aPahVDjqB",
        "outputId": "a612cd79-b446-4d2c-8d90-dd5f19538114"
      },
      "execution_count": 439,
      "outputs": [
        {
          "output_type": "execute_result",
          "data": {
            "text/plain": [
              "#YY     0\n",
              "MM      0\n",
              "DD      0\n",
              "hh      0\n",
              "mm      0\n",
              "WDIR    0\n",
              "WSPD    0\n",
              "GST     0\n",
              "WVHT    0\n",
              "DPD     0\n",
              "APD     0\n",
              "MWD     0\n",
              "PRES    0\n",
              "ATMP    0\n",
              "WTMP    0\n",
              "DEWP    0\n",
              "VIS     0\n",
              "TIDE    0\n",
              "dtype: int64"
            ]
          },
          "metadata": {},
          "execution_count": 439
        }
      ]
    },
    {
      "cell_type": "code",
      "source": [
        "df = df.dropna()"
      ],
      "metadata": {
        "id": "K_Xs3C3oDnKZ"
      },
      "execution_count": 440,
      "outputs": []
    },
    {
      "cell_type": "code",
      "execution_count": 441,
      "metadata": {
        "colab": {
          "base_uri": "https://localhost:8080/"
        },
        "id": "Q8oaYMcipbrS",
        "outputId": "7fbb1b55-b7c1-499f-f36a-7b4c63543d8f"
      },
      "outputs": [
        {
          "output_type": "execute_result",
          "data": {
            "text/plain": [
              "(1746, 18)"
            ]
          },
          "metadata": {},
          "execution_count": 441
        }
      ],
      "source": [
        "df.shape"
      ]
    },
    {
      "cell_type": "code",
      "execution_count": 442,
      "metadata": {
        "id": "HU3q9aicpde_"
      },
      "outputs": [],
      "source": [
        "# Combine date and time columns into a single datetime column\n",
        "df['date_time'] = pd.to_datetime(df[['#YY', 'MM', 'DD', 'hh', 'mm']].astype(str).apply(' '.join, axis=1), format='%Y %m %d %H %M')"
      ]
    },
    {
      "cell_type": "code",
      "source": [
        "# Drop 5 columns by specifying their column labels\n",
        "columns_to_drop = ['#YY', 'MM', 'DD', 'hh', 'mm']\n",
        "df = df.drop(columns=columns_to_drop)"
      ],
      "metadata": {
        "id": "gUKyE91_Dx2r"
      },
      "execution_count": 443,
      "outputs": []
    },
    {
      "cell_type": "code",
      "source": [
        "#Move the 'date_time' column to the first position\n",
        "date_time_column = df.pop('date_time')\n",
        "df.insert(0, 'date_time', date_time_column)"
      ],
      "metadata": {
        "id": "tljF_gEjD1qS"
      },
      "execution_count": 444,
      "outputs": []
    },
    {
      "cell_type": "code",
      "source": [
        "df.head()"
      ],
      "metadata": {
        "colab": {
          "base_uri": "https://localhost:8080/",
          "height": 292
        },
        "id": "wDLQ63_1D4sH",
        "outputId": "c3322f22-5e7f-4481-a270-e7d9daa08202"
      },
      "execution_count": 445,
      "outputs": [
        {
          "output_type": "execute_result",
          "data": {
            "text/plain": [
              "            date_time  WDIR  WSPD   GST  WVHT   DPD   APD  MWD    PRES  ATMP  \\\n",
              "0 2021-06-20 06:40:00   214   9.4  11.2  1.34  5.88  4.53  246  1015.1  25.1   \n",
              "1 2021-06-20 07:40:00   218   8.8  10.7  1.39  4.76  4.54  221  1015.5  25.2   \n",
              "2 2021-06-20 08:40:00   222   8.8  10.6  1.42  4.76  4.57  235  1015.9  25.3   \n",
              "3 2021-06-20 09:40:00   224   8.6  10.7  1.42  7.69  4.62  175  1016.2  25.5   \n",
              "4 2021-06-20 10:40:00   222   8.9  11.1  1.35  6.67  4.51  243  1016.2  25.6   \n",
              "\n",
              "    WTMP  DEWP   VIS  TIDE  \n",
              "0  999.0  24.4  99.0  99.0  \n",
              "1   25.2  24.5  99.0  99.0  \n",
              "2   25.2  24.8  99.0  99.0  \n",
              "3   25.1  24.8  99.0  99.0  \n",
              "4   25.1  25.0  99.0  99.0  "
            ],
            "text/html": [
              "\n",
              "  <div id=\"df-4d74e668-9f0e-48fc-8af8-5117571dd695\" class=\"colab-df-container\">\n",
              "    <div>\n",
              "<style scoped>\n",
              "    .dataframe tbody tr th:only-of-type {\n",
              "        vertical-align: middle;\n",
              "    }\n",
              "\n",
              "    .dataframe tbody tr th {\n",
              "        vertical-align: top;\n",
              "    }\n",
              "\n",
              "    .dataframe thead th {\n",
              "        text-align: right;\n",
              "    }\n",
              "</style>\n",
              "<table border=\"1\" class=\"dataframe\">\n",
              "  <thead>\n",
              "    <tr style=\"text-align: right;\">\n",
              "      <th></th>\n",
              "      <th>date_time</th>\n",
              "      <th>WDIR</th>\n",
              "      <th>WSPD</th>\n",
              "      <th>GST</th>\n",
              "      <th>WVHT</th>\n",
              "      <th>DPD</th>\n",
              "      <th>APD</th>\n",
              "      <th>MWD</th>\n",
              "      <th>PRES</th>\n",
              "      <th>ATMP</th>\n",
              "      <th>WTMP</th>\n",
              "      <th>DEWP</th>\n",
              "      <th>VIS</th>\n",
              "      <th>TIDE</th>\n",
              "    </tr>\n",
              "  </thead>\n",
              "  <tbody>\n",
              "    <tr>\n",
              "      <th>0</th>\n",
              "      <td>2021-06-20 06:40:00</td>\n",
              "      <td>214</td>\n",
              "      <td>9.4</td>\n",
              "      <td>11.2</td>\n",
              "      <td>1.34</td>\n",
              "      <td>5.88</td>\n",
              "      <td>4.53</td>\n",
              "      <td>246</td>\n",
              "      <td>1015.1</td>\n",
              "      <td>25.1</td>\n",
              "      <td>999.0</td>\n",
              "      <td>24.4</td>\n",
              "      <td>99.0</td>\n",
              "      <td>99.0</td>\n",
              "    </tr>\n",
              "    <tr>\n",
              "      <th>1</th>\n",
              "      <td>2021-06-20 07:40:00</td>\n",
              "      <td>218</td>\n",
              "      <td>8.8</td>\n",
              "      <td>10.7</td>\n",
              "      <td>1.39</td>\n",
              "      <td>4.76</td>\n",
              "      <td>4.54</td>\n",
              "      <td>221</td>\n",
              "      <td>1015.5</td>\n",
              "      <td>25.2</td>\n",
              "      <td>25.2</td>\n",
              "      <td>24.5</td>\n",
              "      <td>99.0</td>\n",
              "      <td>99.0</td>\n",
              "    </tr>\n",
              "    <tr>\n",
              "      <th>2</th>\n",
              "      <td>2021-06-20 08:40:00</td>\n",
              "      <td>222</td>\n",
              "      <td>8.8</td>\n",
              "      <td>10.6</td>\n",
              "      <td>1.42</td>\n",
              "      <td>4.76</td>\n",
              "      <td>4.57</td>\n",
              "      <td>235</td>\n",
              "      <td>1015.9</td>\n",
              "      <td>25.3</td>\n",
              "      <td>25.2</td>\n",
              "      <td>24.8</td>\n",
              "      <td>99.0</td>\n",
              "      <td>99.0</td>\n",
              "    </tr>\n",
              "    <tr>\n",
              "      <th>3</th>\n",
              "      <td>2021-06-20 09:40:00</td>\n",
              "      <td>224</td>\n",
              "      <td>8.6</td>\n",
              "      <td>10.7</td>\n",
              "      <td>1.42</td>\n",
              "      <td>7.69</td>\n",
              "      <td>4.62</td>\n",
              "      <td>175</td>\n",
              "      <td>1016.2</td>\n",
              "      <td>25.5</td>\n",
              "      <td>25.1</td>\n",
              "      <td>24.8</td>\n",
              "      <td>99.0</td>\n",
              "      <td>99.0</td>\n",
              "    </tr>\n",
              "    <tr>\n",
              "      <th>4</th>\n",
              "      <td>2021-06-20 10:40:00</td>\n",
              "      <td>222</td>\n",
              "      <td>8.9</td>\n",
              "      <td>11.1</td>\n",
              "      <td>1.35</td>\n",
              "      <td>6.67</td>\n",
              "      <td>4.51</td>\n",
              "      <td>243</td>\n",
              "      <td>1016.2</td>\n",
              "      <td>25.6</td>\n",
              "      <td>25.1</td>\n",
              "      <td>25.0</td>\n",
              "      <td>99.0</td>\n",
              "      <td>99.0</td>\n",
              "    </tr>\n",
              "  </tbody>\n",
              "</table>\n",
              "</div>\n",
              "    <div class=\"colab-df-buttons\">\n",
              "\n",
              "  <div class=\"colab-df-container\">\n",
              "    <button class=\"colab-df-convert\" onclick=\"convertToInteractive('df-4d74e668-9f0e-48fc-8af8-5117571dd695')\"\n",
              "            title=\"Convert this dataframe to an interactive table.\"\n",
              "            style=\"display:none;\">\n",
              "\n",
              "  <svg xmlns=\"http://www.w3.org/2000/svg\" height=\"24px\" viewBox=\"0 -960 960 960\">\n",
              "    <path d=\"M120-120v-720h720v720H120Zm60-500h600v-160H180v160Zm220 220h160v-160H400v160Zm0 220h160v-160H400v160ZM180-400h160v-160H180v160Zm440 0h160v-160H620v160ZM180-180h160v-160H180v160Zm440 0h160v-160H620v160Z\"/>\n",
              "  </svg>\n",
              "    </button>\n",
              "\n",
              "  <style>\n",
              "    .colab-df-container {\n",
              "      display:flex;\n",
              "      gap: 12px;\n",
              "    }\n",
              "\n",
              "    .colab-df-convert {\n",
              "      background-color: #E8F0FE;\n",
              "      border: none;\n",
              "      border-radius: 50%;\n",
              "      cursor: pointer;\n",
              "      display: none;\n",
              "      fill: #1967D2;\n",
              "      height: 32px;\n",
              "      padding: 0 0 0 0;\n",
              "      width: 32px;\n",
              "    }\n",
              "\n",
              "    .colab-df-convert:hover {\n",
              "      background-color: #E2EBFA;\n",
              "      box-shadow: 0px 1px 2px rgba(60, 64, 67, 0.3), 0px 1px 3px 1px rgba(60, 64, 67, 0.15);\n",
              "      fill: #174EA6;\n",
              "    }\n",
              "\n",
              "    .colab-df-buttons div {\n",
              "      margin-bottom: 4px;\n",
              "    }\n",
              "\n",
              "    [theme=dark] .colab-df-convert {\n",
              "      background-color: #3B4455;\n",
              "      fill: #D2E3FC;\n",
              "    }\n",
              "\n",
              "    [theme=dark] .colab-df-convert:hover {\n",
              "      background-color: #434B5C;\n",
              "      box-shadow: 0px 1px 3px 1px rgba(0, 0, 0, 0.15);\n",
              "      filter: drop-shadow(0px 1px 2px rgba(0, 0, 0, 0.3));\n",
              "      fill: #FFFFFF;\n",
              "    }\n",
              "  </style>\n",
              "\n",
              "    <script>\n",
              "      const buttonEl =\n",
              "        document.querySelector('#df-4d74e668-9f0e-48fc-8af8-5117571dd695 button.colab-df-convert');\n",
              "      buttonEl.style.display =\n",
              "        google.colab.kernel.accessAllowed ? 'block' : 'none';\n",
              "\n",
              "      async function convertToInteractive(key) {\n",
              "        const element = document.querySelector('#df-4d74e668-9f0e-48fc-8af8-5117571dd695');\n",
              "        const dataTable =\n",
              "          await google.colab.kernel.invokeFunction('convertToInteractive',\n",
              "                                                    [key], {});\n",
              "        if (!dataTable) return;\n",
              "\n",
              "        const docLinkHtml = 'Like what you see? Visit the ' +\n",
              "          '<a target=\"_blank\" href=https://colab.research.google.com/notebooks/data_table.ipynb>data table notebook</a>'\n",
              "          + ' to learn more about interactive tables.';\n",
              "        element.innerHTML = '';\n",
              "        dataTable['output_type'] = 'display_data';\n",
              "        await google.colab.output.renderOutput(dataTable, element);\n",
              "        const docLink = document.createElement('div');\n",
              "        docLink.innerHTML = docLinkHtml;\n",
              "        element.appendChild(docLink);\n",
              "      }\n",
              "    </script>\n",
              "  </div>\n",
              "\n",
              "\n",
              "<div id=\"df-e07c64e7-166e-46b3-b73f-84e34a155d69\">\n",
              "  <button class=\"colab-df-quickchart\" onclick=\"quickchart('df-e07c64e7-166e-46b3-b73f-84e34a155d69')\"\n",
              "            title=\"Suggest charts\"\n",
              "            style=\"display:none;\">\n",
              "\n",
              "<svg xmlns=\"http://www.w3.org/2000/svg\" height=\"24px\"viewBox=\"0 0 24 24\"\n",
              "     width=\"24px\">\n",
              "    <g>\n",
              "        <path d=\"M19 3H5c-1.1 0-2 .9-2 2v14c0 1.1.9 2 2 2h14c1.1 0 2-.9 2-2V5c0-1.1-.9-2-2-2zM9 17H7v-7h2v7zm4 0h-2V7h2v10zm4 0h-2v-4h2v4z\"/>\n",
              "    </g>\n",
              "</svg>\n",
              "  </button>\n",
              "\n",
              "<style>\n",
              "  .colab-df-quickchart {\n",
              "      --bg-color: #E8F0FE;\n",
              "      --fill-color: #1967D2;\n",
              "      --hover-bg-color: #E2EBFA;\n",
              "      --hover-fill-color: #174EA6;\n",
              "      --disabled-fill-color: #AAA;\n",
              "      --disabled-bg-color: #DDD;\n",
              "  }\n",
              "\n",
              "  [theme=dark] .colab-df-quickchart {\n",
              "      --bg-color: #3B4455;\n",
              "      --fill-color: #D2E3FC;\n",
              "      --hover-bg-color: #434B5C;\n",
              "      --hover-fill-color: #FFFFFF;\n",
              "      --disabled-bg-color: #3B4455;\n",
              "      --disabled-fill-color: #666;\n",
              "  }\n",
              "\n",
              "  .colab-df-quickchart {\n",
              "    background-color: var(--bg-color);\n",
              "    border: none;\n",
              "    border-radius: 50%;\n",
              "    cursor: pointer;\n",
              "    display: none;\n",
              "    fill: var(--fill-color);\n",
              "    height: 32px;\n",
              "    padding: 0;\n",
              "    width: 32px;\n",
              "  }\n",
              "\n",
              "  .colab-df-quickchart:hover {\n",
              "    background-color: var(--hover-bg-color);\n",
              "    box-shadow: 0 1px 2px rgba(60, 64, 67, 0.3), 0 1px 3px 1px rgba(60, 64, 67, 0.15);\n",
              "    fill: var(--button-hover-fill-color);\n",
              "  }\n",
              "\n",
              "  .colab-df-quickchart-complete:disabled,\n",
              "  .colab-df-quickchart-complete:disabled:hover {\n",
              "    background-color: var(--disabled-bg-color);\n",
              "    fill: var(--disabled-fill-color);\n",
              "    box-shadow: none;\n",
              "  }\n",
              "\n",
              "  .colab-df-spinner {\n",
              "    border: 2px solid var(--fill-color);\n",
              "    border-color: transparent;\n",
              "    border-bottom-color: var(--fill-color);\n",
              "    animation:\n",
              "      spin 1s steps(1) infinite;\n",
              "  }\n",
              "\n",
              "  @keyframes spin {\n",
              "    0% {\n",
              "      border-color: transparent;\n",
              "      border-bottom-color: var(--fill-color);\n",
              "      border-left-color: var(--fill-color);\n",
              "    }\n",
              "    20% {\n",
              "      border-color: transparent;\n",
              "      border-left-color: var(--fill-color);\n",
              "      border-top-color: var(--fill-color);\n",
              "    }\n",
              "    30% {\n",
              "      border-color: transparent;\n",
              "      border-left-color: var(--fill-color);\n",
              "      border-top-color: var(--fill-color);\n",
              "      border-right-color: var(--fill-color);\n",
              "    }\n",
              "    40% {\n",
              "      border-color: transparent;\n",
              "      border-right-color: var(--fill-color);\n",
              "      border-top-color: var(--fill-color);\n",
              "    }\n",
              "    60% {\n",
              "      border-color: transparent;\n",
              "      border-right-color: var(--fill-color);\n",
              "    }\n",
              "    80% {\n",
              "      border-color: transparent;\n",
              "      border-right-color: var(--fill-color);\n",
              "      border-bottom-color: var(--fill-color);\n",
              "    }\n",
              "    90% {\n",
              "      border-color: transparent;\n",
              "      border-bottom-color: var(--fill-color);\n",
              "    }\n",
              "  }\n",
              "</style>\n",
              "\n",
              "  <script>\n",
              "    async function quickchart(key) {\n",
              "      const quickchartButtonEl =\n",
              "        document.querySelector('#' + key + ' button');\n",
              "      quickchartButtonEl.disabled = true;  // To prevent multiple clicks.\n",
              "      quickchartButtonEl.classList.add('colab-df-spinner');\n",
              "      try {\n",
              "        const charts = await google.colab.kernel.invokeFunction(\n",
              "            'suggestCharts', [key], {});\n",
              "      } catch (error) {\n",
              "        console.error('Error during call to suggestCharts:', error);\n",
              "      }\n",
              "      quickchartButtonEl.classList.remove('colab-df-spinner');\n",
              "      quickchartButtonEl.classList.add('colab-df-quickchart-complete');\n",
              "    }\n",
              "    (() => {\n",
              "      let quickchartButtonEl =\n",
              "        document.querySelector('#df-e07c64e7-166e-46b3-b73f-84e34a155d69 button');\n",
              "      quickchartButtonEl.style.display =\n",
              "        google.colab.kernel.accessAllowed ? 'block' : 'none';\n",
              "    })();\n",
              "  </script>\n",
              "</div>\n",
              "\n",
              "    </div>\n",
              "  </div>\n"
            ],
            "application/vnd.google.colaboratory.intrinsic+json": {
              "type": "dataframe",
              "variable_name": "df",
              "summary": "{\n  \"name\": \"df\",\n  \"rows\": 1746,\n  \"fields\": [\n    {\n      \"column\": \"date_time\",\n      \"properties\": {\n        \"dtype\": \"date\",\n        \"min\": \"2021-06-20 06:40:00\",\n        \"max\": \"2021-08-31 23:40:00\",\n        \"num_unique_values\": 1746,\n        \"samples\": [\n          \"2021-07-05 11:40:00\",\n          \"2021-07-04 14:40:00\",\n          \"2021-07-20 01:40:00\"\n        ],\n        \"semantic_type\": \"\",\n        \"description\": \"\"\n      }\n    },\n    {\n      \"column\": \"WDIR\",\n      \"properties\": {\n        \"dtype\": \"number\",\n        \"std\": 60,\n        \"min\": 2,\n        \"max\": 360,\n        \"num_unique_values\": 292,\n        \"samples\": [\n          107,\n          279,\n          139\n        ],\n        \"semantic_type\": \"\",\n        \"description\": \"\"\n      }\n    },\n    {\n      \"column\": \"WSPD\",\n      \"properties\": {\n        \"dtype\": \"number\",\n        \"std\": 2.966158162902051,\n        \"min\": 0.0,\n        \"max\": 15.6,\n        \"num_unique_values\": 137,\n        \"samples\": [\n          11.8,\n          11.3,\n          10.1\n        ],\n        \"semantic_type\": \"\",\n        \"description\": \"\"\n      }\n    },\n    {\n      \"column\": \"GST\",\n      \"properties\": {\n        \"dtype\": \"number\",\n        \"std\": 3.6769141103099896,\n        \"min\": 0.3,\n        \"max\": 20.8,\n        \"num_unique_values\": 171,\n        \"samples\": [\n          4.3,\n          1.1,\n          6.3\n        ],\n        \"semantic_type\": \"\",\n        \"description\": \"\"\n      }\n    },\n    {\n      \"column\": \"WVHT\",\n      \"properties\": {\n        \"dtype\": \"number\",\n        \"std\": 3.3797813846087554,\n        \"min\": 0.62,\n        \"max\": 99.0,\n        \"num_unique_values\": 277,\n        \"samples\": [\n          2.95,\n          0.78,\n          0.63\n        ],\n        \"semantic_type\": \"\",\n        \"description\": \"\"\n      }\n    },\n    {\n      \"column\": \"DPD\",\n      \"properties\": {\n        \"dtype\": \"number\",\n        \"std\": 3.4254937314199467,\n        \"min\": 3.57,\n        \"max\": 99.0,\n        \"num_unique_values\": 23,\n        \"samples\": [\n          4.17,\n          5.26,\n          5.88\n        ],\n        \"semantic_type\": \"\",\n        \"description\": \"\"\n      }\n    },\n    {\n      \"column\": \"APD\",\n      \"properties\": {\n        \"dtype\": \"number\",\n        \"std\": 3.2502752791579272,\n        \"min\": 3.89,\n        \"max\": 99.0,\n        \"num_unique_values\": 337,\n        \"samples\": [\n          5.73,\n          6.86,\n          5.66\n        ],\n        \"semantic_type\": \"\",\n        \"description\": \"\"\n      }\n    },\n    {\n      \"column\": \"MWD\",\n      \"properties\": {\n        \"dtype\": \"number\",\n        \"std\": 64,\n        \"min\": 1,\n        \"max\": 999,\n        \"num_unique_values\": 252,\n        \"samples\": [\n          186,\n          247,\n          125\n        ],\n        \"semantic_type\": \"\",\n        \"description\": \"\"\n      }\n    },\n    {\n      \"column\": \"PRES\",\n      \"properties\": {\n        \"dtype\": \"number\",\n        \"std\": 4.086743446586107,\n        \"min\": 1001.4,\n        \"max\": 1027.7,\n        \"num_unique_values\": 192,\n        \"samples\": [\n          1018.4,\n          1009.1,\n          1025.4\n        ],\n        \"semantic_type\": \"\",\n        \"description\": \"\"\n      }\n    },\n    {\n      \"column\": \"ATMP\",\n      \"properties\": {\n        \"dtype\": \"number\",\n        \"std\": 1.0818512365198267,\n        \"min\": 22.3,\n        \"max\": 29.5,\n        \"num_unique_values\": 66,\n        \"samples\": [\n          28.2,\n          29.2,\n          25.1\n        ],\n        \"semantic_type\": \"\",\n        \"description\": \"\"\n      }\n    },\n    {\n      \"column\": \"WTMP\",\n      \"properties\": {\n        \"dtype\": \"number\",\n        \"std\": 69.60183119888737,\n        \"min\": 24.6,\n        \"max\": 999.0,\n        \"num_unique_values\": 45,\n        \"samples\": [\n          29.2,\n          27.8,\n          27.9\n        ],\n        \"semantic_type\": \"\",\n        \"description\": \"\"\n      }\n    },\n    {\n      \"column\": \"DEWP\",\n      \"properties\": {\n        \"dtype\": \"number\",\n        \"std\": 1.4428990095526222,\n        \"min\": 18.2,\n        \"max\": 26.8,\n        \"num_unique_values\": 84,\n        \"samples\": [\n          19.1,\n          24.4,\n          21.1\n        ],\n        \"semantic_type\": \"\",\n        \"description\": \"\"\n      }\n    },\n    {\n      \"column\": \"VIS\",\n      \"properties\": {\n        \"dtype\": \"number\",\n        \"std\": 0.0,\n        \"min\": 99.0,\n        \"max\": 99.0,\n        \"num_unique_values\": 1,\n        \"samples\": [\n          99.0\n        ],\n        \"semantic_type\": \"\",\n        \"description\": \"\"\n      }\n    },\n    {\n      \"column\": \"TIDE\",\n      \"properties\": {\n        \"dtype\": \"number\",\n        \"std\": 0.0,\n        \"min\": 99.0,\n        \"max\": 99.0,\n        \"num_unique_values\": 1,\n        \"samples\": [\n          99.0\n        ],\n        \"semantic_type\": \"\",\n        \"description\": \"\"\n      }\n    }\n  ]\n}"
            }
          },
          "metadata": {},
          "execution_count": 445
        }
      ]
    },
    {
      "cell_type": "code",
      "source": [
        "df[\"WVHT\"]=df[\"WVHT\"].astype(float)"
      ],
      "metadata": {
        "id": "J0v3YpxPP9dt"
      },
      "execution_count": 446,
      "outputs": []
    },
    {
      "cell_type": "code",
      "execution_count": 447,
      "metadata": {
        "colab": {
          "base_uri": "https://localhost:8080/"
        },
        "id": "4b8YiHllpw2r",
        "outputId": "5d1fb9ca-9eb4-40c4-82bc-64ca17cffbd3"
      },
      "outputs": [
        {
          "output_type": "stream",
          "name": "stdout",
          "text": [
            "               date_time  WVHT\n",
            "0    2021-06-20 06:40:00  1.34\n",
            "1    2021-06-20 07:40:00  1.39\n",
            "2    2021-06-20 08:40:00  1.42\n",
            "3    2021-06-20 09:40:00  1.42\n",
            "4    2021-06-20 10:40:00  1.35\n",
            "...                  ...   ...\n",
            "1741 2021-08-31 19:40:00  1.06\n",
            "1742 2021-08-31 20:40:00  1.02\n",
            "1743 2021-08-31 21:40:00  1.01\n",
            "1744 2021-08-31 22:40:00  0.96\n",
            "1745 2021-08-31 23:40:00  1.02\n",
            "\n",
            "[1746 rows x 2 columns]\n"
          ]
        }
      ],
      "source": [
        "# Assuming you have a DataFrame called 'df'\n",
        "selected_columns = ['date_time' , 'WVHT']  # Specify the columns you want to select\n",
        "\n",
        "data = df[selected_columns]  # Create a new DataFrame by selecting the specified columns\n",
        "\n",
        "# Print the new DataFrame\n",
        "print(data)"
      ]
    },
    {
      "cell_type": "code",
      "execution_count": 448,
      "metadata": {
        "colab": {
          "base_uri": "https://localhost:8080/"
        },
        "id": "Mt8KAaODpznn",
        "outputId": "76118471-1985-49e1-fbf6-926427c98072"
      },
      "outputs": [
        {
          "output_type": "execute_result",
          "data": {
            "text/plain": [
              "array([ 1.34,  1.39,  1.42,  1.35,  1.43,  1.57,  1.6 ,  1.46,  1.41,\n",
              "        1.37,  1.38,  1.4 ,  1.48,  1.36,  1.45,  1.33,  1.26,  1.78,\n",
              "        1.49,  1.59,  1.76,  2.08,  2.81,  2.93,  3.29,  3.68,  3.36,\n",
              "        3.25,  3.  ,  3.15,  2.95,  2.76,  2.77,  2.7 ,  2.67,  2.85,\n",
              "        2.54,  2.52,  2.78,  2.57,  2.49,  2.38,  2.4 ,  2.53,  2.3 ,\n",
              "        2.2 ,  2.16,  2.31,  2.32,  2.43,  2.39,  2.96,  2.6 ,  2.74,\n",
              "        2.28,  2.27,  2.03,  1.92,  1.69,  1.65,  1.58,  1.66,  1.7 ,\n",
              "        1.53,  2.02,  2.36,  2.37,  2.23,  2.06,  1.83,  1.51,  1.44,\n",
              "        1.32,  1.3 ,  1.28,  1.22,  1.25,  1.19,  1.18,  1.11,  1.12,\n",
              "        1.1 ,  1.  ,  1.02,  0.97,  0.95,  0.92,  0.87,  0.9 ,  0.98,\n",
              "        1.06,  1.03,  1.05,  1.09,  1.07,  1.04,  0.86,  0.93,  1.08,\n",
              "        0.96,  0.94,  1.2 ,  1.23,  1.21,  1.29,  1.5 ,  1.63,  1.56,\n",
              "        1.8 ,  1.79,  1.73,  1.75,  1.74,  1.71,  1.82,  1.01,  0.84,\n",
              "        0.82,  0.81,  0.85,  0.89,  0.74,  0.83,  0.79,  0.77,  0.76,\n",
              "        0.78,  0.8 ,  0.75,  1.15,  1.24,  1.54,  1.64,  1.94,  1.89,\n",
              "        1.86,  1.87,  2.1 ,  1.99,  2.19,  1.97,  2.18,  2.33,  2.41,\n",
              "        2.65,  2.89,  3.03,  3.01,  3.47,  3.51,  3.19,  3.43,  3.58,\n",
              "        3.53,  3.24,  3.26,  3.18,  3.13,  3.05,  2.91,  2.84,  3.07,\n",
              "        2.88,  2.87,  2.72,  2.61,  2.5 ,  2.9 ,  2.64,  2.24,  2.12,\n",
              "        1.91,  1.84,  1.77,  1.61,  1.81,  1.67,  2.11,  2.13,  2.04,\n",
              "        1.96,  1.85,  1.9 ,  1.55,  0.91,  1.14,  2.07,  2.45,  2.14,\n",
              "        2.25,  2.29,  2.  ,  1.98,  2.22,  2.05,  1.47,  1.52,  1.31,\n",
              "        0.99,  0.88,  0.73, 99.  ,  1.16,  1.17,  2.42,  2.35,  2.44,\n",
              "        2.17,  2.51,  1.72,  1.95,  1.27,  1.13,  0.72,  0.7 ,  0.66,\n",
              "        0.71,  0.65,  0.64,  0.67,  0.63,  0.62,  1.68,  1.88,  1.62,\n",
              "        2.09,  2.15,  2.21,  2.47,  2.56,  2.62,  2.59,  2.98,  2.46,\n",
              "        2.26,  2.01,  2.68,  2.83,  2.73,  2.86,  2.82,  2.66,  0.69,\n",
              "        0.68,  2.8 ,  2.99,  3.22,  3.84,  3.79,  3.95,  4.26,  4.64,\n",
              "        5.07,  5.49,  5.33,  5.15,  4.12,  3.87,  3.67,  3.97,  3.35,\n",
              "        3.42,  2.55,  2.63,  1.93,  2.58,  3.2 ,  3.31,  3.52,  3.49,\n",
              "        3.17,  3.1 ,  3.08,  3.28,  3.38,  3.48,  3.33])"
            ]
          },
          "metadata": {},
          "execution_count": 448
        }
      ],
      "source": [
        "unique_values = data['WVHT'].unique()\n",
        "unique_values"
      ]
    },
    {
      "cell_type": "code",
      "execution_count": 449,
      "metadata": {
        "id": "vAqhHtZTp2LC"
      },
      "outputs": [],
      "source": [
        "data = data[data['WVHT'] != 99]"
      ]
    },
    {
      "cell_type": "code",
      "execution_count": 450,
      "metadata": {
        "colab": {
          "base_uri": "https://localhost:8080/"
        },
        "id": "uI65BbiHp5Z4",
        "outputId": "d84fec7a-031e-4721-b4d6-99bdee46e84a"
      },
      "outputs": [
        {
          "output_type": "execute_result",
          "data": {
            "text/plain": [
              "(1744, 2)"
            ]
          },
          "metadata": {},
          "execution_count": 450
        }
      ],
      "source": [
        "data.shape"
      ]
    },
    {
      "cell_type": "code",
      "execution_count": 451,
      "metadata": {
        "colab": {
          "base_uri": "https://localhost:8080/",
          "height": 540
        },
        "id": "FJfkdzSTp7a2",
        "outputId": "1059131d-c2aa-45b0-a6ff-5f4caf2ff2f3"
      },
      "outputs": [
        {
          "output_type": "execute_result",
          "data": {
            "text/plain": [
              "<Axes: >"
            ]
          },
          "metadata": {},
          "execution_count": 451
        },
        {
          "output_type": "display_data",
          "data": {
            "text/plain": [
              "<Figure size 800x600 with 1 Axes>"
            ],
            "image/png": "[encoded data removed]"
          },
          "metadata": {}
        }
      ],
      "source": [
        "data['WVHT'].plot(figsize=(8,6))"
      ]
    },
    {
      "cell_type": "code",
      "source": [
        "import numpy as np\n",
        "import pandas as pd\n",
        "import tensorflow as tf\n",
        "import pickle\n",
        "import matplotlib.pyplot as plt\n",
        "from sklearn.preprocessing import MinMaxScaler\n",
        "from tensorflow.keras.models import Sequential\n",
        "from tensorflow.keras.layers import LSTM, Dense\n",
        "from tensorflow.keras.optimizers import Adam"
      ],
      "metadata": {
        "id": "b5i9KPIbouYq"
      },
      "execution_count": 452,
      "outputs": []
    },
    {
      "cell_type": "code",
      "source": [
        "data['date_time'] = pd.to_datetime(data['date_time'])\n",
        "data = data.sort_values(by='date_time')\n",
        "y = data['WVHT'].values"
      ],
      "metadata": {
        "id": "CxKMxO2SovxB"
      },
      "execution_count": 453,
      "outputs": []
    },
    {
      "cell_type": "code",
      "source": [
        "# Define a function to prepare sequences\n",
        "def prepare_sequences(data, seq_length):\n",
        "    sequences = []\n",
        "    targets = []\n",
        "    for i in range(len(data) - seq_length):\n",
        "        sequences.append(data[i:i+seq_length])\n",
        "        targets.append(data[i+seq_length])\n",
        "    return np.array(sequences), np.array(targets)"
      ],
      "metadata": {
        "id": "T7wiumfWo1SC"
      },
      "execution_count": 454,
      "outputs": []
    },
    {
      "cell_type": "code",
      "source": [
        "# Prepare sequences and targets\n",
        "sequence_length = 100  # Adjust as needed\n",
        "x_seq, y_targets = prepare_sequences(y, sequence_length)"
      ],
      "metadata": {
        "id": "gql7d7pno-qC"
      },
      "execution_count": 455,
      "outputs": []
    },
    {
      "cell_type": "code",
      "source": [
        "# Split the data into train and test sets\n",
        "split_ratio = 0.7  # Adjust as needed\n",
        "split_idx = int(split_ratio * len(x_seq))\n",
        "x_train, x_test = x_seq[:split_idx], x_seq[split_idx:]\n",
        "y_train, y_test = y_targets[:split_idx], y_targets[split_idx:]"
      ],
      "metadata": {
        "id": "H6GLHwVquxwm"
      },
      "execution_count": 456,
      "outputs": []
    },
    {
      "cell_type": "code",
      "source": [
        "# Define quantile loss function using TensorFlow operations\n",
        "def quantile_loss(q, y_true, y_pred):\n",
        "    error = y_true - y_pred\n",
        "    return tf.reduce_mean(tf.maximum(q * error, (q - 1) * error))"
      ],
      "metadata": {
        "id": "ZJXAP6Ovu08K"
      },
      "execution_count": 457,
      "outputs": []
    },
    {
      "cell_type": "code",
      "source": [
        "# Import the Dropout layer from TensorFlow\n",
        "from tensorflow.keras.layers import Dropout"
      ],
      "metadata": {
        "id": "Cjzi3ZM2ipNm"
      },
      "execution_count": 458,
      "outputs": []
    },
    {
      "cell_type": "code",
      "source": [
        "from tensorflow.keras.layers import Input, GRU, LSTM, Dropout, Dense, Concatenate\n",
        "from tensorflow.keras.models import Model\n",
        "import tensorflow as tf\n",
        "from keras.utils import plot_model, model_to_dot"
      ],
      "metadata": {
        "id": "-Yil8wTxASTh"
      },
      "execution_count": 459,
      "outputs": []
    },
    {
      "cell_type": "code",
      "source": [
        "from tensorflow.keras.models import Model\n",
        "from tensorflow.keras.layers import Input, GRU, LSTM, SimpleRNN, Concatenate, Dense\n",
        "from tensorflow.keras.optimizers import Adam\n",
        "\n",
        "def train_model_with_quantile_loss(q):\n",
        "    # Define input shape\n",
        "    input_shape = (sequence_length, 1)\n",
        "    inputs = Input(shape=input_shape)\n",
        "\n",
        "    # GRU layer\n",
        "    gru_output = GRU(64, activation='relu')(inputs)\n",
        "\n",
        "    # LSTM layer\n",
        "    lstm_output = LSTM(64, activation='relu')(inputs)\n",
        "\n",
        "    # Concatenate the outputs of three layers\n",
        "    concatenated = Concatenate()([gru_output, lstm_output])\n",
        "\n",
        "    # Dense layer\n",
        "    dense_output = Dense(64, activation='relu')(concatenated)\n",
        "\n",
        "    # Output layer\n",
        "    output = Dense(1)(dense_output)\n",
        "\n",
        "    # Create the model\n",
        "    model = Model(inputs=inputs, outputs=output)\n",
        "\n",
        "    # Compile the model with quantile loss\n",
        "    model.compile(optimizer=Adam(learning_rate=0.001), loss=lambda y_true, y_pred: quantile_loss(q, y_true, y_pred))\n",
        "\n",
        "    # Train the model\n",
        "    model.fit(x_train, y_train, validation_split=0.1, epochs=50, batch_size=100, verbose=1)\n",
        "\n",
        "    return model"
      ],
      "metadata": {
        "id": "f5BIuPWIvZQ2"
      },
      "execution_count": 460,
      "outputs": []
    },
    {
      "cell_type": "code",
      "source": [
        "#Train models with 20% and 80% quantiles\n",
        "q_05 = 0.05  # 10% quantile\n",
        "model_05 = train_model_with_quantile_loss(q_05)"
      ],
      "metadata": {
        "colab": {
          "base_uri": "https://localhost:8080/"
        },
        "id": "gP6H_yyra8ZS",
        "outputId": "6ebd084b-ef5a-4b28-84b7-3ce95982989f"
      },
      "execution_count": 461,
      "outputs": [
        {
          "output_type": "stream",
          "name": "stdout",
          "text": [
            "Epoch 1/50\n",
            "11/11 [==============================] - 8s 358ms/step - loss: 0.0536 - val_loss: 0.0201\n",
            "Epoch 2/50\n",
            "11/11 [==============================] - 2s 163ms/step - loss: 0.0184 - val_loss: 0.0085\n",
            "Epoch 3/50\n",
            "11/11 [==============================] - 2s 163ms/step - loss: 0.0127 - val_loss: 0.0076\n",
            "Epoch 4/50\n",
            "11/11 [==============================] - 2s 163ms/step - loss: 0.0114 - val_loss: 0.0069\n",
            "Epoch 5/50\n",
            "11/11 [==============================] - 2s 163ms/step - loss: 0.0115 - val_loss: 0.0066\n",
            "Epoch 6/50\n",
            "11/11 [==============================] - 2s 169ms/step - loss: 0.0108 - val_loss: 0.0081\n",
            "Epoch 7/50\n",
            "11/11 [==============================] - 3s 304ms/step - loss: 0.0114 - val_loss: 0.0070\n",
            "Epoch 8/50\n",
            "11/11 [==============================] - 4s 352ms/step - loss: 0.0103 - val_loss: 0.0076\n",
            "Epoch 9/50\n",
            "11/11 [==============================] - 2s 163ms/step - loss: 0.0108 - val_loss: 0.0067\n",
            "Epoch 10/50\n",
            "11/11 [==============================] - 2s 166ms/step - loss: 0.0106 - val_loss: 0.0069\n",
            "Epoch 11/50\n",
            "11/11 [==============================] - 2s 162ms/step - loss: 0.0108 - val_loss: 0.0070\n",
            "Epoch 12/50\n",
            "11/11 [==============================] - 2s 165ms/step - loss: 0.0106 - val_loss: 0.0083\n",
            "Epoch 13/50\n",
            "11/11 [==============================] - 2s 164ms/step - loss: 0.0112 - val_loss: 0.0063\n",
            "Epoch 14/50\n",
            "11/11 [==============================] - 2s 223ms/step - loss: 0.0103 - val_loss: 0.0060\n",
            "Epoch 15/50\n",
            "11/11 [==============================] - 3s 275ms/step - loss: 0.0103 - val_loss: 0.0067\n",
            "Epoch 16/50\n",
            "11/11 [==============================] - 2s 166ms/step - loss: 0.0108 - val_loss: 0.0059\n",
            "Epoch 17/50\n",
            "11/11 [==============================] - 2s 163ms/step - loss: 0.0102 - val_loss: 0.0059\n",
            "Epoch 18/50\n",
            "11/11 [==============================] - 2s 163ms/step - loss: 0.0099 - val_loss: 0.0074\n",
            "Epoch 19/50\n",
            "11/11 [==============================] - 2s 165ms/step - loss: 0.0101 - val_loss: 0.0061\n",
            "Epoch 20/50\n",
            "11/11 [==============================] - 2s 164ms/step - loss: 0.0100 - val_loss: 0.0060\n",
            "Epoch 21/50\n",
            "11/11 [==============================] - 3s 283ms/step - loss: 0.0100 - val_loss: 0.0060\n",
            "Epoch 22/50\n",
            "11/11 [==============================] - 2s 204ms/step - loss: 0.0098 - val_loss: 0.0059\n",
            "Epoch 23/50\n",
            "11/11 [==============================] - 2s 164ms/step - loss: 0.0101 - val_loss: 0.0059\n",
            "Epoch 24/50\n",
            "11/11 [==============================] - 2s 160ms/step - loss: 0.0099 - val_loss: 0.0058\n",
            "Epoch 25/50\n",
            "11/11 [==============================] - 2s 161ms/step - loss: 0.0099 - val_loss: 0.0058\n",
            "Epoch 26/50\n",
            "11/11 [==============================] - 2s 167ms/step - loss: 0.0098 - val_loss: 0.0064\n",
            "Epoch 27/50\n",
            "11/11 [==============================] - 2s 187ms/step - loss: 0.0101 - val_loss: 0.0058\n",
            "Epoch 28/50\n",
            "11/11 [==============================] - 4s 319ms/step - loss: 0.0099 - val_loss: 0.0059\n",
            "Epoch 29/50\n",
            "11/11 [==============================] - 2s 163ms/step - loss: 0.0098 - val_loss: 0.0060\n",
            "Epoch 30/50\n",
            "11/11 [==============================] - 2s 162ms/step - loss: 0.0098 - val_loss: 0.0058\n",
            "Epoch 31/50\n",
            "11/11 [==============================] - 2s 163ms/step - loss: 0.0098 - val_loss: 0.0058\n",
            "Epoch 32/50\n",
            "11/11 [==============================] - 2s 164ms/step - loss: 0.0098 - val_loss: 0.0065\n",
            "Epoch 33/50\n",
            "11/11 [==============================] - 2s 164ms/step - loss: 0.0100 - val_loss: 0.0057\n",
            "Epoch 34/50\n",
            "11/11 [==============================] - 3s 235ms/step - loss: 0.0099 - val_loss: 0.0057\n",
            "Epoch 35/50\n",
            "11/11 [==============================] - 3s 276ms/step - loss: 0.0099 - val_loss: 0.0058\n",
            "Epoch 36/50\n",
            "11/11 [==============================] - 2s 160ms/step - loss: 0.0098 - val_loss: 0.0058\n",
            "Epoch 37/50\n",
            "11/11 [==============================] - 2s 161ms/step - loss: 0.0103 - val_loss: 0.0074\n",
            "Epoch 38/50\n",
            "11/11 [==============================] - 2s 165ms/step - loss: 0.0101 - val_loss: 0.0057\n",
            "Epoch 39/50\n",
            "11/11 [==============================] - 2s 166ms/step - loss: 0.0096 - val_loss: 0.0058\n",
            "Epoch 40/50\n",
            "11/11 [==============================] - 2s 163ms/step - loss: 0.0099 - val_loss: 0.0058\n",
            "Epoch 41/50\n",
            "11/11 [==============================] - 3s 263ms/step - loss: 0.0111 - val_loss: 0.0058\n",
            "Epoch 42/50\n",
            "11/11 [==============================] - 3s 232ms/step - loss: 0.0100 - val_loss: 0.0075\n",
            "Epoch 43/50\n",
            "11/11 [==============================] - 2s 166ms/step - loss: 0.0101 - val_loss: 0.0073\n",
            "Epoch 44/50\n",
            "11/11 [==============================] - 2s 165ms/step - loss: 0.0103 - val_loss: 0.0080\n",
            "Epoch 45/50\n",
            "11/11 [==============================] - 2s 164ms/step - loss: 0.0116 - val_loss: 0.0062\n",
            "Epoch 46/50\n",
            "11/11 [==============================] - 2s 166ms/step - loss: 0.0115 - val_loss: 0.0085\n",
            "Epoch 47/50\n",
            "11/11 [==============================] - 2s 159ms/step - loss: 0.0108 - val_loss: 0.0061\n",
            "Epoch 48/50\n",
            "11/11 [==============================] - 3s 318ms/step - loss: 0.0107 - val_loss: 0.0058\n",
            "Epoch 49/50\n",
            "11/11 [==============================] - 2s 159ms/step - loss: 0.0100 - val_loss: 0.0070\n",
            "Epoch 50/50\n",
            "11/11 [==============================] - 2s 160ms/step - loss: 0.0099 - val_loss: 0.0058\n"
          ]
        }
      ]
    },
    {
      "cell_type": "code",
      "source": [
        "q_95 = 0.95  # 90% quantile\n",
        "model_95 = train_model_with_quantile_loss(q_95)"
      ],
      "metadata": {
        "colab": {
          "base_uri": "https://localhost:8080/"
        },
        "id": "6yCnFd8Ka_eM",
        "outputId": "00fd6b8b-80d2-44e7-8d90-4da6f59d86b9"
      },
      "execution_count": 462,
      "outputs": [
        {
          "output_type": "stream",
          "name": "stdout",
          "text": [
            "Epoch 1/50\n",
            "11/11 [==============================] - 5s 189ms/step - loss: 0.9001 - val_loss: 0.2733\n",
            "Epoch 2/50\n",
            "11/11 [==============================] - 2s 154ms/step - loss: 1.2072 - val_loss: 0.0137\n",
            "Epoch 3/50\n",
            "11/11 [==============================] - 3s 286ms/step - loss: 0.0240 - val_loss: 0.0258\n",
            "Epoch 4/50\n",
            "11/11 [==============================] - 2s 194ms/step - loss: 0.0253 - val_loss: 0.0178\n",
            "Epoch 5/50\n",
            "11/11 [==============================] - 2s 154ms/step - loss: 0.0186 - val_loss: 0.0122\n",
            "Epoch 6/50\n",
            "11/11 [==============================] - 2s 156ms/step - loss: 0.0170 - val_loss: 0.0146\n",
            "Epoch 7/50\n",
            "11/11 [==============================] - 2s 153ms/step - loss: 0.0173 - val_loss: 0.0139\n",
            "Epoch 8/50\n",
            "11/11 [==============================] - 2s 153ms/step - loss: 0.0164 - val_loss: 0.0118\n",
            "Epoch 9/50\n",
            "11/11 [==============================] - 2s 155ms/step - loss: 0.0162 - val_loss: 0.0131\n",
            "Epoch 10/50\n",
            "11/11 [==============================] - 3s 270ms/step - loss: 0.0160 - val_loss: 0.0117\n",
            "Epoch 11/50\n",
            "11/11 [==============================] - 2s 222ms/step - loss: 0.0155 - val_loss: 0.0115\n",
            "Epoch 12/50\n",
            "11/11 [==============================] - 2s 149ms/step - loss: 0.0151 - val_loss: 0.0113\n",
            "Epoch 13/50\n",
            "11/11 [==============================] - 2s 155ms/step - loss: 0.0149 - val_loss: 0.0109\n",
            "Epoch 14/50\n",
            "11/11 [==============================] - 2s 157ms/step - loss: 0.0147 - val_loss: 0.0110\n",
            "Epoch 15/50\n",
            "11/11 [==============================] - 2s 151ms/step - loss: 0.0145 - val_loss: 0.0103\n",
            "Epoch 16/50\n",
            "11/11 [==============================] - 2s 148ms/step - loss: 0.0146 - val_loss: 0.0104\n",
            "Epoch 17/50\n",
            "11/11 [==============================] - 2s 232ms/step - loss: 0.0146 - val_loss: 0.0104\n",
            "Epoch 18/50\n",
            "11/11 [==============================] - 3s 251ms/step - loss: 0.0139 - val_loss: 0.0098\n",
            "Epoch 19/50\n",
            "11/11 [==============================] - 2s 150ms/step - loss: 0.0136 - val_loss: 0.0096\n",
            "Epoch 20/50\n",
            "11/11 [==============================] - 2s 152ms/step - loss: 0.0134 - val_loss: 0.0092\n",
            "Epoch 21/50\n",
            "11/11 [==============================] - 2s 151ms/step - loss: 0.0134 - val_loss: 0.0094\n",
            "Epoch 22/50\n",
            "11/11 [==============================] - 2s 155ms/step - loss: 0.0132 - val_loss: 0.0092\n",
            "Epoch 23/50\n",
            "11/11 [==============================] - 2s 152ms/step - loss: 0.0130 - val_loss: 0.0088\n",
            "Epoch 24/50\n",
            "11/11 [==============================] - 2s 202ms/step - loss: 0.0128 - val_loss: 0.0093\n",
            "Epoch 25/50\n",
            "11/11 [==============================] - 3s 295ms/step - loss: 0.0128 - val_loss: 0.0087\n",
            "Epoch 26/50\n",
            "11/11 [==============================] - 2s 153ms/step - loss: 0.0126 - val_loss: 0.0086\n",
            "Epoch 27/50\n",
            "11/11 [==============================] - 2s 156ms/step - loss: 0.0124 - val_loss: 0.0096\n",
            "Epoch 28/50\n",
            "11/11 [==============================] - 2s 156ms/step - loss: 0.0127 - val_loss: 0.0086\n",
            "Epoch 29/50\n",
            "11/11 [==============================] - 2s 156ms/step - loss: 0.0122 - val_loss: 0.0084\n",
            "Epoch 30/50\n",
            "11/11 [==============================] - 2s 157ms/step - loss: 0.0124 - val_loss: 0.0097\n",
            "Epoch 31/50\n",
            "11/11 [==============================] - 2s 177ms/step - loss: 0.0128 - val_loss: 0.0084\n",
            "Epoch 32/50\n",
            "11/11 [==============================] - 3s 307ms/step - loss: 0.0135 - val_loss: 0.0083\n",
            "Epoch 33/50\n",
            "11/11 [==============================] - 2s 155ms/step - loss: 0.0126 - val_loss: 0.0092\n",
            "Epoch 34/50\n",
            "11/11 [==============================] - 2s 153ms/step - loss: 0.0122 - val_loss: 0.0082\n",
            "Epoch 35/50\n",
            "11/11 [==============================] - 2s 153ms/step - loss: 0.0119 - val_loss: 0.0082\n",
            "Epoch 36/50\n",
            "11/11 [==============================] - 2s 158ms/step - loss: 0.0120 - val_loss: 0.0091\n",
            "Epoch 37/50\n",
            "11/11 [==============================] - 3s 276ms/step - loss: 0.0120 - val_loss: 0.0083\n",
            "Epoch 38/50\n",
            "11/11 [==============================] - 3s 312ms/step - loss: 0.0118 - val_loss: 0.0087\n",
            "Epoch 39/50\n",
            "11/11 [==============================] - 3s 224ms/step - loss: 0.0119 - val_loss: 0.0082\n",
            "Epoch 40/50\n",
            "11/11 [==============================] - 2s 156ms/step - loss: 0.0116 - val_loss: 0.0086\n",
            "Epoch 41/50\n",
            "11/11 [==============================] - 2s 153ms/step - loss: 0.0117 - val_loss: 0.0082\n",
            "Epoch 42/50\n",
            "11/11 [==============================] - 2s 154ms/step - loss: 0.0118 - val_loss: 0.0079\n",
            "Epoch 43/50\n",
            "11/11 [==============================] - 2s 157ms/step - loss: 0.0114 - val_loss: 0.0080\n",
            "Epoch 44/50\n",
            "11/11 [==============================] - 2s 154ms/step - loss: 0.0117 - val_loss: 0.0100\n",
            "Epoch 45/50\n",
            "11/11 [==============================] - 3s 255ms/step - loss: 0.0123 - val_loss: 0.0081\n",
            "Epoch 46/50\n",
            "11/11 [==============================] - 3s 228ms/step - loss: 0.0113 - val_loss: 0.0088\n",
            "Epoch 47/50\n",
            "11/11 [==============================] - 2s 156ms/step - loss: 0.0124 - val_loss: 0.0098\n",
            "Epoch 48/50\n",
            "11/11 [==============================] - 2s 158ms/step - loss: 0.0119 - val_loss: 0.0081\n",
            "Epoch 49/50\n",
            "11/11 [==============================] - 2s 153ms/step - loss: 0.0117 - val_loss: 0.0081\n",
            "Epoch 50/50\n",
            "11/11 [==============================] - 2s 157ms/step - loss: 0.0117 - val_loss: 0.0080\n"
          ]
        }
      ]
    },
    {
      "cell_type": "code",
      "source": [
        "# Make predictions\n",
        "y_pred_05 = model_05.predict(x_test)\n",
        "y_pred_95 = model_95.predict(x_test)"
      ],
      "metadata": {
        "colab": {
          "base_uri": "https://localhost:8080/"
        },
        "id": "Q1pj0VAvbB3q",
        "outputId": "327d7d04-d2b1-4330-9013-af74f8de8122"
      },
      "execution_count": 463,
      "outputs": [
        {
          "output_type": "stream",
          "name": "stdout",
          "text": [
            "16/16 [==============================] - 1s 20ms/step\n",
            "16/16 [==============================] - 1s 19ms/step\n"
          ]
        }
      ]
    },
    {
      "cell_type": "code",
      "source": [
        "# Plot quantile predictions along with actual values\n",
        "plt.plot(range(len(y_test)), y_test, label=\"Actual\")\n",
        "plt.plot(range(len(y_test)), y_pred_05, label=\"5% Prediction\")\n",
        "plt.plot(range(len(y_test)), y_pred_95, label=\"95% Prediction\")\n",
        "plt.xlabel(\"Data Points in Test Set\")\n",
        "plt.ylabel(\"WVHT\")\n",
        "plt.legend()\n",
        "plt.savefig('41001h2021.png')\n",
        "plt.show()\n",
        "\n",
        "# Calculate the number of points between 95% and 5% percentiles\n",
        "num_points_between_percentiles = np.sum((y_pred_05 <= y_test) & (y_test <= y_pred_95))"
      ],
      "metadata": {
        "colab": {
          "base_uri": "https://localhost:8080/",
          "height": 449
        },
        "id": "6mNyowHeiPuk",
        "outputId": "961038c8-65da-40ed-8ab5-cee5cceff9b0"
      },
      "execution_count": 464,
      "outputs": [
        {
          "output_type": "display_data",
          "data": {
            "text/plain": [
              "<Figure size 640x480 with 1 Axes>"
            ],
            "image/png": "[encoded data removed]"
          },
          "metadata": {}
        }
      ]
    },
    {
      "cell_type": "code",
      "source": [
        "# Calculate MPIW\n",
        "def calculate_mpiw(y_lower, y_upper):\n",
        "    mpiw = np.mean(y_upper - y_lower)\n",
        "    return mpiw\n",
        "\n",
        "# Calculate lower and upper bounds of prediction intervals\n",
        "y_lower_05 = y_pred_05\n",
        "y_upper_95 = y_pred_95\n",
        "\n",
        "# Calculate MPIW for the 10-90% prediction interval\n",
        "mpiw = calculate_mpiw(y_lower_05, y_upper_95)\n",
        "\n",
        "# Print MPIW for the 10-90% prediction interval\n",
        "print(\"MPIW:\", mpiw)"
      ],
      "metadata": {
        "colab": {
          "base_uri": "https://localhost:8080/"
        },
        "id": "lSvXljPeCj0i",
        "outputId": "8c860793-8c05-497f-99a7-1676d896af82"
      },
      "execution_count": 466,
      "outputs": [
        {
          "output_type": "stream",
          "name": "stdout",
          "text": [
            "MPIW: 0.32655817\n"
          ]
        }
      ]
    },
    {
      "cell_type": "code",
      "source": [
        "print(len(y_test))"
      ],
      "metadata": {
        "colab": {
          "base_uri": "https://localhost:8080/"
        },
        "id": "YA9CdsgZqJmD",
        "outputId": "cded2ec3-4c79-42a9-926f-358d4204693c"
      },
      "execution_count": 473,
      "outputs": [
        {
          "output_type": "stream",
          "name": "stdout",
          "text": [
            "494\n"
          ]
        }
      ]
    },
    {
      "cell_type": "code",
      "source": [
        "# Check if each actual observation falls within the prediction interval\n",
        "within_interval = (y_pred_05.flatten() <= y_test) & (y_test <= y_pred_95.flatten())\n",
        "print(within_interval.sum())"
      ],
      "metadata": {
        "colab": {
          "base_uri": "https://localhost:8080/"
        },
        "id": "FOHUgooop6-g",
        "outputId": "a69c7d5f-6cbb-41bb-c0ef-ad13892f4f8a"
      },
      "execution_count": 470,
      "outputs": [
        {
          "output_type": "stream",
          "name": "stdout",
          "text": [
            "447\n"
          ]
        }
      ]
    },
    {
      "cell_type": "code",
      "source": [
        "# Check if each actual observation falls within the prediction interval\n",
        "within_interval = (y_pred_05.flatten() <= y_test) & (y_test <= y_pred_95.flatten())\n",
        "\n",
        "# Count the number of observations falling within the prediction intervals\n",
        "num_within_interval = within_interval.sum()\n",
        "\n",
        "# Total number of observations\n",
        "total_observations = len(y_test)\n",
        "\n",
        "# Calculate PICP (Prediction Interval Coverage Probability)\n",
        "picp = num_within_interval / total_observations\n",
        "print(\"PICP:\", picp)"
      ],
      "metadata": {
        "colab": {
          "base_uri": "https://localhost:8080/"
        },
        "id": "7bZqtgAhJIEN",
        "outputId": "347878b1-85c3-450a-bb66-1002f386e4d1"
      },
      "execution_count": 474,
      "outputs": [
        {
          "output_type": "stream",
          "name": "stdout",
          "text": [
            "PICP: 0.9048582995951417\n"
          ]
        }
      ]
    }
  ],
  "metadata": {
    "colab": {
      "provenance": []
    },
    "kernelspec": {
      "display_name": "Python 3",
      "name": "python3"
    },
    "language_info": {
      "name": "python"
    }
  },
  "nbformat": 4,
  "nbformat_minor": 0
}