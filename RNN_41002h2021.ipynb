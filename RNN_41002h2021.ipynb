{
  "cells": [
    {
      "cell_type": "code",
      "execution_count": 3,
      "metadata": {
        "id": "Y_V3p8yx9TMZ"
      },
      "outputs": [],
      "source": [
        "import pandas as pd\n",
        "import numpy as np"
      ]
    },
    {
      "cell_type": "code",
      "execution_count": 4,
      "metadata": {
        "id": "NpWiJ4U8lnl_"
      },
      "outputs": [],
      "source": [
        "import pandas as pd\n",
        "# Assuming your text file is named \"data.txt\" and is in the same directory as your Python script\n",
        "file_path = \"/content/41002h2021 (2).txt\"\n",
        "\n",
        "# If your data is separated by spaces, you can use:\n",
        "df = pd.read_csv(file_path, delim_whitespace=True)"
      ]
    },
    {
      "cell_type": "code",
      "execution_count": 5,
      "metadata": {
        "colab": {
          "base_uri": "https://localhost:8080/",
          "height": 206
        },
        "id": "3UeALjFMoSNh",
        "outputId": "44a2477a-81d6-4a99-d721-f8e37936059f"
      },
      "outputs": [
        {
          "data": {
            "application/vnd.google.colaboratory.intrinsic+json": {
              "summary": "{\n  \"name\": \"df\",\n  \"rows\": 12215,\n  \"fields\": [\n    {\n      \"column\": \"#YY\",\n      \"properties\": {\n        \"dtype\": \"number\",\n        \"std\": 0,\n        \"min\": 2021,\n        \"max\": 2021,\n        \"num_unique_values\": 1,\n        \"samples\": [\n          2021\n        ],\n        \"semantic_type\": \"\",\n        \"description\": \"\"\n      }\n    },\n    {\n      \"column\": \"MM\",\n      \"properties\": {\n        \"dtype\": \"number\",\n        \"std\": 0,\n        \"min\": 6,\n        \"max\": 8,\n        \"num_unique_values\": 3,\n        \"samples\": [\n          6\n        ],\n        \"semantic_type\": \"\",\n        \"description\": \"\"\n      }\n    },\n    {\n      \"column\": \"DD\",\n      \"properties\": {\n        \"dtype\": \"number\",\n        \"std\": 8,\n        \"min\": 1,\n        \"max\": 31,\n        \"num_unique_values\": 31,\n        \"samples\": [\n          5\n        ],\n        \"semantic_type\": \"\",\n        \"description\": \"\"\n      }\n    },\n    {\n      \"column\": \"hh\",\n      \"properties\": {\n        \"dtype\": \"number\",\n        \"std\": 6,\n        \"min\": 0,\n        \"max\": 23,\n        \"num_unique_values\": 24,\n        \"samples\": [\n          11\n        ],\n        \"semantic_type\": \"\",\n        \"description\": \"\"\n      }\n    },\n    {\n      \"column\": \"mm\",\n      \"properties\": {\n        \"dtype\": \"number\",\n        \"std\": 17,\n        \"min\": 0,\n        \"max\": 50,\n        \"num_unique_values\": 6,\n        \"samples\": [\n          30\n        ],\n        \"semantic_type\": \"\",\n        \"description\": \"\"\n      }\n    },\n    {\n      \"column\": \"WDIR\",\n      \"properties\": {\n        \"dtype\": \"number\",\n        \"std\": 69,\n        \"min\": 1,\n        \"max\": 999,\n        \"num_unique_values\": 361,\n        \"samples\": [\n          345\n        ],\n        \"semantic_type\": \"\",\n        \"description\": \"\"\n      }\n    },\n    {\n      \"column\": \"WSPD\",\n      \"properties\": {\n        \"dtype\": \"number\",\n        \"std\": 3.838778027684482,\n        \"min\": 0.0,\n        \"max\": 99.0,\n        \"num_unique_values\": 139,\n        \"samples\": [\n          14.6\n        ],\n        \"semantic_type\": \"\",\n        \"description\": \"\"\n      }\n    },\n    {\n      \"column\": \"GST\",\n      \"properties\": {\n        \"dtype\": \"number\",\n        \"std\": 4.203238749226711,\n        \"min\": 0.1,\n        \"max\": 99.0,\n        \"num_unique_values\": 181,\n        \"samples\": [\n          5.3\n        ],\n        \"semantic_type\": \"\",\n        \"description\": \"\"\n      }\n    },\n    {\n      \"column\": \"WVHT\",\n      \"properties\": {\n        \"dtype\": \"number\",\n        \"std\": 36.3897328942841,\n        \"min\": 0.54,\n        \"max\": 99.0,\n        \"num_unique_values\": 224,\n        \"samples\": [\n          1.0\n        ],\n        \"semantic_type\": \"\",\n        \"description\": \"\"\n      }\n    },\n    {\n      \"column\": \"DPD\",\n      \"properties\": {\n        \"dtype\": \"number\",\n        \"std\": 34.093264355597306,\n        \"min\": 3.7,\n        \"max\": 99.0,\n        \"num_unique_values\": 24,\n        \"samples\": [\n          5.26\n        ],\n        \"semantic_type\": \"\",\n        \"description\": \"\"\n      }\n    },\n    {\n      \"column\": \"APD\",\n      \"properties\": {\n        \"dtype\": \"number\",\n        \"std\": 34.84322224666357,\n        \"min\": 3.9,\n        \"max\": 99.0,\n        \"num_unique_values\": 310,\n        \"samples\": [\n          6.54\n        ],\n        \"semantic_type\": \"\",\n        \"description\": \"\"\n      }\n    },\n    {\n      \"column\": \"MWD\",\n      \"properties\": {\n        \"dtype\": \"number\",\n        \"std\": 312,\n        \"min\": 2,\n        \"max\": 999,\n        \"num_unique_values\": 232,\n        \"samples\": [\n          314\n        ],\n        \"semantic_type\": \"\",\n        \"description\": \"\"\n      }\n    },\n    {\n      \"column\": \"PRES\",\n      \"properties\": {\n        \"dtype\": \"number\",\n        \"std\": 81.34143048394942,\n        \"min\": 1004.8,\n        \"max\": 9999.0,\n        \"num_unique_values\": 215,\n        \"samples\": [\n          1006.0\n        ],\n        \"semantic_type\": \"\",\n        \"description\": \"\"\n      }\n    },\n    {\n      \"column\": \"ATMP\",\n      \"properties\": {\n        \"dtype\": \"number\",\n        \"std\": 31.715792165925933,\n        \"min\": 20.5,\n        \"max\": 999.0,\n        \"num_unique_values\": 97,\n        \"samples\": [\n          26.8\n        ],\n        \"semantic_type\": \"\",\n        \"description\": \"\"\n      }\n    },\n    {\n      \"column\": \"WTMP\",\n      \"properties\": {\n        \"dtype\": \"number\",\n        \"std\": 70.14612792944088,\n        \"min\": 24.8,\n        \"max\": 999.0,\n        \"num_unique_values\": 55,\n        \"samples\": [\n          27.8\n        ],\n        \"semantic_type\": \"\",\n        \"description\": \"\"\n      }\n    },\n    {\n      \"column\": \"DEWP\",\n      \"properties\": {\n        \"dtype\": \"number\",\n        \"std\": 31.77977428379712,\n        \"min\": 18.9,\n        \"max\": 999.0,\n        \"num_unique_values\": 84,\n        \"samples\": [\n          26.5\n        ],\n        \"semantic_type\": \"\",\n        \"description\": \"\"\n      }\n    },\n    {\n      \"column\": \"VIS\",\n      \"properties\": {\n        \"dtype\": \"number\",\n        \"std\": 0.0,\n        \"min\": 99.0,\n        \"max\": 99.0,\n        \"num_unique_values\": 1,\n        \"samples\": [\n          99.0\n        ],\n        \"semantic_type\": \"\",\n        \"description\": \"\"\n      }\n    },\n    {\n      \"column\": \"TIDE\",\n      \"properties\": {\n        \"dtype\": \"number\",\n        \"std\": 0.0,\n        \"min\": 99.0,\n        \"max\": 99.0,\n        \"num_unique_values\": 1,\n        \"samples\": [\n          99.0\n        ],\n        \"semantic_type\": \"\",\n        \"description\": \"\"\n      }\n    }\n  ]\n}",
              "type": "dataframe",
              "variable_name": "df"
            },
            "text/html": [
              "\n",
              "  <div id=\"df-bff4865e-4c0b-4eff-965a-49f012c45044\" class=\"colab-df-container\">\n",
              "    <div>\n",
              "<style scoped>\n",
              "    .dataframe tbody tr th:only-of-type {\n",
              "        vertical-align: middle;\n",
              "    }\n",
              "\n",
              "    .dataframe tbody tr th {\n",
              "        vertical-align: top;\n",
              "    }\n",
              "\n",
              "    .dataframe thead th {\n",
              "        text-align: right;\n",
              "    }\n",
              "</style>\n",
              "<table border=\"1\" class=\"dataframe\">\n",
              "  <thead>\n",
              "    <tr style=\"text-align: right;\">\n",
              "      <th></th>\n",
              "      <th>#YY</th>\n",
              "      <th>MM</th>\n",
              "      <th>DD</th>\n",
              "      <th>hh</th>\n",
              "      <th>mm</th>\n",
              "      <th>WDIR</th>\n",
              "      <th>WSPD</th>\n",
              "      <th>GST</th>\n",
              "      <th>WVHT</th>\n",
              "      <th>DPD</th>\n",
              "      <th>APD</th>\n",
              "      <th>MWD</th>\n",
              "      <th>PRES</th>\n",
              "      <th>ATMP</th>\n",
              "      <th>WTMP</th>\n",
              "      <th>DEWP</th>\n",
              "      <th>VIS</th>\n",
              "      <th>TIDE</th>\n",
              "    </tr>\n",
              "  </thead>\n",
              "  <tbody>\n",
              "    <tr>\n",
              "      <th>0</th>\n",
              "      <td>2021</td>\n",
              "      <td>6</td>\n",
              "      <td>8</td>\n",
              "      <td>3</td>\n",
              "      <td>30</td>\n",
              "      <td>164</td>\n",
              "      <td>3.8</td>\n",
              "      <td>4.6</td>\n",
              "      <td>99.00</td>\n",
              "      <td>99.00</td>\n",
              "      <td>99.00</td>\n",
              "      <td>999</td>\n",
              "      <td>1023.3</td>\n",
              "      <td>25.8</td>\n",
              "      <td>25.9</td>\n",
              "      <td>23.5</td>\n",
              "      <td>99.0</td>\n",
              "      <td>99.0</td>\n",
              "    </tr>\n",
              "    <tr>\n",
              "      <th>1</th>\n",
              "      <td>2021</td>\n",
              "      <td>6</td>\n",
              "      <td>8</td>\n",
              "      <td>3</td>\n",
              "      <td>40</td>\n",
              "      <td>167</td>\n",
              "      <td>3.6</td>\n",
              "      <td>4.4</td>\n",
              "      <td>0.91</td>\n",
              "      <td>7.69</td>\n",
              "      <td>5.65</td>\n",
              "      <td>129</td>\n",
              "      <td>1023.2</td>\n",
              "      <td>25.8</td>\n",
              "      <td>25.9</td>\n",
              "      <td>23.4</td>\n",
              "      <td>99.0</td>\n",
              "      <td>99.0</td>\n",
              "    </tr>\n",
              "    <tr>\n",
              "      <th>2</th>\n",
              "      <td>2021</td>\n",
              "      <td>6</td>\n",
              "      <td>8</td>\n",
              "      <td>3</td>\n",
              "      <td>50</td>\n",
              "      <td>163</td>\n",
              "      <td>3.5</td>\n",
              "      <td>4.2</td>\n",
              "      <td>99.00</td>\n",
              "      <td>99.00</td>\n",
              "      <td>99.00</td>\n",
              "      <td>999</td>\n",
              "      <td>1023.1</td>\n",
              "      <td>25.8</td>\n",
              "      <td>25.9</td>\n",
              "      <td>23.5</td>\n",
              "      <td>99.0</td>\n",
              "      <td>99.0</td>\n",
              "    </tr>\n",
              "    <tr>\n",
              "      <th>3</th>\n",
              "      <td>2021</td>\n",
              "      <td>6</td>\n",
              "      <td>8</td>\n",
              "      <td>4</td>\n",
              "      <td>0</td>\n",
              "      <td>158</td>\n",
              "      <td>3.5</td>\n",
              "      <td>4.3</td>\n",
              "      <td>99.00</td>\n",
              "      <td>99.00</td>\n",
              "      <td>99.00</td>\n",
              "      <td>999</td>\n",
              "      <td>1023.1</td>\n",
              "      <td>25.7</td>\n",
              "      <td>25.9</td>\n",
              "      <td>23.5</td>\n",
              "      <td>99.0</td>\n",
              "      <td>99.0</td>\n",
              "    </tr>\n",
              "    <tr>\n",
              "      <th>4</th>\n",
              "      <td>2021</td>\n",
              "      <td>6</td>\n",
              "      <td>8</td>\n",
              "      <td>4</td>\n",
              "      <td>10</td>\n",
              "      <td>156</td>\n",
              "      <td>3.6</td>\n",
              "      <td>4.5</td>\n",
              "      <td>99.00</td>\n",
              "      <td>99.00</td>\n",
              "      <td>99.00</td>\n",
              "      <td>999</td>\n",
              "      <td>1023.3</td>\n",
              "      <td>25.7</td>\n",
              "      <td>25.9</td>\n",
              "      <td>23.5</td>\n",
              "      <td>99.0</td>\n",
              "      <td>99.0</td>\n",
              "    </tr>\n",
              "  </tbody>\n",
              "</table>\n",
              "</div>\n",
              "    <div class=\"colab-df-buttons\">\n",
              "\n",
              "  <div class=\"colab-df-container\">\n",
              "    <button class=\"colab-df-convert\" onclick=\"convertToInteractive('df-bff4865e-4c0b-4eff-965a-49f012c45044')\"\n",
              "            title=\"Convert this dataframe to an interactive table.\"\n",
              "            style=\"display:none;\">\n",
              "\n",
              "  <svg xmlns=\"http://www.w3.org/2000/svg\" height=\"24px\" viewBox=\"0 -960 960 960\">\n",
              "    <path d=\"M120-120v-720h720v720H120Zm60-500h600v-160H180v160Zm220 220h160v-160H400v160Zm0 220h160v-160H400v160ZM180-400h160v-160H180v160Zm440 0h160v-160H620v160ZM180-180h160v-160H180v160Zm440 0h160v-160H620v160Z\"/>\n",
              "  </svg>\n",
              "    </button>\n",
              "\n",
              "  <style>\n",
              "    .colab-df-container {\n",
              "      display:flex;\n",
              "      gap: 12px;\n",
              "    }\n",
              "\n",
              "    .colab-df-convert {\n",
              "      background-color: #E8F0FE;\n",
              "      border: none;\n",
              "      border-radius: 50%;\n",
              "      cursor: pointer;\n",
              "      display: none;\n",
              "      fill: #1967D2;\n",
              "      height: 32px;\n",
              "      padding: 0 0 0 0;\n",
              "      width: 32px;\n",
              "    }\n",
              "\n",
              "    .colab-df-convert:hover {\n",
              "      background-color: #E2EBFA;\n",
              "      box-shadow: 0px 1px 2px rgba(60, 64, 67, 0.3), 0px 1px 3px 1px rgba(60, 64, 67, 0.15);\n",
              "      fill: #174EA6;\n",
              "    }\n",
              "\n",
              "    .colab-df-buttons div {\n",
              "      margin-bottom: 4px;\n",
              "    }\n",
              "\n",
              "    [theme=dark] .colab-df-convert {\n",
              "      background-color: #3B4455;\n",
              "      fill: #D2E3FC;\n",
              "    }\n",
              "\n",
              "    [theme=dark] .colab-df-convert:hover {\n",
              "      background-color: #434B5C;\n",
              "      box-shadow: 0px 1px 3px 1px rgba(0, 0, 0, 0.15);\n",
              "      filter: drop-shadow(0px 1px 2px rgba(0, 0, 0, 0.3));\n",
              "      fill: #FFFFFF;\n",
              "    }\n",
              "  </style>\n",
              "\n",
              "    <script>\n",
              "      const buttonEl =\n",
              "        document.querySelector('#df-bff4865e-4c0b-4eff-965a-49f012c45044 button.colab-df-convert');\n",
              "      buttonEl.style.display =\n",
              "        google.colab.kernel.accessAllowed ? 'block' : 'none';\n",
              "\n",
              "      async function convertToInteractive(key) {\n",
              "        const element = document.querySelector('#df-bff4865e-4c0b-4eff-965a-49f012c45044');\n",
              "        const dataTable =\n",
              "          await google.colab.kernel.invokeFunction('convertToInteractive',\n",
              "                                                    [key], {});\n",
              "        if (!dataTable) return;\n",
              "\n",
              "        const docLinkHtml = 'Like what you see? Visit the ' +\n",
              "          '<a target=\"_blank\" href=https://colab.research.google.com/notebooks/data_table.ipynb>data table notebook</a>'\n",
              "          + ' to learn more about interactive tables.';\n",
              "        element.innerHTML = '';\n",
              "        dataTable['output_type'] = 'display_data';\n",
              "        await google.colab.output.renderOutput(dataTable, element);\n",
              "        const docLink = document.createElement('div');\n",
              "        docLink.innerHTML = docLinkHtml;\n",
              "        element.appendChild(docLink);\n",
              "      }\n",
              "    </script>\n",
              "  </div>\n",
              "\n",
              "\n",
              "<div id=\"df-ef9602d1-c436-4ce9-a3b8-d7739558f2a5\">\n",
              "  <button class=\"colab-df-quickchart\" onclick=\"quickchart('df-ef9602d1-c436-4ce9-a3b8-d7739558f2a5')\"\n",
              "            title=\"Suggest charts\"\n",
              "            style=\"display:none;\">\n",
              "\n",
              "<svg xmlns=\"http://www.w3.org/2000/svg\" height=\"24px\"viewBox=\"0 0 24 24\"\n",
              "     width=\"24px\">\n",
              "    <g>\n",
              "        <path d=\"M19 3H5c-1.1 0-2 .9-2 2v14c0 1.1.9 2 2 2h14c1.1 0 2-.9 2-2V5c0-1.1-.9-2-2-2zM9 17H7v-7h2v7zm4 0h-2V7h2v10zm4 0h-2v-4h2v4z\"/>\n",
              "    </g>\n",
              "</svg>\n",
              "  </button>\n",
              "\n",
              "<style>\n",
              "  .colab-df-quickchart {\n",
              "      --bg-color: #E8F0FE;\n",
              "      --fill-color: #1967D2;\n",
              "      --hover-bg-color: #E2EBFA;\n",
              "      --hover-fill-color: #174EA6;\n",
              "      --disabled-fill-color: #AAA;\n",
              "      --disabled-bg-color: #DDD;\n",
              "  }\n",
              "\n",
              "  [theme=dark] .colab-df-quickchart {\n",
              "      --bg-color: #3B4455;\n",
              "      --fill-color: #D2E3FC;\n",
              "      --hover-bg-color: #434B5C;\n",
              "      --hover-fill-color: #FFFFFF;\n",
              "      --disabled-bg-color: #3B4455;\n",
              "      --disabled-fill-color: #666;\n",
              "  }\n",
              "\n",
              "  .colab-df-quickchart {\n",
              "    background-color: var(--bg-color);\n",
              "    border: none;\n",
              "    border-radius: 50%;\n",
              "    cursor: pointer;\n",
              "    display: none;\n",
              "    fill: var(--fill-color);\n",
              "    height: 32px;\n",
              "    padding: 0;\n",
              "    width: 32px;\n",
              "  }\n",
              "\n",
              "  .colab-df-quickchart:hover {\n",
              "    background-color: var(--hover-bg-color);\n",
              "    box-shadow: 0 1px 2px rgba(60, 64, 67, 0.3), 0 1px 3px 1px rgba(60, 64, 67, 0.15);\n",
              "    fill: var(--button-hover-fill-color);\n",
              "  }\n",
              "\n",
              "  .colab-df-quickchart-complete:disabled,\n",
              "  .colab-df-quickchart-complete:disabled:hover {\n",
              "    background-color: var(--disabled-bg-color);\n",
              "    fill: var(--disabled-fill-color);\n",
              "    box-shadow: none;\n",
              "  }\n",
              "\n",
              "  .colab-df-spinner {\n",
              "    border: 2px solid var(--fill-color);\n",
              "    border-color: transparent;\n",
              "    border-bottom-color: var(--fill-color);\n",
              "    animation:\n",
              "      spin 1s steps(1) infinite;\n",
              "  }\n",
              "\n",
              "  @keyframes spin {\n",
              "    0% {\n",
              "      border-color: transparent;\n",
              "      border-bottom-color: var(--fill-color);\n",
              "      border-left-color: var(--fill-color);\n",
              "    }\n",
              "    20% {\n",
              "      border-color: transparent;\n",
              "      border-left-color: var(--fill-color);\n",
              "      border-top-color: var(--fill-color);\n",
              "    }\n",
              "    30% {\n",
              "      border-color: transparent;\n",
              "      border-left-color: var(--fill-color);\n",
              "      border-top-color: var(--fill-color);\n",
              "      border-right-color: var(--fill-color);\n",
              "    }\n",
              "    40% {\n",
              "      border-color: transparent;\n",
              "      border-right-color: var(--fill-color);\n",
              "      border-top-color: var(--fill-color);\n",
              "    }\n",
              "    60% {\n",
              "      border-color: transparent;\n",
              "      border-right-color: var(--fill-color);\n",
              "    }\n",
              "    80% {\n",
              "      border-color: transparent;\n",
              "      border-right-color: var(--fill-color);\n",
              "      border-bottom-color: var(--fill-color);\n",
              "    }\n",
              "    90% {\n",
              "      border-color: transparent;\n",
              "      border-bottom-color: var(--fill-color);\n",
              "    }\n",
              "  }\n",
              "</style>\n",
              "\n",
              "  <script>\n",
              "    async function quickchart(key) {\n",
              "      const quickchartButtonEl =\n",
              "        document.querySelector('#' + key + ' button');\n",
              "      quickchartButtonEl.disabled = true;  // To prevent multiple clicks.\n",
              "      quickchartButtonEl.classList.add('colab-df-spinner');\n",
              "      try {\n",
              "        const charts = await google.colab.kernel.invokeFunction(\n",
              "            'suggestCharts', [key], {});\n",
              "      } catch (error) {\n",
              "        console.error('Error during call to suggestCharts:', error);\n",
              "      }\n",
              "      quickchartButtonEl.classList.remove('colab-df-spinner');\n",
              "      quickchartButtonEl.classList.add('colab-df-quickchart-complete');\n",
              "    }\n",
              "    (() => {\n",
              "      let quickchartButtonEl =\n",
              "        document.querySelector('#df-ef9602d1-c436-4ce9-a3b8-d7739558f2a5 button');\n",
              "      quickchartButtonEl.style.display =\n",
              "        google.colab.kernel.accessAllowed ? 'block' : 'none';\n",
              "    })();\n",
              "  </script>\n",
              "</div>\n",
              "    </div>\n",
              "  </div>\n"
            ],
            "text/plain": [
              "    #YY  MM  DD  hh  mm  WDIR  WSPD  GST   WVHT    DPD    APD  MWD    PRES  \\\n",
              "0  2021   6   8   3  30   164   3.8  4.6  99.00  99.00  99.00  999  1023.3   \n",
              "1  2021   6   8   3  40   167   3.6  4.4   0.91   7.69   5.65  129  1023.2   \n",
              "2  2021   6   8   3  50   163   3.5  4.2  99.00  99.00  99.00  999  1023.1   \n",
              "3  2021   6   8   4   0   158   3.5  4.3  99.00  99.00  99.00  999  1023.1   \n",
              "4  2021   6   8   4  10   156   3.6  4.5  99.00  99.00  99.00  999  1023.3   \n",
              "\n",
              "   ATMP  WTMP  DEWP   VIS  TIDE  \n",
              "0  25.8  25.9  23.5  99.0  99.0  \n",
              "1  25.8  25.9  23.4  99.0  99.0  \n",
              "2  25.8  25.9  23.5  99.0  99.0  \n",
              "3  25.7  25.9  23.5  99.0  99.0  \n",
              "4  25.7  25.9  23.5  99.0  99.0  "
            ]
          },
          "execution_count": 5,
          "metadata": {},
          "output_type": "execute_result"
        }
      ],
      "source": [
        "df.head()"
      ]
    },
    {
      "cell_type": "code",
      "execution_count": 6,
      "metadata": {
        "colab": {
          "base_uri": "https://localhost:8080/",
          "height": 206
        },
        "id": "Oy0JHzTUoTX5",
        "outputId": "d60fb9ac-e001-443f-c901-4234192c8d22"
      },
      "outputs": [
        {
          "data": {
            "application/vnd.google.colaboratory.intrinsic+json": {
              "summary": "{\n  \"name\": \"df\",\n  \"rows\": 12214,\n  \"fields\": [\n    {\n      \"column\": \"#YY\",\n      \"properties\": {\n        \"dtype\": \"number\",\n        \"std\": 0,\n        \"min\": 2021,\n        \"max\": 2021,\n        \"num_unique_values\": 1,\n        \"samples\": [\n          2021\n        ],\n        \"semantic_type\": \"\",\n        \"description\": \"\"\n      }\n    },\n    {\n      \"column\": \"MM\",\n      \"properties\": {\n        \"dtype\": \"number\",\n        \"std\": 0,\n        \"min\": 6,\n        \"max\": 8,\n        \"num_unique_values\": 3,\n        \"samples\": [\n          6\n        ],\n        \"semantic_type\": \"\",\n        \"description\": \"\"\n      }\n    },\n    {\n      \"column\": \"DD\",\n      \"properties\": {\n        \"dtype\": \"number\",\n        \"std\": 8,\n        \"min\": 1,\n        \"max\": 31,\n        \"num_unique_values\": 31,\n        \"samples\": [\n          5\n        ],\n        \"semantic_type\": \"\",\n        \"description\": \"\"\n      }\n    },\n    {\n      \"column\": \"hh\",\n      \"properties\": {\n        \"dtype\": \"number\",\n        \"std\": 6,\n        \"min\": 0,\n        \"max\": 23,\n        \"num_unique_values\": 24,\n        \"samples\": [\n          11\n        ],\n        \"semantic_type\": \"\",\n        \"description\": \"\"\n      }\n    },\n    {\n      \"column\": \"mm\",\n      \"properties\": {\n        \"dtype\": \"number\",\n        \"std\": 17,\n        \"min\": 0,\n        \"max\": 50,\n        \"num_unique_values\": 6,\n        \"samples\": [\n          40\n        ],\n        \"semantic_type\": \"\",\n        \"description\": \"\"\n      }\n    },\n    {\n      \"column\": \"WDIR\",\n      \"properties\": {\n        \"dtype\": \"number\",\n        \"std\": 69,\n        \"min\": 1,\n        \"max\": 999,\n        \"num_unique_values\": 361,\n        \"samples\": [\n          345\n        ],\n        \"semantic_type\": \"\",\n        \"description\": \"\"\n      }\n    },\n    {\n      \"column\": \"WSPD\",\n      \"properties\": {\n        \"dtype\": \"number\",\n        \"std\": 3.8388934237578436,\n        \"min\": 0.0,\n        \"max\": 99.0,\n        \"num_unique_values\": 139,\n        \"samples\": [\n          14.6\n        ],\n        \"semantic_type\": \"\",\n        \"description\": \"\"\n      }\n    },\n    {\n      \"column\": \"GST\",\n      \"properties\": {\n        \"dtype\": \"number\",\n        \"std\": 4.203340015734361,\n        \"min\": 0.1,\n        \"max\": 99.0,\n        \"num_unique_values\": 181,\n        \"samples\": [\n          5.3\n        ],\n        \"semantic_type\": \"\",\n        \"description\": \"\"\n      }\n    },\n    {\n      \"column\": \"WVHT\",\n      \"properties\": {\n        \"dtype\": \"number\",\n        \"std\": 36.39092574345593,\n        \"min\": 0.54,\n        \"max\": 99.0,\n        \"num_unique_values\": 224,\n        \"samples\": [\n          1.0\n        ],\n        \"semantic_type\": \"\",\n        \"description\": \"\"\n      }\n    },\n    {\n      \"column\": \"DPD\",\n      \"properties\": {\n        \"dtype\": \"number\",\n        \"std\": 34.094382002067434,\n        \"min\": 3.7,\n        \"max\": 99.0,\n        \"num_unique_values\": 24,\n        \"samples\": [\n          5.26\n        ],\n        \"semantic_type\": \"\",\n        \"description\": \"\"\n      }\n    },\n    {\n      \"column\": \"APD\",\n      \"properties\": {\n        \"dtype\": \"number\",\n        \"std\": 34.844364409152746,\n        \"min\": 3.9,\n        \"max\": 99.0,\n        \"num_unique_values\": 310,\n        \"samples\": [\n          6.54\n        ],\n        \"semantic_type\": \"\",\n        \"description\": \"\"\n      }\n    },\n    {\n      \"column\": \"MWD\",\n      \"properties\": {\n        \"dtype\": \"number\",\n        \"std\": 312,\n        \"min\": 2,\n        \"max\": 999,\n        \"num_unique_values\": 232,\n        \"samples\": [\n          314\n        ],\n        \"semantic_type\": \"\",\n        \"description\": \"\"\n      }\n    },\n    {\n      \"column\": \"PRES\",\n      \"properties\": {\n        \"dtype\": \"number\",\n        \"std\": 81.3447499142369,\n        \"min\": 1004.8,\n        \"max\": 9999.0,\n        \"num_unique_values\": 215,\n        \"samples\": [\n          1006.0\n        ],\n        \"semantic_type\": \"\",\n        \"description\": \"\"\n      }\n    },\n    {\n      \"column\": \"ATMP\",\n      \"properties\": {\n        \"dtype\": \"number\",\n        \"std\": 31.71708368630998,\n        \"min\": 20.5,\n        \"max\": 999.0,\n        \"num_unique_values\": 97,\n        \"samples\": [\n          26.8\n        ],\n        \"semantic_type\": \"\",\n        \"description\": \"\"\n      }\n    },\n    {\n      \"column\": \"WTMP\",\n      \"properties\": {\n        \"dtype\": \"number\",\n        \"std\": 70.14897314695204,\n        \"min\": 24.8,\n        \"max\": 999.0,\n        \"num_unique_values\": 55,\n        \"samples\": [\n          27.8\n        ],\n        \"semantic_type\": \"\",\n        \"description\": \"\"\n      }\n    },\n    {\n      \"column\": \"DEWP\",\n      \"properties\": {\n        \"dtype\": \"number\",\n        \"std\": 31.78106729411824,\n        \"min\": 18.9,\n        \"max\": 999.0,\n        \"num_unique_values\": 84,\n        \"samples\": [\n          26.5\n        ],\n        \"semantic_type\": \"\",\n        \"description\": \"\"\n      }\n    },\n    {\n      \"column\": \"VIS\",\n      \"properties\": {\n        \"dtype\": \"number\",\n        \"std\": 0.0,\n        \"min\": 99.0,\n        \"max\": 99.0,\n        \"num_unique_values\": 1,\n        \"samples\": [\n          99.0\n        ],\n        \"semantic_type\": \"\",\n        \"description\": \"\"\n      }\n    },\n    {\n      \"column\": \"TIDE\",\n      \"properties\": {\n        \"dtype\": \"number\",\n        \"std\": 0.0,\n        \"min\": 99.0,\n        \"max\": 99.0,\n        \"num_unique_values\": 1,\n        \"samples\": [\n          99.0\n        ],\n        \"semantic_type\": \"\",\n        \"description\": \"\"\n      }\n    }\n  ]\n}",
              "type": "dataframe",
              "variable_name": "df"
            },
            "text/html": [
              "\n",
              "  <div id=\"df-8814d198-043d-41c0-b5c3-d26e954d1f77\" class=\"colab-df-container\">\n",
              "    <div>\n",
              "<style scoped>\n",
              "    .dataframe tbody tr th:only-of-type {\n",
              "        vertical-align: middle;\n",
              "    }\n",
              "\n",
              "    .dataframe tbody tr th {\n",
              "        vertical-align: top;\n",
              "    }\n",
              "\n",
              "    .dataframe thead th {\n",
              "        text-align: right;\n",
              "    }\n",
              "</style>\n",
              "<table border=\"1\" class=\"dataframe\">\n",
              "  <thead>\n",
              "    <tr style=\"text-align: right;\">\n",
              "      <th></th>\n",
              "      <th>#YY</th>\n",
              "      <th>MM</th>\n",
              "      <th>DD</th>\n",
              "      <th>hh</th>\n",
              "      <th>mm</th>\n",
              "      <th>WDIR</th>\n",
              "      <th>WSPD</th>\n",
              "      <th>GST</th>\n",
              "      <th>WVHT</th>\n",
              "      <th>DPD</th>\n",
              "      <th>APD</th>\n",
              "      <th>MWD</th>\n",
              "      <th>PRES</th>\n",
              "      <th>ATMP</th>\n",
              "      <th>WTMP</th>\n",
              "      <th>DEWP</th>\n",
              "      <th>VIS</th>\n",
              "      <th>TIDE</th>\n",
              "    </tr>\n",
              "  </thead>\n",
              "  <tbody>\n",
              "    <tr>\n",
              "      <th>1</th>\n",
              "      <td>2021</td>\n",
              "      <td>6</td>\n",
              "      <td>8</td>\n",
              "      <td>3</td>\n",
              "      <td>40</td>\n",
              "      <td>167</td>\n",
              "      <td>3.6</td>\n",
              "      <td>4.4</td>\n",
              "      <td>0.91</td>\n",
              "      <td>7.69</td>\n",
              "      <td>5.65</td>\n",
              "      <td>129</td>\n",
              "      <td>1023.2</td>\n",
              "      <td>25.8</td>\n",
              "      <td>25.9</td>\n",
              "      <td>23.4</td>\n",
              "      <td>99.0</td>\n",
              "      <td>99.0</td>\n",
              "    </tr>\n",
              "    <tr>\n",
              "      <th>2</th>\n",
              "      <td>2021</td>\n",
              "      <td>6</td>\n",
              "      <td>8</td>\n",
              "      <td>3</td>\n",
              "      <td>50</td>\n",
              "      <td>163</td>\n",
              "      <td>3.5</td>\n",
              "      <td>4.2</td>\n",
              "      <td>99.00</td>\n",
              "      <td>99.00</td>\n",
              "      <td>99.00</td>\n",
              "      <td>999</td>\n",
              "      <td>1023.1</td>\n",
              "      <td>25.8</td>\n",
              "      <td>25.9</td>\n",
              "      <td>23.5</td>\n",
              "      <td>99.0</td>\n",
              "      <td>99.0</td>\n",
              "    </tr>\n",
              "    <tr>\n",
              "      <th>3</th>\n",
              "      <td>2021</td>\n",
              "      <td>6</td>\n",
              "      <td>8</td>\n",
              "      <td>4</td>\n",
              "      <td>0</td>\n",
              "      <td>158</td>\n",
              "      <td>3.5</td>\n",
              "      <td>4.3</td>\n",
              "      <td>99.00</td>\n",
              "      <td>99.00</td>\n",
              "      <td>99.00</td>\n",
              "      <td>999</td>\n",
              "      <td>1023.1</td>\n",
              "      <td>25.7</td>\n",
              "      <td>25.9</td>\n",
              "      <td>23.5</td>\n",
              "      <td>99.0</td>\n",
              "      <td>99.0</td>\n",
              "    </tr>\n",
              "    <tr>\n",
              "      <th>4</th>\n",
              "      <td>2021</td>\n",
              "      <td>6</td>\n",
              "      <td>8</td>\n",
              "      <td>4</td>\n",
              "      <td>10</td>\n",
              "      <td>156</td>\n",
              "      <td>3.6</td>\n",
              "      <td>4.5</td>\n",
              "      <td>99.00</td>\n",
              "      <td>99.00</td>\n",
              "      <td>99.00</td>\n",
              "      <td>999</td>\n",
              "      <td>1023.3</td>\n",
              "      <td>25.7</td>\n",
              "      <td>25.9</td>\n",
              "      <td>23.5</td>\n",
              "      <td>99.0</td>\n",
              "      <td>99.0</td>\n",
              "    </tr>\n",
              "    <tr>\n",
              "      <th>5</th>\n",
              "      <td>2021</td>\n",
              "      <td>6</td>\n",
              "      <td>8</td>\n",
              "      <td>4</td>\n",
              "      <td>20</td>\n",
              "      <td>155</td>\n",
              "      <td>3.7</td>\n",
              "      <td>4.6</td>\n",
              "      <td>99.00</td>\n",
              "      <td>99.00</td>\n",
              "      <td>99.00</td>\n",
              "      <td>999</td>\n",
              "      <td>1023.2</td>\n",
              "      <td>25.7</td>\n",
              "      <td>25.9</td>\n",
              "      <td>23.7</td>\n",
              "      <td>99.0</td>\n",
              "      <td>99.0</td>\n",
              "    </tr>\n",
              "  </tbody>\n",
              "</table>\n",
              "</div>\n",
              "    <div class=\"colab-df-buttons\">\n",
              "\n",
              "  <div class=\"colab-df-container\">\n",
              "    <button class=\"colab-df-convert\" onclick=\"convertToInteractive('df-8814d198-043d-41c0-b5c3-d26e954d1f77')\"\n",
              "            title=\"Convert this dataframe to an interactive table.\"\n",
              "            style=\"display:none;\">\n",
              "\n",
              "  <svg xmlns=\"http://www.w3.org/2000/svg\" height=\"24px\" viewBox=\"0 -960 960 960\">\n",
              "    <path d=\"M120-120v-720h720v720H120Zm60-500h600v-160H180v160Zm220 220h160v-160H400v160Zm0 220h160v-160H400v160ZM180-400h160v-160H180v160Zm440 0h160v-160H620v160ZM180-180h160v-160H180v160Zm440 0h160v-160H620v160Z\"/>\n",
              "  </svg>\n",
              "    </button>\n",
              "\n",
              "  <style>\n",
              "    .colab-df-container {\n",
              "      display:flex;\n",
              "      gap: 12px;\n",
              "    }\n",
              "\n",
              "    .colab-df-convert {\n",
              "      background-color: #E8F0FE;\n",
              "      border: none;\n",
              "      border-radius: 50%;\n",
              "      cursor: pointer;\n",
              "      display: none;\n",
              "      fill: #1967D2;\n",
              "      height: 32px;\n",
              "      padding: 0 0 0 0;\n",
              "      width: 32px;\n",
              "    }\n",
              "\n",
              "    .colab-df-convert:hover {\n",
              "      background-color: #E2EBFA;\n",
              "      box-shadow: 0px 1px 2px rgba(60, 64, 67, 0.3), 0px 1px 3px 1px rgba(60, 64, 67, 0.15);\n",
              "      fill: #174EA6;\n",
              "    }\n",
              "\n",
              "    .colab-df-buttons div {\n",
              "      margin-bottom: 4px;\n",
              "    }\n",
              "\n",
              "    [theme=dark] .colab-df-convert {\n",
              "      background-color: #3B4455;\n",
              "      fill: #D2E3FC;\n",
              "    }\n",
              "\n",
              "    [theme=dark] .colab-df-convert:hover {\n",
              "      background-color: #434B5C;\n",
              "      box-shadow: 0px 1px 3px 1px rgba(0, 0, 0, 0.15);\n",
              "      filter: drop-shadow(0px 1px 2px rgba(0, 0, 0, 0.3));\n",
              "      fill: #FFFFFF;\n",
              "    }\n",
              "  </style>\n",
              "\n",
              "    <script>\n",
              "      const buttonEl =\n",
              "        document.querySelector('#df-8814d198-043d-41c0-b5c3-d26e954d1f77 button.colab-df-convert');\n",
              "      buttonEl.style.display =\n",
              "        google.colab.kernel.accessAllowed ? 'block' : 'none';\n",
              "\n",
              "      async function convertToInteractive(key) {\n",
              "        const element = document.querySelector('#df-8814d198-043d-41c0-b5c3-d26e954d1f77');\n",
              "        const dataTable =\n",
              "          await google.colab.kernel.invokeFunction('convertToInteractive',\n",
              "                                                    [key], {});\n",
              "        if (!dataTable) return;\n",
              "\n",
              "        const docLinkHtml = 'Like what you see? Visit the ' +\n",
              "          '<a target=\"_blank\" href=https://colab.research.google.com/notebooks/data_table.ipynb>data table notebook</a>'\n",
              "          + ' to learn more about interactive tables.';\n",
              "        element.innerHTML = '';\n",
              "        dataTable['output_type'] = 'display_data';\n",
              "        await google.colab.output.renderOutput(dataTable, element);\n",
              "        const docLink = document.createElement('div');\n",
              "        docLink.innerHTML = docLinkHtml;\n",
              "        element.appendChild(docLink);\n",
              "      }\n",
              "    </script>\n",
              "  </div>\n",
              "\n",
              "\n",
              "<div id=\"df-8c267b3e-ba14-4150-8a11-ba452c38c33a\">\n",
              "  <button class=\"colab-df-quickchart\" onclick=\"quickchart('df-8c267b3e-ba14-4150-8a11-ba452c38c33a')\"\n",
              "            title=\"Suggest charts\"\n",
              "            style=\"display:none;\">\n",
              "\n",
              "<svg xmlns=\"http://www.w3.org/2000/svg\" height=\"24px\"viewBox=\"0 0 24 24\"\n",
              "     width=\"24px\">\n",
              "    <g>\n",
              "        <path d=\"M19 3H5c-1.1 0-2 .9-2 2v14c0 1.1.9 2 2 2h14c1.1 0 2-.9 2-2V5c0-1.1-.9-2-2-2zM9 17H7v-7h2v7zm4 0h-2V7h2v10zm4 0h-2v-4h2v4z\"/>\n",
              "    </g>\n",
              "</svg>\n",
              "  </button>\n",
              "\n",
              "<style>\n",
              "  .colab-df-quickchart {\n",
              "      --bg-color: #E8F0FE;\n",
              "      --fill-color: #1967D2;\n",
              "      --hover-bg-color: #E2EBFA;\n",
              "      --hover-fill-color: #174EA6;\n",
              "      --disabled-fill-color: #AAA;\n",
              "      --disabled-bg-color: #DDD;\n",
              "  }\n",
              "\n",
              "  [theme=dark] .colab-df-quickchart {\n",
              "      --bg-color: #3B4455;\n",
              "      --fill-color: #D2E3FC;\n",
              "      --hover-bg-color: #434B5C;\n",
              "      --hover-fill-color: #FFFFFF;\n",
              "      --disabled-bg-color: #3B4455;\n",
              "      --disabled-fill-color: #666;\n",
              "  }\n",
              "\n",
              "  .colab-df-quickchart {\n",
              "    background-color: var(--bg-color);\n",
              "    border: none;\n",
              "    border-radius: 50%;\n",
              "    cursor: pointer;\n",
              "    display: none;\n",
              "    fill: var(--fill-color);\n",
              "    height: 32px;\n",
              "    padding: 0;\n",
              "    width: 32px;\n",
              "  }\n",
              "\n",
              "  .colab-df-quickchart:hover {\n",
              "    background-color: var(--hover-bg-color);\n",
              "    box-shadow: 0 1px 2px rgba(60, 64, 67, 0.3), 0 1px 3px 1px rgba(60, 64, 67, 0.15);\n",
              "    fill: var(--button-hover-fill-color);\n",
              "  }\n",
              "\n",
              "  .colab-df-quickchart-complete:disabled,\n",
              "  .colab-df-quickchart-complete:disabled:hover {\n",
              "    background-color: var(--disabled-bg-color);\n",
              "    fill: var(--disabled-fill-color);\n",
              "    box-shadow: none;\n",
              "  }\n",
              "\n",
              "  .colab-df-spinner {\n",
              "    border: 2px solid var(--fill-color);\n",
              "    border-color: transparent;\n",
              "    border-bottom-color: var(--fill-color);\n",
              "    animation:\n",
              "      spin 1s steps(1) infinite;\n",
              "  }\n",
              "\n",
              "  @keyframes spin {\n",
              "    0% {\n",
              "      border-color: transparent;\n",
              "      border-bottom-color: var(--fill-color);\n",
              "      border-left-color: var(--fill-color);\n",
              "    }\n",
              "    20% {\n",
              "      border-color: transparent;\n",
              "      border-left-color: var(--fill-color);\n",
              "      border-top-color: var(--fill-color);\n",
              "    }\n",
              "    30% {\n",
              "      border-color: transparent;\n",
              "      border-left-color: var(--fill-color);\n",
              "      border-top-color: var(--fill-color);\n",
              "      border-right-color: var(--fill-color);\n",
              "    }\n",
              "    40% {\n",
              "      border-color: transparent;\n",
              "      border-right-color: var(--fill-color);\n",
              "      border-top-color: var(--fill-color);\n",
              "    }\n",
              "    60% {\n",
              "      border-color: transparent;\n",
              "      border-right-color: var(--fill-color);\n",
              "    }\n",
              "    80% {\n",
              "      border-color: transparent;\n",
              "      border-right-color: var(--fill-color);\n",
              "      border-bottom-color: var(--fill-color);\n",
              "    }\n",
              "    90% {\n",
              "      border-color: transparent;\n",
              "      border-bottom-color: var(--fill-color);\n",
              "    }\n",
              "  }\n",
              "</style>\n",
              "\n",
              "  <script>\n",
              "    async function quickchart(key) {\n",
              "      const quickchartButtonEl =\n",
              "        document.querySelector('#' + key + ' button');\n",
              "      quickchartButtonEl.disabled = true;  // To prevent multiple clicks.\n",
              "      quickchartButtonEl.classList.add('colab-df-spinner');\n",
              "      try {\n",
              "        const charts = await google.colab.kernel.invokeFunction(\n",
              "            'suggestCharts', [key], {});\n",
              "      } catch (error) {\n",
              "        console.error('Error during call to suggestCharts:', error);\n",
              "      }\n",
              "      quickchartButtonEl.classList.remove('colab-df-spinner');\n",
              "      quickchartButtonEl.classList.add('colab-df-quickchart-complete');\n",
              "    }\n",
              "    (() => {\n",
              "      let quickchartButtonEl =\n",
              "        document.querySelector('#df-8c267b3e-ba14-4150-8a11-ba452c38c33a button');\n",
              "      quickchartButtonEl.style.display =\n",
              "        google.colab.kernel.accessAllowed ? 'block' : 'none';\n",
              "    })();\n",
              "  </script>\n",
              "</div>\n",
              "    </div>\n",
              "  </div>\n"
            ],
            "text/plain": [
              "    #YY  MM  DD  hh  mm  WDIR  WSPD  GST   WVHT    DPD    APD  MWD    PRES  \\\n",
              "1  2021   6   8   3  40   167   3.6  4.4   0.91   7.69   5.65  129  1023.2   \n",
              "2  2021   6   8   3  50   163   3.5  4.2  99.00  99.00  99.00  999  1023.1   \n",
              "3  2021   6   8   4   0   158   3.5  4.3  99.00  99.00  99.00  999  1023.1   \n",
              "4  2021   6   8   4  10   156   3.6  4.5  99.00  99.00  99.00  999  1023.3   \n",
              "5  2021   6   8   4  20   155   3.7  4.6  99.00  99.00  99.00  999  1023.2   \n",
              "\n",
              "   ATMP  WTMP  DEWP   VIS  TIDE  \n",
              "1  25.8  25.9  23.4  99.0  99.0  \n",
              "2  25.8  25.9  23.5  99.0  99.0  \n",
              "3  25.7  25.9  23.5  99.0  99.0  \n",
              "4  25.7  25.9  23.5  99.0  99.0  \n",
              "5  25.7  25.9  23.7  99.0  99.0  "
            ]
          },
          "execution_count": 6,
          "metadata": {},
          "output_type": "execute_result"
        }
      ],
      "source": [
        "# Remove the first row\n",
        "df = df.iloc[1:]\n",
        "df.head()"
      ]
    },
    {
      "cell_type": "code",
      "execution_count": 7,
      "metadata": {
        "colab": {
          "base_uri": "https://localhost:8080/"
        },
        "id": "09d0QONBDcwT",
        "outputId": "3518f250-1904-4096-a745-93897dabd159"
      },
      "outputs": [
        {
          "data": {
            "text/plain": [
              "(12214, 18)"
            ]
          },
          "execution_count": 7,
          "metadata": {},
          "output_type": "execute_result"
        }
      ],
      "source": [
        "df.shape"
      ]
    },
    {
      "cell_type": "code",
      "execution_count": 8,
      "metadata": {
        "colab": {
          "base_uri": "https://localhost:8080/"
        },
        "id": "LS_Y8UoKoWgY",
        "outputId": "2e0834fc-32a4-4dbb-8316-c0cac0a1519f"
      },
      "outputs": [
        {
          "name": "stderr",
          "output_type": "stream",
          "text": [
            "<ipython-input-8-027fd0094cd0>:3: SettingWithCopyWarning: \n",
            "A value is trying to be set on a copy of a slice from a DataFrame.\n",
            "Try using .loc[row_indexer,col_indexer] = value instead\n",
            "\n",
            "See the caveats in the documentation: https://pandas.pydata.org/pandas-docs/stable/user_guide/indexing.html#returning-a-view-versus-a-copy\n",
            "  df[columns_to_convert] = df[columns_to_convert].apply(pd.to_numeric, errors='coerce')\n"
          ]
        }
      ],
      "source": [
        "# Convert specific columns to numeric values\n",
        "columns_to_convert = ['#YY', 'MM', 'DD', 'hh', 'mm', 'WDIR', 'WSPD', 'GST', 'WVHT', 'DPD', 'APD', 'MWD', 'PRES', 'ATMP', 'WTMP', 'DEWP', 'VIS', 'TIDE']\n",
        "df[columns_to_convert] = df[columns_to_convert].apply(pd.to_numeric, errors='coerce')\n",
        "# Alternatively, convert all object columns to numeric values\n",
        "df = df.apply(pd.to_numeric, errors='coerce')"
      ]
    },
    {
      "cell_type": "code",
      "execution_count": 9,
      "metadata": {
        "id": "Eleb1_xYoZdI"
      },
      "outputs": [],
      "source": [
        "# Extract rows where mm=0\n",
        "df = df[df[\"mm\"] == 40]"
      ]
    },
    {
      "cell_type": "code",
      "execution_count": 10,
      "metadata": {
        "id": "i_ovKSScob2_"
      },
      "outputs": [],
      "source": [
        "#here we reset the index\n",
        "df = df.reset_index(drop=True)"
      ]
    },
    {
      "cell_type": "code",
      "execution_count": 11,
      "metadata": {
        "colab": {
          "base_uri": "https://localhost:8080/"
        },
        "id": "7AFAXgcnoeA6",
        "outputId": "998f2695-df55-40b1-d83d-ffc157bd4a38"
      },
      "outputs": [
        {
          "data": {
            "text/plain": [
              "(2037, 18)"
            ]
          },
          "execution_count": 11,
          "metadata": {},
          "output_type": "execute_result"
        }
      ],
      "source": [
        "df.shape"
      ]
    },
    {
      "cell_type": "code",
      "execution_count": 12,
      "metadata": {
        "colab": {
          "base_uri": "https://localhost:8080/"
        },
        "id": "ZB-aPahVDjqB",
        "outputId": "2b78c42b-6684-4acc-e769-bdc9dd80282f"
      },
      "outputs": [
        {
          "data": {
            "text/plain": [
              "#YY     0\n",
              "MM      0\n",
              "DD      0\n",
              "hh      0\n",
              "mm      0\n",
              "WDIR    0\n",
              "WSPD    0\n",
              "GST     0\n",
              "WVHT    0\n",
              "DPD     0\n",
              "APD     0\n",
              "MWD     0\n",
              "PRES    0\n",
              "ATMP    0\n",
              "WTMP    0\n",
              "DEWP    0\n",
              "VIS     0\n",
              "TIDE    0\n",
              "dtype: int64"
            ]
          },
          "execution_count": 12,
          "metadata": {},
          "output_type": "execute_result"
        }
      ],
      "source": [
        "df.isnull().sum()"
      ]
    },
    {
      "cell_type": "code",
      "execution_count": 13,
      "metadata": {
        "id": "K_Xs3C3oDnKZ"
      },
      "outputs": [],
      "source": [
        "df = df.dropna()"
      ]
    },
    {
      "cell_type": "code",
      "execution_count": 14,
      "metadata": {
        "colab": {
          "base_uri": "https://localhost:8080/"
        },
        "id": "Q8oaYMcipbrS",
        "outputId": "907e36e3-0bf7-4784-ce28-f0aaad8aafa3"
      },
      "outputs": [
        {
          "data": {
            "text/plain": [
              "(2037, 18)"
            ]
          },
          "execution_count": 14,
          "metadata": {},
          "output_type": "execute_result"
        }
      ],
      "source": [
        "df.shape"
      ]
    },
    {
      "cell_type": "code",
      "execution_count": 15,
      "metadata": {
        "id": "HU3q9aicpde_"
      },
      "outputs": [],
      "source": [
        "# Combine date and time columns into a single datetime column\n",
        "df['date_time'] = pd.to_datetime(df[['#YY', 'MM', 'DD', 'hh', 'mm']].astype(str).apply(' '.join, axis=1), format='%Y %m %d %H %M')"
      ]
    },
    {
      "cell_type": "code",
      "execution_count": 16,
      "metadata": {
        "id": "gUKyE91_Dx2r"
      },
      "outputs": [],
      "source": [
        "# Drop 5 columns by specifying their column labels\n",
        "columns_to_drop = ['#YY', 'MM', 'DD', 'hh', 'mm']\n",
        "df = df.drop(columns=columns_to_drop)"
      ]
    },
    {
      "cell_type": "code",
      "execution_count": 17,
      "metadata": {
        "id": "tljF_gEjD1qS"
      },
      "outputs": [],
      "source": [
        "#Move the 'date_time' column to the first position\n",
        "date_time_column = df.pop('date_time')\n",
        "df.insert(0, 'date_time', date_time_column)"
      ]
    },
    {
      "cell_type": "code",
      "execution_count": 18,
      "metadata": {
        "colab": {
          "base_uri": "https://localhost:8080/",
          "height": 206
        },
        "id": "wDLQ63_1D4sH",
        "outputId": "7fcc0d07-615e-4089-9872-4ee0513628b4"
      },
      "outputs": [
        {
          "data": {
            "application/vnd.google.colaboratory.intrinsic+json": {
              "summary": "{\n  \"name\": \"df\",\n  \"rows\": 2037,\n  \"fields\": [\n    {\n      \"column\": \"date_time\",\n      \"properties\": {\n        \"dtype\": \"date\",\n        \"min\": \"2021-06-08 03:40:00\",\n        \"max\": \"2021-08-31 23:40:00\",\n        \"num_unique_values\": 2037,\n        \"samples\": [\n          \"2021-07-09 11:40:00\",\n          \"2021-06-12 18:40:00\",\n          \"2021-06-29 18:40:00\"\n        ],\n        \"semantic_type\": \"\",\n        \"description\": \"\"\n      }\n    },\n    {\n      \"column\": \"WDIR\",\n      \"properties\": {\n        \"dtype\": \"number\",\n        \"std\": 70,\n        \"min\": 3,\n        \"max\": 999,\n        \"num_unique_values\": 325,\n        \"samples\": [\n          277,\n          242,\n          358\n        ],\n        \"semantic_type\": \"\",\n        \"description\": \"\"\n      }\n    },\n    {\n      \"column\": \"WSPD\",\n      \"properties\": {\n        \"dtype\": \"number\",\n        \"std\": 3.9222768017054035,\n        \"min\": 0.0,\n        \"max\": 99.0,\n        \"num_unique_values\": 126,\n        \"samples\": [\n          10.9,\n          4.8,\n          0.4\n        ],\n        \"semantic_type\": \"\",\n        \"description\": \"\"\n      }\n    },\n    {\n      \"column\": \"GST\",\n      \"properties\": {\n        \"dtype\": \"number\",\n        \"std\": 4.2842167101263415,\n        \"min\": 0.2,\n        \"max\": 99.0,\n        \"num_unique_values\": 159,\n        \"samples\": [\n          9.2,\n          17.0,\n          15.7\n        ],\n        \"semantic_type\": \"\",\n        \"description\": \"\"\n      }\n    },\n    {\n      \"column\": \"WVHT\",\n      \"properties\": {\n        \"dtype\": \"number\",\n        \"std\": 5.742332761547797,\n        \"min\": 0.54,\n        \"max\": 99.0,\n        \"num_unique_values\": 224,\n        \"samples\": [\n          1.02,\n          1.31,\n          0.67\n        ],\n        \"semantic_type\": \"\",\n        \"description\": \"\"\n      }\n    },\n    {\n      \"column\": \"DPD\",\n      \"properties\": {\n        \"dtype\": \"number\",\n        \"std\": 5.551535382592623,\n        \"min\": 3.7,\n        \"max\": 99.0,\n        \"num_unique_values\": 24,\n        \"samples\": [\n          5.26,\n          13.79,\n          7.69\n        ],\n        \"semantic_type\": \"\",\n        \"description\": \"\"\n      }\n    },\n    {\n      \"column\": \"APD\",\n      \"properties\": {\n        \"dtype\": \"number\",\n        \"std\": 5.51605682700109,\n        \"min\": 3.9,\n        \"max\": 99.0,\n        \"num_unique_values\": 310,\n        \"samples\": [\n          6.54,\n          5.81,\n          4.94\n        ],\n        \"semantic_type\": \"\",\n        \"description\": \"\"\n      }\n    },\n    {\n      \"column\": \"MWD\",\n      \"properties\": {\n        \"dtype\": \"number\",\n        \"std\": 75,\n        \"min\": 2,\n        \"max\": 999,\n        \"num_unique_values\": 232,\n        \"samples\": [\n          314,\n          200,\n          124\n        ],\n        \"semantic_type\": \"\",\n        \"description\": \"\"\n      }\n    },\n    {\n      \"column\": \"PRES\",\n      \"properties\": {\n        \"dtype\": \"number\",\n        \"std\": 3.6304956550495646,\n        \"min\": 1004.8,\n        \"max\": 1026.4,\n        \"num_unique_values\": 190,\n        \"samples\": [\n          1010.3,\n          1004.8,\n          1016.5\n        ],\n        \"semantic_type\": \"\",\n        \"description\": \"\"\n      }\n    },\n    {\n      \"column\": \"ATMP\",\n      \"properties\": {\n        \"dtype\": \"number\",\n        \"std\": 30.47242315880786,\n        \"min\": 20.8,\n        \"max\": 999.0,\n        \"num_unique_values\": 78,\n        \"samples\": [\n          21.9,\n          25.8,\n          22.9\n        ],\n        \"semantic_type\": \"\",\n        \"description\": \"\"\n      }\n    },\n    {\n      \"column\": \"WTMP\",\n      \"properties\": {\n        \"dtype\": \"number\",\n        \"std\": 52.671981826106425,\n        \"min\": 24.8,\n        \"max\": 999.0,\n        \"num_unique_values\": 52,\n        \"samples\": [\n          26.9,\n          28.8,\n          29.7\n        ],\n        \"semantic_type\": \"\",\n        \"description\": \"\"\n      }\n    },\n    {\n      \"column\": \"DEWP\",\n      \"properties\": {\n        \"dtype\": \"number\",\n        \"std\": 30.533477392988885,\n        \"min\": 20.0,\n        \"max\": 999.0,\n        \"num_unique_values\": 72,\n        \"samples\": [\n          24.0,\n          26.6,\n          21.6\n        ],\n        \"semantic_type\": \"\",\n        \"description\": \"\"\n      }\n    },\n    {\n      \"column\": \"VIS\",\n      \"properties\": {\n        \"dtype\": \"number\",\n        \"std\": 0.0,\n        \"min\": 99.0,\n        \"max\": 99.0,\n        \"num_unique_values\": 1,\n        \"samples\": [\n          99.0\n        ],\n        \"semantic_type\": \"\",\n        \"description\": \"\"\n      }\n    },\n    {\n      \"column\": \"TIDE\",\n      \"properties\": {\n        \"dtype\": \"number\",\n        \"std\": 0.0,\n        \"min\": 99.0,\n        \"max\": 99.0,\n        \"num_unique_values\": 1,\n        \"samples\": [\n          99.0\n        ],\n        \"semantic_type\": \"\",\n        \"description\": \"\"\n      }\n    }\n  ]\n}",
              "type": "dataframe",
              "variable_name": "df"
            },
            "text/html": [
              "\n",
              "  <div id=\"df-e0c5e654-8ab3-41ac-a0e6-610008cf2b1d\" class=\"colab-df-container\">\n",
              "    <div>\n",
              "<style scoped>\n",
              "    .dataframe tbody tr th:only-of-type {\n",
              "        vertical-align: middle;\n",
              "    }\n",
              "\n",
              "    .dataframe tbody tr th {\n",
              "        vertical-align: top;\n",
              "    }\n",
              "\n",
              "    .dataframe thead th {\n",
              "        text-align: right;\n",
              "    }\n",
              "</style>\n",
              "<table border=\"1\" class=\"dataframe\">\n",
              "  <thead>\n",
              "    <tr style=\"text-align: right;\">\n",
              "      <th></th>\n",
              "      <th>date_time</th>\n",
              "      <th>WDIR</th>\n",
              "      <th>WSPD</th>\n",
              "      <th>GST</th>\n",
              "      <th>WVHT</th>\n",
              "      <th>DPD</th>\n",
              "      <th>APD</th>\n",
              "      <th>MWD</th>\n",
              "      <th>PRES</th>\n",
              "      <th>ATMP</th>\n",
              "      <th>WTMP</th>\n",
              "      <th>DEWP</th>\n",
              "      <th>VIS</th>\n",
              "      <th>TIDE</th>\n",
              "    </tr>\n",
              "  </thead>\n",
              "  <tbody>\n",
              "    <tr>\n",
              "      <th>0</th>\n",
              "      <td>2021-06-08 03:40:00</td>\n",
              "      <td>167</td>\n",
              "      <td>3.6</td>\n",
              "      <td>4.4</td>\n",
              "      <td>0.91</td>\n",
              "      <td>7.69</td>\n",
              "      <td>5.65</td>\n",
              "      <td>129</td>\n",
              "      <td>1023.2</td>\n",
              "      <td>25.8</td>\n",
              "      <td>25.9</td>\n",
              "      <td>23.4</td>\n",
              "      <td>99.0</td>\n",
              "      <td>99.0</td>\n",
              "    </tr>\n",
              "    <tr>\n",
              "      <th>1</th>\n",
              "      <td>2021-06-08 04:40:00</td>\n",
              "      <td>163</td>\n",
              "      <td>3.8</td>\n",
              "      <td>4.5</td>\n",
              "      <td>0.83</td>\n",
              "      <td>7.69</td>\n",
              "      <td>5.53</td>\n",
              "      <td>132</td>\n",
              "      <td>1023.2</td>\n",
              "      <td>25.7</td>\n",
              "      <td>25.9</td>\n",
              "      <td>23.5</td>\n",
              "      <td>99.0</td>\n",
              "      <td>99.0</td>\n",
              "    </tr>\n",
              "    <tr>\n",
              "      <th>2</th>\n",
              "      <td>2021-06-08 05:40:00</td>\n",
              "      <td>167</td>\n",
              "      <td>4.1</td>\n",
              "      <td>5.1</td>\n",
              "      <td>0.85</td>\n",
              "      <td>7.69</td>\n",
              "      <td>5.44</td>\n",
              "      <td>129</td>\n",
              "      <td>1022.8</td>\n",
              "      <td>25.5</td>\n",
              "      <td>25.7</td>\n",
              "      <td>23.4</td>\n",
              "      <td>99.0</td>\n",
              "      <td>99.0</td>\n",
              "    </tr>\n",
              "    <tr>\n",
              "      <th>3</th>\n",
              "      <td>2021-06-08 06:40:00</td>\n",
              "      <td>180</td>\n",
              "      <td>3.7</td>\n",
              "      <td>4.4</td>\n",
              "      <td>0.95</td>\n",
              "      <td>8.33</td>\n",
              "      <td>5.70</td>\n",
              "      <td>119</td>\n",
              "      <td>1022.7</td>\n",
              "      <td>25.5</td>\n",
              "      <td>25.8</td>\n",
              "      <td>23.5</td>\n",
              "      <td>99.0</td>\n",
              "      <td>99.0</td>\n",
              "    </tr>\n",
              "    <tr>\n",
              "      <th>4</th>\n",
              "      <td>2021-06-08 07:40:00</td>\n",
              "      <td>180</td>\n",
              "      <td>3.4</td>\n",
              "      <td>4.3</td>\n",
              "      <td>0.90</td>\n",
              "      <td>8.33</td>\n",
              "      <td>5.74</td>\n",
              "      <td>121</td>\n",
              "      <td>1022.3</td>\n",
              "      <td>25.5</td>\n",
              "      <td>25.9</td>\n",
              "      <td>23.6</td>\n",
              "      <td>99.0</td>\n",
              "      <td>99.0</td>\n",
              "    </tr>\n",
              "  </tbody>\n",
              "</table>\n",
              "</div>\n",
              "    <div class=\"colab-df-buttons\">\n",
              "\n",
              "  <div class=\"colab-df-container\">\n",
              "    <button class=\"colab-df-convert\" onclick=\"convertToInteractive('df-e0c5e654-8ab3-41ac-a0e6-610008cf2b1d')\"\n",
              "            title=\"Convert this dataframe to an interactive table.\"\n",
              "            style=\"display:none;\">\n",
              "\n",
              "  <svg xmlns=\"http://www.w3.org/2000/svg\" height=\"24px\" viewBox=\"0 -960 960 960\">\n",
              "    <path d=\"M120-120v-720h720v720H120Zm60-500h600v-160H180v160Zm220 220h160v-160H400v160Zm0 220h160v-160H400v160ZM180-400h160v-160H180v160Zm440 0h160v-160H620v160ZM180-180h160v-160H180v160Zm440 0h160v-160H620v160Z\"/>\n",
              "  </svg>\n",
              "    </button>\n",
              "\n",
              "  <style>\n",
              "    .colab-df-container {\n",
              "      display:flex;\n",
              "      gap: 12px;\n",
              "    }\n",
              "\n",
              "    .colab-df-convert {\n",
              "      background-color: #E8F0FE;\n",
              "      border: none;\n",
              "      border-radius: 50%;\n",
              "      cursor: pointer;\n",
              "      display: none;\n",
              "      fill: #1967D2;\n",
              "      height: 32px;\n",
              "      padding: 0 0 0 0;\n",
              "      width: 32px;\n",
              "    }\n",
              "\n",
              "    .colab-df-convert:hover {\n",
              "      background-color: #E2EBFA;\n",
              "      box-shadow: 0px 1px 2px rgba(60, 64, 67, 0.3), 0px 1px 3px 1px rgba(60, 64, 67, 0.15);\n",
              "      fill: #174EA6;\n",
              "    }\n",
              "\n",
              "    .colab-df-buttons div {\n",
              "      margin-bottom: 4px;\n",
              "    }\n",
              "\n",
              "    [theme=dark] .colab-df-convert {\n",
              "      background-color: #3B4455;\n",
              "      fill: #D2E3FC;\n",
              "    }\n",
              "\n",
              "    [theme=dark] .colab-df-convert:hover {\n",
              "      background-color: #434B5C;\n",
              "      box-shadow: 0px 1px 3px 1px rgba(0, 0, 0, 0.15);\n",
              "      filter: drop-shadow(0px 1px 2px rgba(0, 0, 0, 0.3));\n",
              "      fill: #FFFFFF;\n",
              "    }\n",
              "  </style>\n",
              "\n",
              "    <script>\n",
              "      const buttonEl =\n",
              "        document.querySelector('#df-e0c5e654-8ab3-41ac-a0e6-610008cf2b1d button.colab-df-convert');\n",
              "      buttonEl.style.display =\n",
              "        google.colab.kernel.accessAllowed ? 'block' : 'none';\n",
              "\n",
              "      async function convertToInteractive(key) {\n",
              "        const element = document.querySelector('#df-e0c5e654-8ab3-41ac-a0e6-610008cf2b1d');\n",
              "        const dataTable =\n",
              "          await google.colab.kernel.invokeFunction('convertToInteractive',\n",
              "                                                    [key], {});\n",
              "        if (!dataTable) return;\n",
              "\n",
              "        const docLinkHtml = 'Like what you see? Visit the ' +\n",
              "          '<a target=\"_blank\" href=https://colab.research.google.com/notebooks/data_table.ipynb>data table notebook</a>'\n",
              "          + ' to learn more about interactive tables.';\n",
              "        element.innerHTML = '';\n",
              "        dataTable['output_type'] = 'display_data';\n",
              "        await google.colab.output.renderOutput(dataTable, element);\n",
              "        const docLink = document.createElement('div');\n",
              "        docLink.innerHTML = docLinkHtml;\n",
              "        element.appendChild(docLink);\n",
              "      }\n",
              "    </script>\n",
              "  </div>\n",
              "\n",
              "\n",
              "<div id=\"df-df8cf830-b6c4-4912-a9c0-e2708bce6b97\">\n",
              "  <button class=\"colab-df-quickchart\" onclick=\"quickchart('df-df8cf830-b6c4-4912-a9c0-e2708bce6b97')\"\n",
              "            title=\"Suggest charts\"\n",
              "            style=\"display:none;\">\n",
              "\n",
              "<svg xmlns=\"http://www.w3.org/2000/svg\" height=\"24px\"viewBox=\"0 0 24 24\"\n",
              "     width=\"24px\">\n",
              "    <g>\n",
              "        <path d=\"M19 3H5c-1.1 0-2 .9-2 2v14c0 1.1.9 2 2 2h14c1.1 0 2-.9 2-2V5c0-1.1-.9-2-2-2zM9 17H7v-7h2v7zm4 0h-2V7h2v10zm4 0h-2v-4h2v4z\"/>\n",
              "    </g>\n",
              "</svg>\n",
              "  </button>\n",
              "\n",
              "<style>\n",
              "  .colab-df-quickchart {\n",
              "      --bg-color: #E8F0FE;\n",
              "      --fill-color: #1967D2;\n",
              "      --hover-bg-color: #E2EBFA;\n",
              "      --hover-fill-color: #174EA6;\n",
              "      --disabled-fill-color: #AAA;\n",
              "      --disabled-bg-color: #DDD;\n",
              "  }\n",
              "\n",
              "  [theme=dark] .colab-df-quickchart {\n",
              "      --bg-color: #3B4455;\n",
              "      --fill-color: #D2E3FC;\n",
              "      --hover-bg-color: #434B5C;\n",
              "      --hover-fill-color: #FFFFFF;\n",
              "      --disabled-bg-color: #3B4455;\n",
              "      --disabled-fill-color: #666;\n",
              "  }\n",
              "\n",
              "  .colab-df-quickchart {\n",
              "    background-color: var(--bg-color);\n",
              "    border: none;\n",
              "    border-radius: 50%;\n",
              "    cursor: pointer;\n",
              "    display: none;\n",
              "    fill: var(--fill-color);\n",
              "    height: 32px;\n",
              "    padding: 0;\n",
              "    width: 32px;\n",
              "  }\n",
              "\n",
              "  .colab-df-quickchart:hover {\n",
              "    background-color: var(--hover-bg-color);\n",
              "    box-shadow: 0 1px 2px rgba(60, 64, 67, 0.3), 0 1px 3px 1px rgba(60, 64, 67, 0.15);\n",
              "    fill: var(--button-hover-fill-color);\n",
              "  }\n",
              "\n",
              "  .colab-df-quickchart-complete:disabled,\n",
              "  .colab-df-quickchart-complete:disabled:hover {\n",
              "    background-color: var(--disabled-bg-color);\n",
              "    fill: var(--disabled-fill-color);\n",
              "    box-shadow: none;\n",
              "  }\n",
              "\n",
              "  .colab-df-spinner {\n",
              "    border: 2px solid var(--fill-color);\n",
              "    border-color: transparent;\n",
              "    border-bottom-color: var(--fill-color);\n",
              "    animation:\n",
              "      spin 1s steps(1) infinite;\n",
              "  }\n",
              "\n",
              "  @keyframes spin {\n",
              "    0% {\n",
              "      border-color: transparent;\n",
              "      border-bottom-color: var(--fill-color);\n",
              "      border-left-color: var(--fill-color);\n",
              "    }\n",
              "    20% {\n",
              "      border-color: transparent;\n",
              "      border-left-color: var(--fill-color);\n",
              "      border-top-color: var(--fill-color);\n",
              "    }\n",
              "    30% {\n",
              "      border-color: transparent;\n",
              "      border-left-color: var(--fill-color);\n",
              "      border-top-color: var(--fill-color);\n",
              "      border-right-color: var(--fill-color);\n",
              "    }\n",
              "    40% {\n",
              "      border-color: transparent;\n",
              "      border-right-color: var(--fill-color);\n",
              "      border-top-color: var(--fill-color);\n",
              "    }\n",
              "    60% {\n",
              "      border-color: transparent;\n",
              "      border-right-color: var(--fill-color);\n",
              "    }\n",
              "    80% {\n",
              "      border-color: transparent;\n",
              "      border-right-color: var(--fill-color);\n",
              "      border-bottom-color: var(--fill-color);\n",
              "    }\n",
              "    90% {\n",
              "      border-color: transparent;\n",
              "      border-bottom-color: var(--fill-color);\n",
              "    }\n",
              "  }\n",
              "</style>\n",
              "\n",
              "  <script>\n",
              "    async function quickchart(key) {\n",
              "      const quickchartButtonEl =\n",
              "        document.querySelector('#' + key + ' button');\n",
              "      quickchartButtonEl.disabled = true;  // To prevent multiple clicks.\n",
              "      quickchartButtonEl.classList.add('colab-df-spinner');\n",
              "      try {\n",
              "        const charts = await google.colab.kernel.invokeFunction(\n",
              "            'suggestCharts', [key], {});\n",
              "      } catch (error) {\n",
              "        console.error('Error during call to suggestCharts:', error);\n",
              "      }\n",
              "      quickchartButtonEl.classList.remove('colab-df-spinner');\n",
              "      quickchartButtonEl.classList.add('colab-df-quickchart-complete');\n",
              "    }\n",
              "    (() => {\n",
              "      let quickchartButtonEl =\n",
              "        document.querySelector('#df-df8cf830-b6c4-4912-a9c0-e2708bce6b97 button');\n",
              "      quickchartButtonEl.style.display =\n",
              "        google.colab.kernel.accessAllowed ? 'block' : 'none';\n",
              "    })();\n",
              "  </script>\n",
              "</div>\n",
              "    </div>\n",
              "  </div>\n"
            ],
            "text/plain": [
              "            date_time  WDIR  WSPD  GST  WVHT   DPD   APD  MWD    PRES  ATMP  \\\n",
              "0 2021-06-08 03:40:00   167   3.6  4.4  0.91  7.69  5.65  129  1023.2  25.8   \n",
              "1 2021-06-08 04:40:00   163   3.8  4.5  0.83  7.69  5.53  132  1023.2  25.7   \n",
              "2 2021-06-08 05:40:00   167   4.1  5.1  0.85  7.69  5.44  129  1022.8  25.5   \n",
              "3 2021-06-08 06:40:00   180   3.7  4.4  0.95  8.33  5.70  119  1022.7  25.5   \n",
              "4 2021-06-08 07:40:00   180   3.4  4.3  0.90  8.33  5.74  121  1022.3  25.5   \n",
              "\n",
              "   WTMP  DEWP   VIS  TIDE  \n",
              "0  25.9  23.4  99.0  99.0  \n",
              "1  25.9  23.5  99.0  99.0  \n",
              "2  25.7  23.4  99.0  99.0  \n",
              "3  25.8  23.5  99.0  99.0  \n",
              "4  25.9  23.6  99.0  99.0  "
            ]
          },
          "execution_count": 18,
          "metadata": {},
          "output_type": "execute_result"
        }
      ],
      "source": [
        "df.head()"
      ]
    },
    {
      "cell_type": "code",
      "execution_count": 19,
      "metadata": {
        "id": "EpkBiIONWvxW"
      },
      "outputs": [],
      "source": [
        "df[\"WVHT\"]=df[\"WVHT\"].astype(float)"
      ]
    },
    {
      "cell_type": "code",
      "execution_count": 20,
      "metadata": {
        "colab": {
          "base_uri": "https://localhost:8080/"
        },
        "id": "4b8YiHllpw2r",
        "outputId": "825423ce-b0dd-44d1-af47-aca59a3fb342"
      },
      "outputs": [
        {
          "name": "stdout",
          "output_type": "stream",
          "text": [
            "               date_time  WVHT\n",
            "0    2021-06-08 03:40:00  0.91\n",
            "1    2021-06-08 04:40:00  0.83\n",
            "2    2021-06-08 05:40:00  0.85\n",
            "3    2021-06-08 06:40:00  0.95\n",
            "4    2021-06-08 07:40:00  0.90\n",
            "...                  ...   ...\n",
            "2032 2021-08-31 19:40:00  0.86\n",
            "2033 2021-08-31 20:40:00  0.88\n",
            "2034 2021-08-31 21:40:00  0.91\n",
            "2035 2021-08-31 22:40:00  0.88\n",
            "2036 2021-08-31 23:40:00  0.82\n",
            "\n",
            "[2037 rows x 2 columns]\n"
          ]
        }
      ],
      "source": [
        "# Assuming you have a DataFrame called 'df'\n",
        "selected_columns = ['date_time' , 'WVHT']  # Specify the columns you want to select\n",
        "\n",
        "data = df[selected_columns]  # Create a new DataFrame by selecting the specified columns\n",
        "\n",
        "# Print the new DataFrame\n",
        "print(data)"
      ]
    },
    {
      "cell_type": "code",
      "execution_count": 21,
      "metadata": {
        "colab": {
          "base_uri": "https://localhost:8080/"
        },
        "id": "Mt8KAaODpznn",
        "outputId": "7c223e67-fb37-4ba4-924a-ea754d6044fb"
      },
      "outputs": [
        {
          "data": {
            "text/plain": [
              "array([ 0.91,  0.83,  0.85,  0.95,  0.9 ,  1.01,  0.93,  0.97,  1.  ,\n",
              "        1.02,  1.03,  0.94,  0.98,  0.99,  0.88,  0.89,  0.96,  0.84,\n",
              "        1.07,  1.05,  1.13,  1.12,  1.06,  1.11,  1.04,  1.1 ,  1.09,\n",
              "        1.15,  1.34,  1.33,  1.3 ,  1.38, 99.  ,  1.4 ,  1.46,  1.48,\n",
              "        1.44,  1.41,  1.39,  1.37,  1.49,  1.42,  1.51,  1.56,  1.63,\n",
              "        1.53,  1.71,  1.64,  1.7 ,  1.84,  1.87,  1.83,  1.98,  2.03,\n",
              "        1.95,  2.16,  2.08,  2.14,  2.12,  2.19,  2.17,  1.93,  2.07,\n",
              "        1.88,  1.75,  1.74,  1.68,  1.78,  1.66,  1.72,  1.8 ,  1.76,\n",
              "        1.81,  1.77,  1.85,  1.69,  1.65,  1.73,  1.67,  1.82,  1.92,\n",
              "        1.35,  1.27,  1.2 ,  1.31,  1.32,  1.54,  1.45,  2.02,  2.09,\n",
              "        2.26,  2.33,  2.24,  2.31,  2.22,  1.96,  1.91,  1.55,  1.43,\n",
              "        1.57,  1.26,  1.29,  1.21,  1.25,  1.28,  1.14,  0.81,  0.75,\n",
              "        0.77,  0.79,  0.8 ,  0.72,  0.76,  0.71,  0.74,  0.69,  0.7 ,\n",
              "        0.67,  0.73,  0.78,  0.82,  0.87,  2.01,  2.2 ,  2.34,  2.23,\n",
              "        2.15,  2.28,  2.3 ,  2.38,  2.1 ,  1.86,  1.9 ,  2.04,  2.06,\n",
              "        1.79,  1.59,  1.6 ,  1.5 ,  1.24,  1.16,  1.47,  1.62,  1.61,\n",
              "        1.58,  1.17,  1.23,  1.19,  1.18,  1.36,  2.32,  2.84,  3.43,\n",
              "        3.47,  3.29,  3.13,  2.7 ,  2.55,  2.49,  1.08,  0.92,  0.86,\n",
              "        0.68,  1.22,  2.43,  2.62,  2.79,  2.83,  2.76,  2.72,  2.66,\n",
              "        2.77,  2.42,  2.63,  2.64,  2.48,  2.4 ,  2.88,  2.95,  2.86,\n",
              "        3.01,  2.94,  3.14,  2.58,  2.74,  2.29,  2.18,  2.39,  2.27,\n",
              "        2.11,  1.89,  1.52,  0.66,  0.58,  0.63,  1.94,  1.99,  2.35,\n",
              "        2.21,  2.44,  2.69,  2.56,  2.45,  2.25,  2.05,  0.64,  0.65,\n",
              "        0.62,  0.61,  0.59,  0.6 ,  0.54,  0.55,  0.57,  0.56,  2.47,\n",
              "        2.98,  2.61,  2.8 ,  3.26,  3.2 ,  2.97,  2.36,  2.  ])"
            ]
          },
          "execution_count": 21,
          "metadata": {},
          "output_type": "execute_result"
        }
      ],
      "source": [
        "unique_values = data['WVHT'].unique()\n",
        "unique_values"
      ]
    },
    {
      "cell_type": "code",
      "execution_count": 22,
      "metadata": {
        "id": "vAqhHtZTp2LC"
      },
      "outputs": [],
      "source": [
        "data = data[data['WVHT'] != 99]"
      ]
    },
    {
      "cell_type": "code",
      "execution_count": 23,
      "metadata": {
        "colab": {
          "base_uri": "https://localhost:8080/"
        },
        "id": "uI65BbiHp5Z4",
        "outputId": "ccb0329a-93e2-4881-961d-3f2130b6e0de"
      },
      "outputs": [
        {
          "data": {
            "text/plain": [
              "(2030, 2)"
            ]
          },
          "execution_count": 23,
          "metadata": {},
          "output_type": "execute_result"
        }
      ],
      "source": [
        "data.shape"
      ]
    },
    {
      "cell_type": "code",
      "execution_count": 24,
      "metadata": {
        "colab": {
          "base_uri": "https://localhost:8080/",
          "height": 539
        },
        "id": "FJfkdzSTp7a2",
        "outputId": "10de390a-9fee-424c-d7a0-3cb7ab47f4c4"
      },
      "outputs": [
        {
          "data": {
            "text/plain": [
              "<Axes: >"
            ]
          },
          "execution_count": 24,
          "metadata": {},
          "output_type": "execute_result"
        },
        {
          "data": {
            "image/png": "[encoded data removed]",
            "text/plain": [
              "<Figure size 800x600 with 1 Axes>"
            ]
          },
          "metadata": {},
          "output_type": "display_data"
        }
      ],
      "source": [
        "data['WVHT'].plot(figsize=(8,6))"
      ]
    },
    {
      "cell_type": "code",
      "execution_count": 25,
      "metadata": {
        "id": "b5i9KPIbouYq"
      },
      "outputs": [],
      "source": [
        "import numpy as np\n",
        "import pandas as pd\n",
        "import tensorflow as tf\n",
        "import pickle\n",
        "import matplotlib.pyplot as plt\n",
        "from sklearn.preprocessing import MinMaxScaler\n",
        "from tensorflow.keras.models import Sequential\n",
        "from tensorflow.keras.layers import LSTM, Dense\n",
        "from tensorflow.keras.optimizers import Adam"
      ]
    },
    {
      "cell_type": "code",
      "execution_count": 26,
      "metadata": {
        "id": "CxKMxO2SovxB"
      },
      "outputs": [],
      "source": [
        "data['date_time'] = pd.to_datetime(data['date_time'])\n",
        "data = data.sort_values(by='date_time')\n",
        "y = data['WVHT'].values"
      ]
    },
    {
      "cell_type": "code",
      "execution_count": 27,
      "metadata": {
        "id": "T7wiumfWo1SC"
      },
      "outputs": [],
      "source": [
        "# Define a function to prepare sequences\n",
        "def prepare_sequences(data, seq_length):\n",
        "    sequences = []\n",
        "    targets = []\n",
        "    for i in range(len(data) - seq_length):\n",
        "        sequences.append(data[i:i+seq_length])\n",
        "        targets.append(data[i+seq_length])\n",
        "    return np.array(sequences), np.array(targets)"
      ]
    },
    {
      "cell_type": "code",
      "execution_count": 28,
      "metadata": {
        "id": "gql7d7pno-qC"
      },
      "outputs": [],
      "source": [
        "# Prepare sequences and targets\n",
        "sequence_length = 100  # Adjust as needed\n",
        "x_seq, y_targets = prepare_sequences(y, sequence_length)"
      ]
    },
    {
      "cell_type": "code",
      "execution_count": 29,
      "metadata": {
        "id": "H6GLHwVquxwm"
      },
      "outputs": [],
      "source": [
        "# Split the data into train and test sets\n",
        "split_ratio = 0.7  # Adjust as needed\n",
        "split_idx = int(split_ratio * len(x_seq))\n",
        "x_train, x_test = x_seq[:split_idx], x_seq[split_idx:]\n",
        "y_train, y_test = y_targets[:split_idx], y_targets[split_idx:]"
      ]
    },
    {
      "cell_type": "code",
      "execution_count": 30,
      "metadata": {
        "id": "ZJXAP6Ovu08K"
      },
      "outputs": [],
      "source": [
        "# Define quantile loss function using TensorFlow operations\n",
        "def quantile_loss(q, y_true, y_pred):\n",
        "    error = y_true - y_pred\n",
        "    return tf.reduce_mean(tf.maximum(q * error, (q - 1) * error))"
      ]
    },
    {
      "cell_type": "code",
      "execution_count": 31,
      "metadata": {
        "id": "Cjzi3ZM2ipNm"
      },
      "outputs": [],
      "source": [
        "# Import the Dropout layer from TensorFlow\n",
        "from tensorflow.keras.layers import Dropout"
      ]
    },
    {
      "cell_type": "code",
      "execution_count": 32,
      "metadata": {
        "id": "JdJoDp9qth2y"
      },
      "outputs": [],
      "source": [
        "from tensorflow.keras.layers import SimpleRNN\n",
        "\n",
        "# Define and train the RNN model with quantile loss\n",
        "def train_model_with_quantile_loss(q):\n",
        "    model = Sequential([\n",
        "        SimpleRNN(64, activation='sigmoid', input_shape=(sequence_length, 1)),\n",
        "        Dense(1)\n",
        "    ])\n",
        "\n",
        "    model.compile(optimizer=Adam(learning_rate=0.001), loss=lambda y_true, y_pred: quantile_loss(q, y_true, y_pred))\n",
        "    model.fit(x_train, y_train, validation_split=0.1, epochs=50, batch_size=32, verbose=1)\n",
        "    return model"
      ]
    },
    {
      "cell_type": "code",
      "execution_count": 33,
      "metadata": {
        "colab": {
          "base_uri": "https://localhost:8080/"
        },
        "id": "gP6H_yyra8ZS",
        "outputId": "5c6bf823-dcdb-4a2c-8d79-082b99b9de1e"
      },
      "outputs": [
        {
          "name": "stdout",
          "output_type": "stream",
          "text": [
            "Epoch 1/50\n",
            "38/38 [==============================] - 3s 32ms/step - loss: 0.0375 - val_loss: 0.0508\n",
            "Epoch 2/50\n",
            "38/38 [==============================] - 1s 18ms/step - loss: 0.0295 - val_loss: 0.0494\n",
            "Epoch 3/50\n",
            "38/38 [==============================] - 1s 18ms/step - loss: 0.0273 - val_loss: 0.0461\n",
            "Epoch 4/50\n",
            "38/38 [==============================] - 1s 18ms/step - loss: 0.0259 - val_loss: 0.0424\n",
            "Epoch 5/50\n",
            "38/38 [==============================] - 1s 18ms/step - loss: 0.0246 - val_loss: 0.0382\n",
            "Epoch 6/50\n",
            "38/38 [==============================] - 1s 18ms/step - loss: 0.0224 - val_loss: 0.0343\n",
            "Epoch 7/50\n",
            "38/38 [==============================] - 1s 18ms/step - loss: 0.0221 - val_loss: 0.0338\n",
            "Epoch 8/50\n",
            "38/38 [==============================] - 1s 19ms/step - loss: 0.0184 - val_loss: 0.0277\n",
            "Epoch 9/50\n",
            "38/38 [==============================] - 1s 18ms/step - loss: 0.0158 - val_loss: 0.0228\n",
            "Epoch 10/50\n",
            "38/38 [==============================] - 1s 17ms/step - loss: 0.0136 - val_loss: 0.0192\n",
            "Epoch 11/50\n",
            "38/38 [==============================] - 1s 19ms/step - loss: 0.0124 - val_loss: 0.0144\n",
            "Epoch 12/50\n",
            "38/38 [==============================] - 1s 18ms/step - loss: 0.0098 - val_loss: 0.0118\n",
            "Epoch 13/50\n",
            "38/38 [==============================] - 1s 19ms/step - loss: 0.0085 - val_loss: 0.0113\n",
            "Epoch 14/50\n",
            "38/38 [==============================] - 1s 33ms/step - loss: 0.0090 - val_loss: 0.0118\n",
            "Epoch 15/50\n",
            "38/38 [==============================] - 1s 33ms/step - loss: 0.0086 - val_loss: 0.0110\n",
            "Epoch 16/50\n",
            "38/38 [==============================] - 1s 35ms/step - loss: 0.0087 - val_loss: 0.0118\n",
            "Epoch 17/50\n",
            "38/38 [==============================] - 1s 18ms/step - loss: 0.0080 - val_loss: 0.0111\n",
            "Epoch 18/50\n",
            "38/38 [==============================] - 1s 18ms/step - loss: 0.0101 - val_loss: 0.0128\n",
            "Epoch 19/50\n",
            "38/38 [==============================] - 1s 18ms/step - loss: 0.0082 - val_loss: 0.0114\n",
            "Epoch 20/50\n",
            "38/38 [==============================] - 1s 18ms/step - loss: 0.0078 - val_loss: 0.0113\n",
            "Epoch 21/50\n",
            "38/38 [==============================] - 1s 19ms/step - loss: 0.0076 - val_loss: 0.0117\n",
            "Epoch 22/50\n",
            "38/38 [==============================] - 1s 19ms/step - loss: 0.0086 - val_loss: 0.0110\n",
            "Epoch 23/50\n",
            "38/38 [==============================] - 1s 18ms/step - loss: 0.0078 - val_loss: 0.0111\n",
            "Epoch 24/50\n",
            "38/38 [==============================] - 1s 18ms/step - loss: 0.0081 - val_loss: 0.0113\n",
            "Epoch 25/50\n",
            "38/38 [==============================] - 1s 18ms/step - loss: 0.0082 - val_loss: 0.0116\n",
            "Epoch 26/50\n",
            "38/38 [==============================] - 1s 18ms/step - loss: 0.0079 - val_loss: 0.0112\n",
            "Epoch 27/50\n",
            "38/38 [==============================] - 1s 19ms/step - loss: 0.0079 - val_loss: 0.0111\n",
            "Epoch 28/50\n",
            "38/38 [==============================] - 1s 18ms/step - loss: 0.0093 - val_loss: 0.0113\n",
            "Epoch 29/50\n",
            "38/38 [==============================] - 1s 31ms/step - loss: 0.0082 - val_loss: 0.0119\n",
            "Epoch 30/50\n",
            "38/38 [==============================] - 2s 48ms/step - loss: 0.0089 - val_loss: 0.0127\n",
            "Epoch 31/50\n",
            "38/38 [==============================] - 1s 33ms/step - loss: 0.0088 - val_loss: 0.0118\n",
            "Epoch 32/50\n",
            "38/38 [==============================] - 1s 34ms/step - loss: 0.0083 - val_loss: 0.0110\n",
            "Epoch 33/50\n",
            "38/38 [==============================] - 1s 21ms/step - loss: 0.0078 - val_loss: 0.0112\n",
            "Epoch 34/50\n",
            "38/38 [==============================] - 1s 19ms/step - loss: 0.0079 - val_loss: 0.0111\n",
            "Epoch 35/50\n",
            "38/38 [==============================] - 1s 19ms/step - loss: 0.0081 - val_loss: 0.0112\n",
            "Epoch 36/50\n",
            "38/38 [==============================] - 1s 17ms/step - loss: 0.0087 - val_loss: 0.0113\n",
            "Epoch 37/50\n",
            "38/38 [==============================] - 1s 18ms/step - loss: 0.0081 - val_loss: 0.0111\n",
            "Epoch 38/50\n",
            "38/38 [==============================] - 1s 18ms/step - loss: 0.0078 - val_loss: 0.0112\n",
            "Epoch 39/50\n",
            "38/38 [==============================] - 1s 17ms/step - loss: 0.0082 - val_loss: 0.0112\n",
            "Epoch 40/50\n",
            "38/38 [==============================] - 1s 18ms/step - loss: 0.0088 - val_loss: 0.0154\n",
            "Epoch 41/50\n",
            "38/38 [==============================] - 1s 19ms/step - loss: 0.0084 - val_loss: 0.0129\n",
            "Epoch 42/50\n",
            "38/38 [==============================] - 1s 19ms/step - loss: 0.0078 - val_loss: 0.0112\n",
            "Epoch 43/50\n",
            "38/38 [==============================] - 1s 18ms/step - loss: 0.0077 - val_loss: 0.0118\n",
            "Epoch 44/50\n",
            "38/38 [==============================] - 1s 19ms/step - loss: 0.0079 - val_loss: 0.0116\n",
            "Epoch 45/50\n",
            "38/38 [==============================] - 1s 18ms/step - loss: 0.0080 - val_loss: 0.0126\n",
            "Epoch 46/50\n",
            "38/38 [==============================] - 1s 18ms/step - loss: 0.0083 - val_loss: 0.0111\n",
            "Epoch 47/50\n",
            "38/38 [==============================] - 1s 25ms/step - loss: 0.0084 - val_loss: 0.0115\n",
            "Epoch 48/50\n",
            "38/38 [==============================] - 1s 31ms/step - loss: 0.0078 - val_loss: 0.0115\n",
            "Epoch 49/50\n",
            "38/38 [==============================] - 1s 31ms/step - loss: 0.0080 - val_loss: 0.0112\n",
            "Epoch 50/50\n",
            "38/38 [==============================] - 1s 34ms/step - loss: 0.0082 - val_loss: 0.0110\n"
          ]
        }
      ],
      "source": [
        "#Train models with 20% and 80% quantiles\n",
        "q_05 = 0.05  # 10% quantile\n",
        "model_05 = train_model_with_quantile_loss(q_05)"
      ]
    },
    {
      "cell_type": "code",
      "execution_count": 34,
      "metadata": {
        "colab": {
          "base_uri": "https://localhost:8080/"
        },
        "id": "6yCnFd8Ka_eM",
        "outputId": "32516511-758c-4e79-9698-b9c837eed5c4"
      },
      "outputs": [
        {
          "name": "stdout",
          "output_type": "stream",
          "text": [
            "Epoch 1/50\n",
            "38/38 [==============================] - 2s 25ms/step - loss: 0.5309 - val_loss: 0.0505\n",
            "Epoch 2/50\n",
            "38/38 [==============================] - 1s 18ms/step - loss: 0.0633 - val_loss: 0.0401\n",
            "Epoch 3/50\n",
            "38/38 [==============================] - 1s 19ms/step - loss: 0.0616 - val_loss: 0.0484\n",
            "Epoch 4/50\n",
            "38/38 [==============================] - 1s 19ms/step - loss: 0.0604 - val_loss: 0.0532\n",
            "Epoch 5/50\n",
            "38/38 [==============================] - 1s 19ms/step - loss: 0.0594 - val_loss: 0.0521\n",
            "Epoch 6/50\n",
            "38/38 [==============================] - 1s 17ms/step - loss: 0.0583 - val_loss: 0.0508\n",
            "Epoch 7/50\n",
            "38/38 [==============================] - 1s 31ms/step - loss: 0.0571 - val_loss: 0.0539\n",
            "Epoch 8/50\n",
            "38/38 [==============================] - 1s 33ms/step - loss: 0.0559 - val_loss: 0.0517\n",
            "Epoch 9/50\n",
            "38/38 [==============================] - 1s 34ms/step - loss: 0.0542 - val_loss: 0.0509\n",
            "Epoch 10/50\n",
            "38/38 [==============================] - 1s 23ms/step - loss: 0.0526 - val_loss: 0.0458\n",
            "Epoch 11/50\n",
            "38/38 [==============================] - 1s 18ms/step - loss: 0.0507 - val_loss: 0.0458\n",
            "Epoch 12/50\n",
            "38/38 [==============================] - 1s 18ms/step - loss: 0.0488 - val_loss: 0.0433\n",
            "Epoch 13/50\n",
            "38/38 [==============================] - 1s 18ms/step - loss: 0.0465 - val_loss: 0.0503\n",
            "Epoch 14/50\n",
            "38/38 [==============================] - 1s 17ms/step - loss: 0.0442 - val_loss: 0.0436\n",
            "Epoch 15/50\n",
            "38/38 [==============================] - 1s 18ms/step - loss: 0.0411 - val_loss: 0.0440\n",
            "Epoch 16/50\n",
            "38/38 [==============================] - 1s 19ms/step - loss: 0.0376 - val_loss: 0.0298\n",
            "Epoch 17/50\n",
            "38/38 [==============================] - 1s 18ms/step - loss: 0.0336 - val_loss: 0.0220\n",
            "Epoch 18/50\n",
            "38/38 [==============================] - 1s 18ms/step - loss: 0.0279 - val_loss: 0.0299\n",
            "Epoch 19/50\n",
            "38/38 [==============================] - 1s 18ms/step - loss: 0.0216 - val_loss: 0.0178\n",
            "Epoch 20/50\n",
            "38/38 [==============================] - 1s 18ms/step - loss: 0.0149 - val_loss: 0.0127\n",
            "Epoch 21/50\n",
            "38/38 [==============================] - 1s 18ms/step - loss: 0.0123 - val_loss: 0.0118\n",
            "Epoch 22/50\n",
            "38/38 [==============================] - 1s 18ms/step - loss: 0.0117 - val_loss: 0.0149\n",
            "Epoch 23/50\n",
            "38/38 [==============================] - 1s 18ms/step - loss: 0.0123 - val_loss: 0.0147\n",
            "Epoch 24/50\n",
            "38/38 [==============================] - 1s 22ms/step - loss: 0.0112 - val_loss: 0.0158\n",
            "Epoch 25/50\n",
            "38/38 [==============================] - 1s 32ms/step - loss: 0.0118 - val_loss: 0.0151\n",
            "Epoch 26/50\n",
            "38/38 [==============================] - 1s 35ms/step - loss: 0.0113 - val_loss: 0.0151\n",
            "Epoch 27/50\n",
            "38/38 [==============================] - 1s 30ms/step - loss: 0.0127 - val_loss: 0.0118\n",
            "Epoch 28/50\n",
            "38/38 [==============================] - 1s 18ms/step - loss: 0.0125 - val_loss: 0.0132\n",
            "Epoch 29/50\n",
            "38/38 [==============================] - 1s 18ms/step - loss: 0.0123 - val_loss: 0.0143\n",
            "Epoch 30/50\n",
            "38/38 [==============================] - 1s 18ms/step - loss: 0.0112 - val_loss: 0.0132\n",
            "Epoch 31/50\n",
            "38/38 [==============================] - 1s 18ms/step - loss: 0.0109 - val_loss: 0.0117\n",
            "Epoch 32/50\n",
            "38/38 [==============================] - 1s 18ms/step - loss: 0.0119 - val_loss: 0.0150\n",
            "Epoch 33/50\n",
            "38/38 [==============================] - 1s 19ms/step - loss: 0.0114 - val_loss: 0.0125\n",
            "Epoch 34/50\n",
            "38/38 [==============================] - 1s 17ms/step - loss: 0.0101 - val_loss: 0.0160\n",
            "Epoch 35/50\n",
            "38/38 [==============================] - 1s 18ms/step - loss: 0.0113 - val_loss: 0.0137\n",
            "Epoch 36/50\n",
            "38/38 [==============================] - 1s 18ms/step - loss: 0.0107 - val_loss: 0.0125\n",
            "Epoch 37/50\n",
            "38/38 [==============================] - 1s 17ms/step - loss: 0.0106 - val_loss: 0.0116\n",
            "Epoch 38/50\n",
            "38/38 [==============================] - 1s 18ms/step - loss: 0.0104 - val_loss: 0.0141\n",
            "Epoch 39/50\n",
            "38/38 [==============================] - 1s 18ms/step - loss: 0.0110 - val_loss: 0.0127\n",
            "Epoch 40/50\n",
            "38/38 [==============================] - 1s 17ms/step - loss: 0.0104 - val_loss: 0.0124\n",
            "Epoch 41/50\n",
            "38/38 [==============================] - 1s 19ms/step - loss: 0.0101 - val_loss: 0.0121\n",
            "Epoch 42/50\n",
            "38/38 [==============================] - 1s 34ms/step - loss: 0.0105 - val_loss: 0.0128\n",
            "Epoch 43/50\n",
            "38/38 [==============================] - 1s 34ms/step - loss: 0.0111 - val_loss: 0.0128\n",
            "Epoch 44/50\n",
            "38/38 [==============================] - 1s 35ms/step - loss: 0.0104 - val_loss: 0.0121\n",
            "Epoch 45/50\n",
            "38/38 [==============================] - 1s 18ms/step - loss: 0.0124 - val_loss: 0.0133\n",
            "Epoch 46/50\n",
            "38/38 [==============================] - 1s 18ms/step - loss: 0.0114 - val_loss: 0.0139\n",
            "Epoch 47/50\n",
            "38/38 [==============================] - 1s 18ms/step - loss: 0.0103 - val_loss: 0.0120\n",
            "Epoch 48/50\n",
            "38/38 [==============================] - 1s 18ms/step - loss: 0.0100 - val_loss: 0.0132\n",
            "Epoch 49/50\n",
            "38/38 [==============================] - 1s 18ms/step - loss: 0.0101 - val_loss: 0.0117\n",
            "Epoch 50/50\n",
            "38/38 [==============================] - 1s 18ms/step - loss: 0.0105 - val_loss: 0.0142\n"
          ]
        }
      ],
      "source": [
        "q_95 = 0.95  # 90% quantile\n",
        "model_95 = train_model_with_quantile_loss(q_95)"
      ]
    },
    {
      "cell_type": "code",
      "execution_count": 35,
      "metadata": {
        "colab": {
          "base_uri": "https://localhost:8080/"
        },
        "id": "Q1pj0VAvbB3q",
        "outputId": "9babad8d-a1c8-4ca2-e271-94146f6c04b7"
      },
      "outputs": [
        {
          "name": "stdout",
          "output_type": "stream",
          "text": [
            "19/19 [==============================] - 0s 7ms/step\n",
            "19/19 [==============================] - 0s 7ms/step\n"
          ]
        }
      ],
      "source": [
        "# Make predictions\n",
        "y_pred_05 = model_05.predict(x_test)\n",
        "y_pred_95 = model_95.predict(x_test)"
      ]
    },
    {
      "cell_type": "code",
      "execution_count": 36,
      "metadata": {
        "colab": {
          "base_uri": "https://localhost:8080/",
          "height": 449
        },
        "id": "6mNyowHeiPuk",
        "outputId": "0967da61-1d3f-426e-a0a4-23092b81a95e"
      },
      "outputs": [
        {
          "data": {
            "image/png": "[encoded data removed]",
            "text/plain": [
              "<Figure size 640x480 with 1 Axes>"
            ]
          },
          "metadata": {},
          "output_type": "display_data"
        }
      ],
      "source": [
        "# Plot quantile predictions along with actual values\n",
        "plt.plot(range(len(y_test)), y_test, label=\"Actual\")\n",
        "plt.plot(range(len(y_test)), y_pred_05, label=\"5% Prediction\")\n",
        "plt.plot(range(len(y_test)), y_pred_95, label=\"95% Prediction\")\n",
        "plt.xlabel(\"Data Points in Test Set\")\n",
        "plt.ylabel(\"WVHT\")\n",
        "plt.legend()\n",
        "plt.savefig(\"41002h2021.png\")\n",
        "\n",
        "plt.show()\n",
        "\n",
        "# Calculate the number of points between 95% and 5% percentiles\n",
        "num_points_between_percentiles = np.sum((y_pred_05 <= y_test) & (y_test <= y_pred_95))"
      ]
    },
    {
      "cell_type": "code",
      "execution_count": 38,
      "metadata": {
        "colab": {
          "base_uri": "https://localhost:8080/"
        },
        "id": "lSvXljPeCj0i",
        "outputId": "b238b8a6-8029-401b-c4bb-5f981ca2a3da"
      },
      "outputs": [
        {
          "name": "stdout",
          "output_type": "stream",
          "text": [
            "MPIW: 0.29628098\n"
          ]
        }
      ],
      "source": [
        "# Calculate MPIW\n",
        "def calculate_mpiw(y_lower, y_upper):\n",
        "    mpiw = np.mean(y_upper - y_lower)\n",
        "    return mpiw\n",
        "\n",
        "# Calculate lower and upper bounds of prediction intervals\n",
        "y_lower_05 = y_pred_05\n",
        "y_upper_95 = y_pred_95\n",
        "\n",
        "# Calculate MPIW for the 10-90% prediction interval\n",
        "mpiw = calculate_mpiw(y_lower_05, y_upper_95)\n",
        "\n",
        "# Print MPIW for the 10-90% prediction interval\n",
        "print(\"MPIW:\", mpiw)"
      ]
    },
    {
      "cell_type": "code",
      "execution_count": 39,
      "metadata": {
        "colab": {
          "base_uri": "https://localhost:8080/"
        },
        "id": "tfebwgk_z4RJ",
        "outputId": "d3d06675-4b9d-4f0c-d43f-d8bed1bb202d"
      },
      "outputs": [
        {
          "name": "stdout",
          "output_type": "stream",
          "text": [
            "579\n"
          ]
        }
      ],
      "source": [
        "print(len(y_test))"
      ]
    },
    {
      "cell_type": "code",
      "execution_count": 40,
      "metadata": {
        "colab": {
          "base_uri": "https://localhost:8080/"
        },
        "id": "3qHFKyjcyKTX",
        "outputId": "5f789224-64bb-45de-d452-99d6909f3ddc"
      },
      "outputs": [
        {
          "name": "stdout",
          "output_type": "stream",
          "text": [
            "544\n"
          ]
        }
      ],
      "source": [
        "within_interval = (y_lower_05.flatten() <= y_test) & (y_test <= y_upper_95.flatten())\n",
        "print(within_interval.sum())"
      ]
    },
    {
      "cell_type": "code",
      "execution_count": 41,
      "metadata": {
        "colab": {
          "base_uri": "https://localhost:8080/"
        },
        "id": "7bZqtgAhJIEN",
        "outputId": "06bf1b68-c651-48ca-91d9-94a11f85ad28"
      },
      "outputs": [
        {
          "name": "stdout",
          "output_type": "stream",
          "text": [
            "PICP: 0.9395509499136442\n"
          ]
        }
      ],
      "source": [
        "# Calculate lower and upper bounds of prediction intervals\n",
        "y_lower_05 = y_pred_05\n",
        "y_upper_95 = y_pred_95\n",
        "\n",
        "# Check if each actual observation falls within the prediction interval\n",
        "within_interval = (y_lower_05.flatten() <= y_test) & (y_test <= y_upper_95.flatten())\n",
        "\n",
        "# Count the number of observations falling within the prediction intervals\n",
        "num_within_interval = within_interval.sum()\n",
        "\n",
        "# Total number of observations\n",
        "total_observations = len(y_test)\n",
        "\n",
        "# Calculate PICP (Prediction Interval Coverage Probability)\n",
        "picp = num_within_interval / total_observations\n",
        "print(\"PICP:\", picp)"
      ]
    }
  ],
  "metadata": {
    "colab": {
      "provenance": []
    },
    "kernelspec": {
      "display_name": "Python 3",
      "name": "python3"
    },
    "language_info": {
      "name": "python"
    }
  },
  "nbformat": 4,
  "nbformat_minor": 0
}
