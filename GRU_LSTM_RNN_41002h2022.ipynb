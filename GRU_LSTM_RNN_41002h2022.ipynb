{
  "cells": [
    {
      "cell_type": "code",
      "execution_count": null,
      "metadata": {
        "id": "Y_V3p8yx9TMZ"
      },
      "outputs": [],
      "source": [
        "import pandas as pd\n",
        "import numpy as np"
      ]
    },
    {
      "cell_type": "code",
      "execution_count": null,
      "metadata": {
        "id": "NpWiJ4U8lnl_"
      },
      "outputs": [],
      "source": [
        "import pandas as pd\n",
        "# Assuming your text file is named \"data.txt\" and is in the same directory as your Python script\n",
        "file_path = \"/content/41002h2022.txt\"\n",
        "\n",
        "# If your data is separated by spaces, you can use:\n",
        "df = pd.read_csv(file_path, delim_whitespace=True)"
      ]
    },
    {
      "cell_type": "code",
      "execution_count": null,
      "metadata": {
        "colab": {
          "base_uri": "https://localhost:8080/",
          "height": 206
        },
        "id": "3UeALjFMoSNh",
        "outputId": "a25d19a4-2bfb-4455-94ef-6271df442080"
      },
      "outputs": [
        {
          "output_type": "execute_result",
          "data": {
            "text/plain": [
              "    #YY  MM  DD  hh  mm  WDIR  WSPD  GST   WVHT    DPD    APD  MWD    PRES  \\\n",
              "0  2022   1   1   0   0   304   1.7  3.0  99.00  99.00  99.00  999  1016.9   \n",
              "1  2022   1   1   0  10   289   2.0  2.8  99.00  99.00  99.00  999  1017.1   \n",
              "2  2022   1   1   0  20   292   2.5  3.7  99.00  99.00  99.00  999  1017.2   \n",
              "3  2022   1   1   0  30   285   1.8  3.1  99.00  99.00  99.00  999  1017.3   \n",
              "4  2022   1   1   0  40   292   1.8  3.0   1.73   7.14   6.05  270  1017.5   \n",
              "\n",
              "   ATMP  WTMP  DEWP   VIS  TIDE  \n",
              "0  23.4  24.1  20.3  99.0  99.0  \n",
              "1  23.4  24.1  20.4  99.0  99.0  \n",
              "2  23.4  24.2  20.4  99.0  99.0  \n",
              "3  23.4  24.2  20.5  99.0  99.0  \n",
              "4  23.4  24.2  20.5  99.0  99.0  "
            ],
            "text/html": [
              "\n",
              "  <div id=\"df-25b54829-9beb-4637-ba4f-54346988161b\" class=\"colab-df-container\">\n",
              "    <div>\n",
              "<style scoped>\n",
              "    .dataframe tbody tr th:only-of-type {\n",
              "        vertical-align: middle;\n",
              "    }\n",
              "\n",
              "    .dataframe tbody tr th {\n",
              "        vertical-align: top;\n",
              "    }\n",
              "\n",
              "    .dataframe thead th {\n",
              "        text-align: right;\n",
              "    }\n",
              "</style>\n",
              "<table border=\"1\" class=\"dataframe\">\n",
              "  <thead>\n",
              "    <tr style=\"text-align: right;\">\n",
              "      <th></th>\n",
              "      <th>#YY</th>\n",
              "      <th>MM</th>\n",
              "      <th>DD</th>\n",
              "      <th>hh</th>\n",
              "      <th>mm</th>\n",
              "      <th>WDIR</th>\n",
              "      <th>WSPD</th>\n",
              "      <th>GST</th>\n",
              "      <th>WVHT</th>\n",
              "      <th>DPD</th>\n",
              "      <th>APD</th>\n",
              "      <th>MWD</th>\n",
              "      <th>PRES</th>\n",
              "      <th>ATMP</th>\n",
              "      <th>WTMP</th>\n",
              "      <th>DEWP</th>\n",
              "      <th>VIS</th>\n",
              "      <th>TIDE</th>\n",
              "    </tr>\n",
              "  </thead>\n",
              "  <tbody>\n",
              "    <tr>\n",
              "      <th>0</th>\n",
              "      <td>2022</td>\n",
              "      <td>1</td>\n",
              "      <td>1</td>\n",
              "      <td>0</td>\n",
              "      <td>0</td>\n",
              "      <td>304</td>\n",
              "      <td>1.7</td>\n",
              "      <td>3.0</td>\n",
              "      <td>99.00</td>\n",
              "      <td>99.00</td>\n",
              "      <td>99.00</td>\n",
              "      <td>999</td>\n",
              "      <td>1016.9</td>\n",
              "      <td>23.4</td>\n",
              "      <td>24.1</td>\n",
              "      <td>20.3</td>\n",
              "      <td>99.0</td>\n",
              "      <td>99.0</td>\n",
              "    </tr>\n",
              "    <tr>\n",
              "      <th>1</th>\n",
              "      <td>2022</td>\n",
              "      <td>1</td>\n",
              "      <td>1</td>\n",
              "      <td>0</td>\n",
              "      <td>10</td>\n",
              "      <td>289</td>\n",
              "      <td>2.0</td>\n",
              "      <td>2.8</td>\n",
              "      <td>99.00</td>\n",
              "      <td>99.00</td>\n",
              "      <td>99.00</td>\n",
              "      <td>999</td>\n",
              "      <td>1017.1</td>\n",
              "      <td>23.4</td>\n",
              "      <td>24.1</td>\n",
              "      <td>20.4</td>\n",
              "      <td>99.0</td>\n",
              "      <td>99.0</td>\n",
              "    </tr>\n",
              "    <tr>\n",
              "      <th>2</th>\n",
              "      <td>2022</td>\n",
              "      <td>1</td>\n",
              "      <td>1</td>\n",
              "      <td>0</td>\n",
              "      <td>20</td>\n",
              "      <td>292</td>\n",
              "      <td>2.5</td>\n",
              "      <td>3.7</td>\n",
              "      <td>99.00</td>\n",
              "      <td>99.00</td>\n",
              "      <td>99.00</td>\n",
              "      <td>999</td>\n",
              "      <td>1017.2</td>\n",
              "      <td>23.4</td>\n",
              "      <td>24.2</td>\n",
              "      <td>20.4</td>\n",
              "      <td>99.0</td>\n",
              "      <td>99.0</td>\n",
              "    </tr>\n",
              "    <tr>\n",
              "      <th>3</th>\n",
              "      <td>2022</td>\n",
              "      <td>1</td>\n",
              "      <td>1</td>\n",
              "      <td>0</td>\n",
              "      <td>30</td>\n",
              "      <td>285</td>\n",
              "      <td>1.8</td>\n",
              "      <td>3.1</td>\n",
              "      <td>99.00</td>\n",
              "      <td>99.00</td>\n",
              "      <td>99.00</td>\n",
              "      <td>999</td>\n",
              "      <td>1017.3</td>\n",
              "      <td>23.4</td>\n",
              "      <td>24.2</td>\n",
              "      <td>20.5</td>\n",
              "      <td>99.0</td>\n",
              "      <td>99.0</td>\n",
              "    </tr>\n",
              "    <tr>\n",
              "      <th>4</th>\n",
              "      <td>2022</td>\n",
              "      <td>1</td>\n",
              "      <td>1</td>\n",
              "      <td>0</td>\n",
              "      <td>40</td>\n",
              "      <td>292</td>\n",
              "      <td>1.8</td>\n",
              "      <td>3.0</td>\n",
              "      <td>1.73</td>\n",
              "      <td>7.14</td>\n",
              "      <td>6.05</td>\n",
              "      <td>270</td>\n",
              "      <td>1017.5</td>\n",
              "      <td>23.4</td>\n",
              "      <td>24.2</td>\n",
              "      <td>20.5</td>\n",
              "      <td>99.0</td>\n",
              "      <td>99.0</td>\n",
              "    </tr>\n",
              "  </tbody>\n",
              "</table>\n",
              "</div>\n",
              "    <div class=\"colab-df-buttons\">\n",
              "\n",
              "  <div class=\"colab-df-container\">\n",
              "    <button class=\"colab-df-convert\" onclick=\"convertToInteractive('df-25b54829-9beb-4637-ba4f-54346988161b')\"\n",
              "            title=\"Convert this dataframe to an interactive table.\"\n",
              "            style=\"display:none;\">\n",
              "\n",
              "  <svg xmlns=\"http://www.w3.org/2000/svg\" height=\"24px\" viewBox=\"0 -960 960 960\">\n",
              "    <path d=\"M120-120v-720h720v720H120Zm60-500h600v-160H180v160Zm220 220h160v-160H400v160Zm0 220h160v-160H400v160ZM180-400h160v-160H180v160Zm440 0h160v-160H620v160ZM180-180h160v-160H180v160Zm440 0h160v-160H620v160Z\"/>\n",
              "  </svg>\n",
              "    </button>\n",
              "\n",
              "  <style>\n",
              "    .colab-df-container {\n",
              "      display:flex;\n",
              "      gap: 12px;\n",
              "    }\n",
              "\n",
              "    .colab-df-convert {\n",
              "      background-color: #E8F0FE;\n",
              "      border: none;\n",
              "      border-radius: 50%;\n",
              "      cursor: pointer;\n",
              "      display: none;\n",
              "      fill: #1967D2;\n",
              "      height: 32px;\n",
              "      padding: 0 0 0 0;\n",
              "      width: 32px;\n",
              "    }\n",
              "\n",
              "    .colab-df-convert:hover {\n",
              "      background-color: #E2EBFA;\n",
              "      box-shadow: 0px 1px 2px rgba(60, 64, 67, 0.3), 0px 1px 3px 1px rgba(60, 64, 67, 0.15);\n",
              "      fill: #174EA6;\n",
              "    }\n",
              "\n",
              "    .colab-df-buttons div {\n",
              "      margin-bottom: 4px;\n",
              "    }\n",
              "\n",
              "    [theme=dark] .colab-df-convert {\n",
              "      background-color: #3B4455;\n",
              "      fill: #D2E3FC;\n",
              "    }\n",
              "\n",
              "    [theme=dark] .colab-df-convert:hover {\n",
              "      background-color: #434B5C;\n",
              "      box-shadow: 0px 1px 3px 1px rgba(0, 0, 0, 0.15);\n",
              "      filter: drop-shadow(0px 1px 2px rgba(0, 0, 0, 0.3));\n",
              "      fill: #FFFFFF;\n",
              "    }\n",
              "  </style>\n",
              "\n",
              "    <script>\n",
              "      const buttonEl =\n",
              "        document.querySelector('#df-25b54829-9beb-4637-ba4f-54346988161b button.colab-df-convert');\n",
              "      buttonEl.style.display =\n",
              "        google.colab.kernel.accessAllowed ? 'block' : 'none';\n",
              "\n",
              "      async function convertToInteractive(key) {\n",
              "        const element = document.querySelector('#df-25b54829-9beb-4637-ba4f-54346988161b');\n",
              "        const dataTable =\n",
              "          await google.colab.kernel.invokeFunction('convertToInteractive',\n",
              "                                                    [key], {});\n",
              "        if (!dataTable) return;\n",
              "\n",
              "        const docLinkHtml = 'Like what you see? Visit the ' +\n",
              "          '<a target=\"_blank\" href=https://colab.research.google.com/notebooks/data_table.ipynb>data table notebook</a>'\n",
              "          + ' to learn more about interactive tables.';\n",
              "        element.innerHTML = '';\n",
              "        dataTable['output_type'] = 'display_data';\n",
              "        await google.colab.output.renderOutput(dataTable, element);\n",
              "        const docLink = document.createElement('div');\n",
              "        docLink.innerHTML = docLinkHtml;\n",
              "        element.appendChild(docLink);\n",
              "      }\n",
              "    </script>\n",
              "  </div>\n",
              "\n",
              "\n",
              "<div id=\"df-c2ee1c5d-b8f6-4592-8678-7b60e397769b\">\n",
              "  <button class=\"colab-df-quickchart\" onclick=\"quickchart('df-c2ee1c5d-b8f6-4592-8678-7b60e397769b')\"\n",
              "            title=\"Suggest charts\"\n",
              "            style=\"display:none;\">\n",
              "\n",
              "<svg xmlns=\"http://www.w3.org/2000/svg\" height=\"24px\"viewBox=\"0 0 24 24\"\n",
              "     width=\"24px\">\n",
              "    <g>\n",
              "        <path d=\"M19 3H5c-1.1 0-2 .9-2 2v14c0 1.1.9 2 2 2h14c1.1 0 2-.9 2-2V5c0-1.1-.9-2-2-2zM9 17H7v-7h2v7zm4 0h-2V7h2v10zm4 0h-2v-4h2v4z\"/>\n",
              "    </g>\n",
              "</svg>\n",
              "  </button>\n",
              "\n",
              "<style>\n",
              "  .colab-df-quickchart {\n",
              "      --bg-color: #E8F0FE;\n",
              "      --fill-color: #1967D2;\n",
              "      --hover-bg-color: #E2EBFA;\n",
              "      --hover-fill-color: #174EA6;\n",
              "      --disabled-fill-color: #AAA;\n",
              "      --disabled-bg-color: #DDD;\n",
              "  }\n",
              "\n",
              "  [theme=dark] .colab-df-quickchart {\n",
              "      --bg-color: #3B4455;\n",
              "      --fill-color: #D2E3FC;\n",
              "      --hover-bg-color: #434B5C;\n",
              "      --hover-fill-color: #FFFFFF;\n",
              "      --disabled-bg-color: #3B4455;\n",
              "      --disabled-fill-color: #666;\n",
              "  }\n",
              "\n",
              "  .colab-df-quickchart {\n",
              "    background-color: var(--bg-color);\n",
              "    border: none;\n",
              "    border-radius: 50%;\n",
              "    cursor: pointer;\n",
              "    display: none;\n",
              "    fill: var(--fill-color);\n",
              "    height: 32px;\n",
              "    padding: 0;\n",
              "    width: 32px;\n",
              "  }\n",
              "\n",
              "  .colab-df-quickchart:hover {\n",
              "    background-color: var(--hover-bg-color);\n",
              "    box-shadow: 0 1px 2px rgba(60, 64, 67, 0.3), 0 1px 3px 1px rgba(60, 64, 67, 0.15);\n",
              "    fill: var(--button-hover-fill-color);\n",
              "  }\n",
              "\n",
              "  .colab-df-quickchart-complete:disabled,\n",
              "  .colab-df-quickchart-complete:disabled:hover {\n",
              "    background-color: var(--disabled-bg-color);\n",
              "    fill: var(--disabled-fill-color);\n",
              "    box-shadow: none;\n",
              "  }\n",
              "\n",
              "  .colab-df-spinner {\n",
              "    border: 2px solid var(--fill-color);\n",
              "    border-color: transparent;\n",
              "    border-bottom-color: var(--fill-color);\n",
              "    animation:\n",
              "      spin 1s steps(1) infinite;\n",
              "  }\n",
              "\n",
              "  @keyframes spin {\n",
              "    0% {\n",
              "      border-color: transparent;\n",
              "      border-bottom-color: var(--fill-color);\n",
              "      border-left-color: var(--fill-color);\n",
              "    }\n",
              "    20% {\n",
              "      border-color: transparent;\n",
              "      border-left-color: var(--fill-color);\n",
              "      border-top-color: var(--fill-color);\n",
              "    }\n",
              "    30% {\n",
              "      border-color: transparent;\n",
              "      border-left-color: var(--fill-color);\n",
              "      border-top-color: var(--fill-color);\n",
              "      border-right-color: var(--fill-color);\n",
              "    }\n",
              "    40% {\n",
              "      border-color: transparent;\n",
              "      border-right-color: var(--fill-color);\n",
              "      border-top-color: var(--fill-color);\n",
              "    }\n",
              "    60% {\n",
              "      border-color: transparent;\n",
              "      border-right-color: var(--fill-color);\n",
              "    }\n",
              "    80% {\n",
              "      border-color: transparent;\n",
              "      border-right-color: var(--fill-color);\n",
              "      border-bottom-color: var(--fill-color);\n",
              "    }\n",
              "    90% {\n",
              "      border-color: transparent;\n",
              "      border-bottom-color: var(--fill-color);\n",
              "    }\n",
              "  }\n",
              "</style>\n",
              "\n",
              "  <script>\n",
              "    async function quickchart(key) {\n",
              "      const quickchartButtonEl =\n",
              "        document.querySelector('#' + key + ' button');\n",
              "      quickchartButtonEl.disabled = true;  // To prevent multiple clicks.\n",
              "      quickchartButtonEl.classList.add('colab-df-spinner');\n",
              "      try {\n",
              "        const charts = await google.colab.kernel.invokeFunction(\n",
              "            'suggestCharts', [key], {});\n",
              "      } catch (error) {\n",
              "        console.error('Error during call to suggestCharts:', error);\n",
              "      }\n",
              "      quickchartButtonEl.classList.remove('colab-df-spinner');\n",
              "      quickchartButtonEl.classList.add('colab-df-quickchart-complete');\n",
              "    }\n",
              "    (() => {\n",
              "      let quickchartButtonEl =\n",
              "        document.querySelector('#df-c2ee1c5d-b8f6-4592-8678-7b60e397769b button');\n",
              "      quickchartButtonEl.style.display =\n",
              "        google.colab.kernel.accessAllowed ? 'block' : 'none';\n",
              "    })();\n",
              "  </script>\n",
              "</div>\n",
              "\n",
              "    </div>\n",
              "  </div>\n"
            ],
            "application/vnd.google.colaboratory.intrinsic+json": {
              "type": "dataframe",
              "variable_name": "df",
              "summary": "{\n  \"name\": \"df\",\n  \"rows\": 12949,\n  \"fields\": [\n    {\n      \"column\": \"#YY\",\n      \"properties\": {\n        \"dtype\": \"number\",\n        \"std\": 0,\n        \"min\": 2022,\n        \"max\": 2022,\n        \"num_unique_values\": 1,\n        \"samples\": [\n          2022\n        ],\n        \"semantic_type\": \"\",\n        \"description\": \"\"\n      }\n    },\n    {\n      \"column\": \"MM\",\n      \"properties\": {\n        \"dtype\": \"number\",\n        \"std\": 0,\n        \"min\": 1,\n        \"max\": 3,\n        \"num_unique_values\": 3,\n        \"samples\": [\n          1\n        ],\n        \"semantic_type\": \"\",\n        \"description\": \"\"\n      }\n    },\n    {\n      \"column\": \"DD\",\n      \"properties\": {\n        \"dtype\": \"number\",\n        \"std\": 8,\n        \"min\": 1,\n        \"max\": 31,\n        \"num_unique_values\": 31,\n        \"samples\": [\n          28\n        ],\n        \"semantic_type\": \"\",\n        \"description\": \"\"\n      }\n    },\n    {\n      \"column\": \"hh\",\n      \"properties\": {\n        \"dtype\": \"number\",\n        \"std\": 6,\n        \"min\": 0,\n        \"max\": 23,\n        \"num_unique_values\": 24,\n        \"samples\": [\n          8\n        ],\n        \"semantic_type\": \"\",\n        \"description\": \"\"\n      }\n    },\n    {\n      \"column\": \"mm\",\n      \"properties\": {\n        \"dtype\": \"number\",\n        \"std\": 17,\n        \"min\": 0,\n        \"max\": 50,\n        \"num_unique_values\": 6,\n        \"samples\": [\n          0\n        ],\n        \"semantic_type\": \"\",\n        \"description\": \"\"\n      }\n    },\n    {\n      \"column\": \"WDIR\",\n      \"properties\": {\n        \"dtype\": \"number\",\n        \"std\": 98,\n        \"min\": 1,\n        \"max\": 999,\n        \"num_unique_values\": 361,\n        \"samples\": [\n          101\n        ],\n        \"semantic_type\": \"\",\n        \"description\": \"\"\n      }\n    },\n    {\n      \"column\": \"WSPD\",\n      \"properties\": {\n        \"dtype\": \"number\",\n        \"std\": 3.9216029831161485,\n        \"min\": 0.0,\n        \"max\": 99.0,\n        \"num_unique_values\": 185,\n        \"samples\": [\n          5.2\n        ],\n        \"semantic_type\": \"\",\n        \"description\": \"\"\n      }\n    },\n    {\n      \"column\": \"GST\",\n      \"properties\": {\n        \"dtype\": \"number\",\n        \"std\": 4.547617450517974,\n        \"min\": 0.4,\n        \"max\": 99.0,\n        \"num_unique_values\": 243,\n        \"samples\": [\n          6.3\n        ],\n        \"semantic_type\": \"\",\n        \"description\": \"\"\n      }\n    },\n    {\n      \"column\": \"WVHT\",\n      \"properties\": {\n        \"dtype\": \"number\",\n        \"std\": 36.11098474810808,\n        \"min\": 0.74,\n        \"max\": 99.0,\n        \"num_unique_values\": 397,\n        \"samples\": [\n          1.57\n        ],\n        \"semantic_type\": \"\",\n        \"description\": \"\"\n      }\n    },\n    {\n      \"column\": \"DPD\",\n      \"properties\": {\n        \"dtype\": \"number\",\n        \"std\": 33.66329011836545,\n        \"min\": 3.7,\n        \"max\": 99.0,\n        \"num_unique_values\": 24,\n        \"samples\": [\n          5.26\n        ],\n        \"semantic_type\": \"\",\n        \"description\": \"\"\n      }\n    },\n    {\n      \"column\": \"APD\",\n      \"properties\": {\n        \"dtype\": \"number\",\n        \"std\": 34.599982635832895,\n        \"min\": 4.13,\n        \"max\": 99.0,\n        \"num_unique_values\": 418,\n        \"samples\": [\n          6.07\n        ],\n        \"semantic_type\": \"\",\n        \"description\": \"\"\n      }\n    },\n    {\n      \"column\": \"MWD\",\n      \"properties\": {\n        \"dtype\": \"number\",\n        \"std\": 323,\n        \"min\": 0,\n        \"max\": 999,\n        \"num_unique_values\": 351,\n        \"samples\": [\n          78\n        ],\n        \"semantic_type\": \"\",\n        \"description\": \"\"\n      }\n    },\n    {\n      \"column\": \"PRES\",\n      \"properties\": {\n        \"dtype\": \"number\",\n        \"std\": 157.9446900405104,\n        \"min\": 999.3,\n        \"max\": 9999.0,\n        \"num_unique_values\": 361,\n        \"samples\": [\n          1011.1\n        ],\n        \"semantic_type\": \"\",\n        \"description\": \"\"\n      }\n    },\n    {\n      \"column\": \"ATMP\",\n      \"properties\": {\n        \"dtype\": \"number\",\n        \"std\": 25.960877784809988,\n        \"min\": 9.6,\n        \"max\": 999.0,\n        \"num_unique_values\": 154,\n        \"samples\": [\n          24.8\n        ],\n        \"semantic_type\": \"\",\n        \"description\": \"\"\n      }\n    },\n    {\n      \"column\": \"WTMP\",\n      \"properties\": {\n        \"dtype\": \"number\",\n        \"std\": 71.64199645976869,\n        \"min\": 20.3,\n        \"max\": 999.0,\n        \"num_unique_values\": 46,\n        \"samples\": [\n          20.9\n        ],\n        \"semantic_type\": \"\",\n        \"description\": \"\"\n      }\n    },\n    {\n      \"column\": \"DEWP\",\n      \"properties\": {\n        \"dtype\": \"number\",\n        \"std\": 26.289330172215788,\n        \"min\": 3.3,\n        \"max\": 999.0,\n        \"num_unique_values\": 203,\n        \"samples\": [\n          21.8\n        ],\n        \"semantic_type\": \"\",\n        \"description\": \"\"\n      }\n    },\n    {\n      \"column\": \"VIS\",\n      \"properties\": {\n        \"dtype\": \"number\",\n        \"std\": 0.0,\n        \"min\": 99.0,\n        \"max\": 99.0,\n        \"num_unique_values\": 1,\n        \"samples\": [\n          99.0\n        ],\n        \"semantic_type\": \"\",\n        \"description\": \"\"\n      }\n    },\n    {\n      \"column\": \"TIDE\",\n      \"properties\": {\n        \"dtype\": \"number\",\n        \"std\": 0.0,\n        \"min\": 99.0,\n        \"max\": 99.0,\n        \"num_unique_values\": 1,\n        \"samples\": [\n          99.0\n        ],\n        \"semantic_type\": \"\",\n        \"description\": \"\"\n      }\n    }\n  ]\n}"
            }
          },
          "metadata": {},
          "execution_count": 43
        }
      ],
      "source": [
        "df.head()"
      ]
    },
    {
      "cell_type": "code",
      "execution_count": null,
      "metadata": {
        "colab": {
          "base_uri": "https://localhost:8080/",
          "height": 206
        },
        "id": "Oy0JHzTUoTX5",
        "outputId": "67e36eb3-f8df-47c8-b29c-191fd355daf3"
      },
      "outputs": [
        {
          "output_type": "execute_result",
          "data": {
            "text/plain": [
              "    #YY  MM  DD  hh  mm  WDIR  WSPD  GST   WVHT    DPD    APD  MWD    PRES  \\\n",
              "1  2022   1   1   0  10   289   2.0  2.8  99.00  99.00  99.00  999  1017.1   \n",
              "2  2022   1   1   0  20   292   2.5  3.7  99.00  99.00  99.00  999  1017.2   \n",
              "3  2022   1   1   0  30   285   1.8  3.1  99.00  99.00  99.00  999  1017.3   \n",
              "4  2022   1   1   0  40   292   1.8  3.0   1.73   7.14   6.05  270  1017.5   \n",
              "5  2022   1   1   0  50   289   2.0  3.0  99.00  99.00  99.00  999  1017.6   \n",
              "\n",
              "   ATMP  WTMP  DEWP   VIS  TIDE  \n",
              "1  23.4  24.1  20.4  99.0  99.0  \n",
              "2  23.4  24.2  20.4  99.0  99.0  \n",
              "3  23.4  24.2  20.5  99.0  99.0  \n",
              "4  23.4  24.2  20.5  99.0  99.0  \n",
              "5  23.3  24.2  20.2  99.0  99.0  "
            ],
            "text/html": [
              "\n",
              "  <div id=\"df-321d5855-14ad-471f-a247-b9cb2add776f\" class=\"colab-df-container\">\n",
              "    <div>\n",
              "<style scoped>\n",
              "    .dataframe tbody tr th:only-of-type {\n",
              "        vertical-align: middle;\n",
              "    }\n",
              "\n",
              "    .dataframe tbody tr th {\n",
              "        vertical-align: top;\n",
              "    }\n",
              "\n",
              "    .dataframe thead th {\n",
              "        text-align: right;\n",
              "    }\n",
              "</style>\n",
              "<table border=\"1\" class=\"dataframe\">\n",
              "  <thead>\n",
              "    <tr style=\"text-align: right;\">\n",
              "      <th></th>\n",
              "      <th>#YY</th>\n",
              "      <th>MM</th>\n",
              "      <th>DD</th>\n",
              "      <th>hh</th>\n",
              "      <th>mm</th>\n",
              "      <th>WDIR</th>\n",
              "      <th>WSPD</th>\n",
              "      <th>GST</th>\n",
              "      <th>WVHT</th>\n",
              "      <th>DPD</th>\n",
              "      <th>APD</th>\n",
              "      <th>MWD</th>\n",
              "      <th>PRES</th>\n",
              "      <th>ATMP</th>\n",
              "      <th>WTMP</th>\n",
              "      <th>DEWP</th>\n",
              "      <th>VIS</th>\n",
              "      <th>TIDE</th>\n",
              "    </tr>\n",
              "  </thead>\n",
              "  <tbody>\n",
              "    <tr>\n",
              "      <th>1</th>\n",
              "      <td>2022</td>\n",
              "      <td>1</td>\n",
              "      <td>1</td>\n",
              "      <td>0</td>\n",
              "      <td>10</td>\n",
              "      <td>289</td>\n",
              "      <td>2.0</td>\n",
              "      <td>2.8</td>\n",
              "      <td>99.00</td>\n",
              "      <td>99.00</td>\n",
              "      <td>99.00</td>\n",
              "      <td>999</td>\n",
              "      <td>1017.1</td>\n",
              "      <td>23.4</td>\n",
              "      <td>24.1</td>\n",
              "      <td>20.4</td>\n",
              "      <td>99.0</td>\n",
              "      <td>99.0</td>\n",
              "    </tr>\n",
              "    <tr>\n",
              "      <th>2</th>\n",
              "      <td>2022</td>\n",
              "      <td>1</td>\n",
              "      <td>1</td>\n",
              "      <td>0</td>\n",
              "      <td>20</td>\n",
              "      <td>292</td>\n",
              "      <td>2.5</td>\n",
              "      <td>3.7</td>\n",
              "      <td>99.00</td>\n",
              "      <td>99.00</td>\n",
              "      <td>99.00</td>\n",
              "      <td>999</td>\n",
              "      <td>1017.2</td>\n",
              "      <td>23.4</td>\n",
              "      <td>24.2</td>\n",
              "      <td>20.4</td>\n",
              "      <td>99.0</td>\n",
              "      <td>99.0</td>\n",
              "    </tr>\n",
              "    <tr>\n",
              "      <th>3</th>\n",
              "      <td>2022</td>\n",
              "      <td>1</td>\n",
              "      <td>1</td>\n",
              "      <td>0</td>\n",
              "      <td>30</td>\n",
              "      <td>285</td>\n",
              "      <td>1.8</td>\n",
              "      <td>3.1</td>\n",
              "      <td>99.00</td>\n",
              "      <td>99.00</td>\n",
              "      <td>99.00</td>\n",
              "      <td>999</td>\n",
              "      <td>1017.3</td>\n",
              "      <td>23.4</td>\n",
              "      <td>24.2</td>\n",
              "      <td>20.5</td>\n",
              "      <td>99.0</td>\n",
              "      <td>99.0</td>\n",
              "    </tr>\n",
              "    <tr>\n",
              "      <th>4</th>\n",
              "      <td>2022</td>\n",
              "      <td>1</td>\n",
              "      <td>1</td>\n",
              "      <td>0</td>\n",
              "      <td>40</td>\n",
              "      <td>292</td>\n",
              "      <td>1.8</td>\n",
              "      <td>3.0</td>\n",
              "      <td>1.73</td>\n",
              "      <td>7.14</td>\n",
              "      <td>6.05</td>\n",
              "      <td>270</td>\n",
              "      <td>1017.5</td>\n",
              "      <td>23.4</td>\n",
              "      <td>24.2</td>\n",
              "      <td>20.5</td>\n",
              "      <td>99.0</td>\n",
              "      <td>99.0</td>\n",
              "    </tr>\n",
              "    <tr>\n",
              "      <th>5</th>\n",
              "      <td>2022</td>\n",
              "      <td>1</td>\n",
              "      <td>1</td>\n",
              "      <td>0</td>\n",
              "      <td>50</td>\n",
              "      <td>289</td>\n",
              "      <td>2.0</td>\n",
              "      <td>3.0</td>\n",
              "      <td>99.00</td>\n",
              "      <td>99.00</td>\n",
              "      <td>99.00</td>\n",
              "      <td>999</td>\n",
              "      <td>1017.6</td>\n",
              "      <td>23.3</td>\n",
              "      <td>24.2</td>\n",
              "      <td>20.2</td>\n",
              "      <td>99.0</td>\n",
              "      <td>99.0</td>\n",
              "    </tr>\n",
              "  </tbody>\n",
              "</table>\n",
              "</div>\n",
              "    <div class=\"colab-df-buttons\">\n",
              "\n",
              "  <div class=\"colab-df-container\">\n",
              "    <button class=\"colab-df-convert\" onclick=\"convertToInteractive('df-321d5855-14ad-471f-a247-b9cb2add776f')\"\n",
              "            title=\"Convert this dataframe to an interactive table.\"\n",
              "            style=\"display:none;\">\n",
              "\n",
              "  <svg xmlns=\"http://www.w3.org/2000/svg\" height=\"24px\" viewBox=\"0 -960 960 960\">\n",
              "    <path d=\"M120-120v-720h720v720H120Zm60-500h600v-160H180v160Zm220 220h160v-160H400v160Zm0 220h160v-160H400v160ZM180-400h160v-160H180v160Zm440 0h160v-160H620v160ZM180-180h160v-160H180v160Zm440 0h160v-160H620v160Z\"/>\n",
              "  </svg>\n",
              "    </button>\n",
              "\n",
              "  <style>\n",
              "    .colab-df-container {\n",
              "      display:flex;\n",
              "      gap: 12px;\n",
              "    }\n",
              "\n",
              "    .colab-df-convert {\n",
              "      background-color: #E8F0FE;\n",
              "      border: none;\n",
              "      border-radius: 50%;\n",
              "      cursor: pointer;\n",
              "      display: none;\n",
              "      fill: #1967D2;\n",
              "      height: 32px;\n",
              "      padding: 0 0 0 0;\n",
              "      width: 32px;\n",
              "    }\n",
              "\n",
              "    .colab-df-convert:hover {\n",
              "      background-color: #E2EBFA;\n",
              "      box-shadow: 0px 1px 2px rgba(60, 64, 67, 0.3), 0px 1px 3px 1px rgba(60, 64, 67, 0.15);\n",
              "      fill: #174EA6;\n",
              "    }\n",
              "\n",
              "    .colab-df-buttons div {\n",
              "      margin-bottom: 4px;\n",
              "    }\n",
              "\n",
              "    [theme=dark] .colab-df-convert {\n",
              "      background-color: #3B4455;\n",
              "      fill: #D2E3FC;\n",
              "    }\n",
              "\n",
              "    [theme=dark] .colab-df-convert:hover {\n",
              "      background-color: #434B5C;\n",
              "      box-shadow: 0px 1px 3px 1px rgba(0, 0, 0, 0.15);\n",
              "      filter: drop-shadow(0px 1px 2px rgba(0, 0, 0, 0.3));\n",
              "      fill: #FFFFFF;\n",
              "    }\n",
              "  </style>\n",
              "\n",
              "    <script>\n",
              "      const buttonEl =\n",
              "        document.querySelector('#df-321d5855-14ad-471f-a247-b9cb2add776f button.colab-df-convert');\n",
              "      buttonEl.style.display =\n",
              "        google.colab.kernel.accessAllowed ? 'block' : 'none';\n",
              "\n",
              "      async function convertToInteractive(key) {\n",
              "        const element = document.querySelector('#df-321d5855-14ad-471f-a247-b9cb2add776f');\n",
              "        const dataTable =\n",
              "          await google.colab.kernel.invokeFunction('convertToInteractive',\n",
              "                                                    [key], {});\n",
              "        if (!dataTable) return;\n",
              "\n",
              "        const docLinkHtml = 'Like what you see? Visit the ' +\n",
              "          '<a target=\"_blank\" href=https://colab.research.google.com/notebooks/data_table.ipynb>data table notebook</a>'\n",
              "          + ' to learn more about interactive tables.';\n",
              "        element.innerHTML = '';\n",
              "        dataTable['output_type'] = 'display_data';\n",
              "        await google.colab.output.renderOutput(dataTable, element);\n",
              "        const docLink = document.createElement('div');\n",
              "        docLink.innerHTML = docLinkHtml;\n",
              "        element.appendChild(docLink);\n",
              "      }\n",
              "    </script>\n",
              "  </div>\n",
              "\n",
              "\n",
              "<div id=\"df-5982a666-c1a5-47c4-bd76-77ce076106eb\">\n",
              "  <button class=\"colab-df-quickchart\" onclick=\"quickchart('df-5982a666-c1a5-47c4-bd76-77ce076106eb')\"\n",
              "            title=\"Suggest charts\"\n",
              "            style=\"display:none;\">\n",
              "\n",
              "<svg xmlns=\"http://www.w3.org/2000/svg\" height=\"24px\"viewBox=\"0 0 24 24\"\n",
              "     width=\"24px\">\n",
              "    <g>\n",
              "        <path d=\"M19 3H5c-1.1 0-2 .9-2 2v14c0 1.1.9 2 2 2h14c1.1 0 2-.9 2-2V5c0-1.1-.9-2-2-2zM9 17H7v-7h2v7zm4 0h-2V7h2v10zm4 0h-2v-4h2v4z\"/>\n",
              "    </g>\n",
              "</svg>\n",
              "  </button>\n",
              "\n",
              "<style>\n",
              "  .colab-df-quickchart {\n",
              "      --bg-color: #E8F0FE;\n",
              "      --fill-color: #1967D2;\n",
              "      --hover-bg-color: #E2EBFA;\n",
              "      --hover-fill-color: #174EA6;\n",
              "      --disabled-fill-color: #AAA;\n",
              "      --disabled-bg-color: #DDD;\n",
              "  }\n",
              "\n",
              "  [theme=dark] .colab-df-quickchart {\n",
              "      --bg-color: #3B4455;\n",
              "      --fill-color: #D2E3FC;\n",
              "      --hover-bg-color: #434B5C;\n",
              "      --hover-fill-color: #FFFFFF;\n",
              "      --disabled-bg-color: #3B4455;\n",
              "      --disabled-fill-color: #666;\n",
              "  }\n",
              "\n",
              "  .colab-df-quickchart {\n",
              "    background-color: var(--bg-color);\n",
              "    border: none;\n",
              "    border-radius: 50%;\n",
              "    cursor: pointer;\n",
              "    display: none;\n",
              "    fill: var(--fill-color);\n",
              "    height: 32px;\n",
              "    padding: 0;\n",
              "    width: 32px;\n",
              "  }\n",
              "\n",
              "  .colab-df-quickchart:hover {\n",
              "    background-color: var(--hover-bg-color);\n",
              "    box-shadow: 0 1px 2px rgba(60, 64, 67, 0.3), 0 1px 3px 1px rgba(60, 64, 67, 0.15);\n",
              "    fill: var(--button-hover-fill-color);\n",
              "  }\n",
              "\n",
              "  .colab-df-quickchart-complete:disabled,\n",
              "  .colab-df-quickchart-complete:disabled:hover {\n",
              "    background-color: var(--disabled-bg-color);\n",
              "    fill: var(--disabled-fill-color);\n",
              "    box-shadow: none;\n",
              "  }\n",
              "\n",
              "  .colab-df-spinner {\n",
              "    border: 2px solid var(--fill-color);\n",
              "    border-color: transparent;\n",
              "    border-bottom-color: var(--fill-color);\n",
              "    animation:\n",
              "      spin 1s steps(1) infinite;\n",
              "  }\n",
              "\n",
              "  @keyframes spin {\n",
              "    0% {\n",
              "      border-color: transparent;\n",
              "      border-bottom-color: var(--fill-color);\n",
              "      border-left-color: var(--fill-color);\n",
              "    }\n",
              "    20% {\n",
              "      border-color: transparent;\n",
              "      border-left-color: var(--fill-color);\n",
              "      border-top-color: var(--fill-color);\n",
              "    }\n",
              "    30% {\n",
              "      border-color: transparent;\n",
              "      border-left-color: var(--fill-color);\n",
              "      border-top-color: var(--fill-color);\n",
              "      border-right-color: var(--fill-color);\n",
              "    }\n",
              "    40% {\n",
              "      border-color: transparent;\n",
              "      border-right-color: var(--fill-color);\n",
              "      border-top-color: var(--fill-color);\n",
              "    }\n",
              "    60% {\n",
              "      border-color: transparent;\n",
              "      border-right-color: var(--fill-color);\n",
              "    }\n",
              "    80% {\n",
              "      border-color: transparent;\n",
              "      border-right-color: var(--fill-color);\n",
              "      border-bottom-color: var(--fill-color);\n",
              "    }\n",
              "    90% {\n",
              "      border-color: transparent;\n",
              "      border-bottom-color: var(--fill-color);\n",
              "    }\n",
              "  }\n",
              "</style>\n",
              "\n",
              "  <script>\n",
              "    async function quickchart(key) {\n",
              "      const quickchartButtonEl =\n",
              "        document.querySelector('#' + key + ' button');\n",
              "      quickchartButtonEl.disabled = true;  // To prevent multiple clicks.\n",
              "      quickchartButtonEl.classList.add('colab-df-spinner');\n",
              "      try {\n",
              "        const charts = await google.colab.kernel.invokeFunction(\n",
              "            'suggestCharts', [key], {});\n",
              "      } catch (error) {\n",
              "        console.error('Error during call to suggestCharts:', error);\n",
              "      }\n",
              "      quickchartButtonEl.classList.remove('colab-df-spinner');\n",
              "      quickchartButtonEl.classList.add('colab-df-quickchart-complete');\n",
              "    }\n",
              "    (() => {\n",
              "      let quickchartButtonEl =\n",
              "        document.querySelector('#df-5982a666-c1a5-47c4-bd76-77ce076106eb button');\n",
              "      quickchartButtonEl.style.display =\n",
              "        google.colab.kernel.accessAllowed ? 'block' : 'none';\n",
              "    })();\n",
              "  </script>\n",
              "</div>\n",
              "\n",
              "    </div>\n",
              "  </div>\n"
            ],
            "application/vnd.google.colaboratory.intrinsic+json": {
              "type": "dataframe",
              "variable_name": "df",
              "summary": "{\n  \"name\": \"df\",\n  \"rows\": 12948,\n  \"fields\": [\n    {\n      \"column\": \"#YY\",\n      \"properties\": {\n        \"dtype\": \"number\",\n        \"std\": 0,\n        \"min\": 2022,\n        \"max\": 2022,\n        \"num_unique_values\": 1,\n        \"samples\": [\n          2022\n        ],\n        \"semantic_type\": \"\",\n        \"description\": \"\"\n      }\n    },\n    {\n      \"column\": \"MM\",\n      \"properties\": {\n        \"dtype\": \"number\",\n        \"std\": 0,\n        \"min\": 1,\n        \"max\": 3,\n        \"num_unique_values\": 3,\n        \"samples\": [\n          1\n        ],\n        \"semantic_type\": \"\",\n        \"description\": \"\"\n      }\n    },\n    {\n      \"column\": \"DD\",\n      \"properties\": {\n        \"dtype\": \"number\",\n        \"std\": 8,\n        \"min\": 1,\n        \"max\": 31,\n        \"num_unique_values\": 31,\n        \"samples\": [\n          28\n        ],\n        \"semantic_type\": \"\",\n        \"description\": \"\"\n      }\n    },\n    {\n      \"column\": \"hh\",\n      \"properties\": {\n        \"dtype\": \"number\",\n        \"std\": 6,\n        \"min\": 0,\n        \"max\": 23,\n        \"num_unique_values\": 24,\n        \"samples\": [\n          8\n        ],\n        \"semantic_type\": \"\",\n        \"description\": \"\"\n      }\n    },\n    {\n      \"column\": \"mm\",\n      \"properties\": {\n        \"dtype\": \"number\",\n        \"std\": 17,\n        \"min\": 0,\n        \"max\": 50,\n        \"num_unique_values\": 6,\n        \"samples\": [\n          10\n        ],\n        \"semantic_type\": \"\",\n        \"description\": \"\"\n      }\n    },\n    {\n      \"column\": \"WDIR\",\n      \"properties\": {\n        \"dtype\": \"number\",\n        \"std\": 98,\n        \"min\": 1,\n        \"max\": 999,\n        \"num_unique_values\": 361,\n        \"samples\": [\n          97\n        ],\n        \"semantic_type\": \"\",\n        \"description\": \"\"\n      }\n    },\n    {\n      \"column\": \"WSPD\",\n      \"properties\": {\n        \"dtype\": \"number\",\n        \"std\": 3.921437863620004,\n        \"min\": 0.0,\n        \"max\": 99.0,\n        \"num_unique_values\": 185,\n        \"samples\": [\n          5.5\n        ],\n        \"semantic_type\": \"\",\n        \"description\": \"\"\n      }\n    },\n    {\n      \"column\": \"GST\",\n      \"properties\": {\n        \"dtype\": \"number\",\n        \"std\": 4.547413519699794,\n        \"min\": 0.4,\n        \"max\": 99.0,\n        \"num_unique_values\": 243,\n        \"samples\": [\n          6.3\n        ],\n        \"semantic_type\": \"\",\n        \"description\": \"\"\n      }\n    },\n    {\n      \"column\": \"WVHT\",\n      \"properties\": {\n        \"dtype\": \"number\",\n        \"std\": 36.11210091391325,\n        \"min\": 0.74,\n        \"max\": 99.0,\n        \"num_unique_values\": 397,\n        \"samples\": [\n          1.57\n        ],\n        \"semantic_type\": \"\",\n        \"description\": \"\"\n      }\n    },\n    {\n      \"column\": \"DPD\",\n      \"properties\": {\n        \"dtype\": \"number\",\n        \"std\": 33.664330741499334,\n        \"min\": 3.7,\n        \"max\": 99.0,\n        \"num_unique_values\": 24,\n        \"samples\": [\n          5.26\n        ],\n        \"semantic_type\": \"\",\n        \"description\": \"\"\n      }\n    },\n    {\n      \"column\": \"APD\",\n      \"properties\": {\n        \"dtype\": \"number\",\n        \"std\": 34.601052095327155,\n        \"min\": 4.13,\n        \"max\": 99.0,\n        \"num_unique_values\": 418,\n        \"samples\": [\n          6.07\n        ],\n        \"semantic_type\": \"\",\n        \"description\": \"\"\n      }\n    },\n    {\n      \"column\": \"MWD\",\n      \"properties\": {\n        \"dtype\": \"number\",\n        \"std\": 323,\n        \"min\": 0,\n        \"max\": 999,\n        \"num_unique_values\": 351,\n        \"samples\": [\n          78\n        ],\n        \"semantic_type\": \"\",\n        \"description\": \"\"\n      }\n    },\n    {\n      \"column\": \"PRES\",\n      \"properties\": {\n        \"dtype\": \"number\",\n        \"std\": 157.95078412620455,\n        \"min\": 999.3,\n        \"max\": 9999.0,\n        \"num_unique_values\": 361,\n        \"samples\": [\n          1011.1\n        ],\n        \"semantic_type\": \"\",\n        \"description\": \"\"\n      }\n    },\n    {\n      \"column\": \"ATMP\",\n      \"properties\": {\n        \"dtype\": \"number\",\n        \"std\": 25.96186315629716,\n        \"min\": 9.6,\n        \"max\": 999.0,\n        \"num_unique_values\": 154,\n        \"samples\": [\n          24.8\n        ],\n        \"semantic_type\": \"\",\n        \"description\": \"\"\n      }\n    },\n    {\n      \"column\": \"WTMP\",\n      \"properties\": {\n        \"dtype\": \"number\",\n        \"std\": 71.64475742910211,\n        \"min\": 20.3,\n        \"max\": 999.0,\n        \"num_unique_values\": 46,\n        \"samples\": [\n          20.9\n        ],\n        \"semantic_type\": \"\",\n        \"description\": \"\"\n      }\n    },\n    {\n      \"column\": \"DEWP\",\n      \"properties\": {\n        \"dtype\": \"number\",\n        \"std\": 26.290319982374154,\n        \"min\": 3.3,\n        \"max\": 999.0,\n        \"num_unique_values\": 203,\n        \"samples\": [\n          21.8\n        ],\n        \"semantic_type\": \"\",\n        \"description\": \"\"\n      }\n    },\n    {\n      \"column\": \"VIS\",\n      \"properties\": {\n        \"dtype\": \"number\",\n        \"std\": 0.0,\n        \"min\": 99.0,\n        \"max\": 99.0,\n        \"num_unique_values\": 1,\n        \"samples\": [\n          99.0\n        ],\n        \"semantic_type\": \"\",\n        \"description\": \"\"\n      }\n    },\n    {\n      \"column\": \"TIDE\",\n      \"properties\": {\n        \"dtype\": \"number\",\n        \"std\": 0.0,\n        \"min\": 99.0,\n        \"max\": 99.0,\n        \"num_unique_values\": 1,\n        \"samples\": [\n          99.0\n        ],\n        \"semantic_type\": \"\",\n        \"description\": \"\"\n      }\n    }\n  ]\n}"
            }
          },
          "metadata": {},
          "execution_count": 44
        }
      ],
      "source": [
        "# Remove the first row\n",
        "df = df.iloc[1:]\n",
        "df.head()"
      ]
    },
    {
      "cell_type": "code",
      "source": [
        "df.shape"
      ],
      "metadata": {
        "colab": {
          "base_uri": "https://localhost:8080/"
        },
        "id": "09d0QONBDcwT",
        "outputId": "323f12a7-398b-4bda-d75c-2b3166e1885d"
      },
      "execution_count": null,
      "outputs": [
        {
          "output_type": "execute_result",
          "data": {
            "text/plain": [
              "(12948, 18)"
            ]
          },
          "metadata": {},
          "execution_count": 45
        }
      ]
    },
    {
      "cell_type": "code",
      "execution_count": null,
      "metadata": {
        "id": "LS_Y8UoKoWgY"
      },
      "outputs": [],
      "source": [
        "# Convert specific columns to numeric values\n",
        "columns_to_convert = ['#YY', 'MM', 'DD', 'hh', 'mm', 'WDIR', 'WSPD', 'GST', 'WVHT', 'DPD', 'APD', 'MWD', 'PRES', 'ATMP', 'WTMP', 'DEWP', 'VIS', 'TIDE']\n",
        "df[columns_to_convert] = df[columns_to_convert].apply(pd.to_numeric, errors='coerce')\n",
        "# Alternatively, convert all object columns to numeric values\n",
        "df = df.apply(pd.to_numeric, errors='coerce')"
      ]
    },
    {
      "cell_type": "code",
      "execution_count": null,
      "metadata": {
        "id": "Eleb1_xYoZdI"
      },
      "outputs": [],
      "source": [
        "# Extract rows where mm=0\n",
        "df = df[df[\"mm\"] == 40]"
      ]
    },
    {
      "cell_type": "code",
      "execution_count": null,
      "metadata": {
        "id": "i_ovKSScob2_"
      },
      "outputs": [],
      "source": [
        "#here we reset the index\n",
        "df = df.reset_index(drop=True)"
      ]
    },
    {
      "cell_type": "code",
      "execution_count": null,
      "metadata": {
        "colab": {
          "base_uri": "https://localhost:8080/"
        },
        "id": "7AFAXgcnoeA6",
        "outputId": "2b6461f6-e921-4f5a-a41a-23de613dc176"
      },
      "outputs": [
        {
          "output_type": "execute_result",
          "data": {
            "text/plain": [
              "(2159, 18)"
            ]
          },
          "metadata": {},
          "execution_count": 49
        }
      ],
      "source": [
        "df.shape"
      ]
    },
    {
      "cell_type": "code",
      "source": [
        "df.isnull().sum()"
      ],
      "metadata": {
        "colab": {
          "base_uri": "https://localhost:8080/"
        },
        "id": "ZB-aPahVDjqB",
        "outputId": "8db2b258-75c4-4007-ef3d-7a90a41c7948"
      },
      "execution_count": null,
      "outputs": [
        {
          "output_type": "execute_result",
          "data": {
            "text/plain": [
              "#YY     0\n",
              "MM      0\n",
              "DD      0\n",
              "hh      0\n",
              "mm      0\n",
              "WDIR    0\n",
              "WSPD    0\n",
              "GST     0\n",
              "WVHT    0\n",
              "DPD     0\n",
              "APD     0\n",
              "MWD     0\n",
              "PRES    0\n",
              "ATMP    0\n",
              "WTMP    0\n",
              "DEWP    0\n",
              "VIS     0\n",
              "TIDE    0\n",
              "dtype: int64"
            ]
          },
          "metadata": {},
          "execution_count": 50
        }
      ]
    },
    {
      "cell_type": "code",
      "source": [
        "df = df.dropna()"
      ],
      "metadata": {
        "id": "K_Xs3C3oDnKZ"
      },
      "execution_count": null,
      "outputs": []
    },
    {
      "cell_type": "code",
      "execution_count": null,
      "metadata": {
        "colab": {
          "base_uri": "https://localhost:8080/"
        },
        "id": "Q8oaYMcipbrS",
        "outputId": "674ba61d-b257-434b-8136-2e17208a1d85"
      },
      "outputs": [
        {
          "output_type": "execute_result",
          "data": {
            "text/plain": [
              "(2159, 18)"
            ]
          },
          "metadata": {},
          "execution_count": 52
        }
      ],
      "source": [
        "df.shape"
      ]
    },
    {
      "cell_type": "code",
      "execution_count": null,
      "metadata": {
        "id": "HU3q9aicpde_"
      },
      "outputs": [],
      "source": [
        "# Combine date and time columns into a single datetime column\n",
        "df['date_time'] = pd.to_datetime(df[['#YY', 'MM', 'DD', 'hh', 'mm']].astype(str).apply(' '.join, axis=1), format='%Y %m %d %H %M')"
      ]
    },
    {
      "cell_type": "code",
      "source": [
        "# Drop 5 columns by specifying their column labels\n",
        "columns_to_drop = ['#YY', 'MM', 'DD', 'hh', 'mm']\n",
        "df = df.drop(columns=columns_to_drop)"
      ],
      "metadata": {
        "id": "gUKyE91_Dx2r"
      },
      "execution_count": null,
      "outputs": []
    },
    {
      "cell_type": "code",
      "source": [
        "#Move the 'date_time' column to the first position\n",
        "date_time_column = df.pop('date_time')\n",
        "df.insert(0, 'date_time', date_time_column)"
      ],
      "metadata": {
        "id": "tljF_gEjD1qS"
      },
      "execution_count": null,
      "outputs": []
    },
    {
      "cell_type": "code",
      "source": [
        "df.head()"
      ],
      "metadata": {
        "colab": {
          "base_uri": "https://localhost:8080/",
          "height": 206
        },
        "id": "wDLQ63_1D4sH",
        "outputId": "0833134b-e9bc-42bd-b4b6-1634a80500be"
      },
      "execution_count": null,
      "outputs": [
        {
          "output_type": "execute_result",
          "data": {
            "text/plain": [
              "            date_time  WDIR  WSPD  GST  WVHT   DPD   APD  MWD    PRES  ATMP  \\\n",
              "0 2022-01-01 00:40:00   292   1.8  3.0  1.73  7.14  6.05  270  1017.5  23.4   \n",
              "1 2022-01-01 01:40:00   238   1.6  2.5  1.58  7.14  5.76  259  1017.6  23.3   \n",
              "2 2022-01-01 02:40:00   250   2.5  3.6  1.68  7.14  6.13  269  1017.7  23.3   \n",
              "3 2022-01-01 03:40:00   238   3.5  4.6  1.52  6.67  5.82  268  1017.6  23.4   \n",
              "4 2022-01-01 04:40:00   230   4.9  6.1  1.50  7.14  6.02  254  1017.1  23.3   \n",
              "\n",
              "   WTMP  DEWP   VIS  TIDE  \n",
              "0  24.2  20.5  99.0  99.0  \n",
              "1  24.3  20.5  99.0  99.0  \n",
              "2  24.3  20.9  99.0  99.0  \n",
              "3  24.3  20.6  99.0  99.0  \n",
              "4  24.3  20.7  99.0  99.0  "
            ],
            "text/html": [
              "\n",
              "  <div id=\"df-8edbd437-4178-4a51-8fe0-a254e4b7cbb0\" class=\"colab-df-container\">\n",
              "    <div>\n",
              "<style scoped>\n",
              "    .dataframe tbody tr th:only-of-type {\n",
              "        vertical-align: middle;\n",
              "    }\n",
              "\n",
              "    .dataframe tbody tr th {\n",
              "        vertical-align: top;\n",
              "    }\n",
              "\n",
              "    .dataframe thead th {\n",
              "        text-align: right;\n",
              "    }\n",
              "</style>\n",
              "<table border=\"1\" class=\"dataframe\">\n",
              "  <thead>\n",
              "    <tr style=\"text-align: right;\">\n",
              "      <th></th>\n",
              "      <th>date_time</th>\n",
              "      <th>WDIR</th>\n",
              "      <th>WSPD</th>\n",
              "      <th>GST</th>\n",
              "      <th>WVHT</th>\n",
              "      <th>DPD</th>\n",
              "      <th>APD</th>\n",
              "      <th>MWD</th>\n",
              "      <th>PRES</th>\n",
              "      <th>ATMP</th>\n",
              "      <th>WTMP</th>\n",
              "      <th>DEWP</th>\n",
              "      <th>VIS</th>\n",
              "      <th>TIDE</th>\n",
              "    </tr>\n",
              "  </thead>\n",
              "  <tbody>\n",
              "    <tr>\n",
              "      <th>0</th>\n",
              "      <td>2022-01-01 00:40:00</td>\n",
              "      <td>292</td>\n",
              "      <td>1.8</td>\n",
              "      <td>3.0</td>\n",
              "      <td>1.73</td>\n",
              "      <td>7.14</td>\n",
              "      <td>6.05</td>\n",
              "      <td>270</td>\n",
              "      <td>1017.5</td>\n",
              "      <td>23.4</td>\n",
              "      <td>24.2</td>\n",
              "      <td>20.5</td>\n",
              "      <td>99.0</td>\n",
              "      <td>99.0</td>\n",
              "    </tr>\n",
              "    <tr>\n",
              "      <th>1</th>\n",
              "      <td>2022-01-01 01:40:00</td>\n",
              "      <td>238</td>\n",
              "      <td>1.6</td>\n",
              "      <td>2.5</td>\n",
              "      <td>1.58</td>\n",
              "      <td>7.14</td>\n",
              "      <td>5.76</td>\n",
              "      <td>259</td>\n",
              "      <td>1017.6</td>\n",
              "      <td>23.3</td>\n",
              "      <td>24.3</td>\n",
              "      <td>20.5</td>\n",
              "      <td>99.0</td>\n",
              "      <td>99.0</td>\n",
              "    </tr>\n",
              "    <tr>\n",
              "      <th>2</th>\n",
              "      <td>2022-01-01 02:40:00</td>\n",
              "      <td>250</td>\n",
              "      <td>2.5</td>\n",
              "      <td>3.6</td>\n",
              "      <td>1.68</td>\n",
              "      <td>7.14</td>\n",
              "      <td>6.13</td>\n",
              "      <td>269</td>\n",
              "      <td>1017.7</td>\n",
              "      <td>23.3</td>\n",
              "      <td>24.3</td>\n",
              "      <td>20.9</td>\n",
              "      <td>99.0</td>\n",
              "      <td>99.0</td>\n",
              "    </tr>\n",
              "    <tr>\n",
              "      <th>3</th>\n",
              "      <td>2022-01-01 03:40:00</td>\n",
              "      <td>238</td>\n",
              "      <td>3.5</td>\n",
              "      <td>4.6</td>\n",
              "      <td>1.52</td>\n",
              "      <td>6.67</td>\n",
              "      <td>5.82</td>\n",
              "      <td>268</td>\n",
              "      <td>1017.6</td>\n",
              "      <td>23.4</td>\n",
              "      <td>24.3</td>\n",
              "      <td>20.6</td>\n",
              "      <td>99.0</td>\n",
              "      <td>99.0</td>\n",
              "    </tr>\n",
              "    <tr>\n",
              "      <th>4</th>\n",
              "      <td>2022-01-01 04:40:00</td>\n",
              "      <td>230</td>\n",
              "      <td>4.9</td>\n",
              "      <td>6.1</td>\n",
              "      <td>1.50</td>\n",
              "      <td>7.14</td>\n",
              "      <td>6.02</td>\n",
              "      <td>254</td>\n",
              "      <td>1017.1</td>\n",
              "      <td>23.3</td>\n",
              "      <td>24.3</td>\n",
              "      <td>20.7</td>\n",
              "      <td>99.0</td>\n",
              "      <td>99.0</td>\n",
              "    </tr>\n",
              "  </tbody>\n",
              "</table>\n",
              "</div>\n",
              "    <div class=\"colab-df-buttons\">\n",
              "\n",
              "  <div class=\"colab-df-container\">\n",
              "    <button class=\"colab-df-convert\" onclick=\"convertToInteractive('df-8edbd437-4178-4a51-8fe0-a254e4b7cbb0')\"\n",
              "            title=\"Convert this dataframe to an interactive table.\"\n",
              "            style=\"display:none;\">\n",
              "\n",
              "  <svg xmlns=\"http://www.w3.org/2000/svg\" height=\"24px\" viewBox=\"0 -960 960 960\">\n",
              "    <path d=\"M120-120v-720h720v720H120Zm60-500h600v-160H180v160Zm220 220h160v-160H400v160Zm0 220h160v-160H400v160ZM180-400h160v-160H180v160Zm440 0h160v-160H620v160ZM180-180h160v-160H180v160Zm440 0h160v-160H620v160Z\"/>\n",
              "  </svg>\n",
              "    </button>\n",
              "\n",
              "  <style>\n",
              "    .colab-df-container {\n",
              "      display:flex;\n",
              "      gap: 12px;\n",
              "    }\n",
              "\n",
              "    .colab-df-convert {\n",
              "      background-color: #E8F0FE;\n",
              "      border: none;\n",
              "      border-radius: 50%;\n",
              "      cursor: pointer;\n",
              "      display: none;\n",
              "      fill: #1967D2;\n",
              "      height: 32px;\n",
              "      padding: 0 0 0 0;\n",
              "      width: 32px;\n",
              "    }\n",
              "\n",
              "    .colab-df-convert:hover {\n",
              "      background-color: #E2EBFA;\n",
              "      box-shadow: 0px 1px 2px rgba(60, 64, 67, 0.3), 0px 1px 3px 1px rgba(60, 64, 67, 0.15);\n",
              "      fill: #174EA6;\n",
              "    }\n",
              "\n",
              "    .colab-df-buttons div {\n",
              "      margin-bottom: 4px;\n",
              "    }\n",
              "\n",
              "    [theme=dark] .colab-df-convert {\n",
              "      background-color: #3B4455;\n",
              "      fill: #D2E3FC;\n",
              "    }\n",
              "\n",
              "    [theme=dark] .colab-df-convert:hover {\n",
              "      background-color: #434B5C;\n",
              "      box-shadow: 0px 1px 3px 1px rgba(0, 0, 0, 0.15);\n",
              "      filter: drop-shadow(0px 1px 2px rgba(0, 0, 0, 0.3));\n",
              "      fill: #FFFFFF;\n",
              "    }\n",
              "  </style>\n",
              "\n",
              "    <script>\n",
              "      const buttonEl =\n",
              "        document.querySelector('#df-8edbd437-4178-4a51-8fe0-a254e4b7cbb0 button.colab-df-convert');\n",
              "      buttonEl.style.display =\n",
              "        google.colab.kernel.accessAllowed ? 'block' : 'none';\n",
              "\n",
              "      async function convertToInteractive(key) {\n",
              "        const element = document.querySelector('#df-8edbd437-4178-4a51-8fe0-a254e4b7cbb0');\n",
              "        const dataTable =\n",
              "          await google.colab.kernel.invokeFunction('convertToInteractive',\n",
              "                                                    [key], {});\n",
              "        if (!dataTable) return;\n",
              "\n",
              "        const docLinkHtml = 'Like what you see? Visit the ' +\n",
              "          '<a target=\"_blank\" href=https://colab.research.google.com/notebooks/data_table.ipynb>data table notebook</a>'\n",
              "          + ' to learn more about interactive tables.';\n",
              "        element.innerHTML = '';\n",
              "        dataTable['output_type'] = 'display_data';\n",
              "        await google.colab.output.renderOutput(dataTable, element);\n",
              "        const docLink = document.createElement('div');\n",
              "        docLink.innerHTML = docLinkHtml;\n",
              "        element.appendChild(docLink);\n",
              "      }\n",
              "    </script>\n",
              "  </div>\n",
              "\n",
              "\n",
              "<div id=\"df-2b7543a6-d6f7-421d-93b8-55ea08eaa10c\">\n",
              "  <button class=\"colab-df-quickchart\" onclick=\"quickchart('df-2b7543a6-d6f7-421d-93b8-55ea08eaa10c')\"\n",
              "            title=\"Suggest charts\"\n",
              "            style=\"display:none;\">\n",
              "\n",
              "<svg xmlns=\"http://www.w3.org/2000/svg\" height=\"24px\"viewBox=\"0 0 24 24\"\n",
              "     width=\"24px\">\n",
              "    <g>\n",
              "        <path d=\"M19 3H5c-1.1 0-2 .9-2 2v14c0 1.1.9 2 2 2h14c1.1 0 2-.9 2-2V5c0-1.1-.9-2-2-2zM9 17H7v-7h2v7zm4 0h-2V7h2v10zm4 0h-2v-4h2v4z\"/>\n",
              "    </g>\n",
              "</svg>\n",
              "  </button>\n",
              "\n",
              "<style>\n",
              "  .colab-df-quickchart {\n",
              "      --bg-color: #E8F0FE;\n",
              "      --fill-color: #1967D2;\n",
              "      --hover-bg-color: #E2EBFA;\n",
              "      --hover-fill-color: #174EA6;\n",
              "      --disabled-fill-color: #AAA;\n",
              "      --disabled-bg-color: #DDD;\n",
              "  }\n",
              "\n",
              "  [theme=dark] .colab-df-quickchart {\n",
              "      --bg-color: #3B4455;\n",
              "      --fill-color: #D2E3FC;\n",
              "      --hover-bg-color: #434B5C;\n",
              "      --hover-fill-color: #FFFFFF;\n",
              "      --disabled-bg-color: #3B4455;\n",
              "      --disabled-fill-color: #666;\n",
              "  }\n",
              "\n",
              "  .colab-df-quickchart {\n",
              "    background-color: var(--bg-color);\n",
              "    border: none;\n",
              "    border-radius: 50%;\n",
              "    cursor: pointer;\n",
              "    display: none;\n",
              "    fill: var(--fill-color);\n",
              "    height: 32px;\n",
              "    padding: 0;\n",
              "    width: 32px;\n",
              "  }\n",
              "\n",
              "  .colab-df-quickchart:hover {\n",
              "    background-color: var(--hover-bg-color);\n",
              "    box-shadow: 0 1px 2px rgba(60, 64, 67, 0.3), 0 1px 3px 1px rgba(60, 64, 67, 0.15);\n",
              "    fill: var(--button-hover-fill-color);\n",
              "  }\n",
              "\n",
              "  .colab-df-quickchart-complete:disabled,\n",
              "  .colab-df-quickchart-complete:disabled:hover {\n",
              "    background-color: var(--disabled-bg-color);\n",
              "    fill: var(--disabled-fill-color);\n",
              "    box-shadow: none;\n",
              "  }\n",
              "\n",
              "  .colab-df-spinner {\n",
              "    border: 2px solid var(--fill-color);\n",
              "    border-color: transparent;\n",
              "    border-bottom-color: var(--fill-color);\n",
              "    animation:\n",
              "      spin 1s steps(1) infinite;\n",
              "  }\n",
              "\n",
              "  @keyframes spin {\n",
              "    0% {\n",
              "      border-color: transparent;\n",
              "      border-bottom-color: var(--fill-color);\n",
              "      border-left-color: var(--fill-color);\n",
              "    }\n",
              "    20% {\n",
              "      border-color: transparent;\n",
              "      border-left-color: var(--fill-color);\n",
              "      border-top-color: var(--fill-color);\n",
              "    }\n",
              "    30% {\n",
              "      border-color: transparent;\n",
              "      border-left-color: var(--fill-color);\n",
              "      border-top-color: var(--fill-color);\n",
              "      border-right-color: var(--fill-color);\n",
              "    }\n",
              "    40% {\n",
              "      border-color: transparent;\n",
              "      border-right-color: var(--fill-color);\n",
              "      border-top-color: var(--fill-color);\n",
              "    }\n",
              "    60% {\n",
              "      border-color: transparent;\n",
              "      border-right-color: var(--fill-color);\n",
              "    }\n",
              "    80% {\n",
              "      border-color: transparent;\n",
              "      border-right-color: var(--fill-color);\n",
              "      border-bottom-color: var(--fill-color);\n",
              "    }\n",
              "    90% {\n",
              "      border-color: transparent;\n",
              "      border-bottom-color: var(--fill-color);\n",
              "    }\n",
              "  }\n",
              "</style>\n",
              "\n",
              "  <script>\n",
              "    async function quickchart(key) {\n",
              "      const quickchartButtonEl =\n",
              "        document.querySelector('#' + key + ' button');\n",
              "      quickchartButtonEl.disabled = true;  // To prevent multiple clicks.\n",
              "      quickchartButtonEl.classList.add('colab-df-spinner');\n",
              "      try {\n",
              "        const charts = await google.colab.kernel.invokeFunction(\n",
              "            'suggestCharts', [key], {});\n",
              "      } catch (error) {\n",
              "        console.error('Error during call to suggestCharts:', error);\n",
              "      }\n",
              "      quickchartButtonEl.classList.remove('colab-df-spinner');\n",
              "      quickchartButtonEl.classList.add('colab-df-quickchart-complete');\n",
              "    }\n",
              "    (() => {\n",
              "      let quickchartButtonEl =\n",
              "        document.querySelector('#df-2b7543a6-d6f7-421d-93b8-55ea08eaa10c button');\n",
              "      quickchartButtonEl.style.display =\n",
              "        google.colab.kernel.accessAllowed ? 'block' : 'none';\n",
              "    })();\n",
              "  </script>\n",
              "</div>\n",
              "\n",
              "    </div>\n",
              "  </div>\n"
            ],
            "application/vnd.google.colaboratory.intrinsic+json": {
              "type": "dataframe",
              "variable_name": "df",
              "summary": "{\n  \"name\": \"df\",\n  \"rows\": 2159,\n  \"fields\": [\n    {\n      \"column\": \"date_time\",\n      \"properties\": {\n        \"dtype\": \"date\",\n        \"min\": \"2022-01-01 00:40:00\",\n        \"max\": \"2022-03-31 23:40:00\",\n        \"num_unique_values\": 2159,\n        \"samples\": [\n          \"2022-03-28 15:40:00\",\n          \"2022-01-28 20:40:00\",\n          \"2022-03-28 09:40:00\"\n        ],\n        \"semantic_type\": \"\",\n        \"description\": \"\"\n      }\n    },\n    {\n      \"column\": \"WDIR\",\n      \"properties\": {\n        \"dtype\": \"number\",\n        \"std\": 98,\n        \"min\": 1,\n        \"max\": 999,\n        \"num_unique_values\": 358,\n        \"samples\": [\n          134,\n          352,\n          189\n        ],\n        \"semantic_type\": \"\",\n        \"description\": \"\"\n      }\n    },\n    {\n      \"column\": \"WSPD\",\n      \"properties\": {\n        \"dtype\": \"number\",\n        \"std\": 3.837971827374098,\n        \"min\": 0.1,\n        \"max\": 99.0,\n        \"num_unique_values\": 171,\n        \"samples\": [\n          5.4,\n          12.1,\n          11.6\n        ],\n        \"semantic_type\": \"\",\n        \"description\": \"\"\n      }\n    },\n    {\n      \"column\": \"GST\",\n      \"properties\": {\n        \"dtype\": \"number\",\n        \"std\": 4.470152395516987,\n        \"min\": 0.6,\n        \"max\": 99.0,\n        \"num_unique_values\": 212,\n        \"samples\": [\n          15.1,\n          0.6,\n          23.4\n        ],\n        \"semantic_type\": \"\",\n        \"description\": \"\"\n      }\n    },\n    {\n      \"column\": \"WVHT\",\n      \"properties\": {\n        \"dtype\": \"number\",\n        \"std\": 4.290833866679512,\n        \"min\": 0.74,\n        \"max\": 99.0,\n        \"num_unique_values\": 397,\n        \"samples\": [\n          1.74,\n          1.15,\n          3.62\n        ],\n        \"semantic_type\": \"\",\n        \"description\": \"\"\n      }\n    },\n    {\n      \"column\": \"DPD\",\n      \"properties\": {\n        \"dtype\": \"number\",\n        \"std\": 4.356257348330537,\n        \"min\": 3.7,\n        \"max\": 99.0,\n        \"num_unique_values\": 24,\n        \"samples\": [\n          5.0,\n          4.76,\n          7.14\n        ],\n        \"semantic_type\": \"\",\n        \"description\": \"\"\n      }\n    },\n    {\n      \"column\": \"APD\",\n      \"properties\": {\n        \"dtype\": \"number\",\n        \"std\": 4.1038658152242,\n        \"min\": 4.13,\n        \"max\": 99.0,\n        \"num_unique_values\": 418,\n        \"samples\": [\n          6.07,\n          7.66,\n          6.3\n        ],\n        \"semantic_type\": \"\",\n        \"description\": \"\"\n      }\n    },\n    {\n      \"column\": \"MWD\",\n      \"properties\": {\n        \"dtype\": \"number\",\n        \"std\": 105,\n        \"min\": 0,\n        \"max\": 999,\n        \"num_unique_values\": 351,\n        \"samples\": [\n          96,\n          157,\n          207\n        ],\n        \"semantic_type\": \"\",\n        \"description\": \"\"\n      }\n    },\n    {\n      \"column\": \"PRES\",\n      \"properties\": {\n        \"dtype\": \"number\",\n        \"std\": 193.37384998688918,\n        \"min\": 999.7,\n        \"max\": 9999.0,\n        \"num_unique_values\": 326,\n        \"samples\": [\n          999.9,\n          1030.7,\n          1024.2\n        ],\n        \"semantic_type\": \"\",\n        \"description\": \"\"\n      }\n    },\n    {\n      \"column\": \"ATMP\",\n      \"properties\": {\n        \"dtype\": \"number\",\n        \"std\": 21.25668431815325,\n        \"min\": 9.9,\n        \"max\": 999.0,\n        \"num_unique_values\": 146,\n        \"samples\": [\n          18.9,\n          13.6,\n          15.6\n        ],\n        \"semantic_type\": \"\",\n        \"description\": \"\"\n      }\n    },\n    {\n      \"column\": \"WTMP\",\n      \"properties\": {\n        \"dtype\": \"number\",\n        \"std\": 66.35454372429578,\n        \"min\": 20.3,\n        \"max\": 999.0,\n        \"num_unique_values\": 46,\n        \"samples\": [\n          20.8,\n          22.2,\n          22.3\n        ],\n        \"semantic_type\": \"\",\n        \"description\": \"\"\n      }\n    },\n    {\n      \"column\": \"DEWP\",\n      \"properties\": {\n        \"dtype\": \"number\",\n        \"std\": 21.61661444988703,\n        \"min\": 3.5,\n        \"max\": 999.0,\n        \"num_unique_values\": 189,\n        \"samples\": [\n          7.0,\n          5.3,\n          22.5\n        ],\n        \"semantic_type\": \"\",\n        \"description\": \"\"\n      }\n    },\n    {\n      \"column\": \"VIS\",\n      \"properties\": {\n        \"dtype\": \"number\",\n        \"std\": 0.0,\n        \"min\": 99.0,\n        \"max\": 99.0,\n        \"num_unique_values\": 1,\n        \"samples\": [\n          99.0\n        ],\n        \"semantic_type\": \"\",\n        \"description\": \"\"\n      }\n    },\n    {\n      \"column\": \"TIDE\",\n      \"properties\": {\n        \"dtype\": \"number\",\n        \"std\": 0.0,\n        \"min\": 99.0,\n        \"max\": 99.0,\n        \"num_unique_values\": 1,\n        \"samples\": [\n          99.0\n        ],\n        \"semantic_type\": \"\",\n        \"description\": \"\"\n      }\n    }\n  ]\n}"
            }
          },
          "metadata": {},
          "execution_count": 56
        }
      ]
    },
    {
      "cell_type": "code",
      "source": [
        "df[\"WVHT\"]=df[\"WVHT\"].astype(float)"
      ],
      "metadata": {
        "id": "J0v3YpxPP9dt"
      },
      "execution_count": null,
      "outputs": []
    },
    {
      "cell_type": "code",
      "execution_count": null,
      "metadata": {
        "colab": {
          "base_uri": "https://localhost:8080/"
        },
        "id": "4b8YiHllpw2r",
        "outputId": "2f40ba19-d5fc-48ab-cbe1-6006a28f3f71"
      },
      "outputs": [
        {
          "output_type": "stream",
          "name": "stdout",
          "text": [
            "               date_time  WVHT\n",
            "0    2022-01-01 00:40:00  1.73\n",
            "1    2022-01-01 01:40:00  1.58\n",
            "2    2022-01-01 02:40:00  1.68\n",
            "3    2022-01-01 03:40:00  1.52\n",
            "4    2022-01-01 04:40:00  1.50\n",
            "...                  ...   ...\n",
            "2154 2022-03-31 19:40:00  2.10\n",
            "2155 2022-03-31 20:40:00  2.26\n",
            "2156 2022-03-31 21:40:00  2.45\n",
            "2157 2022-03-31 22:40:00  2.32\n",
            "2158 2022-03-31 23:40:00  2.11\n",
            "\n",
            "[2159 rows x 2 columns]\n"
          ]
        }
      ],
      "source": [
        "# Assuming you have a DataFrame called 'df'\n",
        "selected_columns = ['date_time' , 'WVHT']  # Specify the columns you want to select\n",
        "\n",
        "data = df[selected_columns]  # Create a new DataFrame by selecting the specified columns\n",
        "\n",
        "# Print the new DataFrame\n",
        "print(data)"
      ]
    },
    {
      "cell_type": "code",
      "execution_count": null,
      "metadata": {
        "colab": {
          "base_uri": "https://localhost:8080/"
        },
        "id": "Mt8KAaODpznn",
        "outputId": "db8de32d-a0bf-4438-b2ee-e5180b26d893"
      },
      "outputs": [
        {
          "output_type": "execute_result",
          "data": {
            "text/plain": [
              "array([ 1.73,  1.58,  1.68,  1.52,  1.5 ,  1.29,  1.26,  1.2 ,  1.05,\n",
              "        1.02,  1.  ,  1.01,  0.96,  1.04,  1.13,  1.18,  1.24,  1.31,\n",
              "        1.33,  1.35,  1.49,  1.4 ,  1.51,  1.43,  1.48,  1.65,  1.85,\n",
              "        1.91,  2.01,  2.1 ,  2.17,  2.04,  2.27,  2.15,  2.31,  2.21,\n",
              "        2.14,  2.35,  2.28,  2.2 ,  2.22,  2.3 ,  2.11,  1.98,  2.13,\n",
              "        2.25,  2.34,  2.45,  2.43,  2.65,  2.44,  3.16,  3.27,  3.37,\n",
              "        3.53,  3.77,  3.96,  4.77,  5.17,  4.9 ,  5.28,  5.33,  6.19,\n",
              "        5.13,  4.85,  4.87,  4.13,  3.78,  4.01,  3.82,  3.89,  3.26,\n",
              "        4.08,  4.17,  4.19,  3.95,  3.91,  3.9 ,  3.75,  3.83,  3.74,\n",
              "        4.09,  4.31,  4.37,  4.49,  4.53,  4.67,  5.34,  4.51,  4.54,\n",
              "        3.71,  3.7 ,  3.55,  2.86,  2.92,  2.74,  2.64,  2.76,  2.62,\n",
              "        2.52,  2.69,  2.78,  2.49,  2.33,  2.18,  2.03,  2.02,  1.89,\n",
              "        1.75,  1.77,  1.69,  1.6 ,  1.55,  1.57,  1.74,  1.93,  1.94,\n",
              "        2.12,  2.26,  2.32,  2.38,  2.55,  2.6 ,  2.42,  2.36,  2.81,\n",
              "        2.91,  3.31,  3.41,  4.33,  4.18,  4.32,  3.67,  3.54,  3.33,\n",
              "        3.08,  2.46,  2.39,  2.47,  2.16,  2.06,  1.87,  1.82,  1.92,\n",
              "        1.7 ,  1.8 ,  1.79,  1.81,  1.66,  1.56,  1.53,  1.47,  1.45,\n",
              "        1.34,  1.38,  1.23,  1.08,  1.06,  0.93,  0.98,  0.94,  0.99,\n",
              "        0.92,  0.95,  1.03,  0.97,  1.07,  1.1 ,  1.22,  1.36,  1.63,\n",
              "        1.88,  1.71,  1.97,  2.05,  1.99,  2.4 ,  3.01,  3.3 ,  3.36,\n",
              "        3.09,  2.68,  2.72,  2.54,  2.56,  2.73,  2.48,  1.95,  2.09,\n",
              "        2.07,  1.67,  1.62,  1.42,  1.41,  1.28,  1.25,  1.17,  1.19,\n",
              "        1.3 ,  1.16,  1.09,  1.11,  2.61,  2.9 ,  2.99,  3.05,  2.97,\n",
              "        3.6 ,  3.92,  4.39,  3.8 ,  3.72,  3.47,  3.65,  3.87,  3.88,\n",
              "        4.21,  4.07,  4.02,  3.64,  3.52,  3.97,  3.98,  3.86,  4.12,\n",
              "        3.38,  3.19,  3.43,  3.06,  3.46,  3.24,  3.22,  3.42,  3.69,\n",
              "        3.28,  3.12,  3.  ,  3.62,  3.5 ,  4.42,  4.5 ,  5.19,  5.63,\n",
              "        5.73,  4.98,  5.23,  6.29,  5.78,  5.62,  6.3 ,  6.6 ,  6.55,\n",
              "        6.13,  6.15,  6.05,  5.87,  5.66,  5.85,  5.36,  5.22,  5.96,\n",
              "        5.97,  5.39,  5.16,  4.45,  4.05,  3.61,  2.71,  2.51,  2.59,\n",
              "        1.83,  1.39,  1.44,  1.32, 99.  ,  1.14,  1.12,  1.37,  1.15,\n",
              "        1.86,  2.19,  2.79,  3.07,  3.23,  3.25,  4.03,  4.  ,  3.66,\n",
              "        3.73,  2.58,  1.96,  2.37,  2.08,  1.72,  1.59,  1.46,  1.76,\n",
              "        1.61,  0.83,  0.87,  0.89,  0.9 ,  2.53,  2.94,  2.98,  3.04,\n",
              "        2.84,  2.63,  2.82,  2.5 ,  2.41,  2.  ,  1.78,  2.29,  3.34,\n",
              "        3.93,  5.04,  5.75,  6.02,  6.54,  6.03,  6.27,  5.81,  5.69,\n",
              "        5.6 ,  6.38,  5.56,  5.7 ,  5.15,  5.32,  5.14,  4.78,  5.03,\n",
              "        4.68,  4.86,  4.28,  4.88,  4.52,  4.1 ,  4.25,  3.81,  3.32,\n",
              "        3.13,  1.9 ,  1.84,  1.54,  1.21,  2.23,  2.93,  2.88,  3.02,\n",
              "        2.89,  2.57,  1.64,  0.88,  0.85,  0.86,  0.84,  0.81,  0.74,\n",
              "        0.82,  0.78,  0.79,  0.91,  3.56,  3.63,  2.77,  2.67,  2.24,\n",
              "        2.7 ,  1.27,  3.15,  3.2 ,  3.49,  3.21,  2.66,  3.68,  4.41,\n",
              "        4.94,  5.11,  5.27,  5.26,  5.68,  5.3 ,  4.27,  5.35,  5.08,\n",
              "        4.43,  3.45,  3.14,  2.85,  2.87,  3.11,  3.51,  3.79,  3.48,\n",
              "        2.96])"
            ]
          },
          "metadata": {},
          "execution_count": 59
        }
      ],
      "source": [
        "unique_values = data['WVHT'].unique()\n",
        "unique_values"
      ]
    },
    {
      "cell_type": "code",
      "execution_count": null,
      "metadata": {
        "id": "vAqhHtZTp2LC"
      },
      "outputs": [],
      "source": [
        "data = data[data['WVHT'] != 99]"
      ]
    },
    {
      "cell_type": "code",
      "execution_count": null,
      "metadata": {
        "colab": {
          "base_uri": "https://localhost:8080/"
        },
        "id": "uI65BbiHp5Z4",
        "outputId": "b6771306-1f17-4f39-e6cd-b1569e15482f"
      },
      "outputs": [
        {
          "output_type": "execute_result",
          "data": {
            "text/plain": [
              "(2155, 2)"
            ]
          },
          "metadata": {},
          "execution_count": 61
        }
      ],
      "source": [
        "data.shape"
      ]
    },
    {
      "cell_type": "code",
      "execution_count": null,
      "metadata": {
        "colab": {
          "base_uri": "https://localhost:8080/",
          "height": 540
        },
        "id": "FJfkdzSTp7a2",
        "outputId": "92424970-24bc-487f-e274-ec8c72484c8d"
      },
      "outputs": [
        {
          "output_type": "execute_result",
          "data": {
            "text/plain": [
              "<Axes: >"
            ]
          },
          "metadata": {},
          "execution_count": 62
        },
        {
          "output_type": "display_data",
          "data": {
            "text/plain": [
              "<Figure size 800x600 with 1 Axes>"
            ],
            "image/png": "[encoded data removed]"
          },
          "metadata": {}
        }
      ],
      "source": [
        "data['WVHT'].plot(figsize=(8,6))"
      ]
    },
    {
      "cell_type": "code",
      "source": [
        "import numpy as np\n",
        "import pandas as pd\n",
        "import tensorflow as tf\n",
        "import pickle\n",
        "import matplotlib.pyplot as plt\n",
        "from sklearn.preprocessing import MinMaxScaler\n",
        "from tensorflow.keras.models import Sequential\n",
        "from tensorflow.keras.layers import LSTM, Dense\n",
        "from tensorflow.keras.optimizers import Adam"
      ],
      "metadata": {
        "id": "b5i9KPIbouYq"
      },
      "execution_count": null,
      "outputs": []
    },
    {
      "cell_type": "code",
      "source": [
        "data['date_time'] = pd.to_datetime(data['date_time'])\n",
        "data = data.sort_values(by='date_time')\n",
        "y = data['WVHT'].values"
      ],
      "metadata": {
        "id": "CxKMxO2SovxB"
      },
      "execution_count": null,
      "outputs": []
    },
    {
      "cell_type": "code",
      "source": [
        "# Define a function to prepare sequences\n",
        "def prepare_sequences(data, seq_length):\n",
        "    sequences = []\n",
        "    targets = []\n",
        "    for i in range(len(data) - seq_length):\n",
        "        sequences.append(data[i:i+seq_length])\n",
        "        targets.append(data[i+seq_length])\n",
        "    return np.array(sequences), np.array(targets)"
      ],
      "metadata": {
        "id": "T7wiumfWo1SC"
      },
      "execution_count": null,
      "outputs": []
    },
    {
      "cell_type": "code",
      "source": [
        "# Prepare sequences and targets\n",
        "sequence_length = 100  # Adjust as needed\n",
        "x_seq, y_targets = prepare_sequences(y, sequence_length)"
      ],
      "metadata": {
        "id": "gql7d7pno-qC"
      },
      "execution_count": null,
      "outputs": []
    },
    {
      "cell_type": "code",
      "source": [
        "# Split the data into train and test sets\n",
        "split_ratio = 0.7  # Adjust as needed\n",
        "split_idx = int(split_ratio * len(x_seq))\n",
        "x_train, x_test = x_seq[:split_idx], x_seq[split_idx:]\n",
        "y_train, y_test = y_targets[:split_idx], y_targets[split_idx:]"
      ],
      "metadata": {
        "id": "H6GLHwVquxwm"
      },
      "execution_count": null,
      "outputs": []
    },
    {
      "cell_type": "code",
      "source": [
        "# Find out the number of observations in y_test\n",
        "num_observations_y_test = len(y_test)\n",
        "\n",
        "# Print the number of observations in y_test\n",
        "print(\"Number of observations in y_test:\", num_observations_y_test)"
      ],
      "metadata": {
        "colab": {
          "base_uri": "https://localhost:8080/"
        },
        "id": "FCuEa8sUk8vA",
        "outputId": "ff683e84-194b-454c-cfce-04a21302d82e"
      },
      "execution_count": null,
      "outputs": [
        {
          "output_type": "stream",
          "name": "stdout",
          "text": [
            "Number of observations in y_test: 617\n"
          ]
        }
      ]
    },
    {
      "cell_type": "code",
      "source": [
        "# Define quantile loss function using TensorFlow operations\n",
        "def quantile_loss(q, y_true, y_pred):\n",
        "    error = y_true - y_pred\n",
        "    return tf.reduce_mean(tf.maximum(q * error, (q - 1) * error))"
      ],
      "metadata": {
        "id": "ZJXAP6Ovu08K"
      },
      "execution_count": null,
      "outputs": []
    },
    {
      "cell_type": "code",
      "source": [
        "# Import the Dropout layer from TensorFlow\n",
        "from tensorflow.keras.layers import Dropout"
      ],
      "metadata": {
        "id": "Cjzi3ZM2ipNm"
      },
      "execution_count": null,
      "outputs": []
    },
    {
      "cell_type": "code",
      "source": [
        "from tensorflow.keras.layers import Input, RNN, GRU, LSTM, Dropout, Dense, Concatenate\n",
        "from tensorflow.keras.models import Model\n",
        "import tensorflow as tf"
      ],
      "metadata": {
        "id": "-Yil8wTxASTh"
      },
      "execution_count": null,
      "outputs": []
    },
    {
      "cell_type": "code",
      "source": [
        "from tensorflow.keras.models import Model\n",
        "from tensorflow.keras.layers import Input, GRU, LSTM, SimpleRNN, Concatenate, Dense\n",
        "from tensorflow.keras.optimizers import Adam\n",
        "\n",
        "def train_model_with_quantile_loss(q):\n",
        "    # Define input shape\n",
        "    input_shape = (sequence_length, 1)\n",
        "    inputs = Input(shape=input_shape)\n",
        "\n",
        "    # GRU layer\n",
        "    gru_output = GRU(64, activation='sigmoid')(inputs)\n",
        "\n",
        "    # LSTM layer\n",
        "    lstm_output = LSTM(64, activation='sigmoid')(inputs)\n",
        "\n",
        "    # RNN layer\n",
        "    rnn_output = SimpleRNN(64, activation='sigmoid')(inputs)\n",
        "\n",
        "    # Concatenate the outputs of three layers\n",
        "    concatenated = Concatenate()([gru_output, lstm_output, rnn_output])\n",
        "\n",
        "    # Dense layer\n",
        "    dense_output = Dense(64, activation='sigmoid')(concatenated)\n",
        "\n",
        "    # Output layer\n",
        "    output = Dense(1)(dense_output)\n",
        "\n",
        "    # Create the model\n",
        "    model = Model(inputs=inputs, outputs=output)\n",
        "\n",
        "    # Compile the model with quantile loss\n",
        "    model.compile(optimizer=Adam(learning_rate=0.001), loss=lambda y_true, y_pred: quantile_loss(q, y_true, y_pred))\n",
        "\n",
        "    # Train the model\n",
        "    model.fit(x_train, y_train, validation_split=0.1, epochs=50, batch_size=100, verbose=1)\n",
        "\n",
        "    return model"
      ],
      "metadata": {
        "id": "f5BIuPWIvZQ2"
      },
      "execution_count": null,
      "outputs": []
    },
    {
      "cell_type": "code",
      "source": [
        "#Train models with 20% and 80% quantiles\n",
        "q_05 = 0.05  # 10% quantile\n",
        "model_05 = train_model_with_quantile_loss(q_05)"
      ],
      "metadata": {
        "colab": {
          "base_uri": "https://localhost:8080/"
        },
        "id": "gP6H_yyra8ZS",
        "outputId": "2e8045c4-0ac9-4354-e33b-7a2ad11a4fca"
      },
      "execution_count": null,
      "outputs": [
        {
          "output_type": "stream",
          "name": "stdout",
          "text": [
            "Epoch 1/50\n",
            "13/13 [==============================] - 6s 195ms/step - loss: 0.0836 - val_loss: 0.0453\n",
            "Epoch 2/50\n",
            "13/13 [==============================] - 2s 157ms/step - loss: 0.0606 - val_loss: 0.0475\n",
            "Epoch 3/50\n",
            "13/13 [==============================] - 4s 300ms/step - loss: 0.0565 - val_loss: 0.0450\n",
            "Epoch 4/50\n",
            "13/13 [==============================] - 2s 156ms/step - loss: 0.0551 - val_loss: 0.0420\n",
            "Epoch 5/50\n",
            "13/13 [==============================] - 2s 155ms/step - loss: 0.0550 - val_loss: 0.0406\n",
            "Epoch 6/50\n",
            "13/13 [==============================] - 2s 156ms/step - loss: 0.0527 - val_loss: 0.0394\n",
            "Epoch 7/50\n",
            "13/13 [==============================] - 2s 157ms/step - loss: 0.0493 - val_loss: 0.0382\n",
            "Epoch 8/50\n",
            "13/13 [==============================] - 2s 159ms/step - loss: 0.0465 - val_loss: 0.0367\n",
            "Epoch 9/50\n",
            "13/13 [==============================] - 4s 296ms/step - loss: 0.0441 - val_loss: 0.0328\n",
            "Epoch 10/50\n",
            "13/13 [==============================] - 2s 154ms/step - loss: 0.0396 - val_loss: 0.0278\n",
            "Epoch 11/50\n",
            "13/13 [==============================] - 2s 157ms/step - loss: 0.0340 - val_loss: 0.0227\n",
            "Epoch 12/50\n",
            "13/13 [==============================] - 2s 155ms/step - loss: 0.0278 - val_loss: 0.0171\n",
            "Epoch 13/50\n",
            "13/13 [==============================] - 2s 157ms/step - loss: 0.0225 - val_loss: 0.0140\n",
            "Epoch 14/50\n",
            "13/13 [==============================] - 2s 172ms/step - loss: 0.0207 - val_loss: 0.0142\n",
            "Epoch 15/50\n",
            "13/13 [==============================] - 4s 277ms/step - loss: 0.0205 - val_loss: 0.0195\n",
            "Epoch 16/50\n",
            "13/13 [==============================] - 2s 158ms/step - loss: 0.0224 - val_loss: 0.0130\n",
            "Epoch 17/50\n",
            "13/13 [==============================] - 2s 156ms/step - loss: 0.0189 - val_loss: 0.0127\n",
            "Epoch 18/50\n",
            "13/13 [==============================] - 2s 156ms/step - loss: 0.0201 - val_loss: 0.0154\n",
            "Epoch 19/50\n",
            "13/13 [==============================] - 2s 157ms/step - loss: 0.0197 - val_loss: 0.0128\n",
            "Epoch 20/50\n",
            "13/13 [==============================] - 2s 195ms/step - loss: 0.0179 - val_loss: 0.0121\n",
            "Epoch 21/50\n",
            "13/13 [==============================] - 3s 246ms/step - loss: 0.0180 - val_loss: 0.0120\n",
            "Epoch 22/50\n",
            "13/13 [==============================] - 2s 154ms/step - loss: 0.0172 - val_loss: 0.0119\n",
            "Epoch 23/50\n",
            "13/13 [==============================] - 2s 155ms/step - loss: 0.0172 - val_loss: 0.0120\n",
            "Epoch 24/50\n",
            "13/13 [==============================] - 2s 155ms/step - loss: 0.0214 - val_loss: 0.0158\n",
            "Epoch 25/50\n",
            "13/13 [==============================] - 2s 156ms/step - loss: 0.0190 - val_loss: 0.0123\n",
            "Epoch 26/50\n",
            "13/13 [==============================] - 3s 215ms/step - loss: 0.0175 - val_loss: 0.0118\n",
            "Epoch 27/50\n",
            "13/13 [==============================] - 3s 230ms/step - loss: 0.0174 - val_loss: 0.0177\n",
            "Epoch 28/50\n",
            "13/13 [==============================] - 2s 156ms/step - loss: 0.0183 - val_loss: 0.0124\n",
            "Epoch 29/50\n",
            "13/13 [==============================] - 2s 155ms/step - loss: 0.0187 - val_loss: 0.0146\n",
            "Epoch 30/50\n",
            "13/13 [==============================] - 2s 158ms/step - loss: 0.0174 - val_loss: 0.0117\n",
            "Epoch 31/50\n",
            "13/13 [==============================] - 2s 154ms/step - loss: 0.0166 - val_loss: 0.0118\n",
            "Epoch 32/50\n",
            "13/13 [==============================] - 3s 235ms/step - loss: 0.0165 - val_loss: 0.0118\n",
            "Epoch 33/50\n",
            "13/13 [==============================] - 3s 202ms/step - loss: 0.0167 - val_loss: 0.0119\n",
            "Epoch 34/50\n",
            "13/13 [==============================] - 2s 161ms/step - loss: 0.0181 - val_loss: 0.0193\n",
            "Epoch 35/50\n",
            "13/13 [==============================] - 2s 155ms/step - loss: 0.0197 - val_loss: 0.0150\n",
            "Epoch 36/50\n",
            "13/13 [==============================] - 2s 153ms/step - loss: 0.0179 - val_loss: 0.0152\n",
            "Epoch 37/50\n",
            "13/13 [==============================] - 2s 156ms/step - loss: 0.0188 - val_loss: 0.0230\n",
            "Epoch 38/50\n",
            "13/13 [==============================] - 3s 261ms/step - loss: 0.0224 - val_loss: 0.0174\n",
            "Epoch 39/50\n",
            "13/13 [==============================] - 3s 192ms/step - loss: 0.0190 - val_loss: 0.0133\n",
            "Epoch 40/50\n",
            "13/13 [==============================] - 2s 155ms/step - loss: 0.0168 - val_loss: 0.0124\n",
            "Epoch 41/50\n",
            "13/13 [==============================] - 2s 155ms/step - loss: 0.0173 - val_loss: 0.0119\n",
            "Epoch 42/50\n",
            "13/13 [==============================] - 2s 159ms/step - loss: 0.0164 - val_loss: 0.0120\n",
            "Epoch 43/50\n",
            "13/13 [==============================] - 2s 155ms/step - loss: 0.0160 - val_loss: 0.0119\n",
            "Epoch 44/50\n",
            "13/13 [==============================] - 4s 281ms/step - loss: 0.0159 - val_loss: 0.0122\n",
            "Epoch 45/50\n",
            "13/13 [==============================] - 2s 157ms/step - loss: 0.0174 - val_loss: 0.0144\n",
            "Epoch 46/50\n",
            "13/13 [==============================] - 2s 157ms/step - loss: 0.0173 - val_loss: 0.0140\n",
            "Epoch 47/50\n",
            "13/13 [==============================] - 2s 157ms/step - loss: 0.0164 - val_loss: 0.0118\n",
            "Epoch 48/50\n",
            "13/13 [==============================] - 2s 157ms/step - loss: 0.0165 - val_loss: 0.0130\n",
            "Epoch 49/50\n",
            "13/13 [==============================] - 2s 155ms/step - loss: 0.0173 - val_loss: 0.0124\n",
            "Epoch 50/50\n",
            "13/13 [==============================] - 4s 304ms/step - loss: 0.0163 - val_loss: 0.0122\n"
          ]
        }
      ]
    },
    {
      "cell_type": "code",
      "source": [
        "q_95 = 0.95  # 90% quantile\n",
        "model_95 = train_model_with_quantile_loss(q_95)"
      ],
      "metadata": {
        "colab": {
          "base_uri": "https://localhost:8080/"
        },
        "id": "6yCnFd8Ka_eM",
        "outputId": "bc76da0f-829f-427a-cf7f-715723d0ede0"
      },
      "execution_count": null,
      "outputs": [
        {
          "output_type": "stream",
          "name": "stdout",
          "text": [
            "Epoch 1/50\n",
            "13/13 [==============================] - 6s 193ms/step - loss: 0.9090 - val_loss: 0.0827\n",
            "Epoch 2/50\n",
            "13/13 [==============================] - 2s 156ms/step - loss: 0.1841 - val_loss: 0.1143\n",
            "Epoch 3/50\n",
            "13/13 [==============================] - 3s 241ms/step - loss: 0.1628 - val_loss: 0.1290\n",
            "Epoch 4/50\n",
            "13/13 [==============================] - 3s 229ms/step - loss: 0.1638 - val_loss: 0.1324\n",
            "Epoch 5/50\n",
            "13/13 [==============================] - 4s 284ms/step - loss: 0.1631 - val_loss: 0.1313\n",
            "Epoch 6/50\n",
            "13/13 [==============================] - 2s 155ms/step - loss: 0.1619 - val_loss: 0.1275\n",
            "Epoch 7/50\n",
            "13/13 [==============================] - 2s 157ms/step - loss: 0.1605 - val_loss: 0.1245\n",
            "Epoch 8/50\n",
            "13/13 [==============================] - 3s 247ms/step - loss: 0.1591 - val_loss: 0.1225\n",
            "Epoch 9/50\n",
            "13/13 [==============================] - 3s 209ms/step - loss: 0.1578 - val_loss: 0.1207\n",
            "Epoch 10/50\n",
            "13/13 [==============================] - 2s 156ms/step - loss: 0.1562 - val_loss: 0.1162\n",
            "Epoch 11/50\n",
            "13/13 [==============================] - 2s 156ms/step - loss: 0.1548 - val_loss: 0.1147\n",
            "Epoch 12/50\n",
            "13/13 [==============================] - 2s 157ms/step - loss: 0.1530 - val_loss: 0.1108\n",
            "Epoch 13/50\n",
            "13/13 [==============================] - 2s 153ms/step - loss: 0.1513 - val_loss: 0.1081\n",
            "Epoch 14/50\n",
            "13/13 [==============================] - 3s 256ms/step - loss: 0.1495 - val_loss: 0.1071\n",
            "Epoch 15/50\n",
            "13/13 [==============================] - 3s 191ms/step - loss: 0.1476 - val_loss: 0.1063\n",
            "Epoch 16/50\n",
            "13/13 [==============================] - 2s 156ms/step - loss: 0.1453 - val_loss: 0.1028\n",
            "Epoch 17/50\n",
            "13/13 [==============================] - 2s 157ms/step - loss: 0.1432 - val_loss: 0.0983\n",
            "Epoch 18/50\n",
            "13/13 [==============================] - 2s 158ms/step - loss: 0.1406 - val_loss: 0.1003\n",
            "Epoch 19/50\n",
            "13/13 [==============================] - 2s 156ms/step - loss: 0.1373 - val_loss: 0.0953\n",
            "Epoch 20/50\n",
            "13/13 [==============================] - 4s 288ms/step - loss: 0.1339 - val_loss: 0.0906\n",
            "Epoch 21/50\n",
            "13/13 [==============================] - 2s 153ms/step - loss: 0.1299 - val_loss: 0.0897\n",
            "Epoch 22/50\n",
            "13/13 [==============================] - 2s 155ms/step - loss: 0.1250 - val_loss: 0.0822\n",
            "Epoch 23/50\n",
            "13/13 [==============================] - 2s 156ms/step - loss: 0.1194 - val_loss: 0.0801\n",
            "Epoch 24/50\n",
            "13/13 [==============================] - 2s 156ms/step - loss: 0.1120 - val_loss: 0.0686\n",
            "Epoch 25/50\n",
            "13/13 [==============================] - 2s 157ms/step - loss: 0.1031 - val_loss: 0.0644\n",
            "Epoch 26/50\n",
            "13/13 [==============================] - 4s 306ms/step - loss: 0.0919 - val_loss: 0.0496\n",
            "Epoch 27/50\n",
            "13/13 [==============================] - 2s 156ms/step - loss: 0.0773 - val_loss: 0.0399\n",
            "Epoch 28/50\n",
            "13/13 [==============================] - 2s 156ms/step - loss: 0.0607 - val_loss: 0.0293\n",
            "Epoch 29/50\n",
            "13/13 [==============================] - 2s 154ms/step - loss: 0.0484 - val_loss: 0.0265\n",
            "Epoch 30/50\n",
            "13/13 [==============================] - 2s 154ms/step - loss: 0.0420 - val_loss: 0.0248\n",
            "Epoch 31/50\n",
            "13/13 [==============================] - 2s 170ms/step - loss: 0.0374 - val_loss: 0.0267\n",
            "Epoch 32/50\n",
            "13/13 [==============================] - 4s 283ms/step - loss: 0.0319 - val_loss: 0.0264\n",
            "Epoch 33/50\n",
            "13/13 [==============================] - 2s 158ms/step - loss: 0.0294 - val_loss: 0.0229\n",
            "Epoch 34/50\n",
            "13/13 [==============================] - 2s 156ms/step - loss: 0.0275 - val_loss: 0.0224\n",
            "Epoch 35/50\n",
            "13/13 [==============================] - 2s 158ms/step - loss: 0.0283 - val_loss: 0.0287\n",
            "Epoch 36/50\n",
            "13/13 [==============================] - 2s 156ms/step - loss: 0.0265 - val_loss: 0.0239\n",
            "Epoch 37/50\n",
            "13/13 [==============================] - 3s 197ms/step - loss: 0.0264 - val_loss: 0.0217\n",
            "Epoch 38/50\n",
            "13/13 [==============================] - 3s 256ms/step - loss: 0.0256 - val_loss: 0.0213\n",
            "Epoch 39/50\n",
            "13/13 [==============================] - 2s 156ms/step - loss: 0.0250 - val_loss: 0.0226\n",
            "Epoch 40/50\n",
            "13/13 [==============================] - 2s 155ms/step - loss: 0.0240 - val_loss: 0.0241\n",
            "Epoch 41/50\n",
            "13/13 [==============================] - 2s 155ms/step - loss: 0.0236 - val_loss: 0.0219\n",
            "Epoch 42/50\n",
            "13/13 [==============================] - 2s 155ms/step - loss: 0.0235 - val_loss: 0.0231\n",
            "Epoch 43/50\n",
            "13/13 [==============================] - 3s 215ms/step - loss: 0.0241 - val_loss: 0.0226\n",
            "Epoch 44/50\n",
            "13/13 [==============================] - 3s 239ms/step - loss: 0.0226 - val_loss: 0.0220\n",
            "Epoch 45/50\n",
            "13/13 [==============================] - 2s 155ms/step - loss: 0.0226 - val_loss: 0.0210\n",
            "Epoch 46/50\n",
            "13/13 [==============================] - 2s 154ms/step - loss: 0.0223 - val_loss: 0.0218\n",
            "Epoch 47/50\n",
            "13/13 [==============================] - 2s 156ms/step - loss: 0.0224 - val_loss: 0.0203\n",
            "Epoch 48/50\n",
            "13/13 [==============================] - 2s 153ms/step - loss: 0.0227 - val_loss: 0.0200\n",
            "Epoch 49/50\n",
            "13/13 [==============================] - 3s 236ms/step - loss: 0.0215 - val_loss: 0.0200\n",
            "Epoch 50/50\n",
            "13/13 [==============================] - 3s 215ms/step - loss: 0.0215 - val_loss: 0.0216\n"
          ]
        }
      ]
    },
    {
      "cell_type": "code",
      "source": [
        "# Make predictions\n",
        "y_pred_05 = model_05.predict(x_test)\n",
        "y_pred_95 = model_95.predict(x_test)"
      ],
      "metadata": {
        "colab": {
          "base_uri": "https://localhost:8080/"
        },
        "id": "Q1pj0VAvbB3q",
        "outputId": "76b57280-f412-4de5-a48f-8a61b5382ab0"
      },
      "execution_count": null,
      "outputs": [
        {
          "output_type": "stream",
          "name": "stdout",
          "text": [
            "20/20 [==============================] - 1s 22ms/step\n",
            "20/20 [==============================] - 1s 21ms/step\n"
          ]
        }
      ]
    },
    {
      "cell_type": "code",
      "source": [
        "# Plot quantile predictions along with actual values\n",
        "plt.plot(range(len(y_test)), y_test, label=\"Actual\")\n",
        "plt.plot(range(len(y_test)), y_pred_05, label=\"5% Prediction\")\n",
        "plt.plot(range(len(y_test)), y_pred_95, label=\"95% Prediction\")\n",
        "plt.xlabel(\"Data Points in Test Set\")\n",
        "plt.ylabel(\"WVHT\")\n",
        "plt.legend()\n",
        "plt.savefig('41002h2022.png')\n",
        "plt.show()\n",
        "\n",
        "# Calculate the number of points between 95% and 5% percentiles\n",
        "num_points_between_percentiles = np.sum((y_pred_05 <= y_test) & (y_test <= y_pred_95))"
      ],
      "metadata": {
        "colab": {
          "base_uri": "https://localhost:8080/",
          "height": 449
        },
        "id": "6mNyowHeiPuk",
        "outputId": "628114bb-744a-4ad5-a837-03f72325361c"
      },
      "execution_count": null,
      "outputs": [
        {
          "output_type": "display_data",
          "data": {
            "text/plain": [
              "<Figure size 640x480 with 1 Axes>"
            ],
            "image/png": "[encoded data removed]"
          },
          "metadata": {}
        }
      ]
    },
    {
      "cell_type": "code",
      "source": [
        "# Calculate MPIW\n",
        "def calculate_mpiw(y_lower, y_upper):\n",
        "    mpiw = np.mean(y_upper - y_lower)\n",
        "    return mpiw\n",
        "\n",
        "# Calculate lower and upper bounds of prediction intervals\n",
        "y_lower_05 = y_pred_05\n",
        "y_upper_95 = y_pred_95\n",
        "\n",
        "# Calculate MPIW for the 10-90% prediction interval\n",
        "mpiw = calculate_mpiw(y_lower_05, y_upper_95)\n",
        "\n",
        "# Print MPIW for the 10-90% prediction interval\n",
        "print(\"MPIW:\", mpiw)"
      ],
      "metadata": {
        "colab": {
          "base_uri": "https://localhost:8080/"
        },
        "id": "lSvXljPeCj0i",
        "outputId": "817dcf8f-fe78-4efa-d266-f8b9b4040d1e"
      },
      "execution_count": null,
      "outputs": [
        {
          "output_type": "stream",
          "name": "stdout",
          "text": [
            "MPIW: 0.4453851\n"
          ]
        }
      ]
    },
    {
      "cell_type": "code",
      "source": [
        "print(len(y_test))"
      ],
      "metadata": {
        "colab": {
          "base_uri": "https://localhost:8080/"
        },
        "id": "6BWHvDkH3Uo8",
        "outputId": "cae42fc5-5e3c-44da-923e-06d270b67c30"
      },
      "execution_count": null,
      "outputs": [
        {
          "output_type": "stream",
          "name": "stdout",
          "text": [
            "617\n"
          ]
        }
      ]
    },
    {
      "cell_type": "code",
      "source": [
        "# Check if each actual observation falls within the prediction interval\n",
        "within_interval = (y_pred_05.flatten() <= y_test) & (y_test <= y_pred_95.flatten())\n",
        "print(within_interval.sum())"
      ],
      "metadata": {
        "colab": {
          "base_uri": "https://localhost:8080/"
        },
        "id": "7R5qPKJD3Ucv",
        "outputId": "1d22c8c6-43e8-478a-bed5-b282472e807c"
      },
      "execution_count": null,
      "outputs": [
        {
          "output_type": "stream",
          "name": "stdout",
          "text": [
            "536\n"
          ]
        }
      ]
    },
    {
      "cell_type": "code",
      "source": [
        "# Calculate lower and upper bounds of prediction intervals\n",
        "y_lower_05 = y_pred_05\n",
        "y_upper_95 = y_pred_95\n",
        "\n",
        "# Check if each actual observation falls within the prediction interval\n",
        "within_interval = (y_lower_05.flatten() <= y_test) & (y_test <= y_upper_95.flatten())\n",
        "\n",
        "# Count the number of observations falling within the prediction intervals\n",
        "num_within_interval = within_interval.sum()\n",
        "\n",
        "# Total number of observations\n",
        "total_observations = len(y_test)\n",
        "\n",
        "# Calculate PICP (Prediction Interval Coverage Probability)\n",
        "picp = num_within_interval / total_observations\n",
        "print(\"PICP:\", picp)"
      ],
      "metadata": {
        "colab": {
          "base_uri": "https://localhost:8080/"
        },
        "id": "NGEv1LCVs0Rd",
        "outputId": "56b40f32-6db6-44fb-dae8-f3939f52ef7a"
      },
      "execution_count": 1,
      "outputs": [
        {
          "output_type": "stream",
          "name": "stdout",
          "text": [
            "0.9687196110210696\n"
          ]
        }
      ]
    }
  ],
  "metadata": {
    "colab": {
      "provenance": []
    },
    "kernelspec": {
      "display_name": "Python 3",
      "name": "python3"
    },
    "language_info": {
      "name": "python"
    }
  },
  "nbformat": 4,
  "nbformat_minor": 0
}