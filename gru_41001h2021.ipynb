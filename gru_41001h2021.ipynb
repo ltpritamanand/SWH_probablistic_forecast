{
  "cells": [
    {
      "cell_type": "code",
      "execution_count": 115,
      "metadata": {
        "id": "Y_V3p8yx9TMZ"
      },
      "outputs": [],
      "source": [
        "import pandas as pd\n",
        "import numpy as np"
      ]
    },
    {
      "cell_type": "code",
      "execution_count": 116,
      "metadata": {
        "id": "NpWiJ4U8lnl_"
      },
      "outputs": [],
      "source": [
        "import pandas as pd\n",
        "# Assuming your text file is named \"data.txt\" and is in the same directory as your Python script\n",
        "file_path = \"/content/41001h2021 (1).txt\"\n",
        "\n",
        "# If your data is separated by spaces, you can use:\n",
        "df = pd.read_csv(file_path, delim_whitespace=True)"
      ]
    },
    {
      "cell_type": "code",
      "execution_count": 117,
      "metadata": {
        "colab": {
          "base_uri": "https://localhost:8080/",
          "height": 206
        },
        "id": "3UeALjFMoSNh",
        "outputId": "86731f6c-c9f9-41da-b94c-b175db348831"
      },
      "outputs": [
        {
          "data": {
            "application/vnd.google.colaboratory.intrinsic+json": {
              "summary": "{\n  \"name\": \"df\",\n  \"rows\": 10477,\n  \"fields\": [\n    {\n      \"column\": \"#YY\",\n      \"properties\": {\n        \"dtype\": \"number\",\n        \"std\": 0,\n        \"min\": 2021,\n        \"max\": 2021,\n        \"num_unique_values\": 1,\n        \"samples\": [\n          2021\n        ],\n        \"semantic_type\": \"\",\n        \"description\": \"\"\n      }\n    },\n    {\n      \"column\": \"MM\",\n      \"properties\": {\n        \"dtype\": \"number\",\n        \"std\": 0,\n        \"min\": 6,\n        \"max\": 8,\n        \"num_unique_values\": 3,\n        \"samples\": [\n          6\n        ],\n        \"semantic_type\": \"\",\n        \"description\": \"\"\n      }\n    },\n    {\n      \"column\": \"DD\",\n      \"properties\": {\n        \"dtype\": \"number\",\n        \"std\": 8,\n        \"min\": 1,\n        \"max\": 31,\n        \"num_unique_values\": 31,\n        \"samples\": [\n          17\n        ],\n        \"semantic_type\": \"\",\n        \"description\": \"\"\n      }\n    },\n    {\n      \"column\": \"hh\",\n      \"properties\": {\n        \"dtype\": \"number\",\n        \"std\": 6,\n        \"min\": 0,\n        \"max\": 23,\n        \"num_unique_values\": 24,\n        \"samples\": [\n          13\n        ],\n        \"semantic_type\": \"\",\n        \"description\": \"\"\n      }\n    },\n    {\n      \"column\": \"mm\",\n      \"properties\": {\n        \"dtype\": \"number\",\n        \"std\": 17,\n        \"min\": 0,\n        \"max\": 50,\n        \"num_unique_values\": 6,\n        \"samples\": [\n          40\n        ],\n        \"semantic_type\": \"\",\n        \"description\": \"\"\n      }\n    },\n    {\n      \"column\": \"WDIR\",\n      \"properties\": {\n        \"dtype\": \"number\",\n        \"std\": 61,\n        \"min\": 1,\n        \"max\": 999,\n        \"num_unique_values\": 357,\n        \"samples\": [\n          293\n        ],\n        \"semantic_type\": \"\",\n        \"description\": \"\"\n      }\n    },\n    {\n      \"column\": \"WSPD\",\n      \"properties\": {\n        \"dtype\": \"number\",\n        \"std\": 3.3648132355958285,\n        \"min\": 0.0,\n        \"max\": 99.0,\n        \"num_unique_values\": 159,\n        \"samples\": [\n          11.2\n        ],\n        \"semantic_type\": \"\",\n        \"description\": \"\"\n      }\n    },\n    {\n      \"column\": \"GST\",\n      \"properties\": {\n        \"dtype\": \"number\",\n        \"std\": 4.0004545043800706,\n        \"min\": 0.3,\n        \"max\": 99.0,\n        \"num_unique_values\": 207,\n        \"samples\": [\n          5.0\n        ],\n        \"semantic_type\": \"\",\n        \"description\": \"\"\n      }\n    },\n    {\n      \"column\": \"WVHT\",\n      \"properties\": {\n        \"dtype\": \"number\",\n        \"std\": 36.35445657914817,\n        \"min\": 0.62,\n        \"max\": 99.0,\n        \"num_unique_values\": 277,\n        \"samples\": [\n          3.15\n        ],\n        \"semantic_type\": \"\",\n        \"description\": \"\"\n      }\n    },\n    {\n      \"column\": \"DPD\",\n      \"properties\": {\n        \"dtype\": \"number\",\n        \"std\": 33.98965758100597,\n        \"min\": 3.57,\n        \"max\": 99.0,\n        \"num_unique_values\": 23,\n        \"samples\": [\n          12.12\n        ],\n        \"semantic_type\": \"\",\n        \"description\": \"\"\n      }\n    },\n    {\n      \"column\": \"APD\",\n      \"properties\": {\n        \"dtype\": \"number\",\n        \"std\": 34.8212476604489,\n        \"min\": 3.89,\n        \"max\": 99.0,\n        \"num_unique_values\": 337,\n        \"samples\": [\n          5.78\n        ],\n        \"semantic_type\": \"\",\n        \"description\": \"\"\n      }\n    },\n    {\n      \"column\": \"MWD\",\n      \"properties\": {\n        \"dtype\": \"number\",\n        \"std\": 307,\n        \"min\": 1,\n        \"max\": 999,\n        \"num_unique_values\": 252,\n        \"samples\": [\n          185\n        ],\n        \"semantic_type\": \"\",\n        \"description\": \"\"\n      }\n    },\n    {\n      \"column\": \"PRES\",\n      \"properties\": {\n        \"dtype\": \"number\",\n        \"std\": 4.08517518853886,\n        \"min\": 1001.3,\n        \"max\": 1027.9,\n        \"num_unique_values\": 239,\n        \"samples\": [\n          1017.8\n        ],\n        \"semantic_type\": \"\",\n        \"description\": \"\"\n      }\n    },\n    {\n      \"column\": \"ATMP\",\n      \"properties\": {\n        \"dtype\": \"number\",\n        \"std\": 19.02572569334002,\n        \"min\": 21.9,\n        \"max\": 999.0,\n        \"num_unique_values\": 82,\n        \"samples\": [\n          23.0\n        ],\n        \"semantic_type\": \"\",\n        \"description\": \"\"\n      }\n    },\n    {\n      \"column\": \"WTMP\",\n      \"properties\": {\n        \"dtype\": \"number\",\n        \"std\": 71.47817251399503,\n        \"min\": 24.6,\n        \"max\": 999.0,\n        \"num_unique_values\": 50,\n        \"samples\": [\n          25.8\n        ],\n        \"semantic_type\": \"\",\n        \"description\": \"\"\n      }\n    },\n    {\n      \"column\": \"DEWP\",\n      \"properties\": {\n        \"dtype\": \"number\",\n        \"std\": 19.09526742577587,\n        \"min\": 18.2,\n        \"max\": 999.0,\n        \"num_unique_values\": 90,\n        \"samples\": [\n          21.7\n        ],\n        \"semantic_type\": \"\",\n        \"description\": \"\"\n      }\n    },\n    {\n      \"column\": \"VIS\",\n      \"properties\": {\n        \"dtype\": \"number\",\n        \"std\": 0.0,\n        \"min\": 99.0,\n        \"max\": 99.0,\n        \"num_unique_values\": 1,\n        \"samples\": [\n          99.0\n        ],\n        \"semantic_type\": \"\",\n        \"description\": \"\"\n      }\n    },\n    {\n      \"column\": \"TIDE\",\n      \"properties\": {\n        \"dtype\": \"number\",\n        \"std\": 0.0,\n        \"min\": 99.0,\n        \"max\": 99.0,\n        \"num_unique_values\": 1,\n        \"samples\": [\n          99.0\n        ],\n        \"semantic_type\": \"\",\n        \"description\": \"\"\n      }\n    }\n  ]\n}",
              "type": "dataframe",
              "variable_name": "df"
            },
            "text/html": [
              "\n",
              "  <div id=\"df-d471d58e-6271-4f23-8a27-d01428ecee97\" class=\"colab-df-container\">\n",
              "    <div>\n",
              "<style scoped>\n",
              "    .dataframe tbody tr th:only-of-type {\n",
              "        vertical-align: middle;\n",
              "    }\n",
              "\n",
              "    .dataframe tbody tr th {\n",
              "        vertical-align: top;\n",
              "    }\n",
              "\n",
              "    .dataframe thead th {\n",
              "        text-align: right;\n",
              "    }\n",
              "</style>\n",
              "<table border=\"1\" class=\"dataframe\">\n",
              "  <thead>\n",
              "    <tr style=\"text-align: right;\">\n",
              "      <th></th>\n",
              "      <th>#YY</th>\n",
              "      <th>MM</th>\n",
              "      <th>DD</th>\n",
              "      <th>hh</th>\n",
              "      <th>mm</th>\n",
              "      <th>WDIR</th>\n",
              "      <th>WSPD</th>\n",
              "      <th>GST</th>\n",
              "      <th>WVHT</th>\n",
              "      <th>DPD</th>\n",
              "      <th>APD</th>\n",
              "      <th>MWD</th>\n",
              "      <th>PRES</th>\n",
              "      <th>ATMP</th>\n",
              "      <th>WTMP</th>\n",
              "      <th>DEWP</th>\n",
              "      <th>VIS</th>\n",
              "      <th>TIDE</th>\n",
              "    </tr>\n",
              "  </thead>\n",
              "  <tbody>\n",
              "    <tr>\n",
              "      <th>0</th>\n",
              "      <td>2021</td>\n",
              "      <td>6</td>\n",
              "      <td>20</td>\n",
              "      <td>5</td>\n",
              "      <td>40</td>\n",
              "      <td>216</td>\n",
              "      <td>9.3</td>\n",
              "      <td>11.3</td>\n",
              "      <td>1.42</td>\n",
              "      <td>4.76</td>\n",
              "      <td>4.56</td>\n",
              "      <td>225</td>\n",
              "      <td>1015.6</td>\n",
              "      <td>25.1</td>\n",
              "      <td>25.2</td>\n",
              "      <td>24.1</td>\n",
              "      <td>99.0</td>\n",
              "      <td>99.0</td>\n",
              "    </tr>\n",
              "    <tr>\n",
              "      <th>1</th>\n",
              "      <td>2021</td>\n",
              "      <td>6</td>\n",
              "      <td>20</td>\n",
              "      <td>5</td>\n",
              "      <td>50</td>\n",
              "      <td>215</td>\n",
              "      <td>9.1</td>\n",
              "      <td>11.2</td>\n",
              "      <td>99.00</td>\n",
              "      <td>99.00</td>\n",
              "      <td>99.00</td>\n",
              "      <td>999</td>\n",
              "      <td>1015.4</td>\n",
              "      <td>25.1</td>\n",
              "      <td>25.2</td>\n",
              "      <td>24.1</td>\n",
              "      <td>99.0</td>\n",
              "      <td>99.0</td>\n",
              "    </tr>\n",
              "    <tr>\n",
              "      <th>2</th>\n",
              "      <td>2021</td>\n",
              "      <td>6</td>\n",
              "      <td>20</td>\n",
              "      <td>6</td>\n",
              "      <td>0</td>\n",
              "      <td>214</td>\n",
              "      <td>8.9</td>\n",
              "      <td>10.8</td>\n",
              "      <td>99.00</td>\n",
              "      <td>99.00</td>\n",
              "      <td>99.00</td>\n",
              "      <td>999</td>\n",
              "      <td>1015.3</td>\n",
              "      <td>25.1</td>\n",
              "      <td>25.2</td>\n",
              "      <td>24.1</td>\n",
              "      <td>99.0</td>\n",
              "      <td>99.0</td>\n",
              "    </tr>\n",
              "    <tr>\n",
              "      <th>3</th>\n",
              "      <td>2021</td>\n",
              "      <td>6</td>\n",
              "      <td>20</td>\n",
              "      <td>6</td>\n",
              "      <td>10</td>\n",
              "      <td>215</td>\n",
              "      <td>9.3</td>\n",
              "      <td>11.0</td>\n",
              "      <td>99.00</td>\n",
              "      <td>99.00</td>\n",
              "      <td>99.00</td>\n",
              "      <td>999</td>\n",
              "      <td>1015.3</td>\n",
              "      <td>25.1</td>\n",
              "      <td>25.2</td>\n",
              "      <td>24.2</td>\n",
              "      <td>99.0</td>\n",
              "      <td>99.0</td>\n",
              "    </tr>\n",
              "    <tr>\n",
              "      <th>4</th>\n",
              "      <td>2021</td>\n",
              "      <td>6</td>\n",
              "      <td>20</td>\n",
              "      <td>6</td>\n",
              "      <td>20</td>\n",
              "      <td>214</td>\n",
              "      <td>9.0</td>\n",
              "      <td>11.0</td>\n",
              "      <td>99.00</td>\n",
              "      <td>99.00</td>\n",
              "      <td>99.00</td>\n",
              "      <td>999</td>\n",
              "      <td>1015.2</td>\n",
              "      <td>25.1</td>\n",
              "      <td>25.2</td>\n",
              "      <td>24.2</td>\n",
              "      <td>99.0</td>\n",
              "      <td>99.0</td>\n",
              "    </tr>\n",
              "  </tbody>\n",
              "</table>\n",
              "</div>\n",
              "    <div class=\"colab-df-buttons\">\n",
              "\n",
              "  <div class=\"colab-df-container\">\n",
              "    <button class=\"colab-df-convert\" onclick=\"convertToInteractive('df-d471d58e-6271-4f23-8a27-d01428ecee97')\"\n",
              "            title=\"Convert this dataframe to an interactive table.\"\n",
              "            style=\"display:none;\">\n",
              "\n",
              "  <svg xmlns=\"http://www.w3.org/2000/svg\" height=\"24px\" viewBox=\"0 -960 960 960\">\n",
              "    <path d=\"M120-120v-720h720v720H120Zm60-500h600v-160H180v160Zm220 220h160v-160H400v160Zm0 220h160v-160H400v160ZM180-400h160v-160H180v160Zm440 0h160v-160H620v160ZM180-180h160v-160H180v160Zm440 0h160v-160H620v160Z\"/>\n",
              "  </svg>\n",
              "    </button>\n",
              "\n",
              "  <style>\n",
              "    .colab-df-container {\n",
              "      display:flex;\n",
              "      gap: 12px;\n",
              "    }\n",
              "\n",
              "    .colab-df-convert {\n",
              "      background-color: #E8F0FE;\n",
              "      border: none;\n",
              "      border-radius: 50%;\n",
              "      cursor: pointer;\n",
              "      display: none;\n",
              "      fill: #1967D2;\n",
              "      height: 32px;\n",
              "      padding: 0 0 0 0;\n",
              "      width: 32px;\n",
              "    }\n",
              "\n",
              "    .colab-df-convert:hover {\n",
              "      background-color: #E2EBFA;\n",
              "      box-shadow: 0px 1px 2px rgba(60, 64, 67, 0.3), 0px 1px 3px 1px rgba(60, 64, 67, 0.15);\n",
              "      fill: #174EA6;\n",
              "    }\n",
              "\n",
              "    .colab-df-buttons div {\n",
              "      margin-bottom: 4px;\n",
              "    }\n",
              "\n",
              "    [theme=dark] .colab-df-convert {\n",
              "      background-color: #3B4455;\n",
              "      fill: #D2E3FC;\n",
              "    }\n",
              "\n",
              "    [theme=dark] .colab-df-convert:hover {\n",
              "      background-color: #434B5C;\n",
              "      box-shadow: 0px 1px 3px 1px rgba(0, 0, 0, 0.15);\n",
              "      filter: drop-shadow(0px 1px 2px rgba(0, 0, 0, 0.3));\n",
              "      fill: #FFFFFF;\n",
              "    }\n",
              "  </style>\n",
              "\n",
              "    <script>\n",
              "      const buttonEl =\n",
              "        document.querySelector('#df-d471d58e-6271-4f23-8a27-d01428ecee97 button.colab-df-convert');\n",
              "      buttonEl.style.display =\n",
              "        google.colab.kernel.accessAllowed ? 'block' : 'none';\n",
              "\n",
              "      async function convertToInteractive(key) {\n",
              "        const element = document.querySelector('#df-d471d58e-6271-4f23-8a27-d01428ecee97');\n",
              "        const dataTable =\n",
              "          await google.colab.kernel.invokeFunction('convertToInteractive',\n",
              "                                                    [key], {});\n",
              "        if (!dataTable) return;\n",
              "\n",
              "        const docLinkHtml = 'Like what you see? Visit the ' +\n",
              "          '<a target=\"_blank\" href=https://colab.research.google.com/notebooks/data_table.ipynb>data table notebook</a>'\n",
              "          + ' to learn more about interactive tables.';\n",
              "        element.innerHTML = '';\n",
              "        dataTable['output_type'] = 'display_data';\n",
              "        await google.colab.output.renderOutput(dataTable, element);\n",
              "        const docLink = document.createElement('div');\n",
              "        docLink.innerHTML = docLinkHtml;\n",
              "        element.appendChild(docLink);\n",
              "      }\n",
              "    </script>\n",
              "  </div>\n",
              "\n",
              "\n",
              "<div id=\"df-becfd560-419d-4c89-9818-033edbb76b9d\">\n",
              "  <button class=\"colab-df-quickchart\" onclick=\"quickchart('df-becfd560-419d-4c89-9818-033edbb76b9d')\"\n",
              "            title=\"Suggest charts\"\n",
              "            style=\"display:none;\">\n",
              "\n",
              "<svg xmlns=\"http://www.w3.org/2000/svg\" height=\"24px\"viewBox=\"0 0 24 24\"\n",
              "     width=\"24px\">\n",
              "    <g>\n",
              "        <path d=\"M19 3H5c-1.1 0-2 .9-2 2v14c0 1.1.9 2 2 2h14c1.1 0 2-.9 2-2V5c0-1.1-.9-2-2-2zM9 17H7v-7h2v7zm4 0h-2V7h2v10zm4 0h-2v-4h2v4z\"/>\n",
              "    </g>\n",
              "</svg>\n",
              "  </button>\n",
              "\n",
              "<style>\n",
              "  .colab-df-quickchart {\n",
              "      --bg-color: #E8F0FE;\n",
              "      --fill-color: #1967D2;\n",
              "      --hover-bg-color: #E2EBFA;\n",
              "      --hover-fill-color: #174EA6;\n",
              "      --disabled-fill-color: #AAA;\n",
              "      --disabled-bg-color: #DDD;\n",
              "  }\n",
              "\n",
              "  [theme=dark] .colab-df-quickchart {\n",
              "      --bg-color: #3B4455;\n",
              "      --fill-color: #D2E3FC;\n",
              "      --hover-bg-color: #434B5C;\n",
              "      --hover-fill-color: #FFFFFF;\n",
              "      --disabled-bg-color: #3B4455;\n",
              "      --disabled-fill-color: #666;\n",
              "  }\n",
              "\n",
              "  .colab-df-quickchart {\n",
              "    background-color: var(--bg-color);\n",
              "    border: none;\n",
              "    border-radius: 50%;\n",
              "    cursor: pointer;\n",
              "    display: none;\n",
              "    fill: var(--fill-color);\n",
              "    height: 32px;\n",
              "    padding: 0;\n",
              "    width: 32px;\n",
              "  }\n",
              "\n",
              "  .colab-df-quickchart:hover {\n",
              "    background-color: var(--hover-bg-color);\n",
              "    box-shadow: 0 1px 2px rgba(60, 64, 67, 0.3), 0 1px 3px 1px rgba(60, 64, 67, 0.15);\n",
              "    fill: var(--button-hover-fill-color);\n",
              "  }\n",
              "\n",
              "  .colab-df-quickchart-complete:disabled,\n",
              "  .colab-df-quickchart-complete:disabled:hover {\n",
              "    background-color: var(--disabled-bg-color);\n",
              "    fill: var(--disabled-fill-color);\n",
              "    box-shadow: none;\n",
              "  }\n",
              "\n",
              "  .colab-df-spinner {\n",
              "    border: 2px solid var(--fill-color);\n",
              "    border-color: transparent;\n",
              "    border-bottom-color: var(--fill-color);\n",
              "    animation:\n",
              "      spin 1s steps(1) infinite;\n",
              "  }\n",
              "\n",
              "  @keyframes spin {\n",
              "    0% {\n",
              "      border-color: transparent;\n",
              "      border-bottom-color: var(--fill-color);\n",
              "      border-left-color: var(--fill-color);\n",
              "    }\n",
              "    20% {\n",
              "      border-color: transparent;\n",
              "      border-left-color: var(--fill-color);\n",
              "      border-top-color: var(--fill-color);\n",
              "    }\n",
              "    30% {\n",
              "      border-color: transparent;\n",
              "      border-left-color: var(--fill-color);\n",
              "      border-top-color: var(--fill-color);\n",
              "      border-right-color: var(--fill-color);\n",
              "    }\n",
              "    40% {\n",
              "      border-color: transparent;\n",
              "      border-right-color: var(--fill-color);\n",
              "      border-top-color: var(--fill-color);\n",
              "    }\n",
              "    60% {\n",
              "      border-color: transparent;\n",
              "      border-right-color: var(--fill-color);\n",
              "    }\n",
              "    80% {\n",
              "      border-color: transparent;\n",
              "      border-right-color: var(--fill-color);\n",
              "      border-bottom-color: var(--fill-color);\n",
              "    }\n",
              "    90% {\n",
              "      border-color: transparent;\n",
              "      border-bottom-color: var(--fill-color);\n",
              "    }\n",
              "  }\n",
              "</style>\n",
              "\n",
              "  <script>\n",
              "    async function quickchart(key) {\n",
              "      const quickchartButtonEl =\n",
              "        document.querySelector('#' + key + ' button');\n",
              "      quickchartButtonEl.disabled = true;  // To prevent multiple clicks.\n",
              "      quickchartButtonEl.classList.add('colab-df-spinner');\n",
              "      try {\n",
              "        const charts = await google.colab.kernel.invokeFunction(\n",
              "            'suggestCharts', [key], {});\n",
              "      } catch (error) {\n",
              "        console.error('Error during call to suggestCharts:', error);\n",
              "      }\n",
              "      quickchartButtonEl.classList.remove('colab-df-spinner');\n",
              "      quickchartButtonEl.classList.add('colab-df-quickchart-complete');\n",
              "    }\n",
              "    (() => {\n",
              "      let quickchartButtonEl =\n",
              "        document.querySelector('#df-becfd560-419d-4c89-9818-033edbb76b9d button');\n",
              "      quickchartButtonEl.style.display =\n",
              "        google.colab.kernel.accessAllowed ? 'block' : 'none';\n",
              "    })();\n",
              "  </script>\n",
              "</div>\n",
              "\n",
              "    </div>\n",
              "  </div>\n"
            ],
            "text/plain": [
              "    #YY  MM  DD  hh  mm  WDIR  WSPD   GST   WVHT    DPD    APD  MWD    PRES  \\\n",
              "0  2021   6  20   5  40   216   9.3  11.3   1.42   4.76   4.56  225  1015.6   \n",
              "1  2021   6  20   5  50   215   9.1  11.2  99.00  99.00  99.00  999  1015.4   \n",
              "2  2021   6  20   6   0   214   8.9  10.8  99.00  99.00  99.00  999  1015.3   \n",
              "3  2021   6  20   6  10   215   9.3  11.0  99.00  99.00  99.00  999  1015.3   \n",
              "4  2021   6  20   6  20   214   9.0  11.0  99.00  99.00  99.00  999  1015.2   \n",
              "\n",
              "   ATMP  WTMP  DEWP   VIS  TIDE  \n",
              "0  25.1  25.2  24.1  99.0  99.0  \n",
              "1  25.1  25.2  24.1  99.0  99.0  \n",
              "2  25.1  25.2  24.1  99.0  99.0  \n",
              "3  25.1  25.2  24.2  99.0  99.0  \n",
              "4  25.1  25.2  24.2  99.0  99.0  "
            ]
          },
          "execution_count": 117,
          "metadata": {},
          "output_type": "execute_result"
        }
      ],
      "source": [
        "df.head()"
      ]
    },
    {
      "cell_type": "code",
      "execution_count": 118,
      "metadata": {
        "colab": {
          "base_uri": "https://localhost:8080/",
          "height": 206
        },
        "id": "Oy0JHzTUoTX5",
        "outputId": "a63e6316-cab9-4e22-f4d5-a7120a10b270"
      },
      "outputs": [
        {
          "data": {
            "application/vnd.google.colaboratory.intrinsic+json": {
              "summary": "{\n  \"name\": \"df\",\n  \"rows\": 10476,\n  \"fields\": [\n    {\n      \"column\": \"#YY\",\n      \"properties\": {\n        \"dtype\": \"number\",\n        \"std\": 0,\n        \"min\": 2021,\n        \"max\": 2021,\n        \"num_unique_values\": 1,\n        \"samples\": [\n          2021\n        ],\n        \"semantic_type\": \"\",\n        \"description\": \"\"\n      }\n    },\n    {\n      \"column\": \"MM\",\n      \"properties\": {\n        \"dtype\": \"number\",\n        \"std\": 0,\n        \"min\": 6,\n        \"max\": 8,\n        \"num_unique_values\": 3,\n        \"samples\": [\n          6\n        ],\n        \"semantic_type\": \"\",\n        \"description\": \"\"\n      }\n    },\n    {\n      \"column\": \"DD\",\n      \"properties\": {\n        \"dtype\": \"number\",\n        \"std\": 8,\n        \"min\": 1,\n        \"max\": 31,\n        \"num_unique_values\": 31,\n        \"samples\": [\n          17\n        ],\n        \"semantic_type\": \"\",\n        \"description\": \"\"\n      }\n    },\n    {\n      \"column\": \"hh\",\n      \"properties\": {\n        \"dtype\": \"number\",\n        \"std\": 6,\n        \"min\": 0,\n        \"max\": 23,\n        \"num_unique_values\": 24,\n        \"samples\": [\n          13\n        ],\n        \"semantic_type\": \"\",\n        \"description\": \"\"\n      }\n    },\n    {\n      \"column\": \"mm\",\n      \"properties\": {\n        \"dtype\": \"number\",\n        \"std\": 17,\n        \"min\": 0,\n        \"max\": 50,\n        \"num_unique_values\": 6,\n        \"samples\": [\n          50\n        ],\n        \"semantic_type\": \"\",\n        \"description\": \"\"\n      }\n    },\n    {\n      \"column\": \"WDIR\",\n      \"properties\": {\n        \"dtype\": \"number\",\n        \"std\": 61,\n        \"min\": 1,\n        \"max\": 999,\n        \"num_unique_values\": 357,\n        \"samples\": [\n          293\n        ],\n        \"semantic_type\": \"\",\n        \"description\": \"\"\n      }\n    },\n    {\n      \"column\": \"WSPD\",\n      \"properties\": {\n        \"dtype\": \"number\",\n        \"std\": 3.3648198166292955,\n        \"min\": 0.0,\n        \"max\": 99.0,\n        \"num_unique_values\": 159,\n        \"samples\": [\n          11.2\n        ],\n        \"semantic_type\": \"\",\n        \"description\": \"\"\n      }\n    },\n    {\n      \"column\": \"GST\",\n      \"properties\": {\n        \"dtype\": \"number\",\n        \"std\": 4.000488910405747,\n        \"min\": 0.3,\n        \"max\": 99.0,\n        \"num_unique_values\": 207,\n        \"samples\": [\n          5.0\n        ],\n        \"semantic_type\": \"\",\n        \"description\": \"\"\n      }\n    },\n    {\n      \"column\": \"WVHT\",\n      \"properties\": {\n        \"dtype\": \"number\",\n        \"std\": 36.34750566143864,\n        \"min\": 0.62,\n        \"max\": 99.0,\n        \"num_unique_values\": 277,\n        \"samples\": [\n          3.15\n        ],\n        \"semantic_type\": \"\",\n        \"description\": \"\"\n      }\n    },\n    {\n      \"column\": \"DPD\",\n      \"properties\": {\n        \"dtype\": \"number\",\n        \"std\": 33.982503195742,\n        \"min\": 3.57,\n        \"max\": 99.0,\n        \"num_unique_values\": 23,\n        \"samples\": [\n          12.12\n        ],\n        \"semantic_type\": \"\",\n        \"description\": \"\"\n      }\n    },\n    {\n      \"column\": \"APD\",\n      \"properties\": {\n        \"dtype\": \"number\",\n        \"std\": 34.8143802061819,\n        \"min\": 3.89,\n        \"max\": 99.0,\n        \"num_unique_values\": 337,\n        \"samples\": [\n          5.78\n        ],\n        \"semantic_type\": \"\",\n        \"description\": \"\"\n      }\n    },\n    {\n      \"column\": \"MWD\",\n      \"properties\": {\n        \"dtype\": \"number\",\n        \"std\": 307,\n        \"min\": 1,\n        \"max\": 999,\n        \"num_unique_values\": 252,\n        \"samples\": [\n          185\n        ],\n        \"semantic_type\": \"\",\n        \"description\": \"\"\n      }\n    },\n    {\n      \"column\": \"PRES\",\n      \"properties\": {\n        \"dtype\": \"number\",\n        \"std\": 4.085218367206266,\n        \"min\": 1001.3,\n        \"max\": 1027.9,\n        \"num_unique_values\": 239,\n        \"samples\": [\n          1017.8\n        ],\n        \"semantic_type\": \"\",\n        \"description\": \"\"\n      }\n    },\n    {\n      \"column\": \"ATMP\",\n      \"properties\": {\n        \"dtype\": \"number\",\n        \"std\": 19.026623727137725,\n        \"min\": 21.9,\n        \"max\": 999.0,\n        \"num_unique_values\": 82,\n        \"samples\": [\n          23.0\n        ],\n        \"semantic_type\": \"\",\n        \"description\": \"\"\n      }\n    },\n    {\n      \"column\": \"WTMP\",\n      \"properties\": {\n        \"dtype\": \"number\",\n        \"std\": 71.48154668279052,\n        \"min\": 24.6,\n        \"max\": 999.0,\n        \"num_unique_values\": 50,\n        \"samples\": [\n          25.8\n        ],\n        \"semantic_type\": \"\",\n        \"description\": \"\"\n      }\n    },\n    {\n      \"column\": \"DEWP\",\n      \"properties\": {\n        \"dtype\": \"number\",\n        \"std\": 19.096177807768928,\n        \"min\": 18.2,\n        \"max\": 999.0,\n        \"num_unique_values\": 90,\n        \"samples\": [\n          21.7\n        ],\n        \"semantic_type\": \"\",\n        \"description\": \"\"\n      }\n    },\n    {\n      \"column\": \"VIS\",\n      \"properties\": {\n        \"dtype\": \"number\",\n        \"std\": 0.0,\n        \"min\": 99.0,\n        \"max\": 99.0,\n        \"num_unique_values\": 1,\n        \"samples\": [\n          99.0\n        ],\n        \"semantic_type\": \"\",\n        \"description\": \"\"\n      }\n    },\n    {\n      \"column\": \"TIDE\",\n      \"properties\": {\n        \"dtype\": \"number\",\n        \"std\": 0.0,\n        \"min\": 99.0,\n        \"max\": 99.0,\n        \"num_unique_values\": 1,\n        \"samples\": [\n          99.0\n        ],\n        \"semantic_type\": \"\",\n        \"description\": \"\"\n      }\n    }\n  ]\n}",
              "type": "dataframe",
              "variable_name": "df"
            },
            "text/html": [
              "\n",
              "  <div id=\"df-ee639bc2-7c92-4782-b3cd-dafbc9e0ddb1\" class=\"colab-df-container\">\n",
              "    <div>\n",
              "<style scoped>\n",
              "    .dataframe tbody tr th:only-of-type {\n",
              "        vertical-align: middle;\n",
              "    }\n",
              "\n",
              "    .dataframe tbody tr th {\n",
              "        vertical-align: top;\n",
              "    }\n",
              "\n",
              "    .dataframe thead th {\n",
              "        text-align: right;\n",
              "    }\n",
              "</style>\n",
              "<table border=\"1\" class=\"dataframe\">\n",
              "  <thead>\n",
              "    <tr style=\"text-align: right;\">\n",
              "      <th></th>\n",
              "      <th>#YY</th>\n",
              "      <th>MM</th>\n",
              "      <th>DD</th>\n",
              "      <th>hh</th>\n",
              "      <th>mm</th>\n",
              "      <th>WDIR</th>\n",
              "      <th>WSPD</th>\n",
              "      <th>GST</th>\n",
              "      <th>WVHT</th>\n",
              "      <th>DPD</th>\n",
              "      <th>APD</th>\n",
              "      <th>MWD</th>\n",
              "      <th>PRES</th>\n",
              "      <th>ATMP</th>\n",
              "      <th>WTMP</th>\n",
              "      <th>DEWP</th>\n",
              "      <th>VIS</th>\n",
              "      <th>TIDE</th>\n",
              "    </tr>\n",
              "  </thead>\n",
              "  <tbody>\n",
              "    <tr>\n",
              "      <th>1</th>\n",
              "      <td>2021</td>\n",
              "      <td>6</td>\n",
              "      <td>20</td>\n",
              "      <td>5</td>\n",
              "      <td>50</td>\n",
              "      <td>215</td>\n",
              "      <td>9.1</td>\n",
              "      <td>11.2</td>\n",
              "      <td>99.0</td>\n",
              "      <td>99.0</td>\n",
              "      <td>99.0</td>\n",
              "      <td>999</td>\n",
              "      <td>1015.4</td>\n",
              "      <td>25.1</td>\n",
              "      <td>25.2</td>\n",
              "      <td>24.1</td>\n",
              "      <td>99.0</td>\n",
              "      <td>99.0</td>\n",
              "    </tr>\n",
              "    <tr>\n",
              "      <th>2</th>\n",
              "      <td>2021</td>\n",
              "      <td>6</td>\n",
              "      <td>20</td>\n",
              "      <td>6</td>\n",
              "      <td>0</td>\n",
              "      <td>214</td>\n",
              "      <td>8.9</td>\n",
              "      <td>10.8</td>\n",
              "      <td>99.0</td>\n",
              "      <td>99.0</td>\n",
              "      <td>99.0</td>\n",
              "      <td>999</td>\n",
              "      <td>1015.3</td>\n",
              "      <td>25.1</td>\n",
              "      <td>25.2</td>\n",
              "      <td>24.1</td>\n",
              "      <td>99.0</td>\n",
              "      <td>99.0</td>\n",
              "    </tr>\n",
              "    <tr>\n",
              "      <th>3</th>\n",
              "      <td>2021</td>\n",
              "      <td>6</td>\n",
              "      <td>20</td>\n",
              "      <td>6</td>\n",
              "      <td>10</td>\n",
              "      <td>215</td>\n",
              "      <td>9.3</td>\n",
              "      <td>11.0</td>\n",
              "      <td>99.0</td>\n",
              "      <td>99.0</td>\n",
              "      <td>99.0</td>\n",
              "      <td>999</td>\n",
              "      <td>1015.3</td>\n",
              "      <td>25.1</td>\n",
              "      <td>25.2</td>\n",
              "      <td>24.2</td>\n",
              "      <td>99.0</td>\n",
              "      <td>99.0</td>\n",
              "    </tr>\n",
              "    <tr>\n",
              "      <th>4</th>\n",
              "      <td>2021</td>\n",
              "      <td>6</td>\n",
              "      <td>20</td>\n",
              "      <td>6</td>\n",
              "      <td>20</td>\n",
              "      <td>214</td>\n",
              "      <td>9.0</td>\n",
              "      <td>11.0</td>\n",
              "      <td>99.0</td>\n",
              "      <td>99.0</td>\n",
              "      <td>99.0</td>\n",
              "      <td>999</td>\n",
              "      <td>1015.2</td>\n",
              "      <td>25.1</td>\n",
              "      <td>25.2</td>\n",
              "      <td>24.2</td>\n",
              "      <td>99.0</td>\n",
              "      <td>99.0</td>\n",
              "    </tr>\n",
              "    <tr>\n",
              "      <th>5</th>\n",
              "      <td>2021</td>\n",
              "      <td>6</td>\n",
              "      <td>20</td>\n",
              "      <td>6</td>\n",
              "      <td>30</td>\n",
              "      <td>213</td>\n",
              "      <td>8.9</td>\n",
              "      <td>11.2</td>\n",
              "      <td>99.0</td>\n",
              "      <td>99.0</td>\n",
              "      <td>99.0</td>\n",
              "      <td>999</td>\n",
              "      <td>1015.2</td>\n",
              "      <td>25.1</td>\n",
              "      <td>25.2</td>\n",
              "      <td>24.3</td>\n",
              "      <td>99.0</td>\n",
              "      <td>99.0</td>\n",
              "    </tr>\n",
              "  </tbody>\n",
              "</table>\n",
              "</div>\n",
              "    <div class=\"colab-df-buttons\">\n",
              "\n",
              "  <div class=\"colab-df-container\">\n",
              "    <button class=\"colab-df-convert\" onclick=\"convertToInteractive('df-ee639bc2-7c92-4782-b3cd-dafbc9e0ddb1')\"\n",
              "            title=\"Convert this dataframe to an interactive table.\"\n",
              "            style=\"display:none;\">\n",
              "\n",
              "  <svg xmlns=\"http://www.w3.org/2000/svg\" height=\"24px\" viewBox=\"0 -960 960 960\">\n",
              "    <path d=\"M120-120v-720h720v720H120Zm60-500h600v-160H180v160Zm220 220h160v-160H400v160Zm0 220h160v-160H400v160ZM180-400h160v-160H180v160Zm440 0h160v-160H620v160ZM180-180h160v-160H180v160Zm440 0h160v-160H620v160Z\"/>\n",
              "  </svg>\n",
              "    </button>\n",
              "\n",
              "  <style>\n",
              "    .colab-df-container {\n",
              "      display:flex;\n",
              "      gap: 12px;\n",
              "    }\n",
              "\n",
              "    .colab-df-convert {\n",
              "      background-color: #E8F0FE;\n",
              "      border: none;\n",
              "      border-radius: 50%;\n",
              "      cursor: pointer;\n",
              "      display: none;\n",
              "      fill: #1967D2;\n",
              "      height: 32px;\n",
              "      padding: 0 0 0 0;\n",
              "      width: 32px;\n",
              "    }\n",
              "\n",
              "    .colab-df-convert:hover {\n",
              "      background-color: #E2EBFA;\n",
              "      box-shadow: 0px 1px 2px rgba(60, 64, 67, 0.3), 0px 1px 3px 1px rgba(60, 64, 67, 0.15);\n",
              "      fill: #174EA6;\n",
              "    }\n",
              "\n",
              "    .colab-df-buttons div {\n",
              "      margin-bottom: 4px;\n",
              "    }\n",
              "\n",
              "    [theme=dark] .colab-df-convert {\n",
              "      background-color: #3B4455;\n",
              "      fill: #D2E3FC;\n",
              "    }\n",
              "\n",
              "    [theme=dark] .colab-df-convert:hover {\n",
              "      background-color: #434B5C;\n",
              "      box-shadow: 0px 1px 3px 1px rgba(0, 0, 0, 0.15);\n",
              "      filter: drop-shadow(0px 1px 2px rgba(0, 0, 0, 0.3));\n",
              "      fill: #FFFFFF;\n",
              "    }\n",
              "  </style>\n",
              "\n",
              "    <script>\n",
              "      const buttonEl =\n",
              "        document.querySelector('#df-ee639bc2-7c92-4782-b3cd-dafbc9e0ddb1 button.colab-df-convert');\n",
              "      buttonEl.style.display =\n",
              "        google.colab.kernel.accessAllowed ? 'block' : 'none';\n",
              "\n",
              "      async function convertToInteractive(key) {\n",
              "        const element = document.querySelector('#df-ee639bc2-7c92-4782-b3cd-dafbc9e0ddb1');\n",
              "        const dataTable =\n",
              "          await google.colab.kernel.invokeFunction('convertToInteractive',\n",
              "                                                    [key], {});\n",
              "        if (!dataTable) return;\n",
              "\n",
              "        const docLinkHtml = 'Like what you see? Visit the ' +\n",
              "          '<a target=\"_blank\" href=https://colab.research.google.com/notebooks/data_table.ipynb>data table notebook</a>'\n",
              "          + ' to learn more about interactive tables.';\n",
              "        element.innerHTML = '';\n",
              "        dataTable['output_type'] = 'display_data';\n",
              "        await google.colab.output.renderOutput(dataTable, element);\n",
              "        const docLink = document.createElement('div');\n",
              "        docLink.innerHTML = docLinkHtml;\n",
              "        element.appendChild(docLink);\n",
              "      }\n",
              "    </script>\n",
              "  </div>\n",
              "\n",
              "\n",
              "<div id=\"df-90d9e564-23d9-4479-a9f8-999962198187\">\n",
              "  <button class=\"colab-df-quickchart\" onclick=\"quickchart('df-90d9e564-23d9-4479-a9f8-999962198187')\"\n",
              "            title=\"Suggest charts\"\n",
              "            style=\"display:none;\">\n",
              "\n",
              "<svg xmlns=\"http://www.w3.org/2000/svg\" height=\"24px\"viewBox=\"0 0 24 24\"\n",
              "     width=\"24px\">\n",
              "    <g>\n",
              "        <path d=\"M19 3H5c-1.1 0-2 .9-2 2v14c0 1.1.9 2 2 2h14c1.1 0 2-.9 2-2V5c0-1.1-.9-2-2-2zM9 17H7v-7h2v7zm4 0h-2V7h2v10zm4 0h-2v-4h2v4z\"/>\n",
              "    </g>\n",
              "</svg>\n",
              "  </button>\n",
              "\n",
              "<style>\n",
              "  .colab-df-quickchart {\n",
              "      --bg-color: #E8F0FE;\n",
              "      --fill-color: #1967D2;\n",
              "      --hover-bg-color: #E2EBFA;\n",
              "      --hover-fill-color: #174EA6;\n",
              "      --disabled-fill-color: #AAA;\n",
              "      --disabled-bg-color: #DDD;\n",
              "  }\n",
              "\n",
              "  [theme=dark] .colab-df-quickchart {\n",
              "      --bg-color: #3B4455;\n",
              "      --fill-color: #D2E3FC;\n",
              "      --hover-bg-color: #434B5C;\n",
              "      --hover-fill-color: #FFFFFF;\n",
              "      --disabled-bg-color: #3B4455;\n",
              "      --disabled-fill-color: #666;\n",
              "  }\n",
              "\n",
              "  .colab-df-quickchart {\n",
              "    background-color: var(--bg-color);\n",
              "    border: none;\n",
              "    border-radius: 50%;\n",
              "    cursor: pointer;\n",
              "    display: none;\n",
              "    fill: var(--fill-color);\n",
              "    height: 32px;\n",
              "    padding: 0;\n",
              "    width: 32px;\n",
              "  }\n",
              "\n",
              "  .colab-df-quickchart:hover {\n",
              "    background-color: var(--hover-bg-color);\n",
              "    box-shadow: 0 1px 2px rgba(60, 64, 67, 0.3), 0 1px 3px 1px rgba(60, 64, 67, 0.15);\n",
              "    fill: var(--button-hover-fill-color);\n",
              "  }\n",
              "\n",
              "  .colab-df-quickchart-complete:disabled,\n",
              "  .colab-df-quickchart-complete:disabled:hover {\n",
              "    background-color: var(--disabled-bg-color);\n",
              "    fill: var(--disabled-fill-color);\n",
              "    box-shadow: none;\n",
              "  }\n",
              "\n",
              "  .colab-df-spinner {\n",
              "    border: 2px solid var(--fill-color);\n",
              "    border-color: transparent;\n",
              "    border-bottom-color: var(--fill-color);\n",
              "    animation:\n",
              "      spin 1s steps(1) infinite;\n",
              "  }\n",
              "\n",
              "  @keyframes spin {\n",
              "    0% {\n",
              "      border-color: transparent;\n",
              "      border-bottom-color: var(--fill-color);\n",
              "      border-left-color: var(--fill-color);\n",
              "    }\n",
              "    20% {\n",
              "      border-color: transparent;\n",
              "      border-left-color: var(--fill-color);\n",
              "      border-top-color: var(--fill-color);\n",
              "    }\n",
              "    30% {\n",
              "      border-color: transparent;\n",
              "      border-left-color: var(--fill-color);\n",
              "      border-top-color: var(--fill-color);\n",
              "      border-right-color: var(--fill-color);\n",
              "    }\n",
              "    40% {\n",
              "      border-color: transparent;\n",
              "      border-right-color: var(--fill-color);\n",
              "      border-top-color: var(--fill-color);\n",
              "    }\n",
              "    60% {\n",
              "      border-color: transparent;\n",
              "      border-right-color: var(--fill-color);\n",
              "    }\n",
              "    80% {\n",
              "      border-color: transparent;\n",
              "      border-right-color: var(--fill-color);\n",
              "      border-bottom-color: var(--fill-color);\n",
              "    }\n",
              "    90% {\n",
              "      border-color: transparent;\n",
              "      border-bottom-color: var(--fill-color);\n",
              "    }\n",
              "  }\n",
              "</style>\n",
              "\n",
              "  <script>\n",
              "    async function quickchart(key) {\n",
              "      const quickchartButtonEl =\n",
              "        document.querySelector('#' + key + ' button');\n",
              "      quickchartButtonEl.disabled = true;  // To prevent multiple clicks.\n",
              "      quickchartButtonEl.classList.add('colab-df-spinner');\n",
              "      try {\n",
              "        const charts = await google.colab.kernel.invokeFunction(\n",
              "            'suggestCharts', [key], {});\n",
              "      } catch (error) {\n",
              "        console.error('Error during call to suggestCharts:', error);\n",
              "      }\n",
              "      quickchartButtonEl.classList.remove('colab-df-spinner');\n",
              "      quickchartButtonEl.classList.add('colab-df-quickchart-complete');\n",
              "    }\n",
              "    (() => {\n",
              "      let quickchartButtonEl =\n",
              "        document.querySelector('#df-90d9e564-23d9-4479-a9f8-999962198187 button');\n",
              "      quickchartButtonEl.style.display =\n",
              "        google.colab.kernel.accessAllowed ? 'block' : 'none';\n",
              "    })();\n",
              "  </script>\n",
              "</div>\n",
              "\n",
              "    </div>\n",
              "  </div>\n"
            ],
            "text/plain": [
              "    #YY  MM  DD  hh  mm  WDIR  WSPD   GST  WVHT   DPD   APD  MWD    PRES  \\\n",
              "1  2021   6  20   5  50   215   9.1  11.2  99.0  99.0  99.0  999  1015.4   \n",
              "2  2021   6  20   6   0   214   8.9  10.8  99.0  99.0  99.0  999  1015.3   \n",
              "3  2021   6  20   6  10   215   9.3  11.0  99.0  99.0  99.0  999  1015.3   \n",
              "4  2021   6  20   6  20   214   9.0  11.0  99.0  99.0  99.0  999  1015.2   \n",
              "5  2021   6  20   6  30   213   8.9  11.2  99.0  99.0  99.0  999  1015.2   \n",
              "\n",
              "   ATMP  WTMP  DEWP   VIS  TIDE  \n",
              "1  25.1  25.2  24.1  99.0  99.0  \n",
              "2  25.1  25.2  24.1  99.0  99.0  \n",
              "3  25.1  25.2  24.2  99.0  99.0  \n",
              "4  25.1  25.2  24.2  99.0  99.0  \n",
              "5  25.1  25.2  24.3  99.0  99.0  "
            ]
          },
          "execution_count": 118,
          "metadata": {},
          "output_type": "execute_result"
        }
      ],
      "source": [
        "# Remove the first row\n",
        "df = df.iloc[1:]\n",
        "df.head()"
      ]
    },
    {
      "cell_type": "code",
      "execution_count": 119,
      "metadata": {
        "colab": {
          "base_uri": "https://localhost:8080/"
        },
        "id": "09d0QONBDcwT",
        "outputId": "56bcfa19-8a4d-4f4f-a39f-b7ca6078e3c9"
      },
      "outputs": [
        {
          "data": {
            "text/plain": [
              "(10476, 18)"
            ]
          },
          "execution_count": 119,
          "metadata": {},
          "output_type": "execute_result"
        }
      ],
      "source": [
        "df.shape"
      ]
    },
    {
      "cell_type": "code",
      "execution_count": 120,
      "metadata": {
        "id": "LS_Y8UoKoWgY"
      },
      "outputs": [],
      "source": [
        "# Convert specific columns to numeric values\n",
        "columns_to_convert = ['#YY', 'MM', 'DD', 'hh', 'mm', 'WDIR', 'WSPD', 'GST', 'WVHT', 'DPD', 'APD', 'MWD', 'PRES', 'ATMP', 'WTMP', 'DEWP', 'VIS', 'TIDE']\n",
        "df[columns_to_convert] = df[columns_to_convert].apply(pd.to_numeric, errors='coerce')\n",
        "# Alternatively, convert all object columns to numeric values\n",
        "df = df.apply(pd.to_numeric, errors='coerce')"
      ]
    },
    {
      "cell_type": "code",
      "execution_count": 121,
      "metadata": {
        "id": "Eleb1_xYoZdI"
      },
      "outputs": [],
      "source": [
        "# Extract rows where mm=0\n",
        "df = df[df[\"mm\"] == 40]"
      ]
    },
    {
      "cell_type": "code",
      "execution_count": 122,
      "metadata": {
        "id": "i_ovKSScob2_"
      },
      "outputs": [],
      "source": [
        "#here we reset the index\n",
        "df = df.reset_index(drop=True)"
      ]
    },
    {
      "cell_type": "code",
      "execution_count": 123,
      "metadata": {
        "colab": {
          "base_uri": "https://localhost:8080/"
        },
        "id": "7AFAXgcnoeA6",
        "outputId": "21d36929-3779-48df-c398-959cb6abd2ca"
      },
      "outputs": [
        {
          "data": {
            "text/plain": [
              "(1746, 18)"
            ]
          },
          "execution_count": 123,
          "metadata": {},
          "output_type": "execute_result"
        }
      ],
      "source": [
        "df.shape"
      ]
    },
    {
      "cell_type": "code",
      "execution_count": 124,
      "metadata": {
        "colab": {
          "base_uri": "https://localhost:8080/"
        },
        "id": "ZB-aPahVDjqB",
        "outputId": "0f73e2e7-48ff-49d9-c352-ce9668ba712a"
      },
      "outputs": [
        {
          "data": {
            "text/plain": [
              "#YY     0\n",
              "MM      0\n",
              "DD      0\n",
              "hh      0\n",
              "mm      0\n",
              "WDIR    0\n",
              "WSPD    0\n",
              "GST     0\n",
              "WVHT    0\n",
              "DPD     0\n",
              "APD     0\n",
              "MWD     0\n",
              "PRES    0\n",
              "ATMP    0\n",
              "WTMP    0\n",
              "DEWP    0\n",
              "VIS     0\n",
              "TIDE    0\n",
              "dtype: int64"
            ]
          },
          "execution_count": 124,
          "metadata": {},
          "output_type": "execute_result"
        }
      ],
      "source": [
        "df.isnull().sum()"
      ]
    },
    {
      "cell_type": "code",
      "execution_count": 125,
      "metadata": {
        "id": "K_Xs3C3oDnKZ"
      },
      "outputs": [],
      "source": [
        "df = df.dropna()"
      ]
    },
    {
      "cell_type": "code",
      "execution_count": 126,
      "metadata": {
        "colab": {
          "base_uri": "https://localhost:8080/"
        },
        "id": "Q8oaYMcipbrS",
        "outputId": "d5b6a005-1020-4690-d9bb-4491c1164fa1"
      },
      "outputs": [
        {
          "data": {
            "text/plain": [
              "(1746, 18)"
            ]
          },
          "execution_count": 126,
          "metadata": {},
          "output_type": "execute_result"
        }
      ],
      "source": [
        "df.shape"
      ]
    },
    {
      "cell_type": "code",
      "execution_count": 127,
      "metadata": {
        "id": "HU3q9aicpde_"
      },
      "outputs": [],
      "source": [
        "# Combine date and time columns into a single datetime column\n",
        "df['date_time'] = pd.to_datetime(df[['#YY', 'MM', 'DD', 'hh', 'mm']].astype(str).apply(' '.join, axis=1), format='%Y %m %d %H %M')"
      ]
    },
    {
      "cell_type": "code",
      "execution_count": 128,
      "metadata": {
        "id": "gUKyE91_Dx2r"
      },
      "outputs": [],
      "source": [
        "# Drop 5 columns by specifying their column labels\n",
        "columns_to_drop = ['#YY', 'MM', 'DD', 'hh', 'mm']\n",
        "df = df.drop(columns=columns_to_drop)"
      ]
    },
    {
      "cell_type": "code",
      "execution_count": 129,
      "metadata": {
        "id": "tljF_gEjD1qS"
      },
      "outputs": [],
      "source": [
        "#Move the 'date_time' column to the first position\n",
        "date_time_column = df.pop('date_time')\n",
        "df.insert(0, 'date_time', date_time_column)"
      ]
    },
    {
      "cell_type": "code",
      "execution_count": 130,
      "metadata": {
        "colab": {
          "base_uri": "https://localhost:8080/",
          "height": 206
        },
        "id": "wDLQ63_1D4sH",
        "outputId": "69bc2c9a-04dd-49bc-e78c-1f5bbe3f361e"
      },
      "outputs": [
        {
          "data": {
            "application/vnd.google.colaboratory.intrinsic+json": {
              "summary": "{\n  \"name\": \"df\",\n  \"rows\": 1746,\n  \"fields\": [\n    {\n      \"column\": \"date_time\",\n      \"properties\": {\n        \"dtype\": \"date\",\n        \"min\": \"2021-06-20 06:40:00\",\n        \"max\": \"2021-08-31 23:40:00\",\n        \"num_unique_values\": 1746,\n        \"samples\": [\n          \"2021-07-05 11:40:00\",\n          \"2021-07-04 14:40:00\",\n          \"2021-07-20 01:40:00\"\n        ],\n        \"semantic_type\": \"\",\n        \"description\": \"\"\n      }\n    },\n    {\n      \"column\": \"WDIR\",\n      \"properties\": {\n        \"dtype\": \"number\",\n        \"std\": 60,\n        \"min\": 2,\n        \"max\": 360,\n        \"num_unique_values\": 292,\n        \"samples\": [\n          107,\n          279,\n          139\n        ],\n        \"semantic_type\": \"\",\n        \"description\": \"\"\n      }\n    },\n    {\n      \"column\": \"WSPD\",\n      \"properties\": {\n        \"dtype\": \"number\",\n        \"std\": 2.966158162902051,\n        \"min\": 0.0,\n        \"max\": 15.6,\n        \"num_unique_values\": 137,\n        \"samples\": [\n          11.8,\n          11.3,\n          10.1\n        ],\n        \"semantic_type\": \"\",\n        \"description\": \"\"\n      }\n    },\n    {\n      \"column\": \"GST\",\n      \"properties\": {\n        \"dtype\": \"number\",\n        \"std\": 3.6769141103099896,\n        \"min\": 0.3,\n        \"max\": 20.8,\n        \"num_unique_values\": 171,\n        \"samples\": [\n          4.3,\n          1.1,\n          6.3\n        ],\n        \"semantic_type\": \"\",\n        \"description\": \"\"\n      }\n    },\n    {\n      \"column\": \"WVHT\",\n      \"properties\": {\n        \"dtype\": \"number\",\n        \"std\": 3.3797813846087554,\n        \"min\": 0.62,\n        \"max\": 99.0,\n        \"num_unique_values\": 277,\n        \"samples\": [\n          2.95,\n          0.78,\n          0.63\n        ],\n        \"semantic_type\": \"\",\n        \"description\": \"\"\n      }\n    },\n    {\n      \"column\": \"DPD\",\n      \"properties\": {\n        \"dtype\": \"number\",\n        \"std\": 3.4254937314199467,\n        \"min\": 3.57,\n        \"max\": 99.0,\n        \"num_unique_values\": 23,\n        \"samples\": [\n          4.17,\n          5.26,\n          5.88\n        ],\n        \"semantic_type\": \"\",\n        \"description\": \"\"\n      }\n    },\n    {\n      \"column\": \"APD\",\n      \"properties\": {\n        \"dtype\": \"number\",\n        \"std\": 3.2502752791579272,\n        \"min\": 3.89,\n        \"max\": 99.0,\n        \"num_unique_values\": 337,\n        \"samples\": [\n          5.73,\n          6.86,\n          5.66\n        ],\n        \"semantic_type\": \"\",\n        \"description\": \"\"\n      }\n    },\n    {\n      \"column\": \"MWD\",\n      \"properties\": {\n        \"dtype\": \"number\",\n        \"std\": 64,\n        \"min\": 1,\n        \"max\": 999,\n        \"num_unique_values\": 252,\n        \"samples\": [\n          186,\n          247,\n          125\n        ],\n        \"semantic_type\": \"\",\n        \"description\": \"\"\n      }\n    },\n    {\n      \"column\": \"PRES\",\n      \"properties\": {\n        \"dtype\": \"number\",\n        \"std\": 4.086743446586107,\n        \"min\": 1001.4,\n        \"max\": 1027.7,\n        \"num_unique_values\": 192,\n        \"samples\": [\n          1018.4,\n          1009.1,\n          1025.4\n        ],\n        \"semantic_type\": \"\",\n        \"description\": \"\"\n      }\n    },\n    {\n      \"column\": \"ATMP\",\n      \"properties\": {\n        \"dtype\": \"number\",\n        \"std\": 1.0818512365198267,\n        \"min\": 22.3,\n        \"max\": 29.5,\n        \"num_unique_values\": 66,\n        \"samples\": [\n          28.2,\n          29.2,\n          25.1\n        ],\n        \"semantic_type\": \"\",\n        \"description\": \"\"\n      }\n    },\n    {\n      \"column\": \"WTMP\",\n      \"properties\": {\n        \"dtype\": \"number\",\n        \"std\": 69.60183119888737,\n        \"min\": 24.6,\n        \"max\": 999.0,\n        \"num_unique_values\": 45,\n        \"samples\": [\n          29.2,\n          27.8,\n          27.9\n        ],\n        \"semantic_type\": \"\",\n        \"description\": \"\"\n      }\n    },\n    {\n      \"column\": \"DEWP\",\n      \"properties\": {\n        \"dtype\": \"number\",\n        \"std\": 1.4428990095526222,\n        \"min\": 18.2,\n        \"max\": 26.8,\n        \"num_unique_values\": 84,\n        \"samples\": [\n          19.1,\n          24.4,\n          21.1\n        ],\n        \"semantic_type\": \"\",\n        \"description\": \"\"\n      }\n    },\n    {\n      \"column\": \"VIS\",\n      \"properties\": {\n        \"dtype\": \"number\",\n        \"std\": 0.0,\n        \"min\": 99.0,\n        \"max\": 99.0,\n        \"num_unique_values\": 1,\n        \"samples\": [\n          99.0\n        ],\n        \"semantic_type\": \"\",\n        \"description\": \"\"\n      }\n    },\n    {\n      \"column\": \"TIDE\",\n      \"properties\": {\n        \"dtype\": \"number\",\n        \"std\": 0.0,\n        \"min\": 99.0,\n        \"max\": 99.0,\n        \"num_unique_values\": 1,\n        \"samples\": [\n          99.0\n        ],\n        \"semantic_type\": \"\",\n        \"description\": \"\"\n      }\n    }\n  ]\n}",
              "type": "dataframe",
              "variable_name": "df"
            },
            "text/html": [
              "\n",
              "  <div id=\"df-3b081d3c-4f8a-47bd-86ac-df1410c2bdd1\" class=\"colab-df-container\">\n",
              "    <div>\n",
              "<style scoped>\n",
              "    .dataframe tbody tr th:only-of-type {\n",
              "        vertical-align: middle;\n",
              "    }\n",
              "\n",
              "    .dataframe tbody tr th {\n",
              "        vertical-align: top;\n",
              "    }\n",
              "\n",
              "    .dataframe thead th {\n",
              "        text-align: right;\n",
              "    }\n",
              "</style>\n",
              "<table border=\"1\" class=\"dataframe\">\n",
              "  <thead>\n",
              "    <tr style=\"text-align: right;\">\n",
              "      <th></th>\n",
              "      <th>date_time</th>\n",
              "      <th>WDIR</th>\n",
              "      <th>WSPD</th>\n",
              "      <th>GST</th>\n",
              "      <th>WVHT</th>\n",
              "      <th>DPD</th>\n",
              "      <th>APD</th>\n",
              "      <th>MWD</th>\n",
              "      <th>PRES</th>\n",
              "      <th>ATMP</th>\n",
              "      <th>WTMP</th>\n",
              "      <th>DEWP</th>\n",
              "      <th>VIS</th>\n",
              "      <th>TIDE</th>\n",
              "    </tr>\n",
              "  </thead>\n",
              "  <tbody>\n",
              "    <tr>\n",
              "      <th>0</th>\n",
              "      <td>2021-06-20 06:40:00</td>\n",
              "      <td>214</td>\n",
              "      <td>9.4</td>\n",
              "      <td>11.2</td>\n",
              "      <td>1.34</td>\n",
              "      <td>5.88</td>\n",
              "      <td>4.53</td>\n",
              "      <td>246</td>\n",
              "      <td>1015.1</td>\n",
              "      <td>25.1</td>\n",
              "      <td>999.0</td>\n",
              "      <td>24.4</td>\n",
              "      <td>99.0</td>\n",
              "      <td>99.0</td>\n",
              "    </tr>\n",
              "    <tr>\n",
              "      <th>1</th>\n",
              "      <td>2021-06-20 07:40:00</td>\n",
              "      <td>218</td>\n",
              "      <td>8.8</td>\n",
              "      <td>10.7</td>\n",
              "      <td>1.39</td>\n",
              "      <td>4.76</td>\n",
              "      <td>4.54</td>\n",
              "      <td>221</td>\n",
              "      <td>1015.5</td>\n",
              "      <td>25.2</td>\n",
              "      <td>25.2</td>\n",
              "      <td>24.5</td>\n",
              "      <td>99.0</td>\n",
              "      <td>99.0</td>\n",
              "    </tr>\n",
              "    <tr>\n",
              "      <th>2</th>\n",
              "      <td>2021-06-20 08:40:00</td>\n",
              "      <td>222</td>\n",
              "      <td>8.8</td>\n",
              "      <td>10.6</td>\n",
              "      <td>1.42</td>\n",
              "      <td>4.76</td>\n",
              "      <td>4.57</td>\n",
              "      <td>235</td>\n",
              "      <td>1015.9</td>\n",
              "      <td>25.3</td>\n",
              "      <td>25.2</td>\n",
              "      <td>24.8</td>\n",
              "      <td>99.0</td>\n",
              "      <td>99.0</td>\n",
              "    </tr>\n",
              "    <tr>\n",
              "      <th>3</th>\n",
              "      <td>2021-06-20 09:40:00</td>\n",
              "      <td>224</td>\n",
              "      <td>8.6</td>\n",
              "      <td>10.7</td>\n",
              "      <td>1.42</td>\n",
              "      <td>7.69</td>\n",
              "      <td>4.62</td>\n",
              "      <td>175</td>\n",
              "      <td>1016.2</td>\n",
              "      <td>25.5</td>\n",
              "      <td>25.1</td>\n",
              "      <td>24.8</td>\n",
              "      <td>99.0</td>\n",
              "      <td>99.0</td>\n",
              "    </tr>\n",
              "    <tr>\n",
              "      <th>4</th>\n",
              "      <td>2021-06-20 10:40:00</td>\n",
              "      <td>222</td>\n",
              "      <td>8.9</td>\n",
              "      <td>11.1</td>\n",
              "      <td>1.35</td>\n",
              "      <td>6.67</td>\n",
              "      <td>4.51</td>\n",
              "      <td>243</td>\n",
              "      <td>1016.2</td>\n",
              "      <td>25.6</td>\n",
              "      <td>25.1</td>\n",
              "      <td>25.0</td>\n",
              "      <td>99.0</td>\n",
              "      <td>99.0</td>\n",
              "    </tr>\n",
              "  </tbody>\n",
              "</table>\n",
              "</div>\n",
              "    <div class=\"colab-df-buttons\">\n",
              "\n",
              "  <div class=\"colab-df-container\">\n",
              "    <button class=\"colab-df-convert\" onclick=\"convertToInteractive('df-3b081d3c-4f8a-47bd-86ac-df1410c2bdd1')\"\n",
              "            title=\"Convert this dataframe to an interactive table.\"\n",
              "            style=\"display:none;\">\n",
              "\n",
              "  <svg xmlns=\"http://www.w3.org/2000/svg\" height=\"24px\" viewBox=\"0 -960 960 960\">\n",
              "    <path d=\"M120-120v-720h720v720H120Zm60-500h600v-160H180v160Zm220 220h160v-160H400v160Zm0 220h160v-160H400v160ZM180-400h160v-160H180v160Zm440 0h160v-160H620v160ZM180-180h160v-160H180v160Zm440 0h160v-160H620v160Z\"/>\n",
              "  </svg>\n",
              "    </button>\n",
              "\n",
              "  <style>\n",
              "    .colab-df-container {\n",
              "      display:flex;\n",
              "      gap: 12px;\n",
              "    }\n",
              "\n",
              "    .colab-df-convert {\n",
              "      background-color: #E8F0FE;\n",
              "      border: none;\n",
              "      border-radius: 50%;\n",
              "      cursor: pointer;\n",
              "      display: none;\n",
              "      fill: #1967D2;\n",
              "      height: 32px;\n",
              "      padding: 0 0 0 0;\n",
              "      width: 32px;\n",
              "    }\n",
              "\n",
              "    .colab-df-convert:hover {\n",
              "      background-color: #E2EBFA;\n",
              "      box-shadow: 0px 1px 2px rgba(60, 64, 67, 0.3), 0px 1px 3px 1px rgba(60, 64, 67, 0.15);\n",
              "      fill: #174EA6;\n",
              "    }\n",
              "\n",
              "    .colab-df-buttons div {\n",
              "      margin-bottom: 4px;\n",
              "    }\n",
              "\n",
              "    [theme=dark] .colab-df-convert {\n",
              "      background-color: #3B4455;\n",
              "      fill: #D2E3FC;\n",
              "    }\n",
              "\n",
              "    [theme=dark] .colab-df-convert:hover {\n",
              "      background-color: #434B5C;\n",
              "      box-shadow: 0px 1px 3px 1px rgba(0, 0, 0, 0.15);\n",
              "      filter: drop-shadow(0px 1px 2px rgba(0, 0, 0, 0.3));\n",
              "      fill: #FFFFFF;\n",
              "    }\n",
              "  </style>\n",
              "\n",
              "    <script>\n",
              "      const buttonEl =\n",
              "        document.querySelector('#df-3b081d3c-4f8a-47bd-86ac-df1410c2bdd1 button.colab-df-convert');\n",
              "      buttonEl.style.display =\n",
              "        google.colab.kernel.accessAllowed ? 'block' : 'none';\n",
              "\n",
              "      async function convertToInteractive(key) {\n",
              "        const element = document.querySelector('#df-3b081d3c-4f8a-47bd-86ac-df1410c2bdd1');\n",
              "        const dataTable =\n",
              "          await google.colab.kernel.invokeFunction('convertToInteractive',\n",
              "                                                    [key], {});\n",
              "        if (!dataTable) return;\n",
              "\n",
              "        const docLinkHtml = 'Like what you see? Visit the ' +\n",
              "          '<a target=\"_blank\" href=https://colab.research.google.com/notebooks/data_table.ipynb>data table notebook</a>'\n",
              "          + ' to learn more about interactive tables.';\n",
              "        element.innerHTML = '';\n",
              "        dataTable['output_type'] = 'display_data';\n",
              "        await google.colab.output.renderOutput(dataTable, element);\n",
              "        const docLink = document.createElement('div');\n",
              "        docLink.innerHTML = docLinkHtml;\n",
              "        element.appendChild(docLink);\n",
              "      }\n",
              "    </script>\n",
              "  </div>\n",
              "\n",
              "\n",
              "<div id=\"df-b8d270c1-0494-4b49-98d7-ee9a6954d56c\">\n",
              "  <button class=\"colab-df-quickchart\" onclick=\"quickchart('df-b8d270c1-0494-4b49-98d7-ee9a6954d56c')\"\n",
              "            title=\"Suggest charts\"\n",
              "            style=\"display:none;\">\n",
              "\n",
              "<svg xmlns=\"http://www.w3.org/2000/svg\" height=\"24px\"viewBox=\"0 0 24 24\"\n",
              "     width=\"24px\">\n",
              "    <g>\n",
              "        <path d=\"M19 3H5c-1.1 0-2 .9-2 2v14c0 1.1.9 2 2 2h14c1.1 0 2-.9 2-2V5c0-1.1-.9-2-2-2zM9 17H7v-7h2v7zm4 0h-2V7h2v10zm4 0h-2v-4h2v4z\"/>\n",
              "    </g>\n",
              "</svg>\n",
              "  </button>\n",
              "\n",
              "<style>\n",
              "  .colab-df-quickchart {\n",
              "      --bg-color: #E8F0FE;\n",
              "      --fill-color: #1967D2;\n",
              "      --hover-bg-color: #E2EBFA;\n",
              "      --hover-fill-color: #174EA6;\n",
              "      --disabled-fill-color: #AAA;\n",
              "      --disabled-bg-color: #DDD;\n",
              "  }\n",
              "\n",
              "  [theme=dark] .colab-df-quickchart {\n",
              "      --bg-color: #3B4455;\n",
              "      --fill-color: #D2E3FC;\n",
              "      --hover-bg-color: #434B5C;\n",
              "      --hover-fill-color: #FFFFFF;\n",
              "      --disabled-bg-color: #3B4455;\n",
              "      --disabled-fill-color: #666;\n",
              "  }\n",
              "\n",
              "  .colab-df-quickchart {\n",
              "    background-color: var(--bg-color);\n",
              "    border: none;\n",
              "    border-radius: 50%;\n",
              "    cursor: pointer;\n",
              "    display: none;\n",
              "    fill: var(--fill-color);\n",
              "    height: 32px;\n",
              "    padding: 0;\n",
              "    width: 32px;\n",
              "  }\n",
              "\n",
              "  .colab-df-quickchart:hover {\n",
              "    background-color: var(--hover-bg-color);\n",
              "    box-shadow: 0 1px 2px rgba(60, 64, 67, 0.3), 0 1px 3px 1px rgba(60, 64, 67, 0.15);\n",
              "    fill: var(--button-hover-fill-color);\n",
              "  }\n",
              "\n",
              "  .colab-df-quickchart-complete:disabled,\n",
              "  .colab-df-quickchart-complete:disabled:hover {\n",
              "    background-color: var(--disabled-bg-color);\n",
              "    fill: var(--disabled-fill-color);\n",
              "    box-shadow: none;\n",
              "  }\n",
              "\n",
              "  .colab-df-spinner {\n",
              "    border: 2px solid var(--fill-color);\n",
              "    border-color: transparent;\n",
              "    border-bottom-color: var(--fill-color);\n",
              "    animation:\n",
              "      spin 1s steps(1) infinite;\n",
              "  }\n",
              "\n",
              "  @keyframes spin {\n",
              "    0% {\n",
              "      border-color: transparent;\n",
              "      border-bottom-color: var(--fill-color);\n",
              "      border-left-color: var(--fill-color);\n",
              "    }\n",
              "    20% {\n",
              "      border-color: transparent;\n",
              "      border-left-color: var(--fill-color);\n",
              "      border-top-color: var(--fill-color);\n",
              "    }\n",
              "    30% {\n",
              "      border-color: transparent;\n",
              "      border-left-color: var(--fill-color);\n",
              "      border-top-color: var(--fill-color);\n",
              "      border-right-color: var(--fill-color);\n",
              "    }\n",
              "    40% {\n",
              "      border-color: transparent;\n",
              "      border-right-color: var(--fill-color);\n",
              "      border-top-color: var(--fill-color);\n",
              "    }\n",
              "    60% {\n",
              "      border-color: transparent;\n",
              "      border-right-color: var(--fill-color);\n",
              "    }\n",
              "    80% {\n",
              "      border-color: transparent;\n",
              "      border-right-color: var(--fill-color);\n",
              "      border-bottom-color: var(--fill-color);\n",
              "    }\n",
              "    90% {\n",
              "      border-color: transparent;\n",
              "      border-bottom-color: var(--fill-color);\n",
              "    }\n",
              "  }\n",
              "</style>\n",
              "\n",
              "  <script>\n",
              "    async function quickchart(key) {\n",
              "      const quickchartButtonEl =\n",
              "        document.querySelector('#' + key + ' button');\n",
              "      quickchartButtonEl.disabled = true;  // To prevent multiple clicks.\n",
              "      quickchartButtonEl.classList.add('colab-df-spinner');\n",
              "      try {\n",
              "        const charts = await google.colab.kernel.invokeFunction(\n",
              "            'suggestCharts', [key], {});\n",
              "      } catch (error) {\n",
              "        console.error('Error during call to suggestCharts:', error);\n",
              "      }\n",
              "      quickchartButtonEl.classList.remove('colab-df-spinner');\n",
              "      quickchartButtonEl.classList.add('colab-df-quickchart-complete');\n",
              "    }\n",
              "    (() => {\n",
              "      let quickchartButtonEl =\n",
              "        document.querySelector('#df-b8d270c1-0494-4b49-98d7-ee9a6954d56c button');\n",
              "      quickchartButtonEl.style.display =\n",
              "        google.colab.kernel.accessAllowed ? 'block' : 'none';\n",
              "    })();\n",
              "  </script>\n",
              "</div>\n",
              "\n",
              "    </div>\n",
              "  </div>\n"
            ],
            "text/plain": [
              "            date_time  WDIR  WSPD   GST  WVHT   DPD   APD  MWD    PRES  ATMP  \\\n",
              "0 2021-06-20 06:40:00   214   9.4  11.2  1.34  5.88  4.53  246  1015.1  25.1   \n",
              "1 2021-06-20 07:40:00   218   8.8  10.7  1.39  4.76  4.54  221  1015.5  25.2   \n",
              "2 2021-06-20 08:40:00   222   8.8  10.6  1.42  4.76  4.57  235  1015.9  25.3   \n",
              "3 2021-06-20 09:40:00   224   8.6  10.7  1.42  7.69  4.62  175  1016.2  25.5   \n",
              "4 2021-06-20 10:40:00   222   8.9  11.1  1.35  6.67  4.51  243  1016.2  25.6   \n",
              "\n",
              "    WTMP  DEWP   VIS  TIDE  \n",
              "0  999.0  24.4  99.0  99.0  \n",
              "1   25.2  24.5  99.0  99.0  \n",
              "2   25.2  24.8  99.0  99.0  \n",
              "3   25.1  24.8  99.0  99.0  \n",
              "4   25.1  25.0  99.0  99.0  "
            ]
          },
          "execution_count": 130,
          "metadata": {},
          "output_type": "execute_result"
        }
      ],
      "source": [
        "df.head()"
      ]
    },
    {
      "cell_type": "code",
      "execution_count": 131,
      "metadata": {
        "colab": {
          "base_uri": "https://localhost:8080/"
        },
        "id": "4b8YiHllpw2r",
        "outputId": "602b92b5-8765-4523-f9f4-93becb8852ee"
      },
      "outputs": [
        {
          "name": "stdout",
          "output_type": "stream",
          "text": [
            "               date_time  WVHT\n",
            "0    2021-06-20 06:40:00  1.34\n",
            "1    2021-06-20 07:40:00  1.39\n",
            "2    2021-06-20 08:40:00  1.42\n",
            "3    2021-06-20 09:40:00  1.42\n",
            "4    2021-06-20 10:40:00  1.35\n",
            "...                  ...   ...\n",
            "1741 2021-08-31 19:40:00  1.06\n",
            "1742 2021-08-31 20:40:00  1.02\n",
            "1743 2021-08-31 21:40:00  1.01\n",
            "1744 2021-08-31 22:40:00  0.96\n",
            "1745 2021-08-31 23:40:00  1.02\n",
            "\n",
            "[1746 rows x 2 columns]\n"
          ]
        }
      ],
      "source": [
        "# Assuming you have a DataFrame called 'df'\n",
        "selected_columns = ['date_time' , 'WVHT']  # Specify the columns you want to select\n",
        "\n",
        "data = df[selected_columns]  # Create a new DataFrame by selecting the specified columns\n",
        "\n",
        "# Print the new DataFrame\n",
        "print(data)"
      ]
    },
    {
      "cell_type": "code",
      "execution_count": 132,
      "metadata": {
        "colab": {
          "base_uri": "https://localhost:8080/"
        },
        "id": "Mt8KAaODpznn",
        "outputId": "5c686856-1b43-4e26-c18d-1b68025f711e"
      },
      "outputs": [
        {
          "data": {
            "text/plain": [
              "array([ 1.34,  1.39,  1.42,  1.35,  1.43,  1.57,  1.6 ,  1.46,  1.41,\n",
              "        1.37,  1.38,  1.4 ,  1.48,  1.36,  1.45,  1.33,  1.26,  1.78,\n",
              "        1.49,  1.59,  1.76,  2.08,  2.81,  2.93,  3.29,  3.68,  3.36,\n",
              "        3.25,  3.  ,  3.15,  2.95,  2.76,  2.77,  2.7 ,  2.67,  2.85,\n",
              "        2.54,  2.52,  2.78,  2.57,  2.49,  2.38,  2.4 ,  2.53,  2.3 ,\n",
              "        2.2 ,  2.16,  2.31,  2.32,  2.43,  2.39,  2.96,  2.6 ,  2.74,\n",
              "        2.28,  2.27,  2.03,  1.92,  1.69,  1.65,  1.58,  1.66,  1.7 ,\n",
              "        1.53,  2.02,  2.36,  2.37,  2.23,  2.06,  1.83,  1.51,  1.44,\n",
              "        1.32,  1.3 ,  1.28,  1.22,  1.25,  1.19,  1.18,  1.11,  1.12,\n",
              "        1.1 ,  1.  ,  1.02,  0.97,  0.95,  0.92,  0.87,  0.9 ,  0.98,\n",
              "        1.06,  1.03,  1.05,  1.09,  1.07,  1.04,  0.86,  0.93,  1.08,\n",
              "        0.96,  0.94,  1.2 ,  1.23,  1.21,  1.29,  1.5 ,  1.63,  1.56,\n",
              "        1.8 ,  1.79,  1.73,  1.75,  1.74,  1.71,  1.82,  1.01,  0.84,\n",
              "        0.82,  0.81,  0.85,  0.89,  0.74,  0.83,  0.79,  0.77,  0.76,\n",
              "        0.78,  0.8 ,  0.75,  1.15,  1.24,  1.54,  1.64,  1.94,  1.89,\n",
              "        1.86,  1.87,  2.1 ,  1.99,  2.19,  1.97,  2.18,  2.33,  2.41,\n",
              "        2.65,  2.89,  3.03,  3.01,  3.47,  3.51,  3.19,  3.43,  3.58,\n",
              "        3.53,  3.24,  3.26,  3.18,  3.13,  3.05,  2.91,  2.84,  3.07,\n",
              "        2.88,  2.87,  2.72,  2.61,  2.5 ,  2.9 ,  2.64,  2.24,  2.12,\n",
              "        1.91,  1.84,  1.77,  1.61,  1.81,  1.67,  2.11,  2.13,  2.04,\n",
              "        1.96,  1.85,  1.9 ,  1.55,  0.91,  1.14,  2.07,  2.45,  2.14,\n",
              "        2.25,  2.29,  2.  ,  1.98,  2.22,  2.05,  1.47,  1.52,  1.31,\n",
              "        0.99,  0.88,  0.73, 99.  ,  1.16,  1.17,  2.42,  2.35,  2.44,\n",
              "        2.17,  2.51,  1.72,  1.95,  1.27,  1.13,  0.72,  0.7 ,  0.66,\n",
              "        0.71,  0.65,  0.64,  0.67,  0.63,  0.62,  1.68,  1.88,  1.62,\n",
              "        2.09,  2.15,  2.21,  2.47,  2.56,  2.62,  2.59,  2.98,  2.46,\n",
              "        2.26,  2.01,  2.68,  2.83,  2.73,  2.86,  2.82,  2.66,  0.69,\n",
              "        0.68,  2.8 ,  2.99,  3.22,  3.84,  3.79,  3.95,  4.26,  4.64,\n",
              "        5.07,  5.49,  5.33,  5.15,  4.12,  3.87,  3.67,  3.97,  3.35,\n",
              "        3.42,  2.55,  2.63,  1.93,  2.58,  3.2 ,  3.31,  3.52,  3.49,\n",
              "        3.17,  3.1 ,  3.08,  3.28,  3.38,  3.48,  3.33])"
            ]
          },
          "execution_count": 132,
          "metadata": {},
          "output_type": "execute_result"
        }
      ],
      "source": [
        "unique_values = data['WVHT'].unique()\n",
        "unique_values"
      ]
    },
    {
      "cell_type": "code",
      "execution_count": 133,
      "metadata": {
        "id": "vAqhHtZTp2LC"
      },
      "outputs": [],
      "source": [
        "data = data[data['WVHT'] != 99]"
      ]
    },
    {
      "cell_type": "code",
      "execution_count": 134,
      "metadata": {
        "colab": {
          "base_uri": "https://localhost:8080/"
        },
        "id": "uI65BbiHp5Z4",
        "outputId": "b7793a13-90c8-49e3-8998-d6572f874ca2"
      },
      "outputs": [
        {
          "data": {
            "text/plain": [
              "(1744, 2)"
            ]
          },
          "execution_count": 134,
          "metadata": {},
          "output_type": "execute_result"
        }
      ],
      "source": [
        "data.shape"
      ]
    },
    {
      "cell_type": "code",
      "execution_count": 135,
      "metadata": {
        "colab": {
          "base_uri": "https://localhost:8080/",
          "height": 539
        },
        "id": "FJfkdzSTp7a2",
        "outputId": "5a484f0d-2b11-410e-cf64-ce9b0e29da57"
      },
      "outputs": [
        {
          "data": {
            "text/plain": [
              "<Axes: >"
            ]
          },
          "execution_count": 135,
          "metadata": {},
          "output_type": "execute_result"
        },
        {
          "data": {
            "image/png": "[encoded data removed]",
            "text/plain": [
              "<Figure size 800x600 with 1 Axes>"
            ]
          },
          "metadata": {},
          "output_type": "display_data"
        }
      ],
      "source": [
        "data['WVHT'].plot(figsize=(8,6))"
      ]
    },
    {
      "cell_type": "code",
      "execution_count": 136,
      "metadata": {
        "id": "b5i9KPIbouYq"
      },
      "outputs": [],
      "source": [
        "import numpy as np\n",
        "import pandas as pd\n",
        "import tensorflow as tf\n",
        "import pickle\n",
        "import matplotlib.pyplot as plt\n",
        "from sklearn.preprocessing import MinMaxScaler\n",
        "from tensorflow.keras.models import Sequential\n",
        "from tensorflow.keras.layers import LSTM, Dense\n",
        "from tensorflow.keras.optimizers import Adam"
      ]
    },
    {
      "cell_type": "code",
      "execution_count": 137,
      "metadata": {
        "id": "CxKMxO2SovxB"
      },
      "outputs": [],
      "source": [
        "data['date_time'] = pd.to_datetime(data['date_time'])\n",
        "data = data.sort_values(by='date_time')\n",
        "y = data['WVHT'].values"
      ]
    },
    {
      "cell_type": "code",
      "execution_count": 138,
      "metadata": {
        "id": "T7wiumfWo1SC"
      },
      "outputs": [],
      "source": [
        "# Define a function to prepare sequences\n",
        "def prepare_sequences(data, seq_length):\n",
        "    sequences = []\n",
        "    targets = []\n",
        "    for i in range(len(data) - seq_length):\n",
        "        sequences.append(data[i:i+seq_length])\n",
        "        targets.append(data[i+seq_length])\n",
        "    return np.array(sequences), np.array(targets)"
      ]
    },
    {
      "cell_type": "code",
      "execution_count": 139,
      "metadata": {
        "id": "gql7d7pno-qC"
      },
      "outputs": [],
      "source": [
        "# Prepare sequences and targets\n",
        "sequence_length = 100  # Adjust as needed\n",
        "x_seq, y_targets = prepare_sequences(y, sequence_length)"
      ]
    },
    {
      "cell_type": "code",
      "execution_count": 140,
      "metadata": {
        "id": "H6GLHwVquxwm"
      },
      "outputs": [],
      "source": [
        "# Split the data into train and test sets\n",
        "split_ratio = 0.7  # Adjust as needed\n",
        "split_idx = int(split_ratio * len(x_seq))\n",
        "x_train, x_test = x_seq[:split_idx], x_seq[split_idx:]\n",
        "y_train, y_test = y_targets[:split_idx], y_targets[split_idx:]"
      ]
    },
    {
      "cell_type": "code",
      "execution_count": 141,
      "metadata": {
        "id": "ZJXAP6Ovu08K"
      },
      "outputs": [],
      "source": [
        "# Define quantile loss function using TensorFlow operations\n",
        "def quantile_loss(q, y_true, y_pred):\n",
        "    error = y_true - y_pred\n",
        "    return tf.reduce_mean(tf.maximum(q * error, (q - 1) * error))"
      ]
    },
    {
      "cell_type": "code",
      "execution_count": 142,
      "metadata": {
        "id": "Cjzi3ZM2ipNm"
      },
      "outputs": [],
      "source": [
        "# Import the Dropout layer from TensorFlow\n",
        "from tensorflow.keras.layers import Dropout"
      ]
    },
    {
      "cell_type": "code",
      "execution_count": 143,
      "metadata": {
        "id": "SnWGvfqBOTNA"
      },
      "outputs": [],
      "source": [
        "from tensorflow.keras.layers import GRU\n",
        "\n",
        "# Define and train the GRU model with quantile loss\n",
        "def train_model_with_quantile_loss(q):\n",
        "    model = Sequential([\n",
        "        GRU(64, activation='sigmoid', input_shape=(sequence_length, 1)),\n",
        "        Dense(1)\n",
        "    ])\n",
        "\n",
        "    model.compile(optimizer=Adam(learning_rate=0.001), loss=lambda y_true, y_pred: quantile_loss(q, y_true, y_pred))\n",
        "    model.fit(x_train, y_train, validation_split=0.1, epochs=50, batch_size=34, verbose=1)\n",
        "    return model\n"
      ]
    },
    {
      "cell_type": "code",
      "execution_count": 144,
      "metadata": {
        "colab": {
          "base_uri": "https://localhost:8080/"
        },
        "id": "gP6H_yyra8ZS",
        "outputId": "4a125b2b-96df-4551-e8bc-d034895aafe4"
      },
      "outputs": [
        {
          "name": "stdout",
          "output_type": "stream",
          "text": [
            "Epoch 1/50\n",
            "31/31 [==============================] - 4s 78ms/step - loss: 0.0661 - val_loss: 0.0224\n",
            "Epoch 2/50\n",
            "31/31 [==============================] - 1s 40ms/step - loss: 0.0351 - val_loss: 0.0332\n",
            "Epoch 3/50\n",
            "31/31 [==============================] - 1s 40ms/step - loss: 0.0321 - val_loss: 0.0220\n",
            "Epoch 4/50\n",
            "31/31 [==============================] - 1s 41ms/step - loss: 0.0300 - val_loss: 0.0233\n",
            "Epoch 5/50\n",
            "31/31 [==============================] - 1s 40ms/step - loss: 0.0282 - val_loss: 0.0250\n",
            "Epoch 6/50\n",
            "31/31 [==============================] - 1s 41ms/step - loss: 0.0261 - val_loss: 0.0206\n",
            "Epoch 7/50\n",
            "31/31 [==============================] - 1s 40ms/step - loss: 0.0242 - val_loss: 0.0256\n",
            "Epoch 8/50\n",
            "31/31 [==============================] - 1s 40ms/step - loss: 0.0228 - val_loss: 0.0149\n",
            "Epoch 9/50\n",
            "31/31 [==============================] - 2s 54ms/step - loss: 0.0202 - val_loss: 0.0146\n",
            "Epoch 10/50\n",
            "31/31 [==============================] - 2s 69ms/step - loss: 0.0184 - val_loss: 0.0103\n",
            "Epoch 11/50\n",
            "31/31 [==============================] - 2s 49ms/step - loss: 0.0162 - val_loss: 0.0096\n",
            "Epoch 12/50\n",
            "31/31 [==============================] - 1s 42ms/step - loss: 0.0146 - val_loss: 0.0133\n",
            "Epoch 13/50\n",
            "31/31 [==============================] - 1s 41ms/step - loss: 0.0131 - val_loss: 0.0090\n",
            "Epoch 14/50\n",
            "31/31 [==============================] - 1s 40ms/step - loss: 0.0115 - val_loss: 0.0058\n",
            "Epoch 15/50\n",
            "31/31 [==============================] - 1s 41ms/step - loss: 0.0103 - val_loss: 0.0082\n",
            "Epoch 16/50\n",
            "31/31 [==============================] - 1s 41ms/step - loss: 0.0106 - val_loss: 0.0135\n",
            "Epoch 17/50\n",
            "31/31 [==============================] - 1s 41ms/step - loss: 0.0099 - val_loss: 0.0058\n",
            "Epoch 18/50\n",
            "31/31 [==============================] - 1s 42ms/step - loss: 0.0100 - val_loss: 0.0058\n",
            "Epoch 19/50\n",
            "31/31 [==============================] - 2s 64ms/step - loss: 0.0106 - val_loss: 0.0102\n",
            "Epoch 20/50\n",
            "31/31 [==============================] - 2s 68ms/step - loss: 0.0106 - val_loss: 0.0070\n",
            "Epoch 21/50\n",
            "31/31 [==============================] - 1s 41ms/step - loss: 0.0107 - val_loss: 0.0061\n",
            "Epoch 22/50\n",
            "31/31 [==============================] - 1s 40ms/step - loss: 0.0108 - val_loss: 0.0057\n",
            "Epoch 23/50\n",
            "31/31 [==============================] - 1s 41ms/step - loss: 0.0106 - val_loss: 0.0072\n",
            "Epoch 24/50\n",
            "31/31 [==============================] - 1s 40ms/step - loss: 0.0105 - val_loss: 0.0061\n",
            "Epoch 25/50\n",
            "31/31 [==============================] - 1s 41ms/step - loss: 0.0099 - val_loss: 0.0076\n",
            "Epoch 26/50\n",
            "31/31 [==============================] - 1s 41ms/step - loss: 0.0102 - val_loss: 0.0072\n",
            "Epoch 27/50\n",
            "31/31 [==============================] - 1s 40ms/step - loss: 0.0110 - val_loss: 0.0060\n",
            "Epoch 28/50\n",
            "31/31 [==============================] - 1s 47ms/step - loss: 0.0106 - val_loss: 0.0063\n",
            "Epoch 29/50\n",
            "31/31 [==============================] - 2s 68ms/step - loss: 0.0107 - val_loss: 0.0084\n",
            "Epoch 30/50\n",
            "31/31 [==============================] - 2s 60ms/step - loss: 0.0102 - val_loss: 0.0064\n",
            "Epoch 31/50\n",
            "31/31 [==============================] - 1s 40ms/step - loss: 0.0114 - val_loss: 0.0060\n",
            "Epoch 32/50\n",
            "31/31 [==============================] - 1s 40ms/step - loss: 0.0097 - val_loss: 0.0057\n",
            "Epoch 33/50\n",
            "31/31 [==============================] - 1s 41ms/step - loss: 0.0097 - val_loss: 0.0063\n",
            "Epoch 34/50\n",
            "31/31 [==============================] - 1s 41ms/step - loss: 0.0100 - val_loss: 0.0071\n",
            "Epoch 35/50\n",
            "31/31 [==============================] - 1s 40ms/step - loss: 0.0098 - val_loss: 0.0059\n",
            "Epoch 36/50\n",
            "31/31 [==============================] - 1s 40ms/step - loss: 0.0097 - val_loss: 0.0116\n",
            "Epoch 37/50\n",
            "31/31 [==============================] - 1s 40ms/step - loss: 0.0098 - val_loss: 0.0058\n",
            "Epoch 38/50\n",
            "31/31 [==============================] - 2s 55ms/step - loss: 0.0099 - val_loss: 0.0061\n",
            "Epoch 39/50\n",
            "31/31 [==============================] - 2s 71ms/step - loss: 0.0099 - val_loss: 0.0061\n",
            "Epoch 40/50\n",
            "31/31 [==============================] - 2s 49ms/step - loss: 0.0100 - val_loss: 0.0072\n",
            "Epoch 41/50\n",
            "31/31 [==============================] - 1s 41ms/step - loss: 0.0099 - val_loss: 0.0057\n",
            "Epoch 42/50\n",
            "31/31 [==============================] - 1s 41ms/step - loss: 0.0100 - val_loss: 0.0058\n",
            "Epoch 43/50\n",
            "31/31 [==============================] - 1s 40ms/step - loss: 0.0101 - val_loss: 0.0058\n",
            "Epoch 44/50\n",
            "31/31 [==============================] - 1s 40ms/step - loss: 0.0106 - val_loss: 0.0057\n",
            "Epoch 45/50\n",
            "31/31 [==============================] - 1s 40ms/step - loss: 0.0097 - val_loss: 0.0067\n",
            "Epoch 46/50\n",
            "31/31 [==============================] - 1s 40ms/step - loss: 0.0101 - val_loss: 0.0068\n",
            "Epoch 47/50\n",
            "31/31 [==============================] - 1s 40ms/step - loss: 0.0107 - val_loss: 0.0091\n",
            "Epoch 48/50\n",
            "31/31 [==============================] - 2s 63ms/step - loss: 0.0107 - val_loss: 0.0071\n",
            "Epoch 49/50\n",
            "31/31 [==============================] - 2s 73ms/step - loss: 0.0097 - val_loss: 0.0058\n",
            "Epoch 50/50\n",
            "31/31 [==============================] - 1s 42ms/step - loss: 0.0116 - val_loss: 0.0070\n"
          ]
        }
      ],
      "source": [
        "#Train models with 20% and 80% quantiles\n",
        "q_05 = 0.05  # 10% quantile\n",
        "model_05 = train_model_with_quantile_loss(q_05)"
      ]
    },
    {
      "cell_type": "code",
      "execution_count": 145,
      "metadata": {
        "colab": {
          "base_uri": "https://localhost:8080/"
        },
        "id": "6yCnFd8Ka_eM",
        "outputId": "9865bbff-9ee4-45d2-b21d-c3000d19a363"
      },
      "outputs": [
        {
          "name": "stdout",
          "output_type": "stream",
          "text": [
            "Epoch 1/50\n",
            "31/31 [==============================] - 3s 48ms/step - loss: 0.3421 - val_loss: 0.0684\n",
            "Epoch 2/50\n",
            "31/31 [==============================] - 1s 40ms/step - loss: 0.0730 - val_loss: 0.0795\n",
            "Epoch 3/50\n",
            "31/31 [==============================] - 1s 41ms/step - loss: 0.0696 - val_loss: 0.0712\n",
            "Epoch 4/50\n",
            "31/31 [==============================] - 1s 40ms/step - loss: 0.0680 - val_loss: 0.0684\n",
            "Epoch 5/50\n",
            "31/31 [==============================] - 1s 40ms/step - loss: 0.0661 - val_loss: 0.0680\n",
            "Epoch 6/50\n",
            "31/31 [==============================] - 1s 40ms/step - loss: 0.0644 - val_loss: 0.0676\n",
            "Epoch 7/50\n",
            "31/31 [==============================] - 1s 40ms/step - loss: 0.0631 - val_loss: 0.0601\n",
            "Epoch 8/50\n",
            "31/31 [==============================] - 1s 48ms/step - loss: 0.0615 - val_loss: 0.0628\n",
            "Epoch 9/50\n",
            "31/31 [==============================] - 2s 70ms/step - loss: 0.0601 - val_loss: 0.0615\n",
            "Epoch 10/50\n",
            "31/31 [==============================] - 2s 51ms/step - loss: 0.0588 - val_loss: 0.0611\n",
            "Epoch 11/50\n",
            "31/31 [==============================] - 1s 40ms/step - loss: 0.0576 - val_loss: 0.0591\n",
            "Epoch 12/50\n",
            "31/31 [==============================] - 1s 40ms/step - loss: 0.0556 - val_loss: 0.0560\n",
            "Epoch 13/50\n",
            "31/31 [==============================] - 1s 40ms/step - loss: 0.0540 - val_loss: 0.0565\n",
            "Epoch 14/50\n",
            "31/31 [==============================] - 1s 41ms/step - loss: 0.0525 - val_loss: 0.0537\n",
            "Epoch 15/50\n",
            "31/31 [==============================] - 1s 40ms/step - loss: 0.0511 - val_loss: 0.0575\n",
            "Epoch 16/50\n",
            "31/31 [==============================] - 1s 40ms/step - loss: 0.0478 - val_loss: 0.0438\n",
            "Epoch 17/50\n",
            "31/31 [==============================] - 1s 40ms/step - loss: 0.0470 - val_loss: 0.0408\n",
            "Epoch 18/50\n",
            "31/31 [==============================] - 2s 58ms/step - loss: 0.0435 - val_loss: 0.0449\n",
            "Epoch 19/50\n",
            "31/31 [==============================] - 2s 70ms/step - loss: 0.0411 - val_loss: 0.0419\n",
            "Epoch 20/50\n",
            "31/31 [==============================] - 1s 46ms/step - loss: 0.0373 - val_loss: 0.0406\n",
            "Epoch 21/50\n",
            "31/31 [==============================] - 1s 40ms/step - loss: 0.0336 - val_loss: 0.0257\n",
            "Epoch 22/50\n",
            "31/31 [==============================] - 1s 41ms/step - loss: 0.0302 - val_loss: 0.0232\n",
            "Epoch 23/50\n",
            "31/31 [==============================] - 1s 41ms/step - loss: 0.0235 - val_loss: 0.0162\n",
            "Epoch 24/50\n",
            "31/31 [==============================] - 1s 40ms/step - loss: 0.0190 - val_loss: 0.0147\n",
            "Epoch 25/50\n",
            "31/31 [==============================] - 1s 41ms/step - loss: 0.0156 - val_loss: 0.0097\n",
            "Epoch 26/50\n",
            "31/31 [==============================] - 1s 40ms/step - loss: 0.0154 - val_loss: 0.0112\n",
            "Epoch 27/50\n",
            "31/31 [==============================] - 1s 40ms/step - loss: 0.0141 - val_loss: 0.0111\n",
            "Epoch 28/50\n",
            "31/31 [==============================] - 2s 68ms/step - loss: 0.0132 - val_loss: 0.0091\n",
            "Epoch 29/50\n",
            "31/31 [==============================] - 2s 70ms/step - loss: 0.0139 - val_loss: 0.0135\n",
            "Epoch 30/50\n",
            "31/31 [==============================] - 1s 40ms/step - loss: 0.0166 - val_loss: 0.0090\n",
            "Epoch 31/50\n",
            "31/31 [==============================] - 1s 40ms/step - loss: 0.0132 - val_loss: 0.0094\n",
            "Epoch 32/50\n",
            "31/31 [==============================] - 1s 40ms/step - loss: 0.0126 - val_loss: 0.0093\n",
            "Epoch 33/50\n",
            "31/31 [==============================] - 1s 40ms/step - loss: 0.0125 - val_loss: 0.0088\n",
            "Epoch 34/50\n",
            "31/31 [==============================] - 1s 40ms/step - loss: 0.0124 - val_loss: 0.0090\n",
            "Epoch 35/50\n",
            "31/31 [==============================] - 1s 41ms/step - loss: 0.0138 - val_loss: 0.0151\n",
            "Epoch 36/50\n",
            "31/31 [==============================] - 1s 40ms/step - loss: 0.0139 - val_loss: 0.0086\n",
            "Epoch 37/50\n",
            "31/31 [==============================] - 1s 41ms/step - loss: 0.0121 - val_loss: 0.0088\n",
            "Epoch 38/50\n",
            "31/31 [==============================] - 2s 68ms/step - loss: 0.0122 - val_loss: 0.0086\n",
            "Epoch 39/50\n",
            "31/31 [==============================] - 2s 61ms/step - loss: 0.0122 - val_loss: 0.0085\n",
            "Epoch 40/50\n",
            "31/31 [==============================] - 1s 42ms/step - loss: 0.0132 - val_loss: 0.0085\n",
            "Epoch 41/50\n",
            "31/31 [==============================] - 1s 42ms/step - loss: 0.0121 - val_loss: 0.0086\n",
            "Epoch 42/50\n",
            "31/31 [==============================] - 1s 40ms/step - loss: 0.0134 - val_loss: 0.0092\n",
            "Epoch 43/50\n",
            "31/31 [==============================] - 1s 40ms/step - loss: 0.0127 - val_loss: 0.0099\n",
            "Epoch 44/50\n",
            "31/31 [==============================] - 1s 40ms/step - loss: 0.0122 - val_loss: 0.0101\n",
            "Epoch 45/50\n",
            "31/31 [==============================] - 1s 41ms/step - loss: 0.0123 - val_loss: 0.0087\n",
            "Epoch 46/50\n",
            "31/31 [==============================] - 1s 40ms/step - loss: 0.0122 - val_loss: 0.0090\n",
            "Epoch 47/50\n",
            "31/31 [==============================] - 2s 55ms/step - loss: 0.0119 - val_loss: 0.0084\n",
            "Epoch 48/50\n",
            "31/31 [==============================] - 2s 69ms/step - loss: 0.0118 - val_loss: 0.0088\n",
            "Epoch 49/50\n",
            "31/31 [==============================] - 2s 53ms/step - loss: 0.0122 - val_loss: 0.0085\n",
            "Epoch 50/50\n",
            "31/31 [==============================] - 1s 40ms/step - loss: 0.0122 - val_loss: 0.0084\n"
          ]
        }
      ],
      "source": [
        "q_95 = 0.95  # 90% quantile\n",
        "model_95 = train_model_with_quantile_loss(q_95)"
      ]
    },
    {
      "cell_type": "code",
      "execution_count": 146,
      "metadata": {
        "colab": {
          "base_uri": "https://localhost:8080/"
        },
        "id": "Q1pj0VAvbB3q",
        "outputId": "bebc76de-f2d7-45a3-bd3f-9d38fc2197ee"
      },
      "outputs": [
        {
          "name": "stdout",
          "output_type": "stream",
          "text": [
            "16/16 [==============================] - 0s 12ms/step\n",
            "16/16 [==============================] - 0s 11ms/step\n"
          ]
        }
      ],
      "source": [
        "# Make predictions\n",
        "y_pred_05 = model_05.predict(x_test)\n",
        "y_pred_95 = model_95.predict(x_test)"
      ]
    },
    {
      "cell_type": "code",
      "execution_count": 147,
      "metadata": {
        "colab": {
          "base_uri": "https://localhost:8080/",
          "height": 466
        },
        "id": "6mNyowHeiPuk",
        "outputId": "320a1cb7-e359-4842-e3a5-cc345a3261d0"
      },
      "outputs": [
        {
          "data": {
            "image/png": "[encoded data removed]",
            "text/plain": [
              "<Figure size 640x480 with 1 Axes>"
            ]
          },
          "metadata": {},
          "output_type": "display_data"
        },
        {
          "data": {
            "text/plain": [
              "<Figure size 640x480 with 0 Axes>"
            ]
          },
          "metadata": {},
          "output_type": "display_data"
        }
      ],
      "source": [
        "# Plot quantile predictions along with actual values\n",
        "plt.plot(range(len(y_test)), y_test, label=\"Actual\")\n",
        "plt.plot(range(len(y_test)), y_pred_05, label=\"5% Prediction\")\n",
        "plt.plot(range(len(y_test)), y_pred_95, label=\"95% Prediction\")\n",
        "plt.xlabel(\"Data Points in Test Set\")\n",
        "plt.ylabel(\"WVHT\")\n",
        "plt.legend()\n",
        "plt.show()\n",
        "plt.savefig(\"41009h2021.png\")\n",
        "# Calculate the number of points between 95% and 5% percentiles\n",
        "num_points_between_percentiles = np.sum((y_pred_05 <= y_test) & (y_test <= y_pred_95))"
      ]
    },
    {
      "cell_type": "code",
      "execution_count": 148,
      "metadata": {
        "colab": {
          "base_uri": "https://localhost:8080/"
        },
        "id": "90LajJRUCk-d",
        "outputId": "891a1698-c256-4350-c5fd-f5c203c5c2fd"
      },
      "outputs": [
        {
          "name": "stdout",
          "output_type": "stream",
          "text": [
            "[[ True  True  True ... False False False]\n",
            " [ True  True  True ... False False False]\n",
            " [ True  True  True ... False False False]\n",
            " ...\n",
            " [False False False ...  True  True  True]\n",
            " [False False False ...  True  True  True]\n",
            " [False False False ...  True  True  True]]\n"
          ]
        }
      ],
      "source": [
        "# Calculate lower and upper bounds of prediction intervals\n",
        "y_lower_05 = y_pred_05\n",
        "y_upper_95 = y_pred_95\n",
        "within_interval = (y_lower_05 <= y_test) & (y_test <= y_upper_95)\n",
        "print(within_interval)"
      ]
    },
    {
      "cell_type": "code",
      "execution_count": 149,
      "metadata": {
        "colab": {
          "base_uri": "https://localhost:8080/"
        },
        "id": "lSvXljPeCj0i",
        "outputId": "ba21cecc-28c8-4c44-c73d-e9089d5f6e96"
      },
      "outputs": [
        {
          "name": "stdout",
          "output_type": "stream",
          "text": [
            "MPIW: 0.34642693\n"
          ]
        }
      ],
      "source": [
        "# Calculate MPIW\n",
        "def calculate_mpiw(y_lower, y_upper):\n",
        "    mpiw = np.mean(y_upper - y_lower)\n",
        "    return mpiw\n",
        "\n",
        "# Calculate lower and upper bounds of prediction intervals\n",
        "y_lower_05 = y_pred_05\n",
        "y_upper_95 = y_pred_95\n",
        "\n",
        "# Calculate MPIW for the 10-90% prediction interval\n",
        "mpiw = calculate_mpiw(y_lower_05, y_upper_95)\n",
        "\n",
        "# Print MPIW for the 10-90% prediction interval\n",
        "print(\"MPIW:\", mpiw)"
      ]
    },
    {
      "cell_type": "code",
      "execution_count": 150,
      "metadata": {
        "colab": {
          "base_uri": "https://localhost:8080/"
        },
        "id": "mwY0xsAX7hGM",
        "outputId": "3fca97cb-7551-4672-d238-8fac5f169f80"
      },
      "outputs": [
        {
          "name": "stdout",
          "output_type": "stream",
          "text": [
            "494\n"
          ]
        }
      ],
      "source": [
        "print(len(y_test))"
      ]
    },
    {
      "cell_type": "code",
      "execution_count": 151,
      "metadata": {
        "colab": {
          "base_uri": "https://localhost:8080/"
        },
        "id": "wNoay7Gn7evU",
        "outputId": "d6200c65-5f06-4c43-bbc2-8c26ca7d1b98"
      },
      "outputs": [
        {
          "name": "stdout",
          "output_type": "stream",
          "text": [
            "456\n"
          ]
        }
      ],
      "source": [
        "within_interval = (y_lower_05.flatten() <= y_test) & (y_test <= y_upper_95.flatten())\n",
        "print(within_interval.sum())"
      ]
    },
    {
      "cell_type": "code",
      "execution_count": 152,
      "metadata": {
        "colab": {
          "base_uri": "https://localhost:8080/"
        },
        "id": "pCCtI7dH7dlV",
        "outputId": "1ace8b28-910e-42f2-9d64-1f341d04015a"
      },
      "outputs": [
        {
          "name": "stdout",
          "output_type": "stream",
          "text": [
            "PICP: 0.9230769230769231\n"
          ]
        }
      ],
      "source": [
        "# Calculate lower and upper bounds of prediction intervals\n",
        "y_lower_05 = y_pred_05\n",
        "y_upper_95 = y_pred_95\n",
        "\n",
        "# Check if each actual observation falls within the prediction interval\n",
        "within_interval = (y_lower_05.flatten() <= y_test) & (y_test <= y_upper_95.flatten())\n",
        "\n",
        "# Count the number of observations falling within the prediction intervals\n",
        "num_within_interval = within_interval.sum()\n",
        "\n",
        "# Total number of observations\n",
        "total_observations = len(y_test)\n",
        "\n",
        "# Calculate PICP (Prediction Interval Coverage Probability)\n",
        "picp = num_within_interval / total_observations\n",
        "print(\"PICP:\", picp)"
      ]
    }
  ],
  "metadata": {
    "colab": {
      "provenance": []
    },
    "kernelspec": {
      "display_name": "Python 3",
      "name": "python3"
    },
    "language_info": {
      "name": "python"
    }
  },
  "nbformat": 4,
  "nbformat_minor": 0
}
